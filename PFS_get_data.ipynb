{
 "cells": [
  {
   "cell_type": "markdown",
   "metadata": {},
   "source": [
    "# Predict Future Sales"
   ]
  },
  {
   "cell_type": "markdown",
   "metadata": {},
   "source": [
    "Second part of feauture enginering and ML modeling - testing advanced models and advanced features"
   ]
  },
  {
   "cell_type": "markdown",
   "metadata": {},
   "source": [
    "kaggle link : https://www.kaggle.com/c/competitive-data-science-predict-future-sales/overview"
   ]
  },
  {
   "cell_type": "code",
   "execution_count": 1,
   "metadata": {},
   "outputs": [],
   "source": [
    "import pandas as pd\n",
    "import numpy as np\n",
    "import matplotlib.pyplot as plt\n",
    "import datetime\n",
    "import seaborn as sns; sns.set()\n",
    "import random\n",
    "from dateutil.relativedelta import relativedelta\n",
    "import os"
   ]
  },
  {
   "cell_type": "code",
   "execution_count": 2,
   "metadata": {},
   "outputs": [],
   "source": [
    "from my_functions import merge_basic, convert_silver, completion_semi_gold, scaler, inversed_scale, consolidation_prediction, plot_prediction, preparing_to_predict, plot_metrics"
   ]
  },
  {
   "cell_type": "code",
   "execution_count": 3,
   "metadata": {},
   "outputs": [],
   "source": [
    "from especial_functions import balance_items_test, get_full_lags, feature_silver, integration_new_features_map\n",
    "from especial_functions import features_rows_train_silver, exploiting_words, get_maps_from, augmentation_reduction"
   ]
  },
  {
   "cell_type": "code",
   "execution_count": 4,
   "metadata": {},
   "outputs": [],
   "source": [
    "from sklearn.preprocessing import MinMaxScaler\n",
    "\n",
    "from sklearn.tree import DecisionTreeRegressor\n",
    "from sklearn.ensemble import AdaBoostRegressor\n",
    "from sklearn.metrics import mean_squared_error"
   ]
  },
  {
   "cell_type": "code",
   "execution_count": 5,
   "metadata": {},
   "outputs": [],
   "source": [
    "#from sklearn_extra.cluster import KMedoids\n",
    "from sklearn.cluster import KMeans"
   ]
  },
  {
   "cell_type": "markdown",
   "metadata": {},
   "source": [
    "### Data"
   ]
  },
  {
   "cell_type": "code",
   "execution_count": 6,
   "metadata": {},
   "outputs": [],
   "source": [
    "daily_train = pd.read_csv('sales_train.csv')\n",
    "items = pd.read_csv('items.csv')\n",
    "shops = pd.read_csv('shops.csv')\n",
    "categories = pd.read_csv('item_categories.csv')\n",
    "sample_submission = pd.read_csv('sample_submission.csv')\n",
    "test = pd.read_csv('test.csv')"
   ]
  },
  {
   "cell_type": "markdown",
   "metadata": {},
   "source": [
    "### Data modeling"
   ]
  },
  {
   "cell_type": "code",
   "execution_count": 7,
   "metadata": {},
   "outputs": [],
   "source": [
    "train_merge = merge_basic(daily_train, test,'left')"
   ]
  },
  {
   "cell_type": "code",
   "execution_count": 8,
   "metadata": {},
   "outputs": [
    {
     "data": {
      "text/html": [
       "<div>\n",
       "<style scoped>\n",
       "    .dataframe tbody tr th:only-of-type {\n",
       "        vertical-align: middle;\n",
       "    }\n",
       "\n",
       "    .dataframe tbody tr th {\n",
       "        vertical-align: top;\n",
       "    }\n",
       "\n",
       "    .dataframe thead th {\n",
       "        text-align: right;\n",
       "    }\n",
       "</style>\n",
       "<table border=\"1\" class=\"dataframe\">\n",
       "  <thead>\n",
       "    <tr style=\"text-align: right;\">\n",
       "      <th></th>\n",
       "      <th>date</th>\n",
       "      <th>date_block_num</th>\n",
       "      <th>shop_id</th>\n",
       "      <th>item_id</th>\n",
       "      <th>item_price</th>\n",
       "      <th>item_cnt_day</th>\n",
       "      <th>item_name</th>\n",
       "      <th>item_category_id</th>\n",
       "      <th>item_category_name</th>\n",
       "      <th>comp1_x</th>\n",
       "      <th>comp2_x</th>\n",
       "      <th>map_comp1categ</th>\n",
       "      <th>map_comp2categ</th>\n",
       "      <th>shop_name</th>\n",
       "      <th>comp1_y</th>\n",
       "      <th>comp2_y</th>\n",
       "      <th>map_comp1shop</th>\n",
       "      <th>map_comp2shop</th>\n",
       "      <th>ID</th>\n",
       "      <th>SaleDate</th>\n",
       "    </tr>\n",
       "  </thead>\n",
       "  <tbody>\n",
       "    <tr>\n",
       "      <th>0</th>\n",
       "      <td>02.01.2013</td>\n",
       "      <td>0</td>\n",
       "      <td>59</td>\n",
       "      <td>22154</td>\n",
       "      <td>999.00</td>\n",
       "      <td>1.0</td>\n",
       "      <td>ЯВЛЕНИЕ 2012 (BD)</td>\n",
       "      <td>37</td>\n",
       "      <td>Кино - Blu-Ray</td>\n",
       "      <td>Кино</td>\n",
       "      <td>Blu-Ray</td>\n",
       "      <td>11</td>\n",
       "      <td>19</td>\n",
       "      <td>Ярославль ТЦ \"Альтаир\"</td>\n",
       "      <td>Ярославль</td>\n",
       "      <td>Альтаир</td>\n",
       "      <td>31</td>\n",
       "      <td>45</td>\n",
       "      <td>150983.0</td>\n",
       "      <td>2013-01-02</td>\n",
       "    </tr>\n",
       "    <tr>\n",
       "      <th>1</th>\n",
       "      <td>03.01.2013</td>\n",
       "      <td>0</td>\n",
       "      <td>25</td>\n",
       "      <td>2552</td>\n",
       "      <td>899.00</td>\n",
       "      <td>1.0</td>\n",
       "      <td>DEEP PURPLE  The House Of Blue Light  LP</td>\n",
       "      <td>58</td>\n",
       "      <td>Музыка - Винил</td>\n",
       "      <td>Музыка</td>\n",
       "      <td>Винил</td>\n",
       "      <td>13</td>\n",
       "      <td>39</td>\n",
       "      <td>Москва ТРК \"Атриум\"</td>\n",
       "      <td>Москва</td>\n",
       "      <td>Атриум</td>\n",
       "      <td>14</td>\n",
       "      <td>18</td>\n",
       "      <td>NaN</td>\n",
       "      <td>2013-01-03</td>\n",
       "    </tr>\n",
       "    <tr>\n",
       "      <th>2</th>\n",
       "      <td>05.01.2013</td>\n",
       "      <td>0</td>\n",
       "      <td>25</td>\n",
       "      <td>2552</td>\n",
       "      <td>899.00</td>\n",
       "      <td>-1.0</td>\n",
       "      <td>DEEP PURPLE  The House Of Blue Light  LP</td>\n",
       "      <td>58</td>\n",
       "      <td>Музыка - Винил</td>\n",
       "      <td>Музыка</td>\n",
       "      <td>Винил</td>\n",
       "      <td>13</td>\n",
       "      <td>39</td>\n",
       "      <td>Москва ТРК \"Атриум\"</td>\n",
       "      <td>Москва</td>\n",
       "      <td>Атриум</td>\n",
       "      <td>14</td>\n",
       "      <td>18</td>\n",
       "      <td>NaN</td>\n",
       "      <td>2013-01-05</td>\n",
       "    </tr>\n",
       "    <tr>\n",
       "      <th>3</th>\n",
       "      <td>06.01.2013</td>\n",
       "      <td>0</td>\n",
       "      <td>25</td>\n",
       "      <td>2554</td>\n",
       "      <td>1709.05</td>\n",
       "      <td>1.0</td>\n",
       "      <td>DEEP PURPLE  Who Do You Think We Are  LP</td>\n",
       "      <td>58</td>\n",
       "      <td>Музыка - Винил</td>\n",
       "      <td>Музыка</td>\n",
       "      <td>Винил</td>\n",
       "      <td>13</td>\n",
       "      <td>39</td>\n",
       "      <td>Москва ТРК \"Атриум\"</td>\n",
       "      <td>Москва</td>\n",
       "      <td>Атриум</td>\n",
       "      <td>14</td>\n",
       "      <td>18</td>\n",
       "      <td>NaN</td>\n",
       "      <td>2013-01-06</td>\n",
       "    </tr>\n",
       "    <tr>\n",
       "      <th>4</th>\n",
       "      <td>15.01.2013</td>\n",
       "      <td>0</td>\n",
       "      <td>25</td>\n",
       "      <td>2555</td>\n",
       "      <td>1099.00</td>\n",
       "      <td>1.0</td>\n",
       "      <td>DEEP PURPLE 30 Very Best Of 2CD (Фирм.)</td>\n",
       "      <td>56</td>\n",
       "      <td>Музыка - CD фирменного производства</td>\n",
       "      <td>Музыка</td>\n",
       "      <td>CD фирменного производства</td>\n",
       "      <td>13</td>\n",
       "      <td>37</td>\n",
       "      <td>Москва ТРК \"Атриум\"</td>\n",
       "      <td>Москва</td>\n",
       "      <td>Атриум</td>\n",
       "      <td>14</td>\n",
       "      <td>18</td>\n",
       "      <td>NaN</td>\n",
       "      <td>2013-01-15</td>\n",
       "    </tr>\n",
       "  </tbody>\n",
       "</table>\n",
       "</div>"
      ],
      "text/plain": [
       "         date  date_block_num  shop_id  item_id  item_price  item_cnt_day  \\\n",
       "0  02.01.2013               0       59    22154      999.00           1.0   \n",
       "1  03.01.2013               0       25     2552      899.00           1.0   \n",
       "2  05.01.2013               0       25     2552      899.00          -1.0   \n",
       "3  06.01.2013               0       25     2554     1709.05           1.0   \n",
       "4  15.01.2013               0       25     2555     1099.00           1.0   \n",
       "\n",
       "                                  item_name  item_category_id  \\\n",
       "0                         ЯВЛЕНИЕ 2012 (BD)                37   \n",
       "1  DEEP PURPLE  The House Of Blue Light  LP                58   \n",
       "2  DEEP PURPLE  The House Of Blue Light  LP                58   \n",
       "3  DEEP PURPLE  Who Do You Think We Are  LP                58   \n",
       "4   DEEP PURPLE 30 Very Best Of 2CD (Фирм.)                56   \n",
       "\n",
       "                    item_category_name comp1_x                     comp2_x  \\\n",
       "0                       Кино - Blu-Ray    Кино                     Blu-Ray   \n",
       "1                       Музыка - Винил  Музыка                       Винил   \n",
       "2                       Музыка - Винил  Музыка                       Винил   \n",
       "3                       Музыка - Винил  Музыка                       Винил   \n",
       "4  Музыка - CD фирменного производства  Музыка  CD фирменного производства   \n",
       "\n",
       "   map_comp1categ  map_comp2categ               shop_name    comp1_y  comp2_y  \\\n",
       "0              11              19  Ярославль ТЦ \"Альтаир\"  Ярославль  Альтаир   \n",
       "1              13              39     Москва ТРК \"Атриум\"     Москва   Атриум   \n",
       "2              13              39     Москва ТРК \"Атриум\"     Москва   Атриум   \n",
       "3              13              39     Москва ТРК \"Атриум\"     Москва   Атриум   \n",
       "4              13              37     Москва ТРК \"Атриум\"     Москва   Атриум   \n",
       "\n",
       "   map_comp1shop  map_comp2shop        ID   SaleDate  \n",
       "0             31             45  150983.0 2013-01-02  \n",
       "1             14             18       NaN 2013-01-03  \n",
       "2             14             18       NaN 2013-01-05  \n",
       "3             14             18       NaN 2013-01-06  \n",
       "4             14             18       NaN 2013-01-15  "
      ]
     },
     "execution_count": 8,
     "metadata": {},
     "output_type": "execute_result"
    }
   ],
   "source": [
    "train_merge.head(5)"
   ]
  },
  {
   "cell_type": "code",
   "execution_count": 9,
   "metadata": {},
   "outputs": [],
   "source": [
    "wholedata_silver = convert_silver(train_merge)"
   ]
  },
  {
   "cell_type": "code",
   "execution_count": 10,
   "metadata": {},
   "outputs": [
    {
     "data": {
      "text/html": [
       "<div>\n",
       "<style scoped>\n",
       "    .dataframe tbody tr th:only-of-type {\n",
       "        vertical-align: middle;\n",
       "    }\n",
       "\n",
       "    .dataframe tbody tr th {\n",
       "        vertical-align: top;\n",
       "    }\n",
       "\n",
       "    .dataframe thead th {\n",
       "        text-align: right;\n",
       "    }\n",
       "</style>\n",
       "<table border=\"1\" class=\"dataframe\">\n",
       "  <thead>\n",
       "    <tr style=\"text-align: right;\">\n",
       "      <th></th>\n",
       "      <th>SaleDateMY</th>\n",
       "      <th>date_block_num</th>\n",
       "      <th>shop_id</th>\n",
       "      <th>item_id</th>\n",
       "      <th>item_name</th>\n",
       "      <th>item_category_id</th>\n",
       "      <th>shop_name</th>\n",
       "      <th>item_category_name</th>\n",
       "      <th>map_comp1categ</th>\n",
       "      <th>map_comp2categ</th>\n",
       "      <th>map_comp1shop</th>\n",
       "      <th>map_comp2shop</th>\n",
       "      <th>InTest</th>\n",
       "      <th>item_cnt_day</th>\n",
       "      <th>item_price</th>\n",
       "      <th>shopitem</th>\n",
       "    </tr>\n",
       "  </thead>\n",
       "  <tbody>\n",
       "    <tr>\n",
       "      <th>0</th>\n",
       "      <td>2013-01-01</td>\n",
       "      <td>0</td>\n",
       "      <td>0</td>\n",
       "      <td>32</td>\n",
       "      <td>1+1</td>\n",
       "      <td>40</td>\n",
       "      <td>!Якутск Орджоникидзе, 56 фран</td>\n",
       "      <td>Кино - DVD</td>\n",
       "      <td>11</td>\n",
       "      <td>22</td>\n",
       "      <td>0</td>\n",
       "      <td>0</td>\n",
       "      <td>0</td>\n",
       "      <td>6.0</td>\n",
       "      <td>221.0</td>\n",
       "      <td>0-32</td>\n",
       "    </tr>\n",
       "    <tr>\n",
       "      <th>1</th>\n",
       "      <td>2013-01-01</td>\n",
       "      <td>0</td>\n",
       "      <td>0</td>\n",
       "      <td>33</td>\n",
       "      <td>1+1 (BD)</td>\n",
       "      <td>37</td>\n",
       "      <td>!Якутск Орджоникидзе, 56 фран</td>\n",
       "      <td>Кино - Blu-Ray</td>\n",
       "      <td>11</td>\n",
       "      <td>19</td>\n",
       "      <td>0</td>\n",
       "      <td>0</td>\n",
       "      <td>0</td>\n",
       "      <td>3.0</td>\n",
       "      <td>347.0</td>\n",
       "      <td>0-33</td>\n",
       "    </tr>\n",
       "    <tr>\n",
       "      <th>2</th>\n",
       "      <td>2013-01-01</td>\n",
       "      <td>0</td>\n",
       "      <td>0</td>\n",
       "      <td>35</td>\n",
       "      <td>10 ЛЕТ СПУСТЯ</td>\n",
       "      <td>40</td>\n",
       "      <td>!Якутск Орджоникидзе, 56 фран</td>\n",
       "      <td>Кино - DVD</td>\n",
       "      <td>11</td>\n",
       "      <td>22</td>\n",
       "      <td>0</td>\n",
       "      <td>0</td>\n",
       "      <td>0</td>\n",
       "      <td>1.0</td>\n",
       "      <td>247.0</td>\n",
       "      <td>0-35</td>\n",
       "    </tr>\n",
       "    <tr>\n",
       "      <th>3</th>\n",
       "      <td>2013-01-01</td>\n",
       "      <td>0</td>\n",
       "      <td>0</td>\n",
       "      <td>43</td>\n",
       "      <td>100 МИЛЛИОНОВ ЕВРО</td>\n",
       "      <td>40</td>\n",
       "      <td>!Якутск Орджоникидзе, 56 фран</td>\n",
       "      <td>Кино - DVD</td>\n",
       "      <td>11</td>\n",
       "      <td>22</td>\n",
       "      <td>0</td>\n",
       "      <td>0</td>\n",
       "      <td>0</td>\n",
       "      <td>1.0</td>\n",
       "      <td>221.0</td>\n",
       "      <td>0-43</td>\n",
       "    </tr>\n",
       "    <tr>\n",
       "      <th>4</th>\n",
       "      <td>2013-01-01</td>\n",
       "      <td>0</td>\n",
       "      <td>0</td>\n",
       "      <td>51</td>\n",
       "      <td>100 лучших произведений классики (mp3-CD) (Dig...</td>\n",
       "      <td>57</td>\n",
       "      <td>!Якутск Орджоникидзе, 56 фран</td>\n",
       "      <td>Музыка - MP3</td>\n",
       "      <td>13</td>\n",
       "      <td>38</td>\n",
       "      <td>0</td>\n",
       "      <td>0</td>\n",
       "      <td>0</td>\n",
       "      <td>2.0</td>\n",
       "      <td>130.0</td>\n",
       "      <td>0-51</td>\n",
       "    </tr>\n",
       "  </tbody>\n",
       "</table>\n",
       "</div>"
      ],
      "text/plain": [
       "  SaleDateMY  date_block_num  shop_id  item_id  \\\n",
       "0 2013-01-01               0        0       32   \n",
       "1 2013-01-01               0        0       33   \n",
       "2 2013-01-01               0        0       35   \n",
       "3 2013-01-01               0        0       43   \n",
       "4 2013-01-01               0        0       51   \n",
       "\n",
       "                                           item_name  item_category_id  \\\n",
       "0                                                1+1                40   \n",
       "1                                           1+1 (BD)                37   \n",
       "2                                      10 ЛЕТ СПУСТЯ                40   \n",
       "3                                 100 МИЛЛИОНОВ ЕВРО                40   \n",
       "4  100 лучших произведений классики (mp3-CD) (Dig...                57   \n",
       "\n",
       "                       shop_name item_category_name  map_comp1categ  \\\n",
       "0  !Якутск Орджоникидзе, 56 фран         Кино - DVD              11   \n",
       "1  !Якутск Орджоникидзе, 56 фран     Кино - Blu-Ray              11   \n",
       "2  !Якутск Орджоникидзе, 56 фран         Кино - DVD              11   \n",
       "3  !Якутск Орджоникидзе, 56 фран         Кино - DVD              11   \n",
       "4  !Якутск Орджоникидзе, 56 фран       Музыка - MP3              13   \n",
       "\n",
       "   map_comp2categ  map_comp1shop  map_comp2shop  InTest  item_cnt_day  \\\n",
       "0              22              0              0       0           6.0   \n",
       "1              19              0              0       0           3.0   \n",
       "2              22              0              0       0           1.0   \n",
       "3              22              0              0       0           1.0   \n",
       "4              38              0              0       0           2.0   \n",
       "\n",
       "   item_price shopitem  \n",
       "0       221.0     0-32  \n",
       "1       347.0     0-33  \n",
       "2       247.0     0-35  \n",
       "3       221.0     0-43  \n",
       "4       130.0     0-51  "
      ]
     },
     "execution_count": 10,
     "metadata": {},
     "output_type": "execute_result"
    }
   ],
   "source": [
    "wholedata_silver.head()"
   ]
  },
  {
   "cell_type": "code",
   "execution_count": 11,
   "metadata": {},
   "outputs": [
    {
     "data": {
      "text/plain": [
       "(1609124, 16)"
      ]
     },
     "execution_count": 11,
     "metadata": {},
     "output_type": "execute_result"
    }
   ],
   "source": [
    "wholedata_silver.shape"
   ]
  },
  {
   "cell_type": "markdown",
   "metadata": {},
   "source": [
    "<b> Splitting strategy:"
   ]
  },
  {
   "cell_type": "markdown",
   "metadata": {},
   "source": [
    "* time series expanding window of one period, Take 7 months\n",
    "* over the first fold, make the functions and features for modeling and prediction (avoid leakage)\n",
    "* lags and seasons are features\n",
    "* use rmse as metric\n",
    "* consider the outputs of the EDA\n",
    "* goal, predict november or yyyy-11-01"
   ]
  },
  {
   "cell_type": "markdown",
   "metadata": {},
   "source": [
    "#### The validation data"
   ]
  },
  {
   "cell_type": "code",
   "execution_count": 12,
   "metadata": {},
   "outputs": [
    {
     "data": {
      "text/plain": [
       "Timestamp('2015-10-01 00:00:00')"
      ]
     },
     "execution_count": 12,
     "metadata": {},
     "output_type": "execute_result"
    }
   ],
   "source": [
    "wholedata_silver.SaleDateMY.max()"
   ]
  },
  {
   "cell_type": "code",
   "execution_count": 13,
   "metadata": {},
   "outputs": [],
   "source": [
    "test_dates = [datetime.datetime(2014, 11, 1), datetime.datetime(2015, 4, 1), datetime.datetime(2015, 5, 1), datetime.datetime(2015, 6, 1), datetime.datetime(2015, 7, 1), datetime.datetime(2015, 8, 1),\n",
    "datetime.datetime(2015, 9, 1), datetime.datetime(2015, 10, 1),]"
   ]
  },
  {
   "cell_type": "markdown",
   "metadata": {},
   "source": [
    "#### hold-out Train"
   ]
  },
  {
   "cell_type": "code",
   "execution_count": 14,
   "metadata": {},
   "outputs": [],
   "source": [
    "#gato\n",
    "train_big_window = wholedata_silver\n",
    "train_big_full = completion_semi_gold(train_big_window)"
   ]
  },
  {
   "cell_type": "code",
   "execution_count": 15,
   "metadata": {},
   "outputs": [],
   "source": [
    "date_val = datetime.datetime(2014, 10, 1)"
   ]
  },
  {
   "cell_type": "code",
   "execution_count": 16,
   "metadata": {},
   "outputs": [],
   "source": [
    "train_full = train_big_full[train_big_full.Date < date_val ].copy()\n",
    "val_window = train_big_full[train_big_full.Date == date_val ].copy()"
   ]
  },
  {
   "cell_type": "code",
   "execution_count": 17,
   "metadata": {},
   "outputs": [
    {
     "data": {
      "text/html": [
       "<div>\n",
       "<style scoped>\n",
       "    .dataframe tbody tr th:only-of-type {\n",
       "        vertical-align: middle;\n",
       "    }\n",
       "\n",
       "    .dataframe tbody tr th {\n",
       "        vertical-align: top;\n",
       "    }\n",
       "\n",
       "    .dataframe thead th {\n",
       "        text-align: right;\n",
       "    }\n",
       "</style>\n",
       "<table border=\"1\" class=\"dataframe\">\n",
       "  <thead>\n",
       "    <tr style=\"text-align: right;\">\n",
       "      <th></th>\n",
       "      <th>InTest</th>\n",
       "      <th>shop_id</th>\n",
       "      <th>item_id</th>\n",
       "      <th>item_name</th>\n",
       "      <th>shopitem</th>\n",
       "      <th>item_category_id</th>\n",
       "      <th>shop_name</th>\n",
       "      <th>item_category_name</th>\n",
       "      <th>map_comp1categ</th>\n",
       "      <th>map_comp2categ</th>\n",
       "      <th>map_comp1shop</th>\n",
       "      <th>map_comp2shop</th>\n",
       "      <th>Date</th>\n",
       "      <th>Sale</th>\n",
       "      <th>item_price</th>\n",
       "      <th>Order</th>\n",
       "      <th>MiguelId</th>\n",
       "    </tr>\n",
       "  </thead>\n",
       "  <tbody>\n",
       "    <tr>\n",
       "      <th>0</th>\n",
       "      <td>0</td>\n",
       "      <td>0</td>\n",
       "      <td>30</td>\n",
       "      <td>007: КООРДИНАТЫ «СКАЙФОЛЛ»</td>\n",
       "      <td>0-30</td>\n",
       "      <td>40</td>\n",
       "      <td>!Якутск Орджоникидзе, 56 фран</td>\n",
       "      <td>Кино - DVD</td>\n",
       "      <td>11</td>\n",
       "      <td>22</td>\n",
       "      <td>0</td>\n",
       "      <td>0</td>\n",
       "      <td>2013-01-01</td>\n",
       "      <td>0.0</td>\n",
       "      <td>0.0</td>\n",
       "      <td>1</td>\n",
       "      <td>0-30-2013-01-01</td>\n",
       "    </tr>\n",
       "    <tr>\n",
       "      <th>1</th>\n",
       "      <td>0</td>\n",
       "      <td>0</td>\n",
       "      <td>31</td>\n",
       "      <td>007: КООРДИНАТЫ «СКАЙФОЛЛ» (BD)</td>\n",
       "      <td>0-31</td>\n",
       "      <td>37</td>\n",
       "      <td>!Якутск Орджоникидзе, 56 фран</td>\n",
       "      <td>Кино - Blu-Ray</td>\n",
       "      <td>11</td>\n",
       "      <td>19</td>\n",
       "      <td>0</td>\n",
       "      <td>0</td>\n",
       "      <td>2013-01-01</td>\n",
       "      <td>0.0</td>\n",
       "      <td>0.0</td>\n",
       "      <td>1</td>\n",
       "      <td>0-31-2013-01-01</td>\n",
       "    </tr>\n",
       "    <tr>\n",
       "      <th>2</th>\n",
       "      <td>0</td>\n",
       "      <td>0</td>\n",
       "      <td>32</td>\n",
       "      <td>1+1</td>\n",
       "      <td>0-32</td>\n",
       "      <td>40</td>\n",
       "      <td>!Якутск Орджоникидзе, 56 фран</td>\n",
       "      <td>Кино - DVD</td>\n",
       "      <td>11</td>\n",
       "      <td>22</td>\n",
       "      <td>0</td>\n",
       "      <td>0</td>\n",
       "      <td>2013-01-01</td>\n",
       "      <td>6.0</td>\n",
       "      <td>221.0</td>\n",
       "      <td>1</td>\n",
       "      <td>0-32-2013-01-01</td>\n",
       "    </tr>\n",
       "    <tr>\n",
       "      <th>3</th>\n",
       "      <td>0</td>\n",
       "      <td>0</td>\n",
       "      <td>33</td>\n",
       "      <td>1+1 (BD)</td>\n",
       "      <td>0-33</td>\n",
       "      <td>37</td>\n",
       "      <td>!Якутск Орджоникидзе, 56 фран</td>\n",
       "      <td>Кино - Blu-Ray</td>\n",
       "      <td>11</td>\n",
       "      <td>19</td>\n",
       "      <td>0</td>\n",
       "      <td>0</td>\n",
       "      <td>2013-01-01</td>\n",
       "      <td>3.0</td>\n",
       "      <td>347.0</td>\n",
       "      <td>1</td>\n",
       "      <td>0-33-2013-01-01</td>\n",
       "    </tr>\n",
       "    <tr>\n",
       "      <th>4</th>\n",
       "      <td>0</td>\n",
       "      <td>0</td>\n",
       "      <td>35</td>\n",
       "      <td>10 ЛЕТ СПУСТЯ</td>\n",
       "      <td>0-35</td>\n",
       "      <td>40</td>\n",
       "      <td>!Якутск Орджоникидзе, 56 фран</td>\n",
       "      <td>Кино - DVD</td>\n",
       "      <td>11</td>\n",
       "      <td>22</td>\n",
       "      <td>0</td>\n",
       "      <td>0</td>\n",
       "      <td>2013-01-01</td>\n",
       "      <td>1.0</td>\n",
       "      <td>247.0</td>\n",
       "      <td>1</td>\n",
       "      <td>0-35-2013-01-01</td>\n",
       "    </tr>\n",
       "  </tbody>\n",
       "</table>\n",
       "</div>"
      ],
      "text/plain": [
       "   InTest  shop_id  item_id                        item_name shopitem  \\\n",
       "0       0        0       30       007: КООРДИНАТЫ «СКАЙФОЛЛ»     0-30   \n",
       "1       0        0       31  007: КООРДИНАТЫ «СКАЙФОЛЛ» (BD)     0-31   \n",
       "2       0        0       32                              1+1     0-32   \n",
       "3       0        0       33                         1+1 (BD)     0-33   \n",
       "4       0        0       35                    10 ЛЕТ СПУСТЯ     0-35   \n",
       "\n",
       "   item_category_id                      shop_name item_category_name  \\\n",
       "0                40  !Якутск Орджоникидзе, 56 фран         Кино - DVD   \n",
       "1                37  !Якутск Орджоникидзе, 56 фран     Кино - Blu-Ray   \n",
       "2                40  !Якутск Орджоникидзе, 56 фран         Кино - DVD   \n",
       "3                37  !Якутск Орджоникидзе, 56 фран     Кино - Blu-Ray   \n",
       "4                40  !Якутск Орджоникидзе, 56 фран         Кино - DVD   \n",
       "\n",
       "   map_comp1categ  map_comp2categ  map_comp1shop  map_comp2shop       Date  \\\n",
       "0              11              22              0              0 2013-01-01   \n",
       "1              11              19              0              0 2013-01-01   \n",
       "2              11              22              0              0 2013-01-01   \n",
       "3              11              19              0              0 2013-01-01   \n",
       "4              11              22              0              0 2013-01-01   \n",
       "\n",
       "   Sale  item_price  Order         MiguelId  \n",
       "0   0.0         0.0      1  0-30-2013-01-01  \n",
       "1   0.0         0.0      1  0-31-2013-01-01  \n",
       "2   6.0       221.0      1  0-32-2013-01-01  \n",
       "3   3.0       347.0      1  0-33-2013-01-01  \n",
       "4   1.0       247.0      1  0-35-2013-01-01  "
      ]
     },
     "execution_count": 17,
     "metadata": {},
     "output_type": "execute_result"
    }
   ],
   "source": [
    "train_full.head()"
   ]
  },
  {
   "cell_type": "code",
   "execution_count": 18,
   "metadata": {},
   "outputs": [
    {
     "data": {
      "text/plain": [
       "(Timestamp('2014-09-01 00:00:00'), Timestamp('2013-01-01 00:00:00'))"
      ]
     },
     "execution_count": 18,
     "metadata": {},
     "output_type": "execute_result"
    }
   ],
   "source": [
    "train_full.Date.max(), train_full.Date.min()"
   ]
  },
  {
   "cell_type": "code",
   "execution_count": 19,
   "metadata": {},
   "outputs": [
    {
     "data": {
      "text/plain": [
       "(8906604, 17)"
      ]
     },
     "execution_count": 19,
     "metadata": {},
     "output_type": "execute_result"
    }
   ],
   "source": [
    "train_full.shape"
   ]
  },
  {
   "cell_type": "code",
   "execution_count": 20,
   "metadata": {},
   "outputs": [
    {
     "data": {
      "text/html": [
       "<div>\n",
       "<style scoped>\n",
       "    .dataframe tbody tr th:only-of-type {\n",
       "        vertical-align: middle;\n",
       "    }\n",
       "\n",
       "    .dataframe tbody tr th {\n",
       "        vertical-align: top;\n",
       "    }\n",
       "\n",
       "    .dataframe thead th {\n",
       "        text-align: right;\n",
       "    }\n",
       "</style>\n",
       "<table border=\"1\" class=\"dataframe\">\n",
       "  <thead>\n",
       "    <tr style=\"text-align: right;\">\n",
       "      <th></th>\n",
       "      <th>shopitems</th>\n",
       "    </tr>\n",
       "    <tr>\n",
       "      <th>InTest</th>\n",
       "      <th></th>\n",
       "    </tr>\n",
       "  </thead>\n",
       "  <tbody>\n",
       "    <tr>\n",
       "      <th>0</th>\n",
       "      <td>312720</td>\n",
       "    </tr>\n",
       "    <tr>\n",
       "      <th>1</th>\n",
       "      <td>111404</td>\n",
       "    </tr>\n",
       "  </tbody>\n",
       "</table>\n",
       "</div>"
      ],
      "text/plain": [
       "        shopitems\n",
       "InTest           \n",
       "0          312720\n",
       "1          111404"
      ]
     },
     "execution_count": 20,
     "metadata": {},
     "output_type": "execute_result"
    }
   ],
   "source": [
    "train_full.groupby('InTest').agg(shopitems = ('shopitem','nunique'))"
   ]
  },
  {
   "cell_type": "markdown",
   "metadata": {},
   "source": [
    "### Exploration of the features"
   ]
  },
  {
   "cell_type": "code",
   "execution_count": 21,
   "metadata": {},
   "outputs": [
    {
     "name": "stdout",
     "output_type": "stream",
     "text": [
      "Wall time: 1min 19s\n"
     ]
    }
   ],
   "source": [
    "%%time\n",
    "features_dictionary = get_full_lags(whole = train_full, date_to_take = date_val) ## for train but result easy in val\n",
    "item_explo_names = exploiting_words(train_full)\n",
    "#feature_cluster = get_clusters(data = train_full, n_clusters_features = 5, date_to_take = date_val )\n",
    "full_features_dictionary = {**features_dictionary,\n",
    "                            **item_explo_names\n",
    "                            #**feature_cluster\n",
    "                           }"
   ]
  },
  {
   "cell_type": "code",
   "execution_count": 22,
   "metadata": {},
   "outputs": [
    {
     "name": "stdout",
     "output_type": "stream",
     "text": [
      "Wall time: 19.8 s\n"
     ]
    }
   ],
   "source": [
    "%%time\n",
    "data_train_selected = balance_items_test(train_full, date_to_take = date_val, percentage_test = 0.30, smalls_percent = 0.5, gen_sample = 0.25) ## for train\n",
    "train_feature_tocomplete = feature_silver(data_train_selected, date_to_take = date_val, Train = True) ## for both"
   ]
  },
  {
   "cell_type": "code",
   "execution_count": 23,
   "metadata": {},
   "outputs": [],
   "source": [
    "train_feature = integration_new_features_map(data = train_feature_tocomplete, dict_feature = full_features_dictionary)  ## for both not prob"
   ]
  },
  {
   "cell_type": "code",
   "execution_count": 24,
   "metadata": {},
   "outputs": [
    {
     "data": {
      "text/plain": [
       "Index(['InTest', 'shop_id', 'item_id', 'item_name', 'shopitem',\n",
       "       'item_category_id', 'shop_name', 'item_category_name', 'map_comp1categ',\n",
       "       'map_comp2categ', 'map_comp1shop', 'map_comp2shop', 'Date', 'Sale',\n",
       "       'item_price', 'Order', 'MiguelId', 'SaleL1M', 'L0M_L1M', 'L1M_L2M',\n",
       "       'ItemIdPart1', 'ItemIdPart2', 'CategIdItem3A', 'CategIdItem3B', 'month',\n",
       "       'monthToPredict', 'Year', 'Quarter', 'OrderGot', 'countItemPossitives',\n",
       "       'countItemZero', 'L1maxLev1Item', 'L2maxLev1Item', 'L3maxLev1Item',\n",
       "       'L4maxLev1Item', 'L5maxLev1Item', 'CategoryL1Item',\n",
       "       'countItemShopPossitives', 'countItemShopZero', 'L1maxLev1ItemShop',\n",
       "       'L2maxLev1ItemShop', 'L3maxLev1ItemShop', 'L4maxLev1ItemShop',\n",
       "       'L5maxLev1ItemShop', 'lenstr', 'NWords', 'Word0', 'Word_1',\n",
       "       'L1maxLev1Shop', 'meanLaggedVars', 'item_idLastMonth1',\n",
       "       'item_idLastMonth2', 'item_idLastMonth3', 'item_idLastMonth4',\n",
       "       'item_idLastMonth5', 'item_idLastOrder1', 'item_idLastOrder2',\n",
       "       'item_idLastOrder3', 'item_idLastOrder4', 'item_idLastOrder5',\n",
       "       'meanL1Price', 'SpaceOrder', 'SpaceOrderActivator'],\n",
       "      dtype='object')"
      ]
     },
     "execution_count": 24,
     "metadata": {},
     "output_type": "execute_result"
    }
   ],
   "source": [
    "train_feature.columns "
   ]
  },
  {
   "cell_type": "code",
   "execution_count": 25,
   "metadata": {},
   "outputs": [
    {
     "data": {
      "text/plain": [
       "39"
      ]
     },
     "execution_count": 25,
     "metadata": {},
     "output_type": "execute_result"
    }
   ],
   "source": [
    "to_drop_columns = ['Date']\n",
    "ids_columns = ['item_category_id',\n",
    "       'ItemIdPart1','ItemIdPart2', 'CategIdItem3A', 'CategIdItem3B'] #'item_id'\n",
    "numericals = [ 'Quarter', 'OrderGot', 'countItemPossitives',\n",
    "       'countItemZero', 'L1maxLev1Item', 'L2maxLev1Item', 'L3maxLev1Item',\n",
    "       'L4maxLev1Item', 'L5maxLev1Item',\n",
    "       'countItemShopPossitives', 'countItemShopZero', 'L1maxLev1ItemShop',\n",
    "       'L2maxLev1ItemShop', 'L3maxLev1ItemShop', 'L4maxLev1ItemShop',\n",
    "       'L5maxLev1ItemShop', 'lenstr', 'NWords', 'Word0', 'Word_1',\n",
    "       'L1maxLev1Shop', 'meanLaggedVars', 'item_idLastMonth1',\n",
    "       'item_idLastMonth2', 'item_idLastMonth3', 'item_idLastMonth4',\n",
    "       'item_idLastMonth5', 'item_idLastOrder1', 'item_idLastOrder2',\n",
    "       'item_idLastOrder3', 'item_idLastOrder4', 'item_idLastOrder5',\n",
    "       'meanL1Price', 'SpaceOrder'] + ids_columns\n",
    "\n",
    "categoricals = ['SpaceOrderActivator', 'CategoryL1Item']\n",
    "my_features = to_drop_columns + numericals + categoricals\n",
    "my_target = 'Sale'\n",
    "len(my_features) - 3"
   ]
  },
  {
   "cell_type": "code",
   "execution_count": 26,
   "metadata": {},
   "outputs": [
    {
     "data": {
      "text/plain": [
       "20.0"
      ]
     },
     "execution_count": 26,
     "metadata": {},
     "output_type": "execute_result"
    }
   ],
   "source": [
    "train_full.Sale.max()"
   ]
  },
  {
   "cell_type": "markdown",
   "metadata": {},
   "source": [
    "### Production of folds for cross validation"
   ]
  },
  {
   "cell_type": "code",
   "execution_count": 27,
   "metadata": {},
   "outputs": [
    {
     "data": {
      "text/plain": [
       "9"
      ]
     },
     "execution_count": 27,
     "metadata": {},
     "output_type": "execute_result"
    }
   ],
   "source": [
    "sample_degree = 0.75\n",
    "orderdate = 0\n",
    "limit = 6\n",
    "maps = ['Starts','Focus_item_features','Focus_item_shop_features','item_name_explo','Focus_shop_features',\n",
    "       'item previous var', 'lasthmonth_item', 'lasthOrder_item','meanL1Price_item',]\n",
    "len(maps)"
   ]
  },
  {
   "cell_type": "code",
   "execution_count": 28,
   "metadata": {},
   "outputs": [],
   "source": [
    "def date_generator(Date_list, limit = 5):\n",
    "    date_list = list()\n",
    "    for date_val in Date_list:\n",
    "        dates_back = 3\n",
    "        ### Date cqpture ####################\n",
    "        date_max = date_val - relativedelta(months=1)\n",
    "        months_to_get = [4,5,6,10,11]\n",
    "        minyear = 2014\n",
    "        min_date = date_max - relativedelta(months=dates_back)\n",
    "\n",
    "        year_i = date_max.year\n",
    "\n",
    "        dates_result = list()\n",
    "\n",
    "        while year_i >= minyear:\n",
    "            for monthi in months_to_get:\n",
    "                dates_result.append(datetime.datetime(year_i, monthi, 1))\n",
    "                dates_result = [x for x in dates_result if x <= date_max]\n",
    "            year_i = year_i - 1\n",
    "\n",
    "        dates_result = dates_result + [date_max - relativedelta(months=i) for i in range(0,dates_back +1)]\n",
    "        dates_result = list(set(dates_result))\n",
    "        for daten in dates_result:\n",
    "            date_list.append(daten)\n",
    "    date_list = list(set(date_list))  \n",
    "    date_list.sort()\n",
    "    return date_list + [datetime.datetime(2015, 10, 1, 0, 0), datetime.datetime(2015, 11, 1, 0, 0) ]"
   ]
  },
  {
   "cell_type": "code",
   "execution_count": 29,
   "metadata": {},
   "outputs": [],
   "source": [
    "dates_vector_map =  date_generator(Date_list = test_dates, limit = limit)"
   ]
  },
  {
   "cell_type": "code",
   "execution_count": 34,
   "metadata": {},
   "outputs": [
    {
     "name": "stdout",
     "output_type": "stream",
     "text": [
      "the maps for the date 2014-04-01\n",
      "the maps for the date 2014-05-01\n",
      "the maps for the date 2014-06-01\n",
      "the maps for the date 2014-07-01\n",
      "the maps for the date 2014-08-01\n",
      "the maps for the date 2014-09-01\n",
      "the maps for the date 2014-10-01\n",
      "the maps for the date 2014-11-01\n",
      "the maps for the date 2014-12-01\n",
      "the maps for the date 2015-01-01\n",
      "the maps for the date 2015-02-01\n",
      "the maps for the date 2015-03-01\n",
      "the maps for the date 2015-04-01\n",
      "the maps for the date 2015-05-01\n",
      "the maps for the date 2015-06-01\n",
      "the maps for the date 2015-07-01\n",
      "the maps for the date 2015-08-01\n",
      "the maps for the date 2015-09-01\n",
      "the maps for the date 2015-10-01\n",
      "the maps for the date 2015-11-01\n"
     ]
    }
   ],
   "source": [
    "#gato\n",
    "for datex in dates_vector_map:\n",
    "    datex_str = datex.strftime('%Y-%m-%d')\n",
    "    train_full = train_big_full[train_big_full.Date < datex].copy()\n",
    "    features_dictionary = get_full_lags(whole = train_full, date_to_take = datex) ## for train but result easy in val\n",
    "    item_explo_names = exploiting_words(train_full)\n",
    "    #feature_cluster = get_clusters(data = train_full, n_clusters_features = 5, date_to_take = date_val )\n",
    "    full_features_dictionary = {**features_dictionary,\n",
    "                                **item_explo_names\n",
    "                                #**feature_cluster\n",
    "                               }\n",
    "    \n",
    "    outdir = f'./generated_datasets/maps/data_{datex_str}/'\n",
    "    if not os.path.exists(outdir):\n",
    "        os.mkdir(outdir)\n",
    "        \n",
    "    for key in full_features_dictionary.keys():\n",
    "        mapx = full_features_dictionary[key]\n",
    "        map_name = os.path.join(outdir, f'{key}.csv') \n",
    "        mapx.to_csv(path_or_buf = map_name,header=True, index=False)\n",
    "    del train_full, features_dictionary, full_features_dictionary, item_explo_names\n",
    "    print(f'the maps for the date {datex_str}')"
   ]
  },
  {
   "cell_type": "code",
   "execution_count": 30,
   "metadata": {},
   "outputs": [],
   "source": [
    "def get_maps_from(datex_str, maps):\n",
    "    features_mapping = dict()\n",
    "    for key in maps:\n",
    "        mapsx = pd.read_csv(f'generated_datasets/maps/data_{datex_str}/{key}.csv')\n",
    "        if 'Date' in mapsx.columns:\n",
    "            mapsx['Date'] = pd.to_datetime(mapsx['Date'])\n",
    "        features_mapping[key] = mapsx\n",
    "    return features_mapping"
   ]
  },
  {
   "cell_type": "code",
   "execution_count": 32,
   "metadata": {},
   "outputs": [
    {
     "ename": "IllegalMonthError",
     "evalue": "bad month number nan; must be 1-12",
     "output_type": "error",
     "traceback": [
      "\u001b[1;31m---------------------------------------------------------------------------\u001b[0m",
      "\u001b[1;31mIllegalMonthError\u001b[0m                         Traceback (most recent call last)",
      "\u001b[1;32m<ipython-input-32-c3822725483d>\u001b[0m in \u001b[0;36m<module>\u001b[1;34m\u001b[0m\n\u001b[0;32m     50\u001b[0m \u001b[1;33m\u001b[0m\u001b[0m\n\u001b[0;32m     51\u001b[0m     \u001b[0mfull_valandtrain_selected\u001b[0m \u001b[1;33m=\u001b[0m \u001b[0mval_window\u001b[0m\u001b[1;33m\u001b[0m\u001b[1;33m\u001b[0m\u001b[0m\n\u001b[1;32m---> 52\u001b[1;33m     \u001b[0mvalandtrain_feature\u001b[0m \u001b[1;33m=\u001b[0m \u001b[0mfeature_silver\u001b[0m\u001b[1;33m(\u001b[0m\u001b[0mfull_valandtrain_selected\u001b[0m\u001b[1;33m,\u001b[0m \u001b[0mdate_to_take\u001b[0m \u001b[1;33m=\u001b[0m \u001b[0mdate_val\u001b[0m\u001b[1;33m,\u001b[0m \u001b[0mTrain\u001b[0m \u001b[1;33m=\u001b[0m \u001b[1;32mFalse\u001b[0m\u001b[1;33m)\u001b[0m\u001b[1;33m\u001b[0m\u001b[1;33m\u001b[0m\u001b[0m\n\u001b[0m\u001b[0;32m     53\u001b[0m     \u001b[0mvalandtrain_feature\u001b[0m \u001b[1;33m=\u001b[0m \u001b[0mintegration_new_features_map\u001b[0m\u001b[1;33m(\u001b[0m\u001b[0mdata\u001b[0m \u001b[1;33m=\u001b[0m \u001b[0mvalandtrain_feature\u001b[0m\u001b[1;33m,\u001b[0m \u001b[0mdict_feature\u001b[0m \u001b[1;33m=\u001b[0m \u001b[0mfull_features_dictionary\u001b[0m\u001b[1;33m,\u001b[0m \u001b[0mfilter_ceros\u001b[0m \u001b[1;33m=\u001b[0m \u001b[1;32mTrue\u001b[0m\u001b[1;33m)\u001b[0m\u001b[1;33m\u001b[0m\u001b[1;33m\u001b[0m\u001b[0m\n\u001b[0;32m     54\u001b[0m     \u001b[0mval_selection\u001b[0m \u001b[1;33m=\u001b[0m \u001b[0mfeatures_rows_train_silver\u001b[0m\u001b[1;33m(\u001b[0m\u001b[0mdata\u001b[0m \u001b[1;33m=\u001b[0m \u001b[0mvalandtrain_feature\u001b[0m\u001b[1;33m,\u001b[0m \u001b[0mfeatures\u001b[0m \u001b[1;33m=\u001b[0m \u001b[0mmy_features\u001b[0m\u001b[1;33m,\u001b[0m \u001b[0mtarget\u001b[0m \u001b[1;33m=\u001b[0m \u001b[0mmy_target\u001b[0m\u001b[1;33m,\u001b[0m \u001b[0mvalidation\u001b[0m \u001b[1;33m=\u001b[0m \u001b[0mdate_val\u001b[0m\u001b[1;33m,\u001b[0m \u001b[0madditional_val_cols\u001b[0m \u001b[1;33m=\u001b[0m \u001b[1;33m[\u001b[0m\u001b[1;34m'shop_id'\u001b[0m\u001b[1;33m,\u001b[0m \u001b[1;34m'item_id'\u001b[0m\u001b[1;33m]\u001b[0m\u001b[1;33m)\u001b[0m\u001b[1;33m\u001b[0m\u001b[1;33m\u001b[0m\u001b[0m\n",
      "\u001b[1;32m~\\kaggle\\Future_Sales\\especial_functions.py\u001b[0m in \u001b[0;36mfeature_silver\u001b[1;34m(data, date_to_take, Train)\u001b[0m\n\u001b[0;32m    310\u001b[0m     \u001b[0mdata_lagdiff\u001b[0m \u001b[1;33m=\u001b[0m \u001b[0mdata_lagdiff\u001b[0m\u001b[1;33m.\u001b[0m\u001b[0massign\u001b[0m\u001b[1;33m(\u001b[0m\u001b[0mmonth\u001b[0m \u001b[1;33m=\u001b[0m \u001b[0mdata_lagdiff\u001b[0m\u001b[1;33m.\u001b[0m\u001b[0mDate\u001b[0m\u001b[1;33m.\u001b[0m\u001b[0mdt\u001b[0m\u001b[1;33m.\u001b[0m\u001b[0mmonth\u001b[0m\u001b[1;33m)\u001b[0m\u001b[1;33m\u001b[0m\u001b[1;33m\u001b[0m\u001b[0m\n\u001b[0;32m    311\u001b[0m \u001b[1;33m\u001b[0m\u001b[0m\n\u001b[1;32m--> 312\u001b[1;33m     \u001b[0mmax_date\u001b[0m \u001b[1;33m=\u001b[0m \u001b[0mdata_lagdiff\u001b[0m\u001b[1;33m.\u001b[0m\u001b[0mDate\u001b[0m\u001b[1;33m.\u001b[0m\u001b[0mmax\u001b[0m\u001b[1;33m(\u001b[0m\u001b[1;33m)\u001b[0m \u001b[1;33m+\u001b[0m \u001b[0mrelativedelta\u001b[0m\u001b[1;33m(\u001b[0m\u001b[0mmonths\u001b[0m\u001b[1;33m=\u001b[0m\u001b[1;36m1\u001b[0m\u001b[1;33m)\u001b[0m\u001b[1;33m\u001b[0m\u001b[1;33m\u001b[0m\u001b[0m\n\u001b[0m\u001b[0;32m    313\u001b[0m     \u001b[0mmax_date_month\u001b[0m \u001b[1;33m=\u001b[0m \u001b[0mmax_date\u001b[0m\u001b[1;33m.\u001b[0m\u001b[0mmonth\u001b[0m\u001b[1;33m\u001b[0m\u001b[1;33m\u001b[0m\u001b[0m\n\u001b[0;32m    314\u001b[0m     \u001b[0mdata_lagdiff\u001b[0m\u001b[1;33m[\u001b[0m\u001b[1;34m'monthToPredict'\u001b[0m\u001b[1;33m]\u001b[0m \u001b[1;33m=\u001b[0m \u001b[0mnp\u001b[0m\u001b[1;33m.\u001b[0m\u001b[0mwhere\u001b[0m\u001b[1;33m(\u001b[0m\u001b[0mdata_lagdiff\u001b[0m\u001b[1;33m[\u001b[0m\u001b[1;34m'month'\u001b[0m\u001b[1;33m]\u001b[0m \u001b[1;33m==\u001b[0m \u001b[0mmax_date_month\u001b[0m\u001b[1;33m,\u001b[0m\u001b[1;36m1\u001b[0m\u001b[1;33m,\u001b[0m\u001b[1;36m0\u001b[0m\u001b[1;33m)\u001b[0m\u001b[1;33m\u001b[0m\u001b[1;33m\u001b[0m\u001b[0m\n",
      "\u001b[1;32m~\\anaconda3\\lib\\site-packages\\dateutil\\relativedelta.py\u001b[0m in \u001b[0;36m__radd__\u001b[1;34m(self, other)\u001b[0m\n\u001b[0;32m    403\u001b[0m \u001b[1;33m\u001b[0m\u001b[0m\n\u001b[0;32m    404\u001b[0m     \u001b[1;32mdef\u001b[0m \u001b[0m__radd__\u001b[0m\u001b[1;33m(\u001b[0m\u001b[0mself\u001b[0m\u001b[1;33m,\u001b[0m \u001b[0mother\u001b[0m\u001b[1;33m)\u001b[0m\u001b[1;33m:\u001b[0m\u001b[1;33m\u001b[0m\u001b[1;33m\u001b[0m\u001b[0m\n\u001b[1;32m--> 405\u001b[1;33m         \u001b[1;32mreturn\u001b[0m \u001b[0mself\u001b[0m\u001b[1;33m.\u001b[0m\u001b[0m__add__\u001b[0m\u001b[1;33m(\u001b[0m\u001b[0mother\u001b[0m\u001b[1;33m)\u001b[0m\u001b[1;33m\u001b[0m\u001b[1;33m\u001b[0m\u001b[0m\n\u001b[0m\u001b[0;32m    406\u001b[0m \u001b[1;33m\u001b[0m\u001b[0m\n\u001b[0;32m    407\u001b[0m     \u001b[1;32mdef\u001b[0m \u001b[0m__rsub__\u001b[0m\u001b[1;33m(\u001b[0m\u001b[0mself\u001b[0m\u001b[1;33m,\u001b[0m \u001b[0mother\u001b[0m\u001b[1;33m)\u001b[0m\u001b[1;33m:\u001b[0m\u001b[1;33m\u001b[0m\u001b[1;33m\u001b[0m\u001b[0m\n",
      "\u001b[1;32m~\\anaconda3\\lib\\site-packages\\dateutil\\relativedelta.py\u001b[0m in \u001b[0;36m__add__\u001b[1;34m(self, other)\u001b[0m\n\u001b[0;32m    375\u001b[0m                 \u001b[0myear\u001b[0m \u001b[1;33m-=\u001b[0m \u001b[1;36m1\u001b[0m\u001b[1;33m\u001b[0m\u001b[1;33m\u001b[0m\u001b[0m\n\u001b[0;32m    376\u001b[0m                 \u001b[0mmonth\u001b[0m \u001b[1;33m+=\u001b[0m \u001b[1;36m12\u001b[0m\u001b[1;33m\u001b[0m\u001b[1;33m\u001b[0m\u001b[0m\n\u001b[1;32m--> 377\u001b[1;33m         day = min(calendar.monthrange(year, month)[1],\n\u001b[0m\u001b[0;32m    378\u001b[0m                   self.day or other.day)\n\u001b[0;32m    379\u001b[0m         \u001b[0mrepl\u001b[0m \u001b[1;33m=\u001b[0m \u001b[1;33m{\u001b[0m\u001b[1;34m\"year\"\u001b[0m\u001b[1;33m:\u001b[0m \u001b[0myear\u001b[0m\u001b[1;33m,\u001b[0m \u001b[1;34m\"month\"\u001b[0m\u001b[1;33m:\u001b[0m \u001b[0mmonth\u001b[0m\u001b[1;33m,\u001b[0m \u001b[1;34m\"day\"\u001b[0m\u001b[1;33m:\u001b[0m \u001b[0mday\u001b[0m\u001b[1;33m}\u001b[0m\u001b[1;33m\u001b[0m\u001b[1;33m\u001b[0m\u001b[0m\n",
      "\u001b[1;32m~\\anaconda3\\lib\\calendar.py\u001b[0m in \u001b[0;36mmonthrange\u001b[1;34m(year, month)\u001b[0m\n\u001b[0;32m    122\u001b[0m        year, month.\"\"\"\n\u001b[0;32m    123\u001b[0m     \u001b[1;32mif\u001b[0m \u001b[1;32mnot\u001b[0m \u001b[1;36m1\u001b[0m \u001b[1;33m<=\u001b[0m \u001b[0mmonth\u001b[0m \u001b[1;33m<=\u001b[0m \u001b[1;36m12\u001b[0m\u001b[1;33m:\u001b[0m\u001b[1;33m\u001b[0m\u001b[1;33m\u001b[0m\u001b[0m\n\u001b[1;32m--> 124\u001b[1;33m         \u001b[1;32mraise\u001b[0m \u001b[0mIllegalMonthError\u001b[0m\u001b[1;33m(\u001b[0m\u001b[0mmonth\u001b[0m\u001b[1;33m)\u001b[0m\u001b[1;33m\u001b[0m\u001b[1;33m\u001b[0m\u001b[0m\n\u001b[0m\u001b[0;32m    125\u001b[0m     \u001b[0mday1\u001b[0m \u001b[1;33m=\u001b[0m \u001b[0mweekday\u001b[0m\u001b[1;33m(\u001b[0m\u001b[0myear\u001b[0m\u001b[1;33m,\u001b[0m \u001b[0mmonth\u001b[0m\u001b[1;33m,\u001b[0m \u001b[1;36m1\u001b[0m\u001b[1;33m)\u001b[0m\u001b[1;33m\u001b[0m\u001b[1;33m\u001b[0m\u001b[0m\n\u001b[0;32m    126\u001b[0m     \u001b[0mndays\u001b[0m \u001b[1;33m=\u001b[0m \u001b[0mmdays\u001b[0m\u001b[1;33m[\u001b[0m\u001b[0mmonth\u001b[0m\u001b[1;33m]\u001b[0m \u001b[1;33m+\u001b[0m \u001b[1;33m(\u001b[0m\u001b[0mmonth\u001b[0m \u001b[1;33m==\u001b[0m \u001b[0mFebruary\u001b[0m \u001b[1;32mand\u001b[0m \u001b[0misleap\u001b[0m\u001b[1;33m(\u001b[0m\u001b[0myear\u001b[0m\u001b[1;33m)\u001b[0m\u001b[1;33m)\u001b[0m\u001b[1;33m\u001b[0m\u001b[1;33m\u001b[0m\u001b[0m\n",
      "\u001b[1;31mIllegalMonthError\u001b[0m: bad month number nan; must be 1-12"
     ]
    }
   ],
   "source": [
    "#for date_val in test_dates:\n",
    "for date_val in [datetime.datetime(2015, 11, 1, 0, 0)]:\n",
    "    \n",
    "    date_val_str = date_val.strftime('%Y-%m-%d')\n",
    "    train_full = train_big_full[train_big_full.Date < date_val ].copy()\n",
    "    val_window = train_big_full[train_big_full.Date == date_val ].copy()\n",
    "    \n",
    "    ### splits\n",
    "    ### conventional for regular time series\n",
    "    dates_back = 3\n",
    "    ### Date cqpture ####################\n",
    "    date_max = date_val - relativedelta(months=1)\n",
    "    months_to_get = [4,5,6,10,11]\n",
    "    minyear = 2014\n",
    "    min_date = date_max - relativedelta(months=dates_back)\n",
    "\n",
    "    year_i = date_max.year\n",
    "\n",
    "    dates_result = list()\n",
    "\n",
    "    while year_i >= minyear:\n",
    "        for monthi in months_to_get:\n",
    "            dates_result.append(datetime.datetime(year_i, monthi, 1))\n",
    "            dates_result = [x for x in dates_result if x <= date_max]\n",
    "        year_i = year_i - 1\n",
    "\n",
    "    dates_result = dates_result + [date_max - relativedelta(months=i) for i in range(0,dates_back +1)]\n",
    "    dates_result = list(set(dates_result))\n",
    "    dates_result.sort()\n",
    "    dates_result = dates_result[::-1]\n",
    "    list_dfs = list()\n",
    "       \n",
    "    for datex,i in zip(dates_result[0:limit], range(len(dates_result[0:limit]))):\n",
    "        datex_plus1 = datex + relativedelta(months=1)\n",
    "        datex_plus1_str = datex_plus1.strftime('%Y-%m-%d')\n",
    "        full_features_dictionary = get_maps_from(datex_str = datex_plus1_str, maps = maps)\n",
    "        \n",
    "        \n",
    "        data_train_selected = balance_items_test(data = train_full, date_to_take = datex_plus1, percentage_test = 0.30, smalls_percent = 0.5, gen_sample = sample_degree) ## for train\n",
    "        train_feature_tocomplete = feature_silver(data_train_selected, date_to_take = datex_plus1, Train = True) ## for both\n",
    "        train_feature = integration_new_features_map(data = train_feature_tocomplete, dict_feature = full_features_dictionary)  ## for both not prob\n",
    "        df = train_feature[train_feature.Date == datex]\n",
    "\n",
    "        list_dfs.append(df)\n",
    "        del df, train_feature, train_feature_tocomplete, data_train_selected\n",
    "       \n",
    "    train_selection = pd.concat(list_dfs).fillna(0).reset_index(drop = True)\n",
    "    \n",
    "    full_features_dictionary = get_maps_from(datex_str = date_val_str, maps = maps)\n",
    "    \n",
    "    full_valandtrain_selected = val_window\n",
    "    valandtrain_feature = feature_silver(full_valandtrain_selected, date_to_take = date_val, Train = False)\n",
    "    valandtrain_feature = integration_new_features_map(data = valandtrain_feature, dict_feature = full_features_dictionary, filter_ceros = True) \n",
    "    val_selection = features_rows_train_silver(data = valandtrain_feature, features = my_features, target = my_target, validation = date_val, additional_val_cols = ['shop_id', 'item_id'])   \n",
    "    \n",
    "    \n",
    "    ### Saving DataFrames\n",
    "    outdir = f'./generated_datasets/data_{date_val_str}/'\n",
    "    if not os.path.exists(outdir):\n",
    "        os.mkdir(outdir)\n",
    "       \n",
    "    train_name = os.path.join(outdir, 'train_selection.csv') \n",
    "    train_selection.to_csv(path_or_buf = train_name,header=True, index=False)\n",
    "    \n",
    "    val_name = os.path.join(outdir, 'val_selection.csv') \n",
    "    val_selection.to_csv(path_or_buf = val_name,header=True, index=False)\n",
    "    \n",
    "    del train_selection, full_valandtrain_selected, valandtrain_feature, val_selection\n",
    "    \n",
    "    print(f'the datasets for the date {date_val_str}')"
   ]
  },
  {
   "cell_type": "code",
   "execution_count": 33,
   "metadata": {},
   "outputs": [
    {
     "name": "stdout",
     "output_type": "stream",
     "text": [
      "the datasets for the date 2015-11-01\n"
     ]
    }
   ],
   "source": [
    "#in case jojo\n",
    "outdir = f'./generated_datasets/data_{date_val_str}/'\n",
    "if not os.path.exists(outdir):\n",
    "    os.mkdir(outdir)\n",
    "\n",
    "train_name = os.path.join(outdir, 'train_selection.csv') \n",
    "train_selection.to_csv(path_or_buf = train_name,header=True, index=False)\n",
    "print(f'the datasets for the date {date_val_str}')"
   ]
  },
  {
   "cell_type": "code",
   "execution_count": null,
   "metadata": {},
   "outputs": [],
   "source": []
  }
 ],
 "metadata": {
  "kernelspec": {
   "display_name": "Python 3",
   "language": "python",
   "name": "python3"
  },
  "language_info": {
   "codemirror_mode": {
    "name": "ipython",
    "version": 3
   },
   "file_extension": ".py",
   "mimetype": "text/x-python",
   "name": "python",
   "nbconvert_exporter": "python",
   "pygments_lexer": "ipython3",
   "version": "3.7.6"
  }
 },
 "nbformat": 4,
 "nbformat_minor": 4
}
