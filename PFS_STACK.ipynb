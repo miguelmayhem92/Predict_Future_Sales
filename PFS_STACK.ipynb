{
 "cells": [
  {
   "cell_type": "markdown",
   "metadata": {},
   "source": [
    "# Predict Future Sales"
   ]
  },
  {
   "cell_type": "markdown",
   "metadata": {},
   "source": [
    "Second part of feauture enginering and ML modeling - testing advanced models and advanced features"
   ]
  },
  {
   "cell_type": "markdown",
   "metadata": {},
   "source": [
    "kaggle link : https://www.kaggle.com/c/competitive-data-science-predict-future-sales/overview"
   ]
  },
  {
   "cell_type": "code",
   "execution_count": 1,
   "metadata": {},
   "outputs": [],
   "source": [
    "import pandas as pd\n",
    "import numpy as np\n",
    "import matplotlib.pyplot as plt\n",
    "import datetime\n",
    "import seaborn as sns; sns.set()\n",
    "from dateutil.relativedelta import relativedelta\n",
    "import os"
   ]
  },
  {
   "cell_type": "code",
   "execution_count": 2,
   "metadata": {},
   "outputs": [],
   "source": [
    "from my_functions import merge_basic, convert_silver, completion_semi_gold, scaler, inversed_scale, consolidation_prediction, plot_prediction\n",
    "from my_functions import preparing_to_predict, plot_metrics, test_dates\n",
    "from my_functions import my_kfold_crossval_and_Hptunning, My_ML_prediction_on_test, scaler, consolidated_metrics_MSE, consolidated_plot_metrics\n",
    "from my_functions import augmentation_reduction, get_splited_data"
   ]
  },
  {
   "cell_type": "code",
   "execution_count": 3,
   "metadata": {},
   "outputs": [],
   "source": [
    "from especial_functions import balance_items_test, get_full_lags, feature_silver, integration_new_features_map\n",
    "from especial_functions import features_rows_train_silver, exploiting_words, get_maps_from, balance_items_test"
   ]
  },
  {
   "cell_type": "code",
   "execution_count": 4,
   "metadata": {},
   "outputs": [],
   "source": [
    "from sklearn.preprocessing import MinMaxScaler\n",
    "\n",
    "from sklearn.tree import DecisionTreeRegressor\n",
    "from sklearn.ensemble import GradientBoostingRegressor,AdaBoostRegressor, RandomForestRegressor\n",
    "from sklearn.metrics import mean_squared_error"
   ]
  },
  {
   "cell_type": "markdown",
   "metadata": {},
   "source": [
    "## The Data"
   ]
  },
  {
   "cell_type": "code",
   "execution_count": 5,
   "metadata": {},
   "outputs": [
    {
     "name": "stdout",
     "output_type": "stream",
     "text": [
      "2014-11-01\n",
      "2015-04-01\n",
      "2015-05-01\n",
      "2015-06-01\n",
      "2015-07-01\n",
      "2015-08-01\n",
      "2015-09-01\n",
      "2015-10-01\n"
     ]
    }
   ],
   "source": [
    "dictionary_data = get_splited_data(dates_vector = test_dates)"
   ]
  },
  {
   "cell_type": "markdown",
   "metadata": {},
   "source": [
    "### Gradient Boosting"
   ]
  },
  {
   "cell_type": "code",
   "execution_count": 6,
   "metadata": {},
   "outputs": [],
   "source": [
    "test_dates = [datetime.datetime(2014, 11, 1), datetime.datetime(2015, 4, 1), datetime.datetime(2015, 5, 1), datetime.datetime(2015, 6, 1), datetime.datetime(2015, 7, 1), datetime.datetime(2015, 8, 1),\n",
    "datetime.datetime(2015, 9, 1), datetime.datetime(2015, 10, 1),]"
   ]
  },
  {
   "cell_type": "code",
   "execution_count": 7,
   "metadata": {},
   "outputs": [],
   "source": [
    "my_gbr_models = list()\n",
    "number_of_machines = 10\n",
    "machines_labels = [f'machine-{x}' for x in range(1,number_of_machines +1) ]\n",
    "\n",
    "parameters = { 'Machine':machines_labels,\n",
    "    'max_depth': [40,30, 20, 35, 35, 30, 25, 25, 30, 40],\n",
    "    'min_samples_split':[5, 4, 10, 7, 9, 15, 3, 3, 5, 5],\n",
    "    'min_samples_leaf':[10, 7, 12, 5, 4, 3, 3, 3, 15, 12],\n",
    "    'max_features':[25, 22, 25, 25, 28, 19, 23, 22, 25, 20],\n",
    "    'n_estimators' : [50, 45, 90, 100, 50, 35, 150, 120, 85, 60],\n",
    "    'learning_rate' : [0.05, 0.12, 0.02, 0.04, 0.004, 0.0003, 0.15, 0.08, 0.001, 0.005] }\n",
    "\n",
    "for i in range(number_of_machines):\n",
    "    max_depth_param = parameters['max_depth'][i]\n",
    "    min_samples_split_param = parameters['min_samples_split'][i]\n",
    "    min_samples_leaf_param = parameters['min_samples_leaf'][i]\n",
    "    max_features_param = parameters['max_features'][i]\n",
    "    \n",
    "    n_estimators_param = parameters['n_estimators'][i]\n",
    "    learning_rate_param = parameters['learning_rate'][i]\n",
    "    \n",
    "    my_adab = GradientBoostingRegressor( n_estimators = n_estimators_param, learning_rate = learning_rate_param, loss='squared_error',\n",
    "                                       max_depth = max_depth_param, min_samples_split = min_samples_split_param , max_features = max_features_param,\n",
    "                                       min_samples_leaf = min_samples_leaf_param)\n",
    "    my_gbr_models.append(my_adab)\n",
    "\n",
    "parameters_df = pd.DataFrame(parameters)  "
   ]
  },
  {
   "cell_type": "code",
   "execution_count": 8,
   "metadata": {},
   "outputs": [
    {
     "name": "stdout",
     "output_type": "stream",
     "text": [
      "machine-1 is done\n",
      "Wall time: 8min 4s\n"
     ]
    }
   ],
   "source": [
    "%%time\n",
    "my_test_results = my_kfold_crossval_and_Hptunning(data_dict = dictionary_data, models_toTrain =  [my_gbr_models[0]], frac = 0.25)"
   ]
  },
  {
   "cell_type": "code",
   "execution_count": 9,
   "metadata": {},
   "outputs": [],
   "source": [
    "metrics_toplot = consolidated_plot_metrics(my_test_results)"
   ]
  },
  {
   "cell_type": "code",
   "execution_count": 10,
   "metadata": {},
   "outputs": [
    {
     "data": {
      "image/png": "[encoded data removed]",
      "text/plain": [
       "<Figure size 936x432 with 1 Axes>"
      ]
     },
     "metadata": {},
     "output_type": "display_data"
    }
   ],
   "source": [
    "fig, axs = plt.subplots(nrows=1, ncols=1,figsize=(13,6), sharex=True)\n",
    "ax = sns.lineplot(ax = axs , data = metrics_toplot, x=\"Date\", y=\"RMSE\", marker = True, hue = 'machine', legend = False )\n",
    "ax = sns.scatterplot(ax = axs , data = metrics_toplot, x=\"Date\", y=\"RMSE\", s = 35, hue= 'machine' )"
   ]
  },
  {
   "cell_type": "code",
   "execution_count": 11,
   "metadata": {},
   "outputs": [
    {
     "data": {
      "text/html": [
       "<div>\n",
       "<style scoped>\n",
       "    .dataframe tbody tr th:only-of-type {\n",
       "        vertical-align: middle;\n",
       "    }\n",
       "\n",
       "    .dataframe tbody tr th {\n",
       "        vertical-align: top;\n",
       "    }\n",
       "\n",
       "    .dataframe thead th {\n",
       "        text-align: right;\n",
       "    }\n",
       "</style>\n",
       "<table border=\"1\" class=\"dataframe\">\n",
       "  <thead>\n",
       "    <tr style=\"text-align: right;\">\n",
       "      <th></th>\n",
       "      <th>machine</th>\n",
       "      <th>RMSE</th>\n",
       "    </tr>\n",
       "  </thead>\n",
       "  <tbody>\n",
       "    <tr>\n",
       "      <th>0</th>\n",
       "      <td>machine-1</td>\n",
       "      <td>0.780742</td>\n",
       "    </tr>\n",
       "  </tbody>\n",
       "</table>\n",
       "</div>"
      ],
      "text/plain": [
       "     machine      RMSE\n",
       "0  machine-1  0.780742"
      ]
     },
     "execution_count": 11,
     "metadata": {},
     "output_type": "execute_result"
    }
   ],
   "source": [
    "consolidated_metrics_MSE(my_test_results)"
   ]
  },
  {
   "cell_type": "markdown",
   "metadata": {},
   "source": [
    "### Kfold cross validation and hyper parameter tunning"
   ]
  },
  {
   "cell_type": "code",
   "execution_count": 12,
   "metadata": {},
   "outputs": [
    {
     "name": "stdout",
     "output_type": "stream",
     "text": [
      "machine-1 is done\n",
      "machine-2 is done\n",
      "machine-3 is done\n",
      "machine-4 is done\n",
      "machine-5 is done\n",
      "machine-6 is done\n",
      "machine-7 is done\n",
      "machine-8 is done\n",
      "machine-9 is done\n",
      "machine-10 is done\n"
     ]
    }
   ],
   "source": [
    "my_test_results = my_kfold_crossval_and_Hptunning(data_dict = dictionary_data, models_toTrain =  my_gbr_models, frac = 0.15)"
   ]
  },
  {
   "cell_type": "code",
   "execution_count": 13,
   "metadata": {},
   "outputs": [],
   "source": [
    "metrics_toplot = consolidated_plot_metrics(my_test_results)"
   ]
  },
  {
   "cell_type": "code",
   "execution_count": 14,
   "metadata": {},
   "outputs": [
    {
     "data": {
      "image/png": "[encoded data removed]",
      "text/plain": [
       "<Figure size 936x432 with 1 Axes>"
      ]
     },
     "metadata": {},
     "output_type": "display_data"
    }
   ],
   "source": [
    "fig, axs = plt.subplots(nrows=1, ncols=1,figsize=(13,6), sharex=True)\n",
    "ax = sns.lineplot(ax = axs , data = metrics_toplot, x=\"Date\", y=\"RMSE\", marker = True, hue = 'machine', legend = False )\n",
    "ax = sns.scatterplot(ax = axs , data = metrics_toplot, x=\"Date\", y=\"RMSE\", s = 35, hue= 'machine' )"
   ]
  },
  {
   "cell_type": "code",
   "execution_count": 15,
   "metadata": {},
   "outputs": [
    {
     "data": {
      "text/html": [
       "<div>\n",
       "<style scoped>\n",
       "    .dataframe tbody tr th:only-of-type {\n",
       "        vertical-align: middle;\n",
       "    }\n",
       "\n",
       "    .dataframe tbody tr th {\n",
       "        vertical-align: top;\n",
       "    }\n",
       "\n",
       "    .dataframe thead th {\n",
       "        text-align: right;\n",
       "    }\n",
       "</style>\n",
       "<table border=\"1\" class=\"dataframe\">\n",
       "  <thead>\n",
       "    <tr style=\"text-align: right;\">\n",
       "      <th></th>\n",
       "      <th>machine</th>\n",
       "      <th>RMSE</th>\n",
       "    </tr>\n",
       "  </thead>\n",
       "  <tbody>\n",
       "    <tr>\n",
       "      <th>2</th>\n",
       "      <td>machine-3</td>\n",
       "      <td>0.775906</td>\n",
       "    </tr>\n",
       "    <tr>\n",
       "      <th>0</th>\n",
       "      <td>machine-1</td>\n",
       "      <td>0.781448</td>\n",
       "    </tr>\n",
       "    <tr>\n",
       "      <th>1</th>\n",
       "      <td>machine-2</td>\n",
       "      <td>0.804765</td>\n",
       "    </tr>\n",
       "    <tr>\n",
       "      <th>3</th>\n",
       "      <td>machine-4</td>\n",
       "      <td>0.806918</td>\n",
       "    </tr>\n",
       "    <tr>\n",
       "      <th>7</th>\n",
       "      <td>machine-8</td>\n",
       "      <td>0.808884</td>\n",
       "    </tr>\n",
       "    <tr>\n",
       "      <th>6</th>\n",
       "      <td>machine-7</td>\n",
       "      <td>0.829976</td>\n",
       "    </tr>\n",
       "    <tr>\n",
       "      <th>9</th>\n",
       "      <td>machine-10</td>\n",
       "      <td>0.954181</td>\n",
       "    </tr>\n",
       "    <tr>\n",
       "      <th>4</th>\n",
       "      <td>machine-5</td>\n",
       "      <td>0.991493</td>\n",
       "    </tr>\n",
       "    <tr>\n",
       "      <th>8</th>\n",
       "      <td>machine-9</td>\n",
       "      <td>1.051424</td>\n",
       "    </tr>\n",
       "    <tr>\n",
       "      <th>5</th>\n",
       "      <td>machine-6</td>\n",
       "      <td>1.095683</td>\n",
       "    </tr>\n",
       "  </tbody>\n",
       "</table>\n",
       "</div>"
      ],
      "text/plain": [
       "      machine      RMSE\n",
       "2   machine-3  0.775906\n",
       "0   machine-1  0.781448\n",
       "1   machine-2  0.804765\n",
       "3   machine-4  0.806918\n",
       "7   machine-8  0.808884\n",
       "6   machine-7  0.829976\n",
       "9  machine-10  0.954181\n",
       "4   machine-5  0.991493\n",
       "8   machine-9  1.051424\n",
       "5   machine-6  1.095683"
      ]
     },
     "execution_count": 15,
     "metadata": {},
     "output_type": "execute_result"
    }
   ],
   "source": [
    "consolidated_metrics_MSE(my_test_results)"
   ]
  },
  {
   "cell_type": "markdown",
   "metadata": {},
   "source": [
    "the winner machine is 3(2)"
   ]
  },
  {
   "cell_type": "markdown",
   "metadata": {},
   "source": [
    "### Winner Prediction"
   ]
  },
  {
   "cell_type": "code",
   "execution_count": 17,
   "metadata": {},
   "outputs": [
    {
     "name": "stdout",
     "output_type": "stream",
     "text": [
      "machine-1 is done\n"
     ]
    }
   ],
   "source": [
    "my_test_results = my_kfold_crossval_and_Hptunning(data_dict = dictionary_data, models_toTrain =  [my_gbr_models[2]], frac = 0.50)"
   ]
  },
  {
   "cell_type": "code",
   "execution_count": 18,
   "metadata": {},
   "outputs": [],
   "source": [
    "metrics_toplot = consolidated_plot_metrics(my_test_results)"
   ]
  },
  {
   "cell_type": "code",
   "execution_count": 19,
   "metadata": {},
   "outputs": [
    {
     "data": {
      "text/plain": [
       "0.7634630008283754"
      ]
     },
     "execution_count": 19,
     "metadata": {},
     "output_type": "execute_result"
    }
   ],
   "source": [
    "np.mean(metrics_toplot.RMSE)  ## 0.7634630008283754 best"
   ]
  },
  {
   "cell_type": "code",
   "execution_count": 20,
   "metadata": {},
   "outputs": [
    {
     "data": {
      "image/png": "[encoded data removed]",
      "text/plain": [
       "<Figure size 936x432 with 1 Axes>"
      ]
     },
     "metadata": {},
     "output_type": "display_data"
    }
   ],
   "source": [
    "fig, axs = plt.subplots(nrows=1, ncols=1,figsize=(13,6), sharex=True)\n",
    "ax = sns.lineplot(ax = axs , data = metrics_toplot, x=\"Date\", y=\"RMSE\", marker = True, hue = 'machine', legend = False )\n",
    "ax = sns.scatterplot(ax = axs , data = metrics_toplot, x=\"Date\", y=\"RMSE\", s = 35, hue= 'machine' )"
   ]
  },
  {
   "cell_type": "markdown",
   "metadata": {},
   "source": [
    "### Saving Results for Stacking"
   ]
  },
  {
   "cell_type": "code",
   "execution_count": 21,
   "metadata": {},
   "outputs": [],
   "source": [
    "my_test_results['machine result'][0].to_csv('preds_stacking/preds_gradboost.csv',header = True, index = False)"
   ]
  },
  {
   "cell_type": "markdown",
   "metadata": {},
   "source": [
    "----"
   ]
  },
  {
   "cell_type": "markdown",
   "metadata": {},
   "source": [
    "### Random Forest"
   ]
  },
  {
   "cell_type": "code",
   "execution_count": 22,
   "metadata": {},
   "outputs": [],
   "source": [
    "my_rf_models = list()\n",
    "number_of_machines = 10\n",
    "machines_labels = [f'machine-{x}' for x in range(1,number_of_machines +1) ]\n",
    "\n",
    "parameters = { 'Machine':machines_labels,\n",
    "    'max_depth': [40,30, 20, 35, 35, 30, 25, 25, 30, 40],\n",
    "    'min_samples_split':[5, 4, 10, 7, 9, 15, 3, 3, 5, 5],\n",
    "    'min_samples_leaf':[10, 7, 12, 5, 4, 3, 3, 3, 15, 12],\n",
    "    'max_features':[25, 22, 25, 25, 10, 19, 23, 22, 25, 20],\n",
    "    'n_estimators' : [300, 250, 150, 150, 250, 335, 250, 120, 285, 360]}\n",
    "\n",
    "for i in range(number_of_machines):\n",
    "    max_depth_param = parameters['max_depth'][i]\n",
    "    min_samples_split_param = parameters['min_samples_split'][i]\n",
    "    min_samples_leaf_param = parameters['min_samples_leaf'][i]\n",
    "    max_features_param = parameters['max_features'][i]\n",
    "    n_estimators_param = parameters['n_estimators'][i]\n",
    "    \n",
    "    my_rf = GradientBoostingRegressor( n_estimators = n_estimators_param, max_depth = max_depth_param, min_samples_split = min_samples_split_param ,\n",
    "                                      max_features = max_features_param, min_samples_leaf = min_samples_leaf_param)\n",
    "    my_rf_models.append(my_rf)\n",
    "\n",
    "parameters_df = pd.DataFrame(parameters)  "
   ]
  },
  {
   "cell_type": "code",
   "execution_count": 23,
   "metadata": {},
   "outputs": [
    {
     "name": "stdout",
     "output_type": "stream",
     "text": [
      "machine-1 is done\n",
      "Wall time: 16min 8s\n"
     ]
    }
   ],
   "source": [
    "%%time\n",
    "my_test_results = my_kfold_crossval_and_Hptunning(data_dict = dictionary_data, models_toTrain =  [my_rf_models[0]], frac = 0.05)"
   ]
  },
  {
   "cell_type": "code",
   "execution_count": 24,
   "metadata": {},
   "outputs": [],
   "source": [
    "metrics_toplot = consolidated_plot_metrics(my_test_results)"
   ]
  },
  {
   "cell_type": "code",
   "execution_count": 25,
   "metadata": {},
   "outputs": [
    {
     "data": {
      "image/png": "[encoded data removed]",
      "text/plain": [
       "<Figure size 936x432 with 1 Axes>"
      ]
     },
     "metadata": {},
     "output_type": "display_data"
    }
   ],
   "source": [
    "fig, axs = plt.subplots(nrows=1, ncols=1,figsize=(13,6), sharex=True)\n",
    "ax = sns.lineplot(ax = axs , data = metrics_toplot, x=\"Date\", y=\"RMSE\", marker = True, hue = 'machine', legend = False )\n",
    "ax = sns.scatterplot(ax = axs , data = metrics_toplot, x=\"Date\", y=\"RMSE\", s = 35, hue= 'machine' )"
   ]
  },
  {
   "cell_type": "code",
   "execution_count": 26,
   "metadata": {},
   "outputs": [
    {
     "data": {
      "text/html": [
       "<div>\n",
       "<style scoped>\n",
       "    .dataframe tbody tr th:only-of-type {\n",
       "        vertical-align: middle;\n",
       "    }\n",
       "\n",
       "    .dataframe tbody tr th {\n",
       "        vertical-align: top;\n",
       "    }\n",
       "\n",
       "    .dataframe thead th {\n",
       "        text-align: right;\n",
       "    }\n",
       "</style>\n",
       "<table border=\"1\" class=\"dataframe\">\n",
       "  <thead>\n",
       "    <tr style=\"text-align: right;\">\n",
       "      <th></th>\n",
       "      <th>machine</th>\n",
       "      <th>RMSE</th>\n",
       "    </tr>\n",
       "  </thead>\n",
       "  <tbody>\n",
       "    <tr>\n",
       "      <th>0</th>\n",
       "      <td>machine-1</td>\n",
       "      <td>0.810099</td>\n",
       "    </tr>\n",
       "  </tbody>\n",
       "</table>\n",
       "</div>"
      ],
      "text/plain": [
       "     machine      RMSE\n",
       "0  machine-1  0.810099"
      ]
     },
     "execution_count": 26,
     "metadata": {},
     "output_type": "execute_result"
    }
   ],
   "source": [
    "consolidated_metrics_MSE(my_test_results)"
   ]
  },
  {
   "cell_type": "markdown",
   "metadata": {},
   "source": [
    "### Kfold cross validation and hyper parameter tunning"
   ]
  },
  {
   "cell_type": "code",
   "execution_count": 27,
   "metadata": {},
   "outputs": [
    {
     "name": "stdout",
     "output_type": "stream",
     "text": [
      "machine-1 is done\n",
      "machine-2 is done\n",
      "machine-3 is done\n",
      "machine-4 is done\n",
      "machine-5 is done\n",
      "machine-6 is done\n",
      "machine-7 is done\n",
      "machine-8 is done\n",
      "machine-9 is done\n",
      "machine-10 is done\n"
     ]
    }
   ],
   "source": [
    "my_test_results = my_kfold_crossval_and_Hptunning(data_dict = dictionary_data, models_toTrain =  my_rf_models, frac = 0.005)"
   ]
  },
  {
   "cell_type": "code",
   "execution_count": 28,
   "metadata": {},
   "outputs": [],
   "source": [
    "metrics_toplot = consolidated_plot_metrics(my_test_results)"
   ]
  },
  {
   "cell_type": "code",
   "execution_count": 29,
   "metadata": {},
   "outputs": [
    {
     "data": {
      "image/png": "[encoded data removed]",
      "text/plain": [
       "<Figure size 936x432 with 1 Axes>"
      ]
     },
     "metadata": {},
     "output_type": "display_data"
    }
   ],
   "source": [
    "fig, axs = plt.subplots(nrows=1, ncols=1,figsize=(13,6), sharex=True)\n",
    "ax = sns.lineplot(ax = axs , data = metrics_toplot, x=\"Date\", y=\"RMSE\", marker = True, hue = 'machine', legend = False )\n",
    "ax = sns.scatterplot(ax = axs , data = metrics_toplot, x=\"Date\", y=\"RMSE\", s = 35, hue= 'machine' )"
   ]
  },
  {
   "cell_type": "code",
   "execution_count": 30,
   "metadata": {},
   "outputs": [
    {
     "data": {
      "text/html": [
       "<div>\n",
       "<style scoped>\n",
       "    .dataframe tbody tr th:only-of-type {\n",
       "        vertical-align: middle;\n",
       "    }\n",
       "\n",
       "    .dataframe tbody tr th {\n",
       "        vertical-align: top;\n",
       "    }\n",
       "\n",
       "    .dataframe thead th {\n",
       "        text-align: right;\n",
       "    }\n",
       "</style>\n",
       "<table border=\"1\" class=\"dataframe\">\n",
       "  <thead>\n",
       "    <tr style=\"text-align: right;\">\n",
       "      <th></th>\n",
       "      <th>machine</th>\n",
       "      <th>RMSE</th>\n",
       "    </tr>\n",
       "  </thead>\n",
       "  <tbody>\n",
       "    <tr>\n",
       "      <th>4</th>\n",
       "      <td>machine-5</td>\n",
       "      <td>0.836028</td>\n",
       "    </tr>\n",
       "    <tr>\n",
       "      <th>2</th>\n",
       "      <td>machine-3</td>\n",
       "      <td>0.842268</td>\n",
       "    </tr>\n",
       "    <tr>\n",
       "      <th>5</th>\n",
       "      <td>machine-6</td>\n",
       "      <td>0.846253</td>\n",
       "    </tr>\n",
       "    <tr>\n",
       "      <th>1</th>\n",
       "      <td>machine-2</td>\n",
       "      <td>0.848914</td>\n",
       "    </tr>\n",
       "    <tr>\n",
       "      <th>7</th>\n",
       "      <td>machine-8</td>\n",
       "      <td>0.849712</td>\n",
       "    </tr>\n",
       "    <tr>\n",
       "      <th>6</th>\n",
       "      <td>machine-7</td>\n",
       "      <td>0.852737</td>\n",
       "    </tr>\n",
       "    <tr>\n",
       "      <th>8</th>\n",
       "      <td>machine-9</td>\n",
       "      <td>0.853876</td>\n",
       "    </tr>\n",
       "    <tr>\n",
       "      <th>3</th>\n",
       "      <td>machine-4</td>\n",
       "      <td>0.859516</td>\n",
       "    </tr>\n",
       "    <tr>\n",
       "      <th>9</th>\n",
       "      <td>machine-10</td>\n",
       "      <td>0.862783</td>\n",
       "    </tr>\n",
       "    <tr>\n",
       "      <th>0</th>\n",
       "      <td>machine-1</td>\n",
       "      <td>0.865039</td>\n",
       "    </tr>\n",
       "  </tbody>\n",
       "</table>\n",
       "</div>"
      ],
      "text/plain": [
       "      machine      RMSE\n",
       "4   machine-5  0.836028\n",
       "2   machine-3  0.842268\n",
       "5   machine-6  0.846253\n",
       "1   machine-2  0.848914\n",
       "7   machine-8  0.849712\n",
       "6   machine-7  0.852737\n",
       "8   machine-9  0.853876\n",
       "3   machine-4  0.859516\n",
       "9  machine-10  0.862783\n",
       "0   machine-1  0.865039"
      ]
     },
     "execution_count": 30,
     "metadata": {},
     "output_type": "execute_result"
    }
   ],
   "source": [
    "consolidated_metrics_MSE(my_test_results)"
   ]
  },
  {
   "cell_type": "markdown",
   "metadata": {},
   "source": [
    "Random Forest is not an option"
   ]
  },
  {
   "cell_type": "markdown",
   "metadata": {},
   "source": [
    "---"
   ]
  },
  {
   "cell_type": "markdown",
   "metadata": {},
   "source": [
    "### Stacking"
   ]
  },
  {
   "cell_type": "code",
   "execution_count": 31,
   "metadata": {},
   "outputs": [],
   "source": [
    "preds_gradBoost = pd.read_csv('preds_stacking/preds_gradboost.csv').rename(columns = {'PredSale':'PredSale_gradBoost'})\n",
    "preds_adaBoost = pd.read_csv('preds_stacking/preds_adaboost.csv').rename(columns = {'PredSale':'PredSale_adaBoost'})"
   ]
  },
  {
   "cell_type": "code",
   "execution_count": 32,
   "metadata": {},
   "outputs": [],
   "source": [
    "columns_1 = ['Date','shop_id','item_id','PredSale_gradBoost','Sale']\n",
    "columns_2 = ['PredSale_adaBoost']"
   ]
  },
  {
   "cell_type": "code",
   "execution_count": 33,
   "metadata": {},
   "outputs": [],
   "source": [
    "merge_preds = preds_gradBoost[columns_1].merge(preds_adaBoost[columns_2], left_index=True, right_index=True, how = 'left')\n",
    "merge_preds['Date'] = pd.to_datetime(merge_preds.Date)\n",
    "merge_preds['month'] = merge_preds.Date.dt.month"
   ]
  },
  {
   "cell_type": "markdown",
   "metadata": {},
   "source": [
    "##### Train stacking data"
   ]
  },
  {
   "cell_type": "code",
   "execution_count": 34,
   "metadata": {},
   "outputs": [],
   "source": [
    "my_features_stack = ['PredSale_gradBoost','PredSale_adaBoost','item_id', 'shop_id']\n",
    "my_target = 'Sale'"
   ]
  },
  {
   "cell_type": "code",
   "execution_count": 35,
   "metadata": {},
   "outputs": [
    {
     "data": {
      "text/html": [
       "<div>\n",
       "<style scoped>\n",
       "    .dataframe tbody tr th:only-of-type {\n",
       "        vertical-align: middle;\n",
       "    }\n",
       "\n",
       "    .dataframe tbody tr th {\n",
       "        vertical-align: top;\n",
       "    }\n",
       "\n",
       "    .dataframe thead th {\n",
       "        text-align: right;\n",
       "    }\n",
       "</style>\n",
       "<table border=\"1\" class=\"dataframe\">\n",
       "  <thead>\n",
       "    <tr style=\"text-align: right;\">\n",
       "      <th></th>\n",
       "      <th>Date</th>\n",
       "      <th>shop_id</th>\n",
       "      <th>item_id</th>\n",
       "      <th>PredSale_gradBoost</th>\n",
       "      <th>Sale</th>\n",
       "      <th>PredSale_adaBoost</th>\n",
       "      <th>month</th>\n",
       "    </tr>\n",
       "  </thead>\n",
       "  <tbody>\n",
       "    <tr>\n",
       "      <th>0</th>\n",
       "      <td>2014-11-01</td>\n",
       "      <td>0</td>\n",
       "      <td>30</td>\n",
       "      <td>0.122366</td>\n",
       "      <td>0.0</td>\n",
       "      <td>0.000000</td>\n",
       "      <td>11</td>\n",
       "    </tr>\n",
       "    <tr>\n",
       "      <th>1</th>\n",
       "      <td>2014-11-01</td>\n",
       "      <td>0</td>\n",
       "      <td>31</td>\n",
       "      <td>0.173995</td>\n",
       "      <td>0.0</td>\n",
       "      <td>0.000000</td>\n",
       "      <td>11</td>\n",
       "    </tr>\n",
       "    <tr>\n",
       "      <th>2</th>\n",
       "      <td>2014-11-01</td>\n",
       "      <td>0</td>\n",
       "      <td>32</td>\n",
       "      <td>0.996559</td>\n",
       "      <td>0.0</td>\n",
       "      <td>0.000000</td>\n",
       "      <td>11</td>\n",
       "    </tr>\n",
       "    <tr>\n",
       "      <th>3</th>\n",
       "      <td>2014-11-01</td>\n",
       "      <td>0</td>\n",
       "      <td>33</td>\n",
       "      <td>0.283803</td>\n",
       "      <td>0.0</td>\n",
       "      <td>0.000000</td>\n",
       "      <td>11</td>\n",
       "    </tr>\n",
       "    <tr>\n",
       "      <th>4</th>\n",
       "      <td>2014-11-01</td>\n",
       "      <td>0</td>\n",
       "      <td>35</td>\n",
       "      <td>0.156382</td>\n",
       "      <td>0.0</td>\n",
       "      <td>0.142857</td>\n",
       "      <td>11</td>\n",
       "    </tr>\n",
       "  </tbody>\n",
       "</table>\n",
       "</div>"
      ],
      "text/plain": [
       "        Date  shop_id  item_id  PredSale_gradBoost  Sale  PredSale_adaBoost  \\\n",
       "0 2014-11-01        0       30            0.122366   0.0           0.000000   \n",
       "1 2014-11-01        0       31            0.173995   0.0           0.000000   \n",
       "2 2014-11-01        0       32            0.996559   0.0           0.000000   \n",
       "3 2014-11-01        0       33            0.283803   0.0           0.000000   \n",
       "4 2014-11-01        0       35            0.156382   0.0           0.142857   \n",
       "\n",
       "   month  \n",
       "0     11  \n",
       "1     11  \n",
       "2     11  \n",
       "3     11  \n",
       "4     11  "
      ]
     },
     "execution_count": 35,
     "metadata": {},
     "output_type": "execute_result"
    }
   ],
   "source": [
    "merge_preds.head()"
   ]
  },
  {
   "cell_type": "code",
   "execution_count": 36,
   "metadata": {},
   "outputs": [
    {
     "data": {
      "text/plain": [
       "(20.0, 20.0, 16.47112613974604)"
      ]
     },
     "execution_count": 36,
     "metadata": {},
     "output_type": "execute_result"
    }
   ],
   "source": [
    "merge_preds.PredSale_adaBoost.max(), merge_preds.Sale.max(), merge_preds.PredSale_gradBoost.max()"
   ]
  },
  {
   "cell_type": "code",
   "execution_count": 37,
   "metadata": {},
   "outputs": [
    {
     "data": {
      "text/plain": [
       "<matplotlib.axes._subplots.AxesSubplot at 0x26041997f88>"
      ]
     },
     "execution_count": 37,
     "metadata": {},
     "output_type": "execute_result"
    },
    {
     "data": {
      "image/png": "[encoded data removed]",
      "text/plain": [
       "<Figure size 432x288 with 1 Axes>"
      ]
     },
     "metadata": {},
     "output_type": "display_data"
    }
   ],
   "source": [
    "merge_preds.Sale.hist()"
   ]
  },
  {
   "cell_type": "code",
   "execution_count": 53,
   "metadata": {},
   "outputs": [],
   "source": [
    "def augmentation_reduction_stack(data):\n",
    "    data_wow = data.copy()\n",
    "    data_wow = data_wow.reset_index(drop = True)\n",
    "    zeros = np.array(data_wow[data_wow.Sale == 0].index)\n",
    "    nx = int(round(zeros.shape[0]*0.80, 0))\n",
    "    indexes = np.random.choice(zeros.shape[0], nx, replace=False)\n",
    "    zeros_selected = zeros[indexes]\n",
    "    data_wow = data_wow[ ~data_wow.index.isin(zeros_selected)]\n",
    "    \n",
    "    ones = np.array(data_wow[data_wow.Sale == 1].index)\n",
    "    nx = int(round(ones.shape[0]*0.8, 0))\n",
    "    indexes = np.random.choice(ones.shape[0], nx, replace=False)\n",
    "    ones_selected = ones[indexes]\n",
    "    data_wow = data_wow[ ~data_wow.index.isin(ones_selected)]\n",
    "    \n",
    "    twoes = np.array(data_wow[data_wow.Sale == 2].index)\n",
    "    nx = int(round(twoes.shape[0]*0.2, 0))\n",
    "    indexes = np.random.choice(twoes.shape[0], nx, replace=False)\n",
    "    twoes_selected = twoes[indexes]\n",
    "    data_wow = data_wow[ ~data_wow.index.isin(twoes_selected)]\n",
    "    \n",
    "    twenties = np.array(data_wow[data_wow.Sale == 20].index)\n",
    "    nx = int(round(twenties.shape[0]*0.5, 0))\n",
    "    indexes = np.random.choice(twenties.shape[0], nx, replace=False)\n",
    "    twenties_selected = twenties[indexes]\n",
    "    data_wow = data_wow[ ~data_wow.index.isin(twenties_selected)]\n",
    "    \n",
    "    #data_augmented_tens = data_wow[data_wow.Sale > 10].copy()\n",
    "    data_augmented = pd.concat([data_wow, \n",
    "                               ],axis= 0).reset_index()\n",
    "    \n",
    "    return data_augmented"
   ]
  },
  {
   "cell_type": "code",
   "execution_count": 54,
   "metadata": {},
   "outputs": [],
   "source": [
    "merge_preds_augmented = augmentation_reduction_stack(merge_preds)"
   ]
  },
  {
   "cell_type": "code",
   "execution_count": 55,
   "metadata": {},
   "outputs": [
    {
     "data": {
      "text/plain": [
       "<matplotlib.axes._subplots.AxesSubplot at 0x2606e36b688>"
      ]
     },
     "execution_count": 55,
     "metadata": {},
     "output_type": "execute_result"
    },
    {
     "data": {
      "image/png": "[encoded data removed]",
      "text/plain": [
       "<Figure size 432x288 with 1 Axes>"
      ]
     },
     "metadata": {},
     "output_type": "display_data"
    }
   ],
   "source": [
    "merge_preds_augmented.Sale.hist(bins = 25)"
   ]
  },
  {
   "cell_type": "code",
   "execution_count": 56,
   "metadata": {},
   "outputs": [
    {
     "data": {
      "text/plain": [
       "(739333, 8)"
      ]
     },
     "execution_count": 56,
     "metadata": {},
     "output_type": "execute_result"
    }
   ],
   "source": [
    "merge_preds_augmented.shape"
   ]
  },
  {
   "cell_type": "code",
   "execution_count": 57,
   "metadata": {},
   "outputs": [],
   "source": [
    "data_to_use = merge_preds[my_features_stack + [my_target] ].copy()\n",
    "\n",
    "val_index = list(data_to_use[data_to_use.Sale == 0].sample(frac = 0.05).index) + list(data_to_use[data_to_use.Sale != 0].sample(frac = 0.35).index)\n",
    "val_data = data_to_use[data_to_use.index.isin(val_index)]\n",
    "\n",
    "train_data = data_to_use[~data_to_use.index.isin(val_index)]\n",
    "train_index = list(train_data[train_data.Sale == 0].sample(frac = 0.01).index) + list(train_data[train_data.Sale != 0].sample(frac = 0.85).index)\n",
    "train_data = train_data[train_data.index.isin(train_index)]"
   ]
  },
  {
   "cell_type": "code",
   "execution_count": 58,
   "metadata": {},
   "outputs": [],
   "source": [
    "X_train = train_data[my_features_stack]\n",
    "Y_train = train_data[my_target]\n",
    "\n",
    "X_val = val_data[my_features_stack].copy()"
   ]
  },
  {
   "cell_type": "code",
   "execution_count": 59,
   "metadata": {},
   "outputs": [
    {
     "data": {
      "text/plain": [
       "GradientBoostingRegressor(learning_rate=0.0015, max_depth=15, n_estimators=40)"
      ]
     },
     "execution_count": 59,
     "metadata": {},
     "output_type": "execute_result"
    }
   ],
   "source": [
    "stacker = GradientBoostingRegressor( max_depth = 15,n_estimators = 40, learning_rate = 0.0015, loss='squared_error', )\n",
    "stacker.fit(X_train, Y_train)"
   ]
  },
  {
   "cell_type": "code",
   "execution_count": 60,
   "metadata": {},
   "outputs": [],
   "source": [
    "Y_pred = stacker.predict(X_val)"
   ]
  },
  {
   "cell_type": "code",
   "execution_count": 61,
   "metadata": {},
   "outputs": [],
   "source": [
    "val_data_v2 = val_data.copy()\n",
    "val_data_v2['PredSale'] = Y_pred"
   ]
  },
  {
   "cell_type": "code",
   "execution_count": 62,
   "metadata": {},
   "outputs": [
    {
     "data": {
      "image/png": "[encoded data removed]",
      "text/plain": [
       "<Figure size 720x576 with 1 Axes>"
      ]
     },
     "metadata": {},
     "output_type": "display_data"
    }
   ],
   "source": [
    "plot_prediction(val_data_v2)"
   ]
  },
  {
   "cell_type": "code",
   "execution_count": 63,
   "metadata": {},
   "outputs": [
    {
     "data": {
      "text/plain": [
       "1.9094099124638764"
      ]
     },
     "execution_count": 63,
     "metadata": {},
     "output_type": "execute_result"
    }
   ],
   "source": [
    "mean_squared_error(val_data_v2['Sale'], val_data_v2['PredSale'])**(1/2) # 0.5152457526534849"
   ]
  },
  {
   "cell_type": "markdown",
   "metadata": {},
   "source": [
    "----"
   ]
  },
  {
   "cell_type": "markdown",
   "metadata": {},
   "source": [
    "## Final Prediction"
   ]
  },
  {
   "cell_type": "markdown",
   "metadata": {},
   "source": [
    "### Data"
   ]
  },
  {
   "cell_type": "code",
   "execution_count": 43,
   "metadata": {},
   "outputs": [],
   "source": [
    "daily_train = pd.read_csv('sales_train.csv')\n",
    "items = pd.read_csv('items.csv')\n",
    "shops = pd.read_csv('shops.csv')\n",
    "categories = pd.read_csv('item_categories.csv')\n",
    "sample_submission = pd.read_csv('sample_submission.csv')\n",
    "test = pd.read_csv('test.csv')"
   ]
  },
  {
   "cell_type": "code",
   "execution_count": null,
   "metadata": {},
   "outputs": [],
   "source": []
  },
  {
   "cell_type": "markdown",
   "metadata": {},
   "source": [
    "### Data modeling"
   ]
  },
  {
   "cell_type": "code",
   "execution_count": 65,
   "metadata": {},
   "outputs": [],
   "source": [
    "date_val = datetime.datetime(2015, 11, 1)"
   ]
  },
  {
   "cell_type": "code",
   "execution_count": 66,
   "metadata": {},
   "outputs": [],
   "source": [
    "train_merge = merge_basic(daily_train, test,'left')"
   ]
  },
  {
   "cell_type": "code",
   "execution_count": 67,
   "metadata": {},
   "outputs": [
    {
     "data": {
      "text/html": [
       "<div>\n",
       "<style scoped>\n",
       "    .dataframe tbody tr th:only-of-type {\n",
       "        vertical-align: middle;\n",
       "    }\n",
       "\n",
       "    .dataframe tbody tr th {\n",
       "        vertical-align: top;\n",
       "    }\n",
       "\n",
       "    .dataframe thead th {\n",
       "        text-align: right;\n",
       "    }\n",
       "</style>\n",
       "<table border=\"1\" class=\"dataframe\">\n",
       "  <thead>\n",
       "    <tr style=\"text-align: right;\">\n",
       "      <th></th>\n",
       "      <th>date</th>\n",
       "      <th>date_block_num</th>\n",
       "      <th>shop_id</th>\n",
       "      <th>item_id</th>\n",
       "      <th>item_price</th>\n",
       "      <th>item_cnt_day</th>\n",
       "      <th>item_name</th>\n",
       "      <th>item_category_id</th>\n",
       "      <th>item_category_name</th>\n",
       "      <th>comp1_x</th>\n",
       "      <th>comp2_x</th>\n",
       "      <th>map_comp1categ</th>\n",
       "      <th>map_comp2categ</th>\n",
       "      <th>shop_name</th>\n",
       "      <th>comp1_y</th>\n",
       "      <th>comp2_y</th>\n",
       "      <th>map_comp1shop</th>\n",
       "      <th>map_comp2shop</th>\n",
       "      <th>ID</th>\n",
       "      <th>SaleDate</th>\n",
       "    </tr>\n",
       "  </thead>\n",
       "  <tbody>\n",
       "    <tr>\n",
       "      <th>0</th>\n",
       "      <td>02.01.2013</td>\n",
       "      <td>0</td>\n",
       "      <td>59</td>\n",
       "      <td>22154</td>\n",
       "      <td>999.00</td>\n",
       "      <td>1.0</td>\n",
       "      <td>ЯВЛЕНИЕ 2012 (BD)</td>\n",
       "      <td>37</td>\n",
       "      <td>Кино - Blu-Ray</td>\n",
       "      <td>Кино</td>\n",
       "      <td>Blu-Ray</td>\n",
       "      <td>11</td>\n",
       "      <td>19</td>\n",
       "      <td>Ярославль ТЦ \"Альтаир\"</td>\n",
       "      <td>Ярославль</td>\n",
       "      <td>Альтаир</td>\n",
       "      <td>31</td>\n",
       "      <td>45</td>\n",
       "      <td>150983.0</td>\n",
       "      <td>2013-01-02</td>\n",
       "    </tr>\n",
       "    <tr>\n",
       "      <th>1</th>\n",
       "      <td>03.01.2013</td>\n",
       "      <td>0</td>\n",
       "      <td>25</td>\n",
       "      <td>2552</td>\n",
       "      <td>899.00</td>\n",
       "      <td>1.0</td>\n",
       "      <td>DEEP PURPLE  The House Of Blue Light  LP</td>\n",
       "      <td>58</td>\n",
       "      <td>Музыка - Винил</td>\n",
       "      <td>Музыка</td>\n",
       "      <td>Винил</td>\n",
       "      <td>13</td>\n",
       "      <td>39</td>\n",
       "      <td>Москва ТРК \"Атриум\"</td>\n",
       "      <td>Москва</td>\n",
       "      <td>Атриум</td>\n",
       "      <td>14</td>\n",
       "      <td>18</td>\n",
       "      <td>NaN</td>\n",
       "      <td>2013-01-03</td>\n",
       "    </tr>\n",
       "    <tr>\n",
       "      <th>2</th>\n",
       "      <td>05.01.2013</td>\n",
       "      <td>0</td>\n",
       "      <td>25</td>\n",
       "      <td>2552</td>\n",
       "      <td>899.00</td>\n",
       "      <td>-1.0</td>\n",
       "      <td>DEEP PURPLE  The House Of Blue Light  LP</td>\n",
       "      <td>58</td>\n",
       "      <td>Музыка - Винил</td>\n",
       "      <td>Музыка</td>\n",
       "      <td>Винил</td>\n",
       "      <td>13</td>\n",
       "      <td>39</td>\n",
       "      <td>Москва ТРК \"Атриум\"</td>\n",
       "      <td>Москва</td>\n",
       "      <td>Атриум</td>\n",
       "      <td>14</td>\n",
       "      <td>18</td>\n",
       "      <td>NaN</td>\n",
       "      <td>2013-01-05</td>\n",
       "    </tr>\n",
       "    <tr>\n",
       "      <th>3</th>\n",
       "      <td>06.01.2013</td>\n",
       "      <td>0</td>\n",
       "      <td>25</td>\n",
       "      <td>2554</td>\n",
       "      <td>1709.05</td>\n",
       "      <td>1.0</td>\n",
       "      <td>DEEP PURPLE  Who Do You Think We Are  LP</td>\n",
       "      <td>58</td>\n",
       "      <td>Музыка - Винил</td>\n",
       "      <td>Музыка</td>\n",
       "      <td>Винил</td>\n",
       "      <td>13</td>\n",
       "      <td>39</td>\n",
       "      <td>Москва ТРК \"Атриум\"</td>\n",
       "      <td>Москва</td>\n",
       "      <td>Атриум</td>\n",
       "      <td>14</td>\n",
       "      <td>18</td>\n",
       "      <td>NaN</td>\n",
       "      <td>2013-01-06</td>\n",
       "    </tr>\n",
       "    <tr>\n",
       "      <th>4</th>\n",
       "      <td>15.01.2013</td>\n",
       "      <td>0</td>\n",
       "      <td>25</td>\n",
       "      <td>2555</td>\n",
       "      <td>1099.00</td>\n",
       "      <td>1.0</td>\n",
       "      <td>DEEP PURPLE 30 Very Best Of 2CD (Фирм.)</td>\n",
       "      <td>56</td>\n",
       "      <td>Музыка - CD фирменного производства</td>\n",
       "      <td>Музыка</td>\n",
       "      <td>CD фирменного производства</td>\n",
       "      <td>13</td>\n",
       "      <td>37</td>\n",
       "      <td>Москва ТРК \"Атриум\"</td>\n",
       "      <td>Москва</td>\n",
       "      <td>Атриум</td>\n",
       "      <td>14</td>\n",
       "      <td>18</td>\n",
       "      <td>NaN</td>\n",
       "      <td>2013-01-15</td>\n",
       "    </tr>\n",
       "  </tbody>\n",
       "</table>\n",
       "</div>"
      ],
      "text/plain": [
       "         date  date_block_num  shop_id  item_id  item_price  item_cnt_day  \\\n",
       "0  02.01.2013               0       59    22154      999.00           1.0   \n",
       "1  03.01.2013               0       25     2552      899.00           1.0   \n",
       "2  05.01.2013               0       25     2552      899.00          -1.0   \n",
       "3  06.01.2013               0       25     2554     1709.05           1.0   \n",
       "4  15.01.2013               0       25     2555     1099.00           1.0   \n",
       "\n",
       "                                  item_name  item_category_id  \\\n",
       "0                         ЯВЛЕНИЕ 2012 (BD)                37   \n",
       "1  DEEP PURPLE  The House Of Blue Light  LP                58   \n",
       "2  DEEP PURPLE  The House Of Blue Light  LP                58   \n",
       "3  DEEP PURPLE  Who Do You Think We Are  LP                58   \n",
       "4   DEEP PURPLE 30 Very Best Of 2CD (Фирм.)                56   \n",
       "\n",
       "                    item_category_name comp1_x                     comp2_x  \\\n",
       "0                       Кино - Blu-Ray    Кино                     Blu-Ray   \n",
       "1                       Музыка - Винил  Музыка                       Винил   \n",
       "2                       Музыка - Винил  Музыка                       Винил   \n",
       "3                       Музыка - Винил  Музыка                       Винил   \n",
       "4  Музыка - CD фирменного производства  Музыка  CD фирменного производства   \n",
       "\n",
       "   map_comp1categ  map_comp2categ               shop_name    comp1_y  comp2_y  \\\n",
       "0              11              19  Ярославль ТЦ \"Альтаир\"  Ярославль  Альтаир   \n",
       "1              13              39     Москва ТРК \"Атриум\"     Москва   Атриум   \n",
       "2              13              39     Москва ТРК \"Атриум\"     Москва   Атриум   \n",
       "3              13              39     Москва ТРК \"Атриум\"     Москва   Атриум   \n",
       "4              13              37     Москва ТРК \"Атриум\"     Москва   Атриум   \n",
       "\n",
       "   map_comp1shop  map_comp2shop        ID   SaleDate  \n",
       "0             31             45  150983.0 2013-01-02  \n",
       "1             14             18       NaN 2013-01-03  \n",
       "2             14             18       NaN 2013-01-05  \n",
       "3             14             18       NaN 2013-01-06  \n",
       "4             14             18       NaN 2013-01-15  "
      ]
     },
     "execution_count": 67,
     "metadata": {},
     "output_type": "execute_result"
    }
   ],
   "source": [
    "train_merge.head()"
   ]
  },
  {
   "cell_type": "code",
   "execution_count": 68,
   "metadata": {},
   "outputs": [],
   "source": [
    "wholedata_silver = convert_silver(train_merge)"
   ]
  },
  {
   "cell_type": "code",
   "execution_count": 69,
   "metadata": {},
   "outputs": [
    {
     "data": {
      "text/html": [
       "<div>\n",
       "<style scoped>\n",
       "    .dataframe tbody tr th:only-of-type {\n",
       "        vertical-align: middle;\n",
       "    }\n",
       "\n",
       "    .dataframe tbody tr th {\n",
       "        vertical-align: top;\n",
       "    }\n",
       "\n",
       "    .dataframe thead th {\n",
       "        text-align: right;\n",
       "    }\n",
       "</style>\n",
       "<table border=\"1\" class=\"dataframe\">\n",
       "  <thead>\n",
       "    <tr style=\"text-align: right;\">\n",
       "      <th></th>\n",
       "      <th>SaleDateMY</th>\n",
       "      <th>date_block_num</th>\n",
       "      <th>shop_id</th>\n",
       "      <th>item_id</th>\n",
       "      <th>item_name</th>\n",
       "      <th>item_category_id</th>\n",
       "      <th>shop_name</th>\n",
       "      <th>item_category_name</th>\n",
       "      <th>map_comp1categ</th>\n",
       "      <th>map_comp2categ</th>\n",
       "      <th>map_comp1shop</th>\n",
       "      <th>map_comp2shop</th>\n",
       "      <th>InTest</th>\n",
       "      <th>item_cnt_day</th>\n",
       "      <th>item_price</th>\n",
       "      <th>shopitem</th>\n",
       "    </tr>\n",
       "  </thead>\n",
       "  <tbody>\n",
       "    <tr>\n",
       "      <th>0</th>\n",
       "      <td>2013-01-01</td>\n",
       "      <td>0</td>\n",
       "      <td>0</td>\n",
       "      <td>32</td>\n",
       "      <td>1+1</td>\n",
       "      <td>40</td>\n",
       "      <td>!Якутск Орджоникидзе, 56 фран</td>\n",
       "      <td>Кино - DVD</td>\n",
       "      <td>11</td>\n",
       "      <td>22</td>\n",
       "      <td>0</td>\n",
       "      <td>0</td>\n",
       "      <td>0</td>\n",
       "      <td>6.0</td>\n",
       "      <td>221.0</td>\n",
       "      <td>0-32</td>\n",
       "    </tr>\n",
       "    <tr>\n",
       "      <th>1</th>\n",
       "      <td>2013-01-01</td>\n",
       "      <td>0</td>\n",
       "      <td>0</td>\n",
       "      <td>33</td>\n",
       "      <td>1+1 (BD)</td>\n",
       "      <td>37</td>\n",
       "      <td>!Якутск Орджоникидзе, 56 фран</td>\n",
       "      <td>Кино - Blu-Ray</td>\n",
       "      <td>11</td>\n",
       "      <td>19</td>\n",
       "      <td>0</td>\n",
       "      <td>0</td>\n",
       "      <td>0</td>\n",
       "      <td>3.0</td>\n",
       "      <td>347.0</td>\n",
       "      <td>0-33</td>\n",
       "    </tr>\n",
       "    <tr>\n",
       "      <th>2</th>\n",
       "      <td>2013-01-01</td>\n",
       "      <td>0</td>\n",
       "      <td>0</td>\n",
       "      <td>35</td>\n",
       "      <td>10 ЛЕТ СПУСТЯ</td>\n",
       "      <td>40</td>\n",
       "      <td>!Якутск Орджоникидзе, 56 фран</td>\n",
       "      <td>Кино - DVD</td>\n",
       "      <td>11</td>\n",
       "      <td>22</td>\n",
       "      <td>0</td>\n",
       "      <td>0</td>\n",
       "      <td>0</td>\n",
       "      <td>1.0</td>\n",
       "      <td>247.0</td>\n",
       "      <td>0-35</td>\n",
       "    </tr>\n",
       "    <tr>\n",
       "      <th>3</th>\n",
       "      <td>2013-01-01</td>\n",
       "      <td>0</td>\n",
       "      <td>0</td>\n",
       "      <td>43</td>\n",
       "      <td>100 МИЛЛИОНОВ ЕВРО</td>\n",
       "      <td>40</td>\n",
       "      <td>!Якутск Орджоникидзе, 56 фран</td>\n",
       "      <td>Кино - DVD</td>\n",
       "      <td>11</td>\n",
       "      <td>22</td>\n",
       "      <td>0</td>\n",
       "      <td>0</td>\n",
       "      <td>0</td>\n",
       "      <td>1.0</td>\n",
       "      <td>221.0</td>\n",
       "      <td>0-43</td>\n",
       "    </tr>\n",
       "    <tr>\n",
       "      <th>4</th>\n",
       "      <td>2013-01-01</td>\n",
       "      <td>0</td>\n",
       "      <td>0</td>\n",
       "      <td>51</td>\n",
       "      <td>100 лучших произведений классики (mp3-CD) (Dig...</td>\n",
       "      <td>57</td>\n",
       "      <td>!Якутск Орджоникидзе, 56 фран</td>\n",
       "      <td>Музыка - MP3</td>\n",
       "      <td>13</td>\n",
       "      <td>38</td>\n",
       "      <td>0</td>\n",
       "      <td>0</td>\n",
       "      <td>0</td>\n",
       "      <td>2.0</td>\n",
       "      <td>130.0</td>\n",
       "      <td>0-51</td>\n",
       "    </tr>\n",
       "  </tbody>\n",
       "</table>\n",
       "</div>"
      ],
      "text/plain": [
       "  SaleDateMY  date_block_num  shop_id  item_id  \\\n",
       "0 2013-01-01               0        0       32   \n",
       "1 2013-01-01               0        0       33   \n",
       "2 2013-01-01               0        0       35   \n",
       "3 2013-01-01               0        0       43   \n",
       "4 2013-01-01               0        0       51   \n",
       "\n",
       "                                           item_name  item_category_id  \\\n",
       "0                                                1+1                40   \n",
       "1                                           1+1 (BD)                37   \n",
       "2                                      10 ЛЕТ СПУСТЯ                40   \n",
       "3                                 100 МИЛЛИОНОВ ЕВРО                40   \n",
       "4  100 лучших произведений классики (mp3-CD) (Dig...                57   \n",
       "\n",
       "                       shop_name item_category_name  map_comp1categ  \\\n",
       "0  !Якутск Орджоникидзе, 56 фран         Кино - DVD              11   \n",
       "1  !Якутск Орджоникидзе, 56 фран     Кино - Blu-Ray              11   \n",
       "2  !Якутск Орджоникидзе, 56 фран         Кино - DVD              11   \n",
       "3  !Якутск Орджоникидзе, 56 фран         Кино - DVD              11   \n",
       "4  !Якутск Орджоникидзе, 56 фран       Музыка - MP3              13   \n",
       "\n",
       "   map_comp2categ  map_comp1shop  map_comp2shop  InTest  item_cnt_day  \\\n",
       "0              22              0              0       0           6.0   \n",
       "1              19              0              0       0           3.0   \n",
       "2              22              0              0       0           1.0   \n",
       "3              22              0              0       0           1.0   \n",
       "4              38              0              0       0           2.0   \n",
       "\n",
       "   item_price shopitem  \n",
       "0       221.0     0-32  \n",
       "1       347.0     0-33  \n",
       "2       247.0     0-35  \n",
       "3       221.0     0-43  \n",
       "4       130.0     0-51  "
      ]
     },
     "execution_count": 69,
     "metadata": {},
     "output_type": "execute_result"
    }
   ],
   "source": [
    "wholedata_silver.head()"
   ]
  },
  {
   "cell_type": "code",
   "execution_count": 70,
   "metadata": {},
   "outputs": [],
   "source": [
    "### test preparation\n",
    "test_data = test.copy()\n",
    "test_data['date'] = pd.to_datetime(datetime.datetime(2015, 11, 1))\n",
    "test_data['date_block_num'] = 34\n",
    "test_data['item_price'] =  np.nan\n",
    "\n",
    "test_data = test_data.merge(items, on = 'item_id',how = 'left')\n",
    "test_data = test_data.merge(categories, on= 'item_category_id', how = 'left')\n",
    "test_data['item_cnt_day'] = np.nan\n",
    "test_data['shopitem'] = test_data['shop_id'].astype('str') + '-' + test_data['item_id'].astype('str')\n",
    "test_data = test_data[['date','date_block_num','shop_id','item_id','item_price','item_cnt_day']]"
   ]
  },
  {
   "cell_type": "code",
   "execution_count": 71,
   "metadata": {},
   "outputs": [
    {
     "data": {
      "text/html": [
       "<div>\n",
       "<style scoped>\n",
       "    .dataframe tbody tr th:only-of-type {\n",
       "        vertical-align: middle;\n",
       "    }\n",
       "\n",
       "    .dataframe tbody tr th {\n",
       "        vertical-align: top;\n",
       "    }\n",
       "\n",
       "    .dataframe thead th {\n",
       "        text-align: right;\n",
       "    }\n",
       "</style>\n",
       "<table border=\"1\" class=\"dataframe\">\n",
       "  <thead>\n",
       "    <tr style=\"text-align: right;\">\n",
       "      <th></th>\n",
       "      <th>date</th>\n",
       "      <th>date_block_num</th>\n",
       "      <th>shop_id</th>\n",
       "      <th>item_id</th>\n",
       "      <th>item_price</th>\n",
       "      <th>item_cnt_day</th>\n",
       "    </tr>\n",
       "  </thead>\n",
       "  <tbody>\n",
       "    <tr>\n",
       "      <th>0</th>\n",
       "      <td>2015-11-01</td>\n",
       "      <td>34</td>\n",
       "      <td>5</td>\n",
       "      <td>5037</td>\n",
       "      <td>NaN</td>\n",
       "      <td>NaN</td>\n",
       "    </tr>\n",
       "    <tr>\n",
       "      <th>1</th>\n",
       "      <td>2015-11-01</td>\n",
       "      <td>34</td>\n",
       "      <td>5</td>\n",
       "      <td>5320</td>\n",
       "      <td>NaN</td>\n",
       "      <td>NaN</td>\n",
       "    </tr>\n",
       "    <tr>\n",
       "      <th>2</th>\n",
       "      <td>2015-11-01</td>\n",
       "      <td>34</td>\n",
       "      <td>5</td>\n",
       "      <td>5233</td>\n",
       "      <td>NaN</td>\n",
       "      <td>NaN</td>\n",
       "    </tr>\n",
       "    <tr>\n",
       "      <th>3</th>\n",
       "      <td>2015-11-01</td>\n",
       "      <td>34</td>\n",
       "      <td>5</td>\n",
       "      <td>5232</td>\n",
       "      <td>NaN</td>\n",
       "      <td>NaN</td>\n",
       "    </tr>\n",
       "    <tr>\n",
       "      <th>4</th>\n",
       "      <td>2015-11-01</td>\n",
       "      <td>34</td>\n",
       "      <td>5</td>\n",
       "      <td>5268</td>\n",
       "      <td>NaN</td>\n",
       "      <td>NaN</td>\n",
       "    </tr>\n",
       "  </tbody>\n",
       "</table>\n",
       "</div>"
      ],
      "text/plain": [
       "        date  date_block_num  shop_id  item_id  item_price  item_cnt_day\n",
       "0 2015-11-01              34        5     5037         NaN           NaN\n",
       "1 2015-11-01              34        5     5320         NaN           NaN\n",
       "2 2015-11-01              34        5     5233         NaN           NaN\n",
       "3 2015-11-01              34        5     5232         NaN           NaN\n",
       "4 2015-11-01              34        5     5268         NaN           NaN"
      ]
     },
     "execution_count": 71,
     "metadata": {},
     "output_type": "execute_result"
    }
   ],
   "source": [
    "test_data.head()"
   ]
  },
  {
   "cell_type": "code",
   "execution_count": 72,
   "metadata": {},
   "outputs": [
    {
     "data": {
      "text/plain": [
       "(214200, 6)"
      ]
     },
     "execution_count": 72,
     "metadata": {},
     "output_type": "execute_result"
    }
   ],
   "source": [
    "test_data.shape "
   ]
  },
  {
   "cell_type": "code",
   "execution_count": 73,
   "metadata": {},
   "outputs": [],
   "source": [
    "date_val = datetime.datetime(2015, 11, 1)"
   ]
  },
  {
   "cell_type": "code",
   "execution_count": 75,
   "metadata": {},
   "outputs": [],
   "source": [
    "train_full = completion_semi_gold(wholedata_silver)"
   ]
  },
  {
   "cell_type": "code",
   "execution_count": 5,
   "metadata": {},
   "outputs": [],
   "source": [
    "maps = ['Starts','Focus_item_features','Focus_item_shop_features','item_name_explo','Focus_shop_features',\n",
    "       'item previous var', 'lasthmonth_item', 'lasthOrder_item','meanL1Price_item',]\n",
    "\n",
    "full_features_dictionary = get_maps_from(datex_str = '2015-11-01', maps = maps)"
   ]
  },
  {
   "cell_type": "code",
   "execution_count": 78,
   "metadata": {},
   "outputs": [
    {
     "data": {
      "text/plain": [
       "39"
      ]
     },
     "execution_count": 78,
     "metadata": {},
     "output_type": "execute_result"
    }
   ],
   "source": [
    "to_drop_columns = ['Date']\n",
    "ids_columns = ['item_category_id',\n",
    "       'ItemIdPart1','ItemIdPart2', 'CategIdItem3A', 'CategIdItem3B'] #'item_id'\n",
    "numericals = [ 'Quarter', 'OrderGot', 'countItemPossitives',\n",
    "       'countItemZero', 'L1maxLev1Item', 'L2maxLev1Item', 'L3maxLev1Item',\n",
    "       'L4maxLev1Item', 'L5maxLev1Item',\n",
    "       'countItemShopPossitives', 'countItemShopZero', 'L1maxLev1ItemShop',\n",
    "       'L2maxLev1ItemShop', 'L3maxLev1ItemShop', 'L4maxLev1ItemShop',\n",
    "       'L5maxLev1ItemShop', 'lenstr', 'NWords', 'Word0', 'Word_1',\n",
    "       'L1maxLev1Shop', 'meanLaggedVars', 'item_idLastMonth1',\n",
    "       'item_idLastMonth2', 'item_idLastMonth3', 'item_idLastMonth4',\n",
    "       'item_idLastMonth5', 'item_idLastOrder1', 'item_idLastOrder2',\n",
    "       'item_idLastOrder3', 'item_idLastOrder4', 'item_idLastOrder5',\n",
    "       'meanL1Price', 'SpaceOrder'] + ids_columns\n",
    "\n",
    "categoricals = ['SpaceOrderActivator', 'CategoryL1Item']\n",
    "my_features = to_drop_columns + numericals + categoricals\n",
    "my_target = 'Sale'\n",
    "len(my_features) - 3"
   ]
  },
  {
   "cell_type": "raw",
   "metadata": {
    "jupyter": {
     "source_hidden": true
    }
   },
   "source": [
    "def features_rows_train_silver(data, features, target ,validation = None, dates_back = 3, limit = 5,additional_val_cols = [], sample = 0.05):\n",
    "    data = data.copy()\n",
    "    if validation:\n",
    "        data_result = data[ data.Date == validation][additional_val_cols +features + [target]]\n",
    "        features_new = list(data_result.columns)\n",
    "        features_new.remove(target)\n",
    "        data_result = data_result[ features_new + [target]].fillna(0)\n",
    "        \n",
    "    else:\n",
    "        ### splits\n",
    "        ### conventional for regular time series\n",
    "        dates_back = 3\n",
    "        ### Date cqpture ####################\n",
    "        date_max = date_val - relativedelta(months=1)\n",
    "        months_to_get = [4,5,6,10,11]\n",
    "        minyear = 2014\n",
    "        min_date = date_max - relativedelta(months=dates_back)\n",
    "\n",
    "        year_i = date_max.year\n",
    "\n",
    "        dates_result = list()\n",
    "\n",
    "        while year_i >= minyear:\n",
    "            for monthi in months_to_get:\n",
    "                dates_result.append(datetime.datetime(year_i, monthi, 1))\n",
    "                dates_result = [x for x in dates_result if x <= date_max]\n",
    "            year_i = year_i - 1\n",
    "\n",
    "        dates_result = dates_result + [date_max - relativedelta(months=i) for i in range(0,dates_back +1)]\n",
    "        dates_result = list(set(dates_result))\n",
    "        dates_result.sort()\n",
    "        dates_result = dates_result[::-1]\n",
    "\n",
    "        list_dfs = list()\n",
    "        for datex,i in zip(dates_result[0:limit], range(len(dates_result[0:limit]))):\n",
    "            datex_plus1 = datex + relativedelta(months=1)\n",
    "            features_dictionary = get_full_lags(whole = data, date_to_take = datex_plus1) ## for train but result easy in val\n",
    "            item_explo_names = exploiting_words(train_full)\n",
    "            full_features_dictionary = {**features_dictionary,\n",
    "                                        **item_explo_names\n",
    "                                       }\n",
    "            \n",
    "            data_train_selected = balance_items_test(data, date_to_take = datex_plus1, percentage_test = 0.30, smalls_percent = 0.5, gen_sample = sample) ## for train\n",
    "            train_feature_tocomplete = feature_silver(data_train_selected, date_to_take = datex_plus1, Train = True) ## for both\n",
    "            train_feature = integration_new_features_map(data = train_feature_tocomplete, dict_feature = full_features_dictionary)  ## for both not prob\n",
    "            df = train_feature[train_feature.Date == datex]\n",
    "            \n",
    "            list_dfs.append(df)\n",
    "            del df, train_feature, train_feature_tocomplete, data_train_selected, full_features_dictionary\n",
    "            del features_dictionary\n",
    "            #del feature_cluster\n",
    "        data_result = pd.concat(list_dfs).fillna(0).reset_index(drop = True)\n",
    "\n",
    "    return data_result"
   ]
  },
  {
   "cell_type": "code",
   "execution_count": 79,
   "metadata": {},
   "outputs": [],
   "source": [
    "train_selection = pd.read_csv(f'generated_datasets/data_2015-11-01/train_selection.csv')"
   ]
  },
  {
   "cell_type": "code",
   "execution_count": 80,
   "metadata": {},
   "outputs": [
    {
     "data": {
      "text/plain": [
       "<matplotlib.axes._subplots.AxesSubplot at 0x260412b84c8>"
      ]
     },
     "execution_count": 80,
     "metadata": {},
     "output_type": "execute_result"
    },
    {
     "data": {
      "image/png": "[encoded data removed]",
      "text/plain": [
       "<Figure size 432x288 with 1 Axes>"
      ]
     },
     "metadata": {},
     "output_type": "display_data"
    }
   ],
   "source": [
    "train_selection.Sale.hist(bins = 25)"
   ]
  },
  {
   "cell_type": "raw",
   "metadata": {
    "jupyter": {
     "source_hidden": true
    }
   },
   "source": [
    "def augmentation_reduction(data):\n",
    "    data_wow = data.copy()\n",
    "    zeros = np.array(data_wow[data_wow.Sale == 0].index)\n",
    "    nx = int(round(zeros.shape[0]*0.7, 0))\n",
    "    indexes = np.random.choice(zeros.shape[0], nx, replace=False)\n",
    "    zeros_selected = zeros[indexes]\n",
    "    data_wow = data_wow[ ~data_wow.index.isin(zeros_selected)]\n",
    "    \n",
    "    ones = np.array(data_wow[data_wow.Sale == 1].index)\n",
    "    nx = int(round(ones.shape[0]*0.1, 0))\n",
    "    indexes = np.random.choice(ones.shape[0], nx, replace=False)\n",
    "    ones_selected = ones[indexes]\n",
    "    data_wow = data_wow[ ~data_wow.index.isin(ones_selected)]\n",
    "    \n",
    "    twoes = np.array(data_wow[data_wow.Sale == 2].index)\n",
    "    nx = int(round(twoes.shape[0]*0.1, 0))\n",
    "    indexes = np.random.choice(twoes.shape[0], nx, replace=False)\n",
    "    twoes_selected = twoes[indexes]\n",
    "    data_wow = data_wow[ ~data_wow.index.isin(twoes_selected)]\n",
    "    \n",
    "    twenties = np.array(data_wow[data_wow.Sale == 20].index)\n",
    "    nx = int(round(twenties.shape[0]*0.8, 0))\n",
    "    indexes = np.random.choice(twenties.shape[0], nx, replace=False)\n",
    "    twenties_selected = twenties[indexes]\n",
    "    data_wow = data_wow[ ~data_wow.index.isin(twenties_selected)]\n",
    "    \n",
    "    #data_augmented_tens = data_wow[data_wow.Sale > 10].copy()\n",
    "    data_augmented = pd.concat([data_wow, \n",
    "                               ],axis= 0).reset_index()\n",
    "    \n",
    "    return data_augmented"
   ]
  },
  {
   "cell_type": "code",
   "execution_count": 81,
   "metadata": {},
   "outputs": [],
   "source": [
    "train_augmented = augmentation_reduction(train_selection)"
   ]
  },
  {
   "cell_type": "code",
   "execution_count": 82,
   "metadata": {},
   "outputs": [
    {
     "data": {
      "text/plain": [
       "array([ 0.,  1.,  4.,  6.,  5., 10., 13.,  3., 11.,  8., 20.,  2., 14.,\n",
       "       12., 18.,  9.,  7., 15., 16., 17., 19.])"
      ]
     },
     "execution_count": 82,
     "metadata": {},
     "output_type": "execute_result"
    }
   ],
   "source": [
    "train_augmented.Sale.unique()"
   ]
  },
  {
   "cell_type": "code",
   "execution_count": 83,
   "metadata": {},
   "outputs": [
    {
     "data": {
      "text/plain": [
       "<matplotlib.axes._subplots.AxesSubplot at 0x26089a2d748>"
      ]
     },
     "execution_count": 83,
     "metadata": {},
     "output_type": "execute_result"
    },
    {
     "data": {
      "image/png": "[encoded data removed]",
      "text/plain": [
       "<Figure size 432x288 with 1 Axes>"
      ]
     },
     "metadata": {},
     "output_type": "display_data"
    }
   ],
   "source": [
    "train_augmented.Sale.hist(bins = 25)"
   ]
  },
  {
   "cell_type": "code",
   "execution_count": 84,
   "metadata": {},
   "outputs": [],
   "source": [
    "my_columns_to_drops = ['SpaceOrderActivator_B', 'CategoryL1Item_B', 'Quarter',\n",
    "       'CategoryL1Item_C', 'CategoryL1Item_D', 'SpaceOrderActivator_A',\n",
    "       'countItemShopPossitives', 'item_idLastMonth5',\n",
    "       'item_idLastMonth4']"
   ]
  },
  {
   "cell_type": "code",
   "execution_count": 85,
   "metadata": {},
   "outputs": [],
   "source": [
    "train_scaled, my_scaler = scaler(train_augmented, numericals, my_target, scaler=None, drop_columns = my_columns_to_drops)\n",
    "#train_scaled = train_augmented[ numericals + [my_target] ]\n",
    "if len(categoricals) != 0:\n",
    "    train_dummies = pd.get_dummies(train_augmented[categoricals])\n",
    "    train_scaled = pd.concat([train_dummies,train_scaled],axis = 1)"
   ]
  },
  {
   "cell_type": "code",
   "execution_count": 86,
   "metadata": {},
   "outputs": [],
   "source": [
    "if len(categoricals) != 0:\n",
    "    final_features = list(train_dummies.columns) +  numericals\n",
    "else:\n",
    "    final_features = numericals\n",
    "final_features = [x for x in final_features if x not in my_columns_to_drops]"
   ]
  },
  {
   "cell_type": "code",
   "execution_count": 87,
   "metadata": {},
   "outputs": [
    {
     "data": {
      "text/plain": [
       "(266085, 42)"
      ]
     },
     "execution_count": 87,
     "metadata": {},
     "output_type": "execute_result"
    }
   ],
   "source": [
    "train_scaled.shape"
   ]
  },
  {
   "cell_type": "markdown",
   "metadata": {},
   "source": [
    "### ML Training"
   ]
  },
  {
   "cell_type": "code",
   "execution_count": 88,
   "metadata": {},
   "outputs": [],
   "source": [
    "train_scaled = train_scaled.sample(frac = 0.5)\n",
    "X_train = train_scaled[final_features]\n",
    "Y_train = train_scaled[my_target]"
   ]
  },
  {
   "cell_type": "code",
   "execution_count": 89,
   "metadata": {},
   "outputs": [
    {
     "name": "stdout",
     "output_type": "stream",
     "text": [
      "Wall time: 1min 5s\n"
     ]
    },
    {
     "data": {
      "text/plain": [
       "AdaBoostRegressor(base_estimator=DecisionTreeRegressor(max_depth=45,\n",
       "                                                       max_features=21,\n",
       "                                                       min_samples_leaf=5,\n",
       "                                                       min_samples_split=15),\n",
       "                  learning_rate=0.0003, n_estimators=35)"
      ]
     },
     "execution_count": 89,
     "metadata": {},
     "output_type": "execute_result"
    }
   ],
   "source": [
    "%%time\n",
    "my_base = DecisionTreeRegressor(criterion = 'squared_error', max_depth = 45, min_samples_split = 15, min_samples_leaf = 5 , max_features = 21)\n",
    "my_ABM = AdaBoostRegressor(base_estimator = my_base, n_estimators=35, learning_rate=0.0003, loss='linear')\n",
    "my_ABM.fit(X_train, Y_train)"
   ]
  },
  {
   "cell_type": "code",
   "execution_count": 90,
   "metadata": {},
   "outputs": [
    {
     "name": "stdout",
     "output_type": "stream",
     "text": [
      "Wall time: 2min 48s\n"
     ]
    },
    {
     "data": {
      "text/plain": [
       "GradientBoostingRegressor(learning_rate=0.02, max_depth=20, max_features=25,\n",
       "                          min_samples_leaf=12, min_samples_split=10,\n",
       "                          n_estimators=90)"
      ]
     },
     "execution_count": 90,
     "metadata": {},
     "output_type": "execute_result"
    }
   ],
   "source": [
    "%%time\n",
    "my_adab = GradientBoostingRegressor( n_estimators = 90, learning_rate = 0.02, loss='squared_error', max_depth = 20, min_samples_split = 10 , \n",
    "                                    max_features = 25, min_samples_leaf = 12)\n",
    "my_adab.fit(X_train, Y_train)"
   ]
  },
  {
   "cell_type": "markdown",
   "metadata": {},
   "source": [
    "<b> prepare test to predict"
   ]
  },
  {
   "cell_type": "code",
   "execution_count": 91,
   "metadata": {},
   "outputs": [],
   "source": [
    "test_data_merged = merge_basic(test_data, test,'inner')\n",
    "val_window = convert_silver(test_data_merged)"
   ]
  },
  {
   "cell_type": "code",
   "execution_count": 92,
   "metadata": {},
   "outputs": [],
   "source": [
    "full_valandtrain_selected = completion_semi_gold(val_window)"
   ]
  },
  {
   "cell_type": "code",
   "execution_count": 93,
   "metadata": {},
   "outputs": [
    {
     "data": {
      "text/plain": [
       "(214200, 17)"
      ]
     },
     "execution_count": 93,
     "metadata": {},
     "output_type": "execute_result"
    }
   ],
   "source": [
    "full_valandtrain_selected.shape"
   ]
  },
  {
   "cell_type": "code",
   "execution_count": 94,
   "metadata": {},
   "outputs": [],
   "source": [
    "valandtrain_feature_firt = feature_silver(full_valandtrain_selected, date_to_take = date_val, Train = False)"
   ]
  },
  {
   "cell_type": "code",
   "execution_count": 95,
   "metadata": {},
   "outputs": [
    {
     "data": {
      "text/plain": [
       "(214200, 28)"
      ]
     },
     "execution_count": 95,
     "metadata": {},
     "output_type": "execute_result"
    }
   ],
   "source": [
    "valandtrain_feature_firt.shape"
   ]
  },
  {
   "cell_type": "code",
   "execution_count": 96,
   "metadata": {},
   "outputs": [],
   "source": [
    "valandtrain_feature = integration_new_features_map(data = valandtrain_feature_firt, dict_feature = full_features_dictionary, filter_ceros = False) "
   ]
  },
  {
   "cell_type": "code",
   "execution_count": 97,
   "metadata": {},
   "outputs": [
    {
     "data": {
      "text/plain": [
       "(214200, 63)"
      ]
     },
     "execution_count": 97,
     "metadata": {},
     "output_type": "execute_result"
    }
   ],
   "source": [
    "valandtrain_feature.shape"
   ]
  },
  {
   "cell_type": "code",
   "execution_count": 98,
   "metadata": {},
   "outputs": [],
   "source": [
    "val_selection = features_rows_train_silver(data = valandtrain_feature, features = my_features, target = my_target, validation = date_val, additional_val_cols = ['shop_id', 'item_id'])"
   ]
  },
  {
   "cell_type": "code",
   "execution_count": 99,
   "metadata": {},
   "outputs": [
    {
     "data": {
      "text/plain": [
       "((214200, 63), (214200, 45), (214200, 3))"
      ]
     },
     "execution_count": 99,
     "metadata": {},
     "output_type": "execute_result"
    }
   ],
   "source": [
    "valandtrain_feature.shape, val_selection.shape, test.shape"
   ]
  },
  {
   "cell_type": "code",
   "execution_count": 100,
   "metadata": {},
   "outputs": [],
   "source": [
    "val_scaled = scaler(val_selection, numericals, my_target, scaler=my_scaler,drop_columns = my_columns_to_drops )\n",
    "\n",
    "if len(categoricals) != 0:\n",
    "    val_dummies = pd.get_dummies(val_selection[categoricals])\n",
    "    val_scaled_full = pd.concat([val_dummies,val_scaled],axis = 1)\n",
    "else:\n",
    "    val_scaled_full = val_scaled"
   ]
  },
  {
   "cell_type": "code",
   "execution_count": 101,
   "metadata": {},
   "outputs": [],
   "source": [
    "X_val = val_scaled_full[final_features]"
   ]
  },
  {
   "cell_type": "code",
   "execution_count": 102,
   "metadata": {},
   "outputs": [],
   "source": [
    "Y_pred_adaboost = my_ABM.predict(X_val)\n",
    "Y_pred_gradboost = my_adab.predict(X_val)"
   ]
  },
  {
   "cell_type": "code",
   "execution_count": 103,
   "metadata": {},
   "outputs": [],
   "source": [
    "predicted_val_adaboost = inversed_scale(scaler = my_scaler, data = val_scaled, target_name = my_target, y_pred = Y_pred_adaboost)\n",
    "predicted_val_gradboost = inversed_scale(scaler = my_scaler, data = val_scaled, target_name = my_target, y_pred = Y_pred_gradboost)"
   ]
  },
  {
   "cell_type": "code",
   "execution_count": 104,
   "metadata": {},
   "outputs": [],
   "source": [
    "my_lm_adaboost = consolidation_prediction(data = val_selection, prediction = predicted_val_adaboost.Sale.values).rename(columns = {'PredSale':'PredSale_adaBoost'})\n",
    "my_lm_gradboost = consolidation_prediction(data = val_selection, prediction = predicted_val_gradboost.Sale.values).rename(columns = {'PredSale':'PredSale_gradBoost'})"
   ]
  },
  {
   "cell_type": "code",
   "execution_count": 105,
   "metadata": {},
   "outputs": [],
   "source": [
    "merge_preds_val = my_lm_gradboost[columns_1].merge(my_lm_adaboost[columns_2], left_index=True, right_index=True, how = 'left')\n",
    "merge_preds_val['Date'] = pd.to_datetime(merge_preds_val.Date)\n",
    "merge_preds_val['month'] = merge_preds_val.Date.dt.month"
   ]
  },
  {
   "cell_type": "code",
   "execution_count": 106,
   "metadata": {},
   "outputs": [],
   "source": [
    "my_features_stack = ['PredSale_gradBoost','PredSale_adaBoost','item_id', 'shop_id']\n",
    "my_target = 'RealValueVar'"
   ]
  },
  {
   "cell_type": "code",
   "execution_count": 107,
   "metadata": {},
   "outputs": [],
   "source": [
    "X_val = merge_preds_val[my_features_stack].copy()"
   ]
  },
  {
   "cell_type": "code",
   "execution_count": 108,
   "metadata": {},
   "outputs": [],
   "source": [
    "Y_pred = stacker.predict(X_val)"
   ]
  },
  {
   "cell_type": "code",
   "execution_count": 109,
   "metadata": {},
   "outputs": [],
   "source": [
    "val_data_v2 = merge_preds_val.copy()\n",
    "val_data_v2 = val_data_v2.merge( test, on = ['shop_id', 'item_id'], how = 'left')\n",
    "val_data_v2['PredictedVar'] = Y_pred\n",
    "val_data_v2['PredSale'] = val_data_v2['PredictedVar'] + val_data_v2['Sale']\n",
    "val_data_v2 = val_data_v2.sort_values('ID')"
   ]
  },
  {
   "cell_type": "code",
   "execution_count": 110,
   "metadata": {},
   "outputs": [],
   "source": [
    "val_data_v2.to_csv('final_prediction.csv',header = True, index = False)"
   ]
  },
  {
   "cell_type": "code",
   "execution_count": 112,
   "metadata": {},
   "outputs": [
    {
     "data": {
      "text/plain": [
       "<matplotlib.axes._subplots.AxesSubplot at 0x2606e197488>"
      ]
     },
     "execution_count": 112,
     "metadata": {},
     "output_type": "execute_result"
    },
    {
     "data": {
      "image/png": "[encoded data removed]",
      "text/plain": [
       "<Figure size 432x288 with 1 Axes>"
      ]
     },
     "metadata": {},
     "output_type": "display_data"
    }
   ],
   "source": [
    "val_data_v2.PredSale_gradBoost.hist(bins = 25)"
   ]
  },
  {
   "cell_type": "code",
   "execution_count": 113,
   "metadata": {},
   "outputs": [
    {
     "data": {
      "text/plain": [
       "<matplotlib.axes._subplots.AxesSubplot at 0x26254126e48>"
      ]
     },
     "execution_count": 113,
     "metadata": {},
     "output_type": "execute_result"
    },
    {
     "data": {
      "image/png": "[encoded data removed]",
      "text/plain": [
       "<Figure size 432x288 with 1 Axes>"
      ]
     },
     "metadata": {},
     "output_type": "display_data"
    }
   ],
   "source": [
    "val_data_v2.PredSale_adaBoost.hist(bins = 25)"
   ]
  },
  {
   "cell_type": "code",
   "execution_count": 114,
   "metadata": {},
   "outputs": [
    {
     "data": {
      "text/plain": [
       "<matplotlib.axes._subplots.AxesSubplot at 0x2606e10dcc8>"
      ]
     },
     "execution_count": 114,
     "metadata": {},
     "output_type": "execute_result"
    },
    {
     "data": {
      "image/png": "[encoded data removed]",
      "text/plain": [
       "<Figure size 432x288 with 1 Axes>"
      ]
     },
     "metadata": {},
     "output_type": "display_data"
    }
   ],
   "source": [
    "val_data_v2.PredSale.hist(bins = 25)"
   ]
  },
  {
   "cell_type": "markdown",
   "metadata": {},
   "source": [
    "#### Continue....."
   ]
  },
  {
   "cell_type": "code",
   "execution_count": 6,
   "metadata": {},
   "outputs": [],
   "source": [
    "val_data_v2 = pd.read_csv('final_prediction.csv')"
   ]
  },
  {
   "cell_type": "code",
   "execution_count": 7,
   "metadata": {},
   "outputs": [
    {
     "data": {
      "text/html": [
       "<div>\n",
       "<style scoped>\n",
       "    .dataframe tbody tr th:only-of-type {\n",
       "        vertical-align: middle;\n",
       "    }\n",
       "\n",
       "    .dataframe tbody tr th {\n",
       "        vertical-align: top;\n",
       "    }\n",
       "\n",
       "    .dataframe thead th {\n",
       "        text-align: right;\n",
       "    }\n",
       "</style>\n",
       "<table border=\"1\" class=\"dataframe\">\n",
       "  <thead>\n",
       "    <tr style=\"text-align: right;\">\n",
       "      <th></th>\n",
       "      <th>Date</th>\n",
       "      <th>shop_id</th>\n",
       "      <th>item_id</th>\n",
       "      <th>PredSale_gradBoost</th>\n",
       "      <th>Sale</th>\n",
       "      <th>PredSale_adaBoost</th>\n",
       "      <th>month</th>\n",
       "      <th>ID</th>\n",
       "      <th>PredictedVar</th>\n",
       "      <th>PredSale</th>\n",
       "    </tr>\n",
       "  </thead>\n",
       "  <tbody>\n",
       "    <tr>\n",
       "      <th>0</th>\n",
       "      <td>2015-11-01</td>\n",
       "      <td>5</td>\n",
       "      <td>5037</td>\n",
       "      <td>2.401116</td>\n",
       "      <td>0.0</td>\n",
       "      <td>1.555556</td>\n",
       "      <td>11</td>\n",
       "      <td>0</td>\n",
       "      <td>1.618828</td>\n",
       "      <td>1.618828</td>\n",
       "    </tr>\n",
       "    <tr>\n",
       "      <th>1</th>\n",
       "      <td>2015-11-01</td>\n",
       "      <td>5</td>\n",
       "      <td>5320</td>\n",
       "      <td>0.395454</td>\n",
       "      <td>0.0</td>\n",
       "      <td>0.000000</td>\n",
       "      <td>11</td>\n",
       "      <td>1</td>\n",
       "      <td>1.566991</td>\n",
       "      <td>1.566991</td>\n",
       "    </tr>\n",
       "    <tr>\n",
       "      <th>2</th>\n",
       "      <td>2015-11-01</td>\n",
       "      <td>5</td>\n",
       "      <td>5233</td>\n",
       "      <td>2.417309</td>\n",
       "      <td>0.0</td>\n",
       "      <td>1.583333</td>\n",
       "      <td>11</td>\n",
       "      <td>2</td>\n",
       "      <td>1.618828</td>\n",
       "      <td>1.618828</td>\n",
       "    </tr>\n",
       "    <tr>\n",
       "      <th>3</th>\n",
       "      <td>2015-11-01</td>\n",
       "      <td>5</td>\n",
       "      <td>5232</td>\n",
       "      <td>1.846133</td>\n",
       "      <td>0.0</td>\n",
       "      <td>1.800000</td>\n",
       "      <td>11</td>\n",
       "      <td>3</td>\n",
       "      <td>1.641581</td>\n",
       "      <td>1.641581</td>\n",
       "    </tr>\n",
       "    <tr>\n",
       "      <th>4</th>\n",
       "      <td>2015-11-01</td>\n",
       "      <td>5</td>\n",
       "      <td>5268</td>\n",
       "      <td>0.942790</td>\n",
       "      <td>0.0</td>\n",
       "      <td>0.000000</td>\n",
       "      <td>11</td>\n",
       "      <td>4</td>\n",
       "      <td>1.550038</td>\n",
       "      <td>1.550038</td>\n",
       "    </tr>\n",
       "  </tbody>\n",
       "</table>\n",
       "</div>"
      ],
      "text/plain": [
       "         Date  shop_id  item_id  PredSale_gradBoost  Sale  PredSale_adaBoost  \\\n",
       "0  2015-11-01        5     5037            2.401116   0.0           1.555556   \n",
       "1  2015-11-01        5     5320            0.395454   0.0           0.000000   \n",
       "2  2015-11-01        5     5233            2.417309   0.0           1.583333   \n",
       "3  2015-11-01        5     5232            1.846133   0.0           1.800000   \n",
       "4  2015-11-01        5     5268            0.942790   0.0           0.000000   \n",
       "\n",
       "   month  ID  PredictedVar  PredSale  \n",
       "0     11   0      1.618828  1.618828  \n",
       "1     11   1      1.566991  1.566991  \n",
       "2     11   2      1.618828  1.618828  \n",
       "3     11   3      1.641581  1.641581  \n",
       "4     11   4      1.550038  1.550038  "
      ]
     },
     "execution_count": 7,
     "metadata": {},
     "output_type": "execute_result"
    }
   ],
   "source": [
    "val_data_v2.head()"
   ]
  },
  {
   "cell_type": "code",
   "execution_count": 8,
   "metadata": {},
   "outputs": [
    {
     "data": {
      "text/plain": [
       "(214200, 10)"
      ]
     },
     "execution_count": 8,
     "metadata": {},
     "output_type": "execute_result"
    }
   ],
   "source": [
    "val_data_v2.shape"
   ]
  },
  {
   "cell_type": "code",
   "execution_count": 23,
   "metadata": {},
   "outputs": [],
   "source": [
    "final_prediction = val_data_v2[['ID','shop_id','item_id','PredSale_adaBoost']]\n",
    "final_prediction = final_prediction.rename(columns = {'PredSale_adaBoost': 'item_cnt_month'})\n",
    "final_prediction['item_cnt_month'] = final_prediction['item_cnt_month'].clip(0,20)"
   ]
  },
  {
   "cell_type": "code",
   "execution_count": 11,
   "metadata": {},
   "outputs": [],
   "source": [
    "final_prediction.to_csv('miguel_prediction.csv',index = False, header = True)"
   ]
  },
  {
   "cell_type": "markdown",
   "metadata": {},
   "source": [
    "This result got 1.21 and 1.23"
   ]
  },
  {
   "cell_type": "markdown",
   "metadata": {},
   "source": [
    "##### probing"
   ]
  },
  {
   "cell_type": "code",
   "execution_count": 24,
   "metadata": {},
   "outputs": [],
   "source": [
    "dfx = full_features_dictionary['Focus_item_shop_features'].groupby(['item_id', 'shop_id']).agg(Found = ('countItemShopZero','max')).reset_index()\n",
    "dfx['Found'] = True"
   ]
  },
  {
   "cell_type": "code",
   "execution_count": 33,
   "metadata": {},
   "outputs": [],
   "source": [
    "df_go = final_prediction.merge(dfx, on = ['item_id','shop_id'], how = 'left')\n",
    "df_go['Found'] = df_go['Found'].fillna(False)"
   ]
  },
  {
   "cell_type": "code",
   "execution_count": 34,
   "metadata": {},
   "outputs": [
    {
     "data": {
      "text/html": [
       "<div>\n",
       "<style scoped>\n",
       "    .dataframe tbody tr th:only-of-type {\n",
       "        vertical-align: middle;\n",
       "    }\n",
       "\n",
       "    .dataframe tbody tr th {\n",
       "        vertical-align: top;\n",
       "    }\n",
       "\n",
       "    .dataframe thead th {\n",
       "        text-align: right;\n",
       "    }\n",
       "</style>\n",
       "<table border=\"1\" class=\"dataframe\">\n",
       "  <thead>\n",
       "    <tr style=\"text-align: right;\">\n",
       "      <th></th>\n",
       "      <th>count</th>\n",
       "    </tr>\n",
       "    <tr>\n",
       "      <th>Found</th>\n",
       "      <th></th>\n",
       "    </tr>\n",
       "  </thead>\n",
       "  <tbody>\n",
       "    <tr>\n",
       "      <th>False</th>\n",
       "      <td>102796</td>\n",
       "    </tr>\n",
       "    <tr>\n",
       "      <th>True</th>\n",
       "      <td>111404</td>\n",
       "    </tr>\n",
       "  </tbody>\n",
       "</table>\n",
       "</div>"
      ],
      "text/plain": [
       "        count\n",
       "Found        \n",
       "False  102796\n",
       "True   111404"
      ]
     },
     "execution_count": 34,
     "metadata": {},
     "output_type": "execute_result"
    }
   ],
   "source": [
    "df_go.groupby('Found').agg(count = ('ID','count'))"
   ]
  },
  {
   "cell_type": "code",
   "execution_count": 35,
   "metadata": {},
   "outputs": [
    {
     "data": {
      "text/plain": [
       "<matplotlib.axes._subplots.AxesSubplot at 0x17b21440448>"
      ]
     },
     "execution_count": 35,
     "metadata": {},
     "output_type": "execute_result"
    },
    {
     "data": {
      "image/png": "[encoded data removed]",
      "text/plain": [
       "<Figure size 432x288 with 1 Axes>"
      ]
     },
     "metadata": {},
     "output_type": "display_data"
    }
   ],
   "source": [
    "df_go[df_go.Found == True].item_cnt_month.hist(bins = 25)"
   ]
  },
  {
   "cell_type": "code",
   "execution_count": 36,
   "metadata": {},
   "outputs": [
    {
     "data": {
      "text/plain": [
       "<matplotlib.axes._subplots.AxesSubplot at 0x17b23dc5108>"
      ]
     },
     "execution_count": 36,
     "metadata": {},
     "output_type": "execute_result"
    },
    {
     "data": {
      "image/png": "[encoded data removed]",
      "text/plain": [
       "<Figure size 432x288 with 1 Axes>"
      ]
     },
     "metadata": {},
     "output_type": "display_data"
    }
   ],
   "source": [
    "df_go[df_go.Found == False].item_cnt_month.hist(bins = 25)"
   ]
  },
  {
   "cell_type": "code",
   "execution_count": 38,
   "metadata": {},
   "outputs": [
    {
     "data": {
      "text/html": [
       "<div>\n",
       "<style scoped>\n",
       "    .dataframe tbody tr th:only-of-type {\n",
       "        vertical-align: middle;\n",
       "    }\n",
       "\n",
       "    .dataframe tbody tr th {\n",
       "        vertical-align: top;\n",
       "    }\n",
       "\n",
       "    .dataframe thead th {\n",
       "        text-align: right;\n",
       "    }\n",
       "</style>\n",
       "<table border=\"1\" class=\"dataframe\">\n",
       "  <thead>\n",
       "    <tr style=\"text-align: right;\">\n",
       "      <th></th>\n",
       "      <th>ID</th>\n",
       "      <th>shop_id</th>\n",
       "      <th>item_id</th>\n",
       "      <th>item_cnt_month</th>\n",
       "      <th>Found</th>\n",
       "    </tr>\n",
       "  </thead>\n",
       "  <tbody>\n",
       "    <tr>\n",
       "      <th>0</th>\n",
       "      <td>0</td>\n",
       "      <td>5</td>\n",
       "      <td>5037</td>\n",
       "      <td>1.555556</td>\n",
       "      <td>True</td>\n",
       "    </tr>\n",
       "    <tr>\n",
       "      <th>1</th>\n",
       "      <td>1</td>\n",
       "      <td>5</td>\n",
       "      <td>5320</td>\n",
       "      <td>0.000000</td>\n",
       "      <td>False</td>\n",
       "    </tr>\n",
       "    <tr>\n",
       "      <th>2</th>\n",
       "      <td>2</td>\n",
       "      <td>5</td>\n",
       "      <td>5233</td>\n",
       "      <td>1.583333</td>\n",
       "      <td>True</td>\n",
       "    </tr>\n",
       "    <tr>\n",
       "      <th>3</th>\n",
       "      <td>3</td>\n",
       "      <td>5</td>\n",
       "      <td>5232</td>\n",
       "      <td>1.800000</td>\n",
       "      <td>True</td>\n",
       "    </tr>\n",
       "    <tr>\n",
       "      <th>4</th>\n",
       "      <td>4</td>\n",
       "      <td>5</td>\n",
       "      <td>5268</td>\n",
       "      <td>0.000000</td>\n",
       "      <td>False</td>\n",
       "    </tr>\n",
       "  </tbody>\n",
       "</table>\n",
       "</div>"
      ],
      "text/plain": [
       "   ID  shop_id  item_id  item_cnt_month  Found\n",
       "0   0        5     5037        1.555556   True\n",
       "1   1        5     5320        0.000000  False\n",
       "2   2        5     5233        1.583333   True\n",
       "3   3        5     5232        1.800000   True\n",
       "4   4        5     5268        0.000000  False"
      ]
     },
     "execution_count": 38,
     "metadata": {},
     "output_type": "execute_result"
    }
   ],
   "source": [
    "df_go.head()"
   ]
  },
  {
   "cell_type": "code",
   "execution_count": 39,
   "metadata": {},
   "outputs": [],
   "source": [
    "df_go['item_cnt_month'] = np.where(df_go.Found == False, 0, df_go['item_cnt_month'])"
   ]
  },
  {
   "cell_type": "code",
   "execution_count": 40,
   "metadata": {},
   "outputs": [
    {
     "data": {
      "text/html": [
       "<div>\n",
       "<style scoped>\n",
       "    .dataframe tbody tr th:only-of-type {\n",
       "        vertical-align: middle;\n",
       "    }\n",
       "\n",
       "    .dataframe tbody tr th {\n",
       "        vertical-align: top;\n",
       "    }\n",
       "\n",
       "    .dataframe thead th {\n",
       "        text-align: right;\n",
       "    }\n",
       "</style>\n",
       "<table border=\"1\" class=\"dataframe\">\n",
       "  <thead>\n",
       "    <tr style=\"text-align: right;\">\n",
       "      <th></th>\n",
       "      <th>ID</th>\n",
       "      <th>shop_id</th>\n",
       "      <th>item_id</th>\n",
       "      <th>item_cnt_month</th>\n",
       "      <th>Found</th>\n",
       "    </tr>\n",
       "  </thead>\n",
       "  <tbody>\n",
       "    <tr>\n",
       "      <th>0</th>\n",
       "      <td>0</td>\n",
       "      <td>5</td>\n",
       "      <td>5037</td>\n",
       "      <td>1.555556</td>\n",
       "      <td>True</td>\n",
       "    </tr>\n",
       "    <tr>\n",
       "      <th>1</th>\n",
       "      <td>1</td>\n",
       "      <td>5</td>\n",
       "      <td>5320</td>\n",
       "      <td>0.000000</td>\n",
       "      <td>False</td>\n",
       "    </tr>\n",
       "    <tr>\n",
       "      <th>2</th>\n",
       "      <td>2</td>\n",
       "      <td>5</td>\n",
       "      <td>5233</td>\n",
       "      <td>1.583333</td>\n",
       "      <td>True</td>\n",
       "    </tr>\n",
       "    <tr>\n",
       "      <th>3</th>\n",
       "      <td>3</td>\n",
       "      <td>5</td>\n",
       "      <td>5232</td>\n",
       "      <td>1.800000</td>\n",
       "      <td>True</td>\n",
       "    </tr>\n",
       "    <tr>\n",
       "      <th>4</th>\n",
       "      <td>4</td>\n",
       "      <td>5</td>\n",
       "      <td>5268</td>\n",
       "      <td>0.000000</td>\n",
       "      <td>False</td>\n",
       "    </tr>\n",
       "  </tbody>\n",
       "</table>\n",
       "</div>"
      ],
      "text/plain": [
       "   ID  shop_id  item_id  item_cnt_month  Found\n",
       "0   0        5     5037        1.555556   True\n",
       "1   1        5     5320        0.000000  False\n",
       "2   2        5     5233        1.583333   True\n",
       "3   3        5     5232        1.800000   True\n",
       "4   4        5     5268        0.000000  False"
      ]
     },
     "execution_count": 40,
     "metadata": {},
     "output_type": "execute_result"
    }
   ],
   "source": [
    "df_go.head()"
   ]
  },
  {
   "cell_type": "code",
   "execution_count": 41,
   "metadata": {},
   "outputs": [],
   "source": [
    "df_go[['ID','item_cnt_month']].to_csv('miguel_prediction.csv',index = False, header = True)"
   ]
  },
  {
   "cell_type": "markdown",
   "metadata": {},
   "source": [
    "this probing gor 1.21, then"
   ]
  },
  {
   "cell_type": "code",
   "execution_count": 94,
   "metadata": {},
   "outputs": [],
   "source": [
    "test['Prediction'] = val_data_v2.PredSale.values\n",
    "test['item_cnt_month'] = np.where(test['Prediction'] < 0 ,0 ,\n",
    "                        np.where(test['Prediction'] > 20, 20, test['Prediction']))\n",
    "\n",
    "test['item_cnt_month'] = np.where(test['item_cnt_month'] < 1 ,0.5 ,test['item_cnt_month'])"
   ]
  },
  {
   "cell_type": "code",
   "execution_count": 95,
   "metadata": {},
   "outputs": [
    {
     "data": {
      "text/plain": [
       "(0.5, 0.5)"
      ]
     },
     "execution_count": 95,
     "metadata": {},
     "output_type": "execute_result"
    }
   ],
   "source": [
    "test.item_cnt_month.max(), test.item_cnt_month.min()"
   ]
  },
  {
   "cell_type": "code",
   "execution_count": 13,
   "metadata": {},
   "outputs": [],
   "source": [
    "test[['ID','item_cnt_month']].to_csv('miguel_prediction.csv',index = False, header = True)"
   ]
  },
  {
   "cell_type": "markdown",
   "metadata": {},
   "source": [
    "the probing result is 1.22 and 1.23"
   ]
  },
  {
   "cell_type": "code",
   "execution_count": null,
   "metadata": {},
   "outputs": [],
   "source": []
  }
 ],
 "metadata": {
  "kernelspec": {
   "display_name": "Python 3",
   "language": "python",
   "name": "python3"
  },
  "language_info": {
   "codemirror_mode": {
    "name": "ipython",
    "version": 3
   },
   "file_extension": ".py",
   "mimetype": "text/x-python",
   "name": "python",
   "nbconvert_exporter": "python",
   "pygments_lexer": "ipython3",
   "version": "3.7.6"
  }
 },
 "nbformat": 4,
 "nbformat_minor": 4
}
