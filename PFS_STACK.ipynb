{
 "cells": [
  {
   "cell_type": "markdown",
   "metadata": {},
   "source": [
    "# Predict Future Sales"
   ]
  },
  {
   "cell_type": "markdown",
   "metadata": {},
   "source": [
    "Second part of feauture enginering and ML modeling - testing advanced models and advanced features"
   ]
  },
  {
   "cell_type": "markdown",
   "metadata": {},
   "source": [
    "kaggle link : https://www.kaggle.com/c/competitive-data-science-predict-future-sales/overview"
   ]
  },
  {
   "cell_type": "code",
   "execution_count": 1,
   "metadata": {},
   "outputs": [],
   "source": [
    "import pandas as pd\n",
    "import numpy as np\n",
    "import matplotlib.pyplot as plt\n",
    "import datetime\n",
    "import seaborn as sns; sns.set()\n",
    "from dateutil.relativedelta import relativedelta\n",
    "import os"
   ]
  },
  {
   "cell_type": "code",
   "execution_count": 2,
   "metadata": {},
   "outputs": [],
   "source": [
    "from my_functions import merge_basic, convert_silver, completion_semi_gold, scaler, inversed_scale, consolidation_prediction, plot_prediction\n",
    "from my_functions import preparing_to_predict, plot_metrics, test_dates\n",
    "from my_functions import my_kfold_crossval_and_Hptunning, My_ML_prediction_on_test, scaler, consolidated_metrics_MSE, consolidated_plot_metrics"
   ]
  },
  {
   "cell_type": "code",
   "execution_count": 3,
   "metadata": {},
   "outputs": [],
   "source": [
    "from especial_functions import feature_silver, integration_new_features_map, features_rows_train_silver"
   ]
  },
  {
   "cell_type": "code",
   "execution_count": 4,
   "metadata": {},
   "outputs": [],
   "source": [
    "from sklearn.preprocessing import MinMaxScaler\n",
    "\n",
    "from sklearn.tree import DecisionTreeRegressor\n",
    "from sklearn.ensemble import GradientBoostingRegressor,AdaBoostRegressor\n",
    "from sklearn.metrics import mean_squared_error"
   ]
  },
  {
   "cell_type": "markdown",
   "metadata": {},
   "source": [
    "### Models Definition"
   ]
  },
  {
   "cell_type": "code",
   "execution_count": 4,
   "metadata": {},
   "outputs": [],
   "source": [
    "test_dates = [datetime.datetime(2014, 11, 1), datetime.datetime(2015, 4, 1), datetime.datetime(2015, 5, 1), datetime.datetime(2015, 6, 1), datetime.datetime(2015, 7, 1), datetime.datetime(2015, 8, 1),\n",
    "datetime.datetime(2015, 9, 1), datetime.datetime(2015, 10, 1),]"
   ]
  },
  {
   "cell_type": "code",
   "execution_count": 5,
   "metadata": {},
   "outputs": [],
   "source": [
    "my_gbr_models = list()\n",
    "number_of_machines = 10\n",
    "machines_labels = [f'machine-{x}' for x in range(1,number_of_machines +1) ]\n",
    "\n",
    "parameters = { 'Machine':machines_labels,\n",
    "    'max_depth': [15,10, 8, 12, 13, 7, 15, 15, 10, 7],\n",
    "    'min_samples_split':[5, 4, 10, 7, 9, 15, 3, 3, 5, 5],\n",
    "    'min_samples_leaf':[10, 7, 12, 5, 4, 3, 3, 3, 15, 12],\n",
    "    'max_features':[25, 30, 25, 25, 30, 27, 30, 22, 25, 26],\n",
    "    'n_estimators' : [50, 45, 90, 100, 50, 35, 150, 120, 85, 60],\n",
    "    'learning_rate' : [0.05, 0.12, 0.02, 0.04, 0.004, 0.0003, 0.15, 0.08, 0.001, 0.005] }\n",
    "\n",
    "for i in range(number_of_machines):\n",
    "    max_depth_param = parameters['max_depth'][i]\n",
    "    min_samples_split_param = parameters['min_samples_split'][i]\n",
    "    min_samples_leaf_param = parameters['min_samples_leaf'][i]\n",
    "    max_features_param = parameters['max_features'][i]\n",
    "    \n",
    "    n_estimators_param = parameters['n_estimators'][i]\n",
    "    learning_rate_param = parameters['learning_rate'][i]\n",
    "    \n",
    "    my_adab = GradientBoostingRegressor( n_estimators = n_estimators_param, learning_rate = learning_rate_param, loss='squared_error',\n",
    "                                       max_depth = max_depth_param, min_samples_split = min_samples_split_param , max_features = max_features_param,\n",
    "                                       min_samples_leaf = min_samples_leaf_param)\n",
    "    my_gbr_models.append(my_adab)\n",
    "\n",
    "parameters_df = pd.DataFrame(parameters)  "
   ]
  },
  {
   "cell_type": "code",
   "execution_count": 6,
   "metadata": {},
   "outputs": [
    {
     "name": "stdout",
     "output_type": "stream",
     "text": [
      "machine-1 is done\n",
      "Wall time: 15min 7s\n"
     ]
    }
   ],
   "source": [
    "%%time\n",
    "my_test_results = my_kfold_crossval_and_Hptunning(models_toTrain =  [my_gbr_models[0]], frac = 0.75)"
   ]
  },
  {
   "cell_type": "code",
   "execution_count": 7,
   "metadata": {},
   "outputs": [],
   "source": [
    "metrics_toplot = consolidated_plot_metrics(my_test_results)"
   ]
  },
  {
   "cell_type": "code",
   "execution_count": 8,
   "metadata": {},
   "outputs": [
    {
     "data": {
      "image/png": "[encoded data removed]",
      "text/plain": [
       "<Figure size 936x432 with 1 Axes>"
      ]
     },
     "metadata": {},
     "output_type": "display_data"
    }
   ],
   "source": [
    "fig, axs = plt.subplots(nrows=1, ncols=1,figsize=(13,6), sharex=True)\n",
    "ax = sns.lineplot(ax = axs , data = metrics_toplot, x=\"Date\", y=\"RMSE\", marker = True, hue = 'machine', legend = False )\n",
    "ax = sns.scatterplot(ax = axs , data = metrics_toplot, x=\"Date\", y=\"RMSE\", s = 35, hue= 'machine' )"
   ]
  },
  {
   "cell_type": "code",
   "execution_count": 9,
   "metadata": {},
   "outputs": [
    {
     "data": {
      "text/html": [
       "<div>\n",
       "<style scoped>\n",
       "    .dataframe tbody tr th:only-of-type {\n",
       "        vertical-align: middle;\n",
       "    }\n",
       "\n",
       "    .dataframe tbody tr th {\n",
       "        vertical-align: top;\n",
       "    }\n",
       "\n",
       "    .dataframe thead th {\n",
       "        text-align: right;\n",
       "    }\n",
       "</style>\n",
       "<table border=\"1\" class=\"dataframe\">\n",
       "  <thead>\n",
       "    <tr style=\"text-align: right;\">\n",
       "      <th></th>\n",
       "      <th>machine</th>\n",
       "      <th>RMSE</th>\n",
       "    </tr>\n",
       "  </thead>\n",
       "  <tbody>\n",
       "    <tr>\n",
       "      <th>0</th>\n",
       "      <td>machine-1</td>\n",
       "      <td>4.326609</td>\n",
       "    </tr>\n",
       "  </tbody>\n",
       "</table>\n",
       "</div>"
      ],
      "text/plain": [
       "     machine      RMSE\n",
       "0  machine-1  4.326609"
      ]
     },
     "execution_count": 9,
     "metadata": {},
     "output_type": "execute_result"
    }
   ],
   "source": [
    "consolidated_metrics_MSE(my_test_results)"
   ]
  },
  {
   "cell_type": "markdown",
   "metadata": {},
   "source": [
    "### Kfold cross validation and hyper parameter tunning"
   ]
  },
  {
   "cell_type": "code",
   "execution_count": 10,
   "metadata": {},
   "outputs": [
    {
     "name": "stdout",
     "output_type": "stream",
     "text": [
      "machine-1 is done\n",
      "machine-2 is done\n",
      "machine-3 is done\n",
      "machine-4 is done\n",
      "machine-5 is done\n",
      "machine-6 is done\n",
      "machine-7 is done\n",
      "machine-8 is done\n",
      "machine-9 is done\n",
      "machine-10 is done\n"
     ]
    }
   ],
   "source": [
    "my_test_results = my_kfold_crossval_and_Hptunning(models_toTrain =  my_gbr_models, frac = 0.50)"
   ]
  },
  {
   "cell_type": "code",
   "execution_count": 11,
   "metadata": {},
   "outputs": [],
   "source": [
    "metrics_toplot = consolidated_plot_metrics(my_test_results)"
   ]
  },
  {
   "cell_type": "code",
   "execution_count": 12,
   "metadata": {},
   "outputs": [
    {
     "data": {
      "image/png": "[encoded data removed]",
      "text/plain": [
       "<Figure size 936x432 with 1 Axes>"
      ]
     },
     "metadata": {},
     "output_type": "display_data"
    }
   ],
   "source": [
    "fig, axs = plt.subplots(nrows=1, ncols=1,figsize=(13,6), sharex=True)\n",
    "ax = sns.lineplot(ax = axs , data = metrics_toplot, x=\"Date\", y=\"RMSE\", marker = True, hue = 'machine', legend = False )\n",
    "ax = sns.scatterplot(ax = axs , data = metrics_toplot, x=\"Date\", y=\"RMSE\", s = 35, hue= 'machine' )"
   ]
  },
  {
   "cell_type": "code",
   "execution_count": 14,
   "metadata": {},
   "outputs": [
    {
     "data": {
      "text/html": [
       "<div>\n",
       "<style scoped>\n",
       "    .dataframe tbody tr th:only-of-type {\n",
       "        vertical-align: middle;\n",
       "    }\n",
       "\n",
       "    .dataframe tbody tr th {\n",
       "        vertical-align: top;\n",
       "    }\n",
       "\n",
       "    .dataframe thead th {\n",
       "        text-align: right;\n",
       "    }\n",
       "</style>\n",
       "<table border=\"1\" class=\"dataframe\">\n",
       "  <thead>\n",
       "    <tr style=\"text-align: right;\">\n",
       "      <th></th>\n",
       "      <th>machine</th>\n",
       "      <th>RMSE</th>\n",
       "    </tr>\n",
       "  </thead>\n",
       "  <tbody>\n",
       "    <tr>\n",
       "      <th>6</th>\n",
       "      <td>machine-7</td>\n",
       "      <td>4.242295</td>\n",
       "    </tr>\n",
       "    <tr>\n",
       "      <th>3</th>\n",
       "      <td>machine-4</td>\n",
       "      <td>4.308618</td>\n",
       "    </tr>\n",
       "    <tr>\n",
       "      <th>7</th>\n",
       "      <td>machine-8</td>\n",
       "      <td>4.371027</td>\n",
       "    </tr>\n",
       "    <tr>\n",
       "      <th>1</th>\n",
       "      <td>machine-2</td>\n",
       "      <td>4.390735</td>\n",
       "    </tr>\n",
       "    <tr>\n",
       "      <th>0</th>\n",
       "      <td>machine-1</td>\n",
       "      <td>4.451353</td>\n",
       "    </tr>\n",
       "    <tr>\n",
       "      <th>2</th>\n",
       "      <td>machine-3</td>\n",
       "      <td>4.452110</td>\n",
       "    </tr>\n",
       "    <tr>\n",
       "      <th>9</th>\n",
       "      <td>machine-10</td>\n",
       "      <td>4.561223</td>\n",
       "    </tr>\n",
       "    <tr>\n",
       "      <th>4</th>\n",
       "      <td>machine-5</td>\n",
       "      <td>4.592543</td>\n",
       "    </tr>\n",
       "    <tr>\n",
       "      <th>8</th>\n",
       "      <td>machine-9</td>\n",
       "      <td>4.624412</td>\n",
       "    </tr>\n",
       "    <tr>\n",
       "      <th>5</th>\n",
       "      <td>machine-6</td>\n",
       "      <td>4.655943</td>\n",
       "    </tr>\n",
       "  </tbody>\n",
       "</table>\n",
       "</div>"
      ],
      "text/plain": [
       "      machine      RMSE\n",
       "6   machine-7  4.242295\n",
       "3   machine-4  4.308618\n",
       "7   machine-8  4.371027\n",
       "1   machine-2  4.390735\n",
       "0   machine-1  4.451353\n",
       "2   machine-3  4.452110\n",
       "9  machine-10  4.561223\n",
       "4   machine-5  4.592543\n",
       "8   machine-9  4.624412\n",
       "5   machine-6  4.655943"
      ]
     },
     "execution_count": 14,
     "metadata": {},
     "output_type": "execute_result"
    }
   ],
   "source": [
    "consolidated_metrics_MSE(my_test_results)"
   ]
  },
  {
   "cell_type": "markdown",
   "metadata": {},
   "source": [
    "### Winner Prediction"
   ]
  },
  {
   "cell_type": "code",
   "execution_count": 15,
   "metadata": {},
   "outputs": [
    {
     "name": "stdout",
     "output_type": "stream",
     "text": [
      "machine-1 is done\n"
     ]
    }
   ],
   "source": [
    "my_test_results = my_kfold_crossval_and_Hptunning(models_toTrain =  [my_gbr_models[6]], frac = 1.0)"
   ]
  },
  {
   "cell_type": "code",
   "execution_count": 16,
   "metadata": {},
   "outputs": [],
   "source": [
    "metrics_toplot = consolidated_plot_metrics(my_test_results)"
   ]
  },
  {
   "cell_type": "code",
   "execution_count": 17,
   "metadata": {},
   "outputs": [
    {
     "data": {
      "image/png": "[encoded data removed]",
      "text/plain": [
       "<Figure size 936x432 with 1 Axes>"
      ]
     },
     "metadata": {},
     "output_type": "display_data"
    }
   ],
   "source": [
    "fig, axs = plt.subplots(nrows=1, ncols=1,figsize=(13,6), sharex=True)\n",
    "ax = sns.lineplot(ax = axs , data = metrics_toplot, x=\"Date\", y=\"RMSE\", marker = True, hue = 'machine', legend = False )\n",
    "ax = sns.scatterplot(ax = axs , data = metrics_toplot, x=\"Date\", y=\"RMSE\", s = 35, hue= 'machine' )"
   ]
  },
  {
   "cell_type": "markdown",
   "metadata": {},
   "source": [
    "### Saving Results for Stacking"
   ]
  },
  {
   "cell_type": "code",
   "execution_count": 18,
   "metadata": {},
   "outputs": [],
   "source": [
    "my_test_results['machine result'][0].to_csv('preds_stacking/preds_gradboost.csv',header = True, index = False)"
   ]
  },
  {
   "cell_type": "markdown",
   "metadata": {},
   "source": [
    "----"
   ]
  },
  {
   "cell_type": "markdown",
   "metadata": {},
   "source": [
    "### Stacking"
   ]
  },
  {
   "cell_type": "code",
   "execution_count": 5,
   "metadata": {},
   "outputs": [],
   "source": [
    "preds_gradBoost = pd.read_csv('preds_stacking/preds_gradboost.csv').rename(columns = {'PredictedVar':'PredictedVar_gradBoost'})\n",
    "preds_adaBoost = pd.read_csv('preds_stacking/preds_adaboost.csv').rename(columns = {'PredictedVar':'PredictedVar_adaBoost'})"
   ]
  },
  {
   "cell_type": "code",
   "execution_count": 6,
   "metadata": {},
   "outputs": [],
   "source": [
    "columns_1 = ['Date','Sale','PredictedVar_gradBoost','RealValueVar','SaleL1M']\n",
    "columns_2 = ['PredictedVar_adaBoost']"
   ]
  },
  {
   "cell_type": "code",
   "execution_count": 7,
   "metadata": {},
   "outputs": [],
   "source": [
    "merge_preds = preds_gradBoost[columns_1].merge(preds_adaBoost[columns_2], left_index=True, right_index=True, how = 'left')\n",
    "merge_preds['Date'] = pd.to_datetime(merge_preds.Date)\n",
    "merge_preds['month'] = merge_preds.Date.dt.month"
   ]
  },
  {
   "cell_type": "markdown",
   "metadata": {},
   "source": [
    "##### Train stacking data"
   ]
  },
  {
   "cell_type": "code",
   "execution_count": 8,
   "metadata": {},
   "outputs": [],
   "source": [
    "my_features = ['PredictedVar_gradBoost','PredictedVar_adaBoost','month']\n",
    "my_target = 'RealValueVar'"
   ]
  },
  {
   "cell_type": "code",
   "execution_count": 9,
   "metadata": {},
   "outputs": [],
   "source": [
    "data_to_use = merge_preds[my_features + [my_target] + ['Sale','SaleL1M']].copy()\n",
    "\n",
    "val_index = list(data_to_use[data_to_use.RealValueVar == 0].sample(frac = 0.05).index) + list(data_to_use[data_to_use.RealValueVar != 0].sample(frac = 0.35).index)\n",
    "val_data = data_to_use[data_to_use.index.isin(val_index)]\n",
    "\n",
    "train_data = data_to_use[~data_to_use.index.isin(val_index)]\n",
    "train_index = list(train_data[train_data.RealValueVar == 0].sample(frac = 0.01).index) + list(train_data[train_data.RealValueVar != 0].sample(frac = 0.85).index)\n",
    "train_data = train_data[train_data.index.isin(train_index)]"
   ]
  },
  {
   "cell_type": "code",
   "execution_count": 10,
   "metadata": {},
   "outputs": [],
   "source": [
    "X_train = train_data[my_features]\n",
    "Y_train = train_data[my_target]\n",
    "\n",
    "X_val = val_data[my_features].copy()"
   ]
  },
  {
   "cell_type": "code",
   "execution_count": 11,
   "metadata": {},
   "outputs": [
    {
     "data": {
      "text/plain": [
       "GradientBoostingRegressor(learning_rate=0.0015, max_depth=15, n_estimators=40)"
      ]
     },
     "execution_count": 11,
     "metadata": {},
     "output_type": "execute_result"
    }
   ],
   "source": [
    "stacker = GradientBoostingRegressor( max_depth = 15,n_estimators = 40, learning_rate = 0.0015, loss='squared_error', )\n",
    "stacker.fit(X_train, Y_train)"
   ]
  },
  {
   "cell_type": "code",
   "execution_count": 12,
   "metadata": {},
   "outputs": [],
   "source": [
    "Y_pred = stacker.predict(X_val)"
   ]
  },
  {
   "cell_type": "code",
   "execution_count": 13,
   "metadata": {},
   "outputs": [],
   "source": [
    "val_data_v2 = val_data.copy()\n",
    "val_data_v2['PredictedVar'] = Y_pred\n",
    "val_data_v2['PredSale'] = val_data_v2['PredictedVar'] + val_data_v2['Sale']"
   ]
  },
  {
   "cell_type": "code",
   "execution_count": 14,
   "metadata": {},
   "outputs": [
    {
     "data": {
      "image/png": "[encoded data removed]",
      "text/plain": [
       "<Figure size 1440x576 with 2 Axes>"
      ]
     },
     "metadata": {},
     "output_type": "display_data"
    }
   ],
   "source": [
    "plot_prediction(val_data_v2)"
   ]
  },
  {
   "cell_type": "code",
   "execution_count": 15,
   "metadata": {},
   "outputs": [
    {
     "data": {
      "text/plain": [
       "0.23986245777263937"
      ]
     },
     "execution_count": 15,
     "metadata": {},
     "output_type": "execute_result"
    }
   ],
   "source": [
    "mean_squared_error(val_data_v2['Sale'], val_data_v2['PredSale'])**(1/2)"
   ]
  },
  {
   "cell_type": "markdown",
   "metadata": {},
   "source": [
    "----"
   ]
  },
  {
   "cell_type": "markdown",
   "metadata": {},
   "source": [
    "## Final Prediction"
   ]
  },
  {
   "cell_type": "markdown",
   "metadata": {},
   "source": [
    "### Data"
   ]
  },
  {
   "cell_type": "code",
   "execution_count": 5,
   "metadata": {},
   "outputs": [],
   "source": [
    "daily_train = pd.read_csv('sales_train.csv')\n",
    "items = pd.read_csv('items.csv')\n",
    "shops = pd.read_csv('shops.csv')\n",
    "categories = pd.read_csv('item_categories.csv')\n",
    "sample_submission = pd.read_csv('sample_submission.csv')\n",
    "test = pd.read_csv('test.csv')"
   ]
  },
  {
   "cell_type": "markdown",
   "metadata": {},
   "source": [
    "### Data modeling"
   ]
  },
  {
   "cell_type": "code",
   "execution_count": 17,
   "metadata": {},
   "outputs": [],
   "source": [
    "train_merge = merge_basic(daily_train, test)"
   ]
  },
  {
   "cell_type": "code",
   "execution_count": 18,
   "metadata": {},
   "outputs": [
    {
     "data": {
      "text/html": [
       "<div>\n",
       "<style scoped>\n",
       "    .dataframe tbody tr th:only-of-type {\n",
       "        vertical-align: middle;\n",
       "    }\n",
       "\n",
       "    .dataframe tbody tr th {\n",
       "        vertical-align: top;\n",
       "    }\n",
       "\n",
       "    .dataframe thead th {\n",
       "        text-align: right;\n",
       "    }\n",
       "</style>\n",
       "<table border=\"1\" class=\"dataframe\">\n",
       "  <thead>\n",
       "    <tr style=\"text-align: right;\">\n",
       "      <th></th>\n",
       "      <th>date</th>\n",
       "      <th>date_block_num</th>\n",
       "      <th>shop_id</th>\n",
       "      <th>item_id</th>\n",
       "      <th>item_price</th>\n",
       "      <th>item_cnt_day</th>\n",
       "      <th>item_name</th>\n",
       "      <th>item_category_id</th>\n",
       "      <th>item_category_name</th>\n",
       "      <th>ID</th>\n",
       "      <th>SaleDate</th>\n",
       "    </tr>\n",
       "  </thead>\n",
       "  <tbody>\n",
       "    <tr>\n",
       "      <th>0</th>\n",
       "      <td>02.01.2013</td>\n",
       "      <td>0</td>\n",
       "      <td>59</td>\n",
       "      <td>22154</td>\n",
       "      <td>999.0</td>\n",
       "      <td>1.0</td>\n",
       "      <td>ЯВЛЕНИЕ 2012 (BD)</td>\n",
       "      <td>37</td>\n",
       "      <td>Кино - Blu-Ray</td>\n",
       "      <td>150983</td>\n",
       "      <td>2013-01-02</td>\n",
       "    </tr>\n",
       "    <tr>\n",
       "      <th>1</th>\n",
       "      <td>03.01.2013</td>\n",
       "      <td>0</td>\n",
       "      <td>25</td>\n",
       "      <td>2574</td>\n",
       "      <td>399.0</td>\n",
       "      <td>2.0</td>\n",
       "      <td>DEL REY LANA  Born To Die  The Paradise Editio...</td>\n",
       "      <td>55</td>\n",
       "      <td>Музыка - CD локального производства</td>\n",
       "      <td>56520</td>\n",
       "      <td>2013-01-03</td>\n",
       "    </tr>\n",
       "    <tr>\n",
       "      <th>2</th>\n",
       "      <td>05.01.2013</td>\n",
       "      <td>0</td>\n",
       "      <td>25</td>\n",
       "      <td>2574</td>\n",
       "      <td>399.0</td>\n",
       "      <td>1.0</td>\n",
       "      <td>DEL REY LANA  Born To Die  The Paradise Editio...</td>\n",
       "      <td>55</td>\n",
       "      <td>Музыка - CD локального производства</td>\n",
       "      <td>56520</td>\n",
       "      <td>2013-01-05</td>\n",
       "    </tr>\n",
       "    <tr>\n",
       "      <th>3</th>\n",
       "      <td>07.01.2013</td>\n",
       "      <td>0</td>\n",
       "      <td>25</td>\n",
       "      <td>2574</td>\n",
       "      <td>399.0</td>\n",
       "      <td>1.0</td>\n",
       "      <td>DEL REY LANA  Born To Die  The Paradise Editio...</td>\n",
       "      <td>55</td>\n",
       "      <td>Музыка - CD локального производства</td>\n",
       "      <td>56520</td>\n",
       "      <td>2013-01-07</td>\n",
       "    </tr>\n",
       "    <tr>\n",
       "      <th>4</th>\n",
       "      <td>08.01.2013</td>\n",
       "      <td>0</td>\n",
       "      <td>25</td>\n",
       "      <td>2574</td>\n",
       "      <td>399.0</td>\n",
       "      <td>2.0</td>\n",
       "      <td>DEL REY LANA  Born To Die  The Paradise Editio...</td>\n",
       "      <td>55</td>\n",
       "      <td>Музыка - CD локального производства</td>\n",
       "      <td>56520</td>\n",
       "      <td>2013-01-08</td>\n",
       "    </tr>\n",
       "  </tbody>\n",
       "</table>\n",
       "</div>"
      ],
      "text/plain": [
       "         date  date_block_num  shop_id  item_id  item_price  item_cnt_day  \\\n",
       "0  02.01.2013               0       59    22154       999.0           1.0   \n",
       "1  03.01.2013               0       25     2574       399.0           2.0   \n",
       "2  05.01.2013               0       25     2574       399.0           1.0   \n",
       "3  07.01.2013               0       25     2574       399.0           1.0   \n",
       "4  08.01.2013               0       25     2574       399.0           2.0   \n",
       "\n",
       "                                           item_name  item_category_id  \\\n",
       "0                                  ЯВЛЕНИЕ 2012 (BD)                37   \n",
       "1  DEL REY LANA  Born To Die  The Paradise Editio...                55   \n",
       "2  DEL REY LANA  Born To Die  The Paradise Editio...                55   \n",
       "3  DEL REY LANA  Born To Die  The Paradise Editio...                55   \n",
       "4  DEL REY LANA  Born To Die  The Paradise Editio...                55   \n",
       "\n",
       "                    item_category_name      ID   SaleDate  \n",
       "0                       Кино - Blu-Ray  150983 2013-01-02  \n",
       "1  Музыка - CD локального производства   56520 2013-01-03  \n",
       "2  Музыка - CD локального производства   56520 2013-01-05  \n",
       "3  Музыка - CD локального производства   56520 2013-01-07  \n",
       "4  Музыка - CD локального производства   56520 2013-01-08  "
      ]
     },
     "execution_count": 18,
     "metadata": {},
     "output_type": "execute_result"
    }
   ],
   "source": [
    "train_merge.head()"
   ]
  },
  {
   "cell_type": "code",
   "execution_count": 19,
   "metadata": {},
   "outputs": [],
   "source": [
    "wholedata_silver = convert_silver(train_merge)"
   ]
  },
  {
   "cell_type": "code",
   "execution_count": 20,
   "metadata": {},
   "outputs": [
    {
     "data": {
      "text/html": [
       "<div>\n",
       "<style scoped>\n",
       "    .dataframe tbody tr th:only-of-type {\n",
       "        vertical-align: middle;\n",
       "    }\n",
       "\n",
       "    .dataframe tbody tr th {\n",
       "        vertical-align: top;\n",
       "    }\n",
       "\n",
       "    .dataframe thead th {\n",
       "        text-align: right;\n",
       "    }\n",
       "</style>\n",
       "<table border=\"1\" class=\"dataframe\">\n",
       "  <thead>\n",
       "    <tr style=\"text-align: right;\">\n",
       "      <th></th>\n",
       "      <th>SaleDateMY</th>\n",
       "      <th>date_block_num</th>\n",
       "      <th>shop_id</th>\n",
       "      <th>item_id</th>\n",
       "      <th>item_category_name</th>\n",
       "      <th>item_category_id</th>\n",
       "      <th>item_cnt_day</th>\n",
       "      <th>shopitem</th>\n",
       "    </tr>\n",
       "  </thead>\n",
       "  <tbody>\n",
       "    <tr>\n",
       "      <th>0</th>\n",
       "      <td>2013-01-01</td>\n",
       "      <td>0</td>\n",
       "      <td>2</td>\n",
       "      <td>33</td>\n",
       "      <td>Кино - Blu-Ray</td>\n",
       "      <td>37</td>\n",
       "      <td>1.0</td>\n",
       "      <td>2-33</td>\n",
       "    </tr>\n",
       "    <tr>\n",
       "      <th>1</th>\n",
       "      <td>2013-01-01</td>\n",
       "      <td>0</td>\n",
       "      <td>2</td>\n",
       "      <td>482</td>\n",
       "      <td>Программы - 1С:Предприятие 8</td>\n",
       "      <td>73</td>\n",
       "      <td>1.0</td>\n",
       "      <td>2-482</td>\n",
       "    </tr>\n",
       "    <tr>\n",
       "      <th>2</th>\n",
       "      <td>2013-01-01</td>\n",
       "      <td>0</td>\n",
       "      <td>2</td>\n",
       "      <td>491</td>\n",
       "      <td>Программы - 1С:Предприятие 8</td>\n",
       "      <td>73</td>\n",
       "      <td>1.0</td>\n",
       "      <td>2-491</td>\n",
       "    </tr>\n",
       "    <tr>\n",
       "      <th>3</th>\n",
       "      <td>2013-01-01</td>\n",
       "      <td>0</td>\n",
       "      <td>2</td>\n",
       "      <td>839</td>\n",
       "      <td>Программы - 1С:Предприятие 8</td>\n",
       "      <td>73</td>\n",
       "      <td>1.0</td>\n",
       "      <td>2-839</td>\n",
       "    </tr>\n",
       "    <tr>\n",
       "      <th>4</th>\n",
       "      <td>2013-01-01</td>\n",
       "      <td>0</td>\n",
       "      <td>2</td>\n",
       "      <td>1007</td>\n",
       "      <td>Подарки - Развитие</td>\n",
       "      <td>67</td>\n",
       "      <td>3.0</td>\n",
       "      <td>2-1007</td>\n",
       "    </tr>\n",
       "  </tbody>\n",
       "</table>\n",
       "</div>"
      ],
      "text/plain": [
       "  SaleDateMY  date_block_num  shop_id  item_id            item_category_name  \\\n",
       "0 2013-01-01               0        2       33                Кино - Blu-Ray   \n",
       "1 2013-01-01               0        2      482  Программы - 1С:Предприятие 8   \n",
       "2 2013-01-01               0        2      491  Программы - 1С:Предприятие 8   \n",
       "3 2013-01-01               0        2      839  Программы - 1С:Предприятие 8   \n",
       "4 2013-01-01               0        2     1007            Подарки - Развитие   \n",
       "\n",
       "   item_category_id  item_cnt_day shopitem  \n",
       "0                37           1.0     2-33  \n",
       "1                73           1.0    2-482  \n",
       "2                73           1.0    2-491  \n",
       "3                73           1.0    2-839  \n",
       "4                67           3.0   2-1007  "
      ]
     },
     "execution_count": 20,
     "metadata": {},
     "output_type": "execute_result"
    }
   ],
   "source": [
    "wholedata_silver.head()"
   ]
  },
  {
   "cell_type": "code",
   "execution_count": 21,
   "metadata": {},
   "outputs": [],
   "source": [
    "### test preparation\n",
    "test_data = test.copy()\n",
    "test_data['SaleDateMY'] = pd.to_datetime(datetime.datetime(2015, 11, 1))\n",
    "test_data = test_data.merge(items, on = 'item_id',how = 'left')\n",
    "test_data = test_data.merge(categories, on= 'item_category_id', how = 'left')\n",
    "test_data['item_cnt_day'] = np.nan\n",
    "test_data['shopitem'] = test_data['shop_id'].astype('str') + '-' + test_data['item_id'].astype('str')\n",
    "test_data = test_data[['SaleDateMY','shop_id','item_id','item_category_id', 'item_category_name','item_cnt_day']]"
   ]
  },
  {
   "cell_type": "code",
   "execution_count": 22,
   "metadata": {},
   "outputs": [
    {
     "data": {
      "text/html": [
       "<div>\n",
       "<style scoped>\n",
       "    .dataframe tbody tr th:only-of-type {\n",
       "        vertical-align: middle;\n",
       "    }\n",
       "\n",
       "    .dataframe tbody tr th {\n",
       "        vertical-align: top;\n",
       "    }\n",
       "\n",
       "    .dataframe thead th {\n",
       "        text-align: right;\n",
       "    }\n",
       "</style>\n",
       "<table border=\"1\" class=\"dataframe\">\n",
       "  <thead>\n",
       "    <tr style=\"text-align: right;\">\n",
       "      <th></th>\n",
       "      <th>SaleDateMY</th>\n",
       "      <th>shop_id</th>\n",
       "      <th>item_id</th>\n",
       "      <th>item_category_id</th>\n",
       "      <th>item_category_name</th>\n",
       "      <th>item_cnt_day</th>\n",
       "    </tr>\n",
       "  </thead>\n",
       "  <tbody>\n",
       "    <tr>\n",
       "      <th>0</th>\n",
       "      <td>2015-11-01</td>\n",
       "      <td>5</td>\n",
       "      <td>5037</td>\n",
       "      <td>19</td>\n",
       "      <td>Игры - PS3</td>\n",
       "      <td>NaN</td>\n",
       "    </tr>\n",
       "    <tr>\n",
       "      <th>1</th>\n",
       "      <td>2015-11-01</td>\n",
       "      <td>5</td>\n",
       "      <td>5320</td>\n",
       "      <td>55</td>\n",
       "      <td>Музыка - CD локального производства</td>\n",
       "      <td>NaN</td>\n",
       "    </tr>\n",
       "    <tr>\n",
       "      <th>2</th>\n",
       "      <td>2015-11-01</td>\n",
       "      <td>5</td>\n",
       "      <td>5233</td>\n",
       "      <td>19</td>\n",
       "      <td>Игры - PS3</td>\n",
       "      <td>NaN</td>\n",
       "    </tr>\n",
       "    <tr>\n",
       "      <th>3</th>\n",
       "      <td>2015-11-01</td>\n",
       "      <td>5</td>\n",
       "      <td>5232</td>\n",
       "      <td>23</td>\n",
       "      <td>Игры - XBOX 360</td>\n",
       "      <td>NaN</td>\n",
       "    </tr>\n",
       "    <tr>\n",
       "      <th>4</th>\n",
       "      <td>2015-11-01</td>\n",
       "      <td>5</td>\n",
       "      <td>5268</td>\n",
       "      <td>20</td>\n",
       "      <td>Игры - PS4</td>\n",
       "      <td>NaN</td>\n",
       "    </tr>\n",
       "  </tbody>\n",
       "</table>\n",
       "</div>"
      ],
      "text/plain": [
       "  SaleDateMY  shop_id  item_id  item_category_id  \\\n",
       "0 2015-11-01        5     5037                19   \n",
       "1 2015-11-01        5     5320                55   \n",
       "2 2015-11-01        5     5233                19   \n",
       "3 2015-11-01        5     5232                23   \n",
       "4 2015-11-01        5     5268                20   \n",
       "\n",
       "                    item_category_name  item_cnt_day  \n",
       "0                           Игры - PS3           NaN  \n",
       "1  Музыка - CD локального производства           NaN  \n",
       "2                           Игры - PS3           NaN  \n",
       "3                      Игры - XBOX 360           NaN  \n",
       "4                           Игры - PS4           NaN  "
      ]
     },
     "execution_count": 22,
     "metadata": {},
     "output_type": "execute_result"
    }
   ],
   "source": [
    "test_data.head()"
   ]
  },
  {
   "cell_type": "code",
   "execution_count": 23,
   "metadata": {},
   "outputs": [
    {
     "data": {
      "text/plain": [
       "(214200, 6)"
      ]
     },
     "execution_count": 23,
     "metadata": {},
     "output_type": "execute_result"
    }
   ],
   "source": [
    "test_data.shape"
   ]
  },
  {
   "cell_type": "code",
   "execution_count": 24,
   "metadata": {},
   "outputs": [],
   "source": [
    "date_val = datetime.datetime(2015, 11, 1)"
   ]
  },
  {
   "cell_type": "code",
   "execution_count": 25,
   "metadata": {},
   "outputs": [],
   "source": [
    "train_full = completion_semi_gold(wholedata_silver)"
   ]
  },
  {
   "cell_type": "code",
   "execution_count": 26,
   "metadata": {},
   "outputs": [],
   "source": [
    "train_feature, features_dictionary = feature_silver(train_full)"
   ]
  },
  {
   "cell_type": "code",
   "execution_count": 27,
   "metadata": {},
   "outputs": [],
   "source": [
    "train_feature = integration_new_features_map(data = train_feature, dict_feature= features_dictionary) "
   ]
  },
  {
   "cell_type": "code",
   "execution_count": 28,
   "metadata": {},
   "outputs": [
    {
     "data": {
      "text/plain": [
       "34"
      ]
     },
     "execution_count": 28,
     "metadata": {},
     "output_type": "execute_result"
    }
   ],
   "source": [
    "to_drop_columns = ['Date','Sale','SaleL1M']\n",
    "numericals = ['L1M_L2M', 'L2M_L3M', 'L3M_L4M','L1M_L11M', 'L1M_L12M', 'L1M_L13M', 'possCounts','maxSection', 'L11M', 'L12M', 'L13M', 'Roll0count',\n",
    "       'Roll0L1', 'Roll0L1L6', 'Roll0L1L12', 'Roll0countL6', 'Roll0countL12','month', 'maxSaleL1M', 'noVar', 'countNoVar', 'FlagShop','monthToPredict',\n",
    "       'FlagCategory', 'SumBefExplotion', 'labeling', 'meanVarExploItem','meanVarExploShop', 'countMonth', 'medianVarL12', 'SeasonalVariation','HighVarL12' ]\n",
    "categoricals = ['categVolume', 'categSale']\n",
    "my_features = to_drop_columns + numericals + categoricals\n",
    "my_target = 'L0M_L1M'\n",
    "len(my_features) - 3"
   ]
  },
  {
   "cell_type": "code",
   "execution_count": 29,
   "metadata": {},
   "outputs": [],
   "source": [
    "train_selection = features_rows_train_silver(data = train_feature, features = my_features, target = my_target, sample_1 = 0.55, sample_2 = 0.15, dates_back = 2)"
   ]
  },
  {
   "cell_type": "code",
   "execution_count": 30,
   "metadata": {},
   "outputs": [],
   "source": [
    "my_columns_to_drops = ['noVar', 'categSale_A','labeling','categSale_D','categVolume_G','categVolume_F','categVolume_F','categVolume_H','Roll0count','categSale_C','categVolume_C','categVolume_D','FlagShop','maxSaleL1M']\n",
    "train_scaled, my_scaler = scaler(train_selection, numericals, my_target, scaler=None, drop_columns = my_columns_to_drops)\n",
    "train_dummies = pd.get_dummies(train_selection[categoricals])\n",
    "train_scaled = pd.concat([train_dummies,train_scaled],axis = 1)"
   ]
  },
  {
   "cell_type": "code",
   "execution_count": 31,
   "metadata": {},
   "outputs": [],
   "source": [
    "final_features = list(train_dummies.columns) +  numericals\n",
    "final_features = [x for x in final_features if x not in my_columns_to_drops]"
   ]
  },
  {
   "cell_type": "markdown",
   "metadata": {},
   "source": [
    "### ML Training"
   ]
  },
  {
   "cell_type": "code",
   "execution_count": 32,
   "metadata": {},
   "outputs": [],
   "source": [
    "X_train = train_scaled[final_features]\n",
    "Y_train = train_scaled[my_target]"
   ]
  },
  {
   "cell_type": "code",
   "execution_count": 33,
   "metadata": {},
   "outputs": [
    {
     "name": "stdout",
     "output_type": "stream",
     "text": [
      "Wall time: 9min 14s\n"
     ]
    },
    {
     "data": {
      "text/plain": [
       "AdaBoostRegressor(base_estimator=DecisionTreeRegressor(max_depth=40,\n",
       "                                                       max_features=25,\n",
       "                                                       min_samples_leaf=12,\n",
       "                                                       min_samples_split=10),\n",
       "                  learning_rate=0.002, n_estimators=90)"
      ]
     },
     "execution_count": 33,
     "metadata": {},
     "output_type": "execute_result"
    }
   ],
   "source": [
    "%%time\n",
    "my_base = DecisionTreeRegressor(criterion = 'squared_error', max_depth = 40, min_samples_split = 10, min_samples_leaf = 12 , max_features = 25)\n",
    "my_ABM = AdaBoostRegressor(base_estimator = my_base, n_estimators=90, learning_rate=0.002, loss='linear')\n",
    "my_ABM.fit(X_train, Y_train)"
   ]
  },
  {
   "cell_type": "code",
   "execution_count": 34,
   "metadata": {},
   "outputs": [
    {
     "name": "stdout",
     "output_type": "stream",
     "text": [
      "Wall time: 8min 27s\n"
     ]
    },
    {
     "data": {
      "text/plain": [
       "GradientBoostingRegressor(learning_rate=0.15, max_depth=15, max_features=30,\n",
       "                          min_samples_leaf=3, min_samples_split=3,\n",
       "                          n_estimators=150)"
      ]
     },
     "execution_count": 34,
     "metadata": {},
     "output_type": "execute_result"
    }
   ],
   "source": [
    "%%time\n",
    "my_adab = GradientBoostingRegressor( n_estimators = 150, learning_rate = 0.15, loss='squared_error', max_depth = 15, min_samples_split = 3 , \n",
    "                                    max_features = 30, min_samples_leaf = 3)\n",
    "my_adab.fit(X_train, Y_train)"
   ]
  },
  {
   "cell_type": "markdown",
   "metadata": {},
   "source": [
    "<b> prepare test to predict"
   ]
  },
  {
   "cell_type": "code",
   "execution_count": 35,
   "metadata": {},
   "outputs": [],
   "source": [
    "full_valandtrain = preparing_to_predict(val_data = test_data, train_data = wholedata_silver)\n",
    "full_valandtrain = completion_semi_gold(full_valandtrain)"
   ]
  },
  {
   "cell_type": "code",
   "execution_count": 36,
   "metadata": {},
   "outputs": [],
   "source": [
    "valandtrain_feature , _ = feature_silver(full_valandtrain)\n",
    "valandtrain_feature = integration_new_features_map(data = valandtrain_feature, dict_feature= features_dictionary) "
   ]
  },
  {
   "cell_type": "code",
   "execution_count": 37,
   "metadata": {},
   "outputs": [],
   "source": [
    "val_selection = features_rows_train_silver(data = valandtrain_feature, features = my_features, target = my_target, dates_back = 1, validation = date_val) "
   ]
  },
  {
   "cell_type": "code",
   "execution_count": 38,
   "metadata": {},
   "outputs": [
    {
     "data": {
      "text/plain": [
       "(214200, 38)"
      ]
     },
     "execution_count": 38,
     "metadata": {},
     "output_type": "execute_result"
    }
   ],
   "source": [
    "val_selection.shape"
   ]
  },
  {
   "cell_type": "code",
   "execution_count": 39,
   "metadata": {},
   "outputs": [],
   "source": [
    "val_scaled = scaler(val_selection, numericals, my_target, scaler=my_scaler,drop_columns = my_columns_to_drops )\n",
    "val_dummies = pd.get_dummies(val_selection[categoricals])\n",
    "val_scaled_full = pd.concat([val_dummies,val_scaled],axis = 1)"
   ]
  },
  {
   "cell_type": "code",
   "execution_count": 40,
   "metadata": {},
   "outputs": [],
   "source": [
    "X_val = val_scaled_full[final_features]"
   ]
  },
  {
   "cell_type": "code",
   "execution_count": 41,
   "metadata": {},
   "outputs": [],
   "source": [
    "Y_pred_adaboost = my_ABM.predict(X_val)\n",
    "Y_pred_gradboost = my_adab.predict(X_val)"
   ]
  },
  {
   "cell_type": "code",
   "execution_count": 42,
   "metadata": {},
   "outputs": [],
   "source": [
    "predicted_val_adaboost = inversed_scale(scaler = my_scaler, data = val_scaled, target_name = my_target, y_pred = Y_pred_adaboost)\n",
    "predicted_val_gradboost = inversed_scale(scaler = my_scaler, data = val_scaled, target_name = my_target, y_pred = Y_pred_gradboost)"
   ]
  },
  {
   "cell_type": "code",
   "execution_count": 48,
   "metadata": {},
   "outputs": [],
   "source": [
    "my_lm_adaboost = consolidation_prediction(data = val_selection, prediction = predicted_val_adaboost.L0M_L1M.values).rename(columns = {'PredictedVar':'PredictedVar_adaBoost'})\n",
    "my_lm_gradboost = consolidation_prediction(data = val_selection, prediction = predicted_val_gradboost.L0M_L1M.values).rename(columns = {'PredictedVar':'PredictedVar_gradBoost'})"
   ]
  },
  {
   "cell_type": "code",
   "execution_count": 51,
   "metadata": {},
   "outputs": [],
   "source": [
    "merge_preds_val = my_lm_gradboost[columns_1].merge(my_lm_adaboost[columns_2], left_index=True, right_index=True, how = 'left')\n",
    "merge_preds_val['Date'] = pd.to_datetime(merge_preds_val.Date)\n",
    "merge_preds_val['month'] = merge_preds_val.Date.dt.month"
   ]
  },
  {
   "cell_type": "code",
   "execution_count": 53,
   "metadata": {},
   "outputs": [],
   "source": [
    "my_features = ['PredictedVar_gradBoost','PredictedVar_adaBoost','month']\n",
    "my_target = 'RealValueVar'"
   ]
  },
  {
   "cell_type": "code",
   "execution_count": 58,
   "metadata": {},
   "outputs": [],
   "source": [
    "X_val = merge_preds_val[my_features].copy()"
   ]
  },
  {
   "cell_type": "code",
   "execution_count": 59,
   "metadata": {},
   "outputs": [],
   "source": [
    "Y_pred = stacker.predict(X_val)"
   ]
  },
  {
   "cell_type": "code",
   "execution_count": 60,
   "metadata": {},
   "outputs": [],
   "source": [
    "val_data_v2 = merge_preds_val.copy()\n",
    "val_data_v2['PredictedVar'] = Y_pred\n",
    "val_data_v2['PredSale'] = val_data_v2['PredictedVar'] + val_data_v2['Sale']"
   ]
  },
  {
   "cell_type": "code",
   "execution_count": 62,
   "metadata": {},
   "outputs": [],
   "source": [
    "val_data_v2.to_csv('final_prediction.csv',header = True, index = False)"
   ]
  },
  {
   "cell_type": "markdown",
   "metadata": {},
   "source": [
    "#### Continue....."
   ]
  },
  {
   "cell_type": "code",
   "execution_count": 6,
   "metadata": {},
   "outputs": [],
   "source": [
    "val_data_v2 = pd.read_csv('final_prediction.csv')"
   ]
  },
  {
   "cell_type": "code",
   "execution_count": 11,
   "metadata": {},
   "outputs": [],
   "source": [
    "test['Prediction'] = val_data_v2.PredSale.values\n",
    "test['item_cnt_month'] = np.where(test['Prediction'] < 0 ,0 ,\n",
    "                        np.where(test['Prediction'] > 20, 20, test['Prediction']))"
   ]
  },
  {
   "cell_type": "code",
   "execution_count": 12,
   "metadata": {},
   "outputs": [
    {
     "data": {
      "text/html": [
       "<div>\n",
       "<style scoped>\n",
       "    .dataframe tbody tr th:only-of-type {\n",
       "        vertical-align: middle;\n",
       "    }\n",
       "\n",
       "    .dataframe tbody tr th {\n",
       "        vertical-align: top;\n",
       "    }\n",
       "\n",
       "    .dataframe thead th {\n",
       "        text-align: right;\n",
       "    }\n",
       "</style>\n",
       "<table border=\"1\" class=\"dataframe\">\n",
       "  <thead>\n",
       "    <tr style=\"text-align: right;\">\n",
       "      <th></th>\n",
       "      <th>ID</th>\n",
       "      <th>shop_id</th>\n",
       "      <th>item_id</th>\n",
       "      <th>Prediction</th>\n",
       "      <th>item_cnt_month</th>\n",
       "    </tr>\n",
       "  </thead>\n",
       "  <tbody>\n",
       "    <tr>\n",
       "      <th>0</th>\n",
       "      <td>0</td>\n",
       "      <td>5</td>\n",
       "      <td>5037</td>\n",
       "      <td>0.118689</td>\n",
       "      <td>0.118689</td>\n",
       "    </tr>\n",
       "    <tr>\n",
       "      <th>1</th>\n",
       "      <td>1</td>\n",
       "      <td>5</td>\n",
       "      <td>5320</td>\n",
       "      <td>0.051215</td>\n",
       "      <td>0.051215</td>\n",
       "    </tr>\n",
       "    <tr>\n",
       "      <th>2</th>\n",
       "      <td>2</td>\n",
       "      <td>5</td>\n",
       "      <td>5233</td>\n",
       "      <td>0.125221</td>\n",
       "      <td>0.125221</td>\n",
       "    </tr>\n",
       "    <tr>\n",
       "      <th>3</th>\n",
       "      <td>3</td>\n",
       "      <td>5</td>\n",
       "      <td>5232</td>\n",
       "      <td>0.142891</td>\n",
       "      <td>0.142891</td>\n",
       "    </tr>\n",
       "    <tr>\n",
       "      <th>4</th>\n",
       "      <td>4</td>\n",
       "      <td>5</td>\n",
       "      <td>5268</td>\n",
       "      <td>0.106339</td>\n",
       "      <td>0.106339</td>\n",
       "    </tr>\n",
       "  </tbody>\n",
       "</table>\n",
       "</div>"
      ],
      "text/plain": [
       "   ID  shop_id  item_id  Prediction  item_cnt_month\n",
       "0   0        5     5037    0.118689        0.118689\n",
       "1   1        5     5320    0.051215        0.051215\n",
       "2   2        5     5233    0.125221        0.125221\n",
       "3   3        5     5232    0.142891        0.142891\n",
       "4   4        5     5268    0.106339        0.106339"
      ]
     },
     "execution_count": 12,
     "metadata": {},
     "output_type": "execute_result"
    }
   ],
   "source": [
    "test.head()"
   ]
  },
  {
   "cell_type": "code",
   "execution_count": 14,
   "metadata": {},
   "outputs": [
    {
     "data": {
      "text/plain": [
       "(14.06531452748428, 0.0)"
      ]
     },
     "execution_count": 14,
     "metadata": {},
     "output_type": "execute_result"
    }
   ],
   "source": [
    "test.item_cnt_month.max(), test.item_cnt_month.min()"
   ]
  },
  {
   "cell_type": "code",
   "execution_count": 15,
   "metadata": {},
   "outputs": [],
   "source": [
    "test[['ID','item_cnt_month']].to_csv('miguel_prediction.csv',index = False, header = True)"
   ]
  },
  {
   "cell_type": "markdown",
   "metadata": {},
   "source": [
    "This result got 1.21 and 1.23"
   ]
  },
  {
   "cell_type": "code",
   "execution_count": null,
   "metadata": {},
   "outputs": [],
   "source": []
  }
 ],
 "metadata": {
  "kernelspec": {
   "display_name": "Python 3",
   "language": "python",
   "name": "python3"
  },
  "language_info": {
   "codemirror_mode": {
    "name": "ipython",
    "version": 3
   },
   "file_extension": ".py",
   "mimetype": "text/x-python",
   "name": "python",
   "nbconvert_exporter": "python",
   "pygments_lexer": "ipython3",
   "version": "3.7.6"
  }
 },
 "nbformat": 4,
 "nbformat_minor": 4
}
