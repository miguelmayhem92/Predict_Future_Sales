{
 "cells": [
  {
   "cell_type": "markdown",
   "metadata": {},
   "source": [
    "# Predict Future Sales"
   ]
  },
  {
   "cell_type": "markdown",
   "metadata": {},
   "source": [
    "kaggle link : https://www.kaggle.com/c/competitive-data-science-predict-future-sales/overview"
   ]
  },
  {
   "cell_type": "code",
   "execution_count": 1,
   "metadata": {},
   "outputs": [],
   "source": [
    "import pandas as pd\n",
    "import numpy as np\n",
    "import matplotlib.pyplot as plt\n",
    "import datetime\n",
    "import seaborn as sns; sns.set()\n",
    "from dateutil.relativedelta import relativedelta"
   ]
  },
  {
   "cell_type": "code",
   "execution_count": 2,
   "metadata": {},
   "outputs": [],
   "source": [
    "from my_functions import merge_basic"
   ]
  },
  {
   "cell_type": "code",
   "execution_count": 3,
   "metadata": {},
   "outputs": [],
   "source": [
    "from sklearn.preprocessing import MinMaxScaler\n",
    "from sklearn.linear_model import Ridge\n",
    "from sklearn.metrics import mean_squared_error"
   ]
  },
  {
   "cell_type": "markdown",
   "metadata": {},
   "source": [
    "### Data"
   ]
  },
  {
   "cell_type": "code",
   "execution_count": 4,
   "metadata": {},
   "outputs": [],
   "source": [
    "daily_train = pd.read_csv('sales_train.csv')\n",
    "items = pd.read_csv('items.csv')\n",
    "shops = pd.read_csv('shops.csv')\n",
    "categories = pd.read_csv('item_categories.csv')\n",
    "sample_submission = pd.read_csv('sample_submission.csv')\n",
    "test = pd.read_csv('test.csv')"
   ]
  },
  {
   "cell_type": "markdown",
   "metadata": {},
   "source": [
    "### Data modeling"
   ]
  },
  {
   "cell_type": "code",
   "execution_count": 5,
   "metadata": {},
   "outputs": [],
   "source": [
    "train_merge = merge_basic(daily_train, test)"
   ]
  },
  {
   "cell_type": "code",
   "execution_count": 6,
   "metadata": {},
   "outputs": [
    {
     "data": {
      "text/html": [
       "<div>\n",
       "<style scoped>\n",
       "    .dataframe tbody tr th:only-of-type {\n",
       "        vertical-align: middle;\n",
       "    }\n",
       "\n",
       "    .dataframe tbody tr th {\n",
       "        vertical-align: top;\n",
       "    }\n",
       "\n",
       "    .dataframe thead th {\n",
       "        text-align: right;\n",
       "    }\n",
       "</style>\n",
       "<table border=\"1\" class=\"dataframe\">\n",
       "  <thead>\n",
       "    <tr style=\"text-align: right;\">\n",
       "      <th></th>\n",
       "      <th>date</th>\n",
       "      <th>date_block_num</th>\n",
       "      <th>shop_id</th>\n",
       "      <th>item_id</th>\n",
       "      <th>item_price</th>\n",
       "      <th>item_cnt_day</th>\n",
       "      <th>item_name</th>\n",
       "      <th>item_category_name</th>\n",
       "      <th>ID</th>\n",
       "      <th>SaleDate</th>\n",
       "    </tr>\n",
       "  </thead>\n",
       "  <tbody>\n",
       "    <tr>\n",
       "      <th>0</th>\n",
       "      <td>02.01.2013</td>\n",
       "      <td>0</td>\n",
       "      <td>59</td>\n",
       "      <td>22154</td>\n",
       "      <td>999.0</td>\n",
       "      <td>1.0</td>\n",
       "      <td>ЯВЛЕНИЕ 2012 (BD)</td>\n",
       "      <td>Кино - Blu-Ray</td>\n",
       "      <td>150983</td>\n",
       "      <td>2013-01-02</td>\n",
       "    </tr>\n",
       "    <tr>\n",
       "      <th>1</th>\n",
       "      <td>03.01.2013</td>\n",
       "      <td>0</td>\n",
       "      <td>25</td>\n",
       "      <td>2574</td>\n",
       "      <td>399.0</td>\n",
       "      <td>2.0</td>\n",
       "      <td>DEL REY LANA  Born To Die  The Paradise Editio...</td>\n",
       "      <td>Музыка - CD локального производства</td>\n",
       "      <td>56520</td>\n",
       "      <td>2013-01-03</td>\n",
       "    </tr>\n",
       "    <tr>\n",
       "      <th>2</th>\n",
       "      <td>05.01.2013</td>\n",
       "      <td>0</td>\n",
       "      <td>25</td>\n",
       "      <td>2574</td>\n",
       "      <td>399.0</td>\n",
       "      <td>1.0</td>\n",
       "      <td>DEL REY LANA  Born To Die  The Paradise Editio...</td>\n",
       "      <td>Музыка - CD локального производства</td>\n",
       "      <td>56520</td>\n",
       "      <td>2013-01-05</td>\n",
       "    </tr>\n",
       "    <tr>\n",
       "      <th>3</th>\n",
       "      <td>07.01.2013</td>\n",
       "      <td>0</td>\n",
       "      <td>25</td>\n",
       "      <td>2574</td>\n",
       "      <td>399.0</td>\n",
       "      <td>1.0</td>\n",
       "      <td>DEL REY LANA  Born To Die  The Paradise Editio...</td>\n",
       "      <td>Музыка - CD локального производства</td>\n",
       "      <td>56520</td>\n",
       "      <td>2013-01-07</td>\n",
       "    </tr>\n",
       "    <tr>\n",
       "      <th>4</th>\n",
       "      <td>08.01.2013</td>\n",
       "      <td>0</td>\n",
       "      <td>25</td>\n",
       "      <td>2574</td>\n",
       "      <td>399.0</td>\n",
       "      <td>2.0</td>\n",
       "      <td>DEL REY LANA  Born To Die  The Paradise Editio...</td>\n",
       "      <td>Музыка - CD локального производства</td>\n",
       "      <td>56520</td>\n",
       "      <td>2013-01-08</td>\n",
       "    </tr>\n",
       "  </tbody>\n",
       "</table>\n",
       "</div>"
      ],
      "text/plain": [
       "         date  date_block_num  shop_id  item_id  item_price  item_cnt_day  \\\n",
       "0  02.01.2013               0       59    22154       999.0           1.0   \n",
       "1  03.01.2013               0       25     2574       399.0           2.0   \n",
       "2  05.01.2013               0       25     2574       399.0           1.0   \n",
       "3  07.01.2013               0       25     2574       399.0           1.0   \n",
       "4  08.01.2013               0       25     2574       399.0           2.0   \n",
       "\n",
       "                                           item_name  \\\n",
       "0                                  ЯВЛЕНИЕ 2012 (BD)   \n",
       "1  DEL REY LANA  Born To Die  The Paradise Editio...   \n",
       "2  DEL REY LANA  Born To Die  The Paradise Editio...   \n",
       "3  DEL REY LANA  Born To Die  The Paradise Editio...   \n",
       "4  DEL REY LANA  Born To Die  The Paradise Editio...   \n",
       "\n",
       "                    item_category_name      ID   SaleDate  \n",
       "0                       Кино - Blu-Ray  150983 2013-01-02  \n",
       "1  Музыка - CD локального производства   56520 2013-01-03  \n",
       "2  Музыка - CD локального производства   56520 2013-01-05  \n",
       "3  Музыка - CD локального производства   56520 2013-01-07  \n",
       "4  Музыка - CD локального производства   56520 2013-01-08  "
      ]
     },
     "execution_count": 6,
     "metadata": {},
     "output_type": "execute_result"
    }
   ],
   "source": [
    "train_merge.head()"
   ]
  },
  {
   "cell_type": "code",
   "execution_count": 7,
   "metadata": {},
   "outputs": [],
   "source": [
    "def convert_silver(data):\n",
    "    data_result = data.assign(TransactionType = np.where(data.item_cnt_day <= 0, 'SaleBack', 'Sale'))\n",
    "    data_result['SaleDateMY'] = data_result['SaleDate'].dt.to_period('M').dt.to_timestamp()\n",
    "    result = data_result.pivot_table(index = ['SaleDateMY', 'date_block_num', 'shop_id', 'item_id'], values = 'item_cnt_day',aggfunc = 'sum')\n",
    "    result = result.reset_index()\n",
    "    result = result.assign(shopitem = result.shop_id.astype('str') +'-'+ result.item_id.astype('str') )\n",
    "    return result"
   ]
  },
  {
   "cell_type": "code",
   "execution_count": 8,
   "metadata": {},
   "outputs": [],
   "source": [
    "wholedata_silver = convert_silver(train_merge)"
   ]
  },
  {
   "cell_type": "code",
   "execution_count": 9,
   "metadata": {},
   "outputs": [
    {
     "data": {
      "text/html": [
       "<div>\n",
       "<style scoped>\n",
       "    .dataframe tbody tr th:only-of-type {\n",
       "        vertical-align: middle;\n",
       "    }\n",
       "\n",
       "    .dataframe tbody tr th {\n",
       "        vertical-align: top;\n",
       "    }\n",
       "\n",
       "    .dataframe thead th {\n",
       "        text-align: right;\n",
       "    }\n",
       "</style>\n",
       "<table border=\"1\" class=\"dataframe\">\n",
       "  <thead>\n",
       "    <tr style=\"text-align: right;\">\n",
       "      <th></th>\n",
       "      <th>SaleDateMY</th>\n",
       "      <th>date_block_num</th>\n",
       "      <th>shop_id</th>\n",
       "      <th>item_id</th>\n",
       "      <th>item_cnt_day</th>\n",
       "      <th>shopitem</th>\n",
       "    </tr>\n",
       "  </thead>\n",
       "  <tbody>\n",
       "    <tr>\n",
       "      <th>0</th>\n",
       "      <td>2013-01-01</td>\n",
       "      <td>0</td>\n",
       "      <td>2</td>\n",
       "      <td>33</td>\n",
       "      <td>1.0</td>\n",
       "      <td>2-33</td>\n",
       "    </tr>\n",
       "    <tr>\n",
       "      <th>1</th>\n",
       "      <td>2013-01-01</td>\n",
       "      <td>0</td>\n",
       "      <td>2</td>\n",
       "      <td>482</td>\n",
       "      <td>1.0</td>\n",
       "      <td>2-482</td>\n",
       "    </tr>\n",
       "    <tr>\n",
       "      <th>2</th>\n",
       "      <td>2013-01-01</td>\n",
       "      <td>0</td>\n",
       "      <td>2</td>\n",
       "      <td>491</td>\n",
       "      <td>1.0</td>\n",
       "      <td>2-491</td>\n",
       "    </tr>\n",
       "    <tr>\n",
       "      <th>3</th>\n",
       "      <td>2013-01-01</td>\n",
       "      <td>0</td>\n",
       "      <td>2</td>\n",
       "      <td>839</td>\n",
       "      <td>1.0</td>\n",
       "      <td>2-839</td>\n",
       "    </tr>\n",
       "    <tr>\n",
       "      <th>4</th>\n",
       "      <td>2013-01-01</td>\n",
       "      <td>0</td>\n",
       "      <td>2</td>\n",
       "      <td>1007</td>\n",
       "      <td>3.0</td>\n",
       "      <td>2-1007</td>\n",
       "    </tr>\n",
       "  </tbody>\n",
       "</table>\n",
       "</div>"
      ],
      "text/plain": [
       "  SaleDateMY  date_block_num  shop_id  item_id  item_cnt_day shopitem\n",
       "0 2013-01-01               0        2       33           1.0     2-33\n",
       "1 2013-01-01               0        2      482           1.0    2-482\n",
       "2 2013-01-01               0        2      491           1.0    2-491\n",
       "3 2013-01-01               0        2      839           1.0    2-839\n",
       "4 2013-01-01               0        2     1007           3.0   2-1007"
      ]
     },
     "execution_count": 9,
     "metadata": {},
     "output_type": "execute_result"
    }
   ],
   "source": [
    "wholedata_silver.head()"
   ]
  },
  {
   "cell_type": "markdown",
   "metadata": {},
   "source": [
    "<b> Splitting strategy:"
   ]
  },
  {
   "cell_type": "markdown",
   "metadata": {},
   "source": [
    "* time series expanding window of one period, Take 7 months\n",
    "* over the first fold, make the functions and features for modeling and prediction (avoid leakage)\n",
    "* lags and seasons are features\n",
    "* use rmse as metric\n",
    "* consider the outputs of the EDA\n",
    "* goal, predict november or yyyy-11-01"
   ]
  },
  {
   "cell_type": "markdown",
   "metadata": {},
   "source": [
    "#### The validation data"
   ]
  },
  {
   "cell_type": "code",
   "execution_count": 11,
   "metadata": {},
   "outputs": [
    {
     "data": {
      "text/plain": [
       "Timestamp('2015-10-01 00:00:00')"
      ]
     },
     "execution_count": 11,
     "metadata": {},
     "output_type": "execute_result"
    }
   ],
   "source": [
    "wholedata_silver.SaleDateMY.max()"
   ]
  },
  {
   "cell_type": "code",
   "execution_count": 12,
   "metadata": {},
   "outputs": [],
   "source": [
    "test_dates = [datetime.datetime(2014, 11, 1), datetime.datetime(2015, 4, 1), datetime.datetime(2015, 5, 1), datetime.datetime(2015, 6, 1), datetime.datetime(2015, 7, 1), datetime.datetime(2015, 8, 1),\n",
    "datetime.datetime(2015, 9, 1), datetime.datetime(2015, 10, 1),]"
   ]
  },
  {
   "cell_type": "code",
   "execution_count": 13,
   "metadata": {},
   "outputs": [],
   "source": [
    "whole_test_data = wholedata_silver[wholedata_silver.SaleDateMY.isin(test_dates)][['SaleDateMY','date_block_num','shop_id','item_id','item_cnt_day']]"
   ]
  },
  {
   "cell_type": "markdown",
   "metadata": {},
   "source": [
    "#### hold-out Train"
   ]
  },
  {
   "cell_type": "code",
   "execution_count": 14,
   "metadata": {},
   "outputs": [],
   "source": [
    "date_val = datetime.datetime(2014, 10, 1)"
   ]
  },
  {
   "cell_type": "code",
   "execution_count": 15,
   "metadata": {},
   "outputs": [],
   "source": [
    "train_window = wholedata_silver[wholedata_silver.SaleDateMY < date_val ].copy()\n",
    "val_window = wholedata_silver[wholedata_silver.SaleDateMY == date_val ][['SaleDateMY','shop_id','item_id','item_cnt_day']].copy()"
   ]
  },
  {
   "cell_type": "code",
   "execution_count": 16,
   "metadata": {},
   "outputs": [
    {
     "data": {
      "text/html": [
       "<div>\n",
       "<style scoped>\n",
       "    .dataframe tbody tr th:only-of-type {\n",
       "        vertical-align: middle;\n",
       "    }\n",
       "\n",
       "    .dataframe tbody tr th {\n",
       "        vertical-align: top;\n",
       "    }\n",
       "\n",
       "    .dataframe thead th {\n",
       "        text-align: right;\n",
       "    }\n",
       "</style>\n",
       "<table border=\"1\" class=\"dataframe\">\n",
       "  <thead>\n",
       "    <tr style=\"text-align: right;\">\n",
       "      <th></th>\n",
       "      <th>SaleDateMY</th>\n",
       "      <th>date_block_num</th>\n",
       "      <th>shop_id</th>\n",
       "      <th>item_id</th>\n",
       "      <th>item_cnt_day</th>\n",
       "      <th>shopitem</th>\n",
       "    </tr>\n",
       "  </thead>\n",
       "  <tbody>\n",
       "    <tr>\n",
       "      <th>0</th>\n",
       "      <td>2013-01-01</td>\n",
       "      <td>0</td>\n",
       "      <td>2</td>\n",
       "      <td>33</td>\n",
       "      <td>1.0</td>\n",
       "      <td>2-33</td>\n",
       "    </tr>\n",
       "    <tr>\n",
       "      <th>1</th>\n",
       "      <td>2013-01-01</td>\n",
       "      <td>0</td>\n",
       "      <td>2</td>\n",
       "      <td>482</td>\n",
       "      <td>1.0</td>\n",
       "      <td>2-482</td>\n",
       "    </tr>\n",
       "    <tr>\n",
       "      <th>2</th>\n",
       "      <td>2013-01-01</td>\n",
       "      <td>0</td>\n",
       "      <td>2</td>\n",
       "      <td>491</td>\n",
       "      <td>1.0</td>\n",
       "      <td>2-491</td>\n",
       "    </tr>\n",
       "    <tr>\n",
       "      <th>3</th>\n",
       "      <td>2013-01-01</td>\n",
       "      <td>0</td>\n",
       "      <td>2</td>\n",
       "      <td>839</td>\n",
       "      <td>1.0</td>\n",
       "      <td>2-839</td>\n",
       "    </tr>\n",
       "    <tr>\n",
       "      <th>4</th>\n",
       "      <td>2013-01-01</td>\n",
       "      <td>0</td>\n",
       "      <td>2</td>\n",
       "      <td>1007</td>\n",
       "      <td>3.0</td>\n",
       "      <td>2-1007</td>\n",
       "    </tr>\n",
       "  </tbody>\n",
       "</table>\n",
       "</div>"
      ],
      "text/plain": [
       "  SaleDateMY  date_block_num  shop_id  item_id  item_cnt_day shopitem\n",
       "0 2013-01-01               0        2       33           1.0     2-33\n",
       "1 2013-01-01               0        2      482           1.0    2-482\n",
       "2 2013-01-01               0        2      491           1.0    2-491\n",
       "3 2013-01-01               0        2      839           1.0    2-839\n",
       "4 2013-01-01               0        2     1007           3.0   2-1007"
      ]
     },
     "execution_count": 16,
     "metadata": {},
     "output_type": "execute_result"
    }
   ],
   "source": [
    "train_window.head()"
   ]
  },
  {
   "cell_type": "code",
   "execution_count": 17,
   "metadata": {},
   "outputs": [
    {
     "data": {
      "text/plain": [
       "(Timestamp('2014-09-01 00:00:00'), Timestamp('2013-01-01 00:00:00'))"
      ]
     },
     "execution_count": 17,
     "metadata": {},
     "output_type": "execute_result"
    }
   ],
   "source": [
    "train_window.SaleDateMY.max(), train_window.SaleDateMY.min()"
   ]
  },
  {
   "cell_type": "code",
   "execution_count": 18,
   "metadata": {},
   "outputs": [],
   "source": [
    "def completion_semi_gold(data):\n",
    "\n",
    "    max_date = data.SaleDateMY.max()\n",
    "    min_date = max_date - relativedelta(months=30)\n",
    "\n",
    "    ### completing with 0 items with 0 in no dates\n",
    "    result_data = data[(data.SaleDateMY >= min_date) & (data.SaleDateMY <= max_date)].pivot_table(index = ['shop_id', 'item_id','shopitem'], columns ='SaleDateMY', values = 'item_cnt_day', aggfunc = 'sum').reset_index().fillna(0)\n",
    "    group_data = result_data.melt(id_vars=['shop_id', 'item_id','shopitem'], value_vars = result_data.columns[3:],  var_name='Date', value_name='Sale')\n",
    "\n",
    "    ### get a map of the dates\n",
    "    date_list =[group_data.Date.min()]\n",
    "    date = group_data.Date.min()\n",
    "    while date <= max_date:\n",
    "        date = date_list[-1] + relativedelta(months=1)\n",
    "        date_list.append(date)\n",
    "    order_list = range(1,len(date_list)+1)\n",
    "    date_map = pd.DataFrame({'Date':date_list, 'Order':order_list})\n",
    "    data_maped = group_data.merge(date_map, on = 'Date', how = 'left')\n",
    "\n",
    "    return data_maped"
   ]
  },
  {
   "cell_type": "code",
   "execution_count": 19,
   "metadata": {},
   "outputs": [],
   "source": [
    "train_full = completion_semi_gold(train_window)"
   ]
  },
  {
   "cell_type": "code",
   "execution_count": 20,
   "metadata": {},
   "outputs": [
    {
     "data": {
      "text/html": [
       "<div>\n",
       "<style scoped>\n",
       "    .dataframe tbody tr th:only-of-type {\n",
       "        vertical-align: middle;\n",
       "    }\n",
       "\n",
       "    .dataframe tbody tr th {\n",
       "        vertical-align: top;\n",
       "    }\n",
       "\n",
       "    .dataframe thead th {\n",
       "        text-align: right;\n",
       "    }\n",
       "</style>\n",
       "<table border=\"1\" class=\"dataframe\">\n",
       "  <thead>\n",
       "    <tr style=\"text-align: right;\">\n",
       "      <th></th>\n",
       "      <th>shop_id</th>\n",
       "      <th>item_id</th>\n",
       "      <th>shopitem</th>\n",
       "      <th>Date</th>\n",
       "      <th>Sale</th>\n",
       "      <th>Order</th>\n",
       "    </tr>\n",
       "  </thead>\n",
       "  <tbody>\n",
       "    <tr>\n",
       "      <th>0</th>\n",
       "      <td>2</td>\n",
       "      <td>30</td>\n",
       "      <td>2-30</td>\n",
       "      <td>2013-01-01</td>\n",
       "      <td>0.0</td>\n",
       "      <td>1</td>\n",
       "    </tr>\n",
       "    <tr>\n",
       "      <th>1</th>\n",
       "      <td>2</td>\n",
       "      <td>31</td>\n",
       "      <td>2-31</td>\n",
       "      <td>2013-01-01</td>\n",
       "      <td>0.0</td>\n",
       "      <td>1</td>\n",
       "    </tr>\n",
       "    <tr>\n",
       "      <th>2</th>\n",
       "      <td>2</td>\n",
       "      <td>32</td>\n",
       "      <td>2-32</td>\n",
       "      <td>2013-01-01</td>\n",
       "      <td>0.0</td>\n",
       "      <td>1</td>\n",
       "    </tr>\n",
       "    <tr>\n",
       "      <th>3</th>\n",
       "      <td>2</td>\n",
       "      <td>33</td>\n",
       "      <td>2-33</td>\n",
       "      <td>2013-01-01</td>\n",
       "      <td>1.0</td>\n",
       "      <td>1</td>\n",
       "    </tr>\n",
       "    <tr>\n",
       "      <th>4</th>\n",
       "      <td>2</td>\n",
       "      <td>76</td>\n",
       "      <td>2-76</td>\n",
       "      <td>2013-01-01</td>\n",
       "      <td>0.0</td>\n",
       "      <td>1</td>\n",
       "    </tr>\n",
       "  </tbody>\n",
       "</table>\n",
       "</div>"
      ],
      "text/plain": [
       "   shop_id  item_id shopitem       Date  Sale  Order\n",
       "0        2       30     2-30 2013-01-01   0.0      1\n",
       "1        2       31     2-31 2013-01-01   0.0      1\n",
       "2        2       32     2-32 2013-01-01   0.0      1\n",
       "3        2       33     2-33 2013-01-01   1.0      1\n",
       "4        2       76     2-76 2013-01-01   0.0      1"
      ]
     },
     "execution_count": 20,
     "metadata": {},
     "output_type": "execute_result"
    }
   ],
   "source": [
    "train_full.head()"
   ]
  },
  {
   "cell_type": "code",
   "execution_count": 21,
   "metadata": {},
   "outputs": [
    {
     "data": {
      "text/html": [
       "<div>\n",
       "<style scoped>\n",
       "    .dataframe tbody tr th:only-of-type {\n",
       "        vertical-align: middle;\n",
       "    }\n",
       "\n",
       "    .dataframe tbody tr th {\n",
       "        vertical-align: top;\n",
       "    }\n",
       "\n",
       "    .dataframe thead th {\n",
       "        text-align: right;\n",
       "    }\n",
       "</style>\n",
       "<table border=\"1\" class=\"dataframe\">\n",
       "  <thead>\n",
       "    <tr style=\"text-align: right;\">\n",
       "      <th></th>\n",
       "      <th>shop_id</th>\n",
       "      <th>item_id</th>\n",
       "      <th>shopitem</th>\n",
       "      <th>Date</th>\n",
       "      <th>Sale</th>\n",
       "      <th>Order</th>\n",
       "    </tr>\n",
       "  </thead>\n",
       "  <tbody>\n",
       "    <tr>\n",
       "      <th>658884</th>\n",
       "      <td>31</td>\n",
       "      <td>20949</td>\n",
       "      <td>31-20949</td>\n",
       "      <td>2013-12-01</td>\n",
       "      <td>1305.0</td>\n",
       "      <td>12</td>\n",
       "    </tr>\n",
       "    <tr>\n",
       "      <th>653297</th>\n",
       "      <td>25</td>\n",
       "      <td>20949</td>\n",
       "      <td>25-20949</td>\n",
       "      <td>2013-12-01</td>\n",
       "      <td>1066.0</td>\n",
       "      <td>12</td>\n",
       "    </tr>\n",
       "    <tr>\n",
       "      <th>601679</th>\n",
       "      <td>31</td>\n",
       "      <td>20949</td>\n",
       "      <td>31-20949</td>\n",
       "      <td>2013-11-01</td>\n",
       "      <td>989.0</td>\n",
       "      <td>11</td>\n",
       "    </tr>\n",
       "    <tr>\n",
       "      <th>544474</th>\n",
       "      <td>31</td>\n",
       "      <td>20949</td>\n",
       "      <td>31-20949</td>\n",
       "      <td>2013-10-01</td>\n",
       "      <td>978.0</td>\n",
       "      <td>10</td>\n",
       "    </tr>\n",
       "    <tr>\n",
       "      <th>487269</th>\n",
       "      <td>31</td>\n",
       "      <td>20949</td>\n",
       "      <td>31-20949</td>\n",
       "      <td>2013-09-01</td>\n",
       "      <td>950.0</td>\n",
       "      <td>9</td>\n",
       "    </tr>\n",
       "    <tr>\n",
       "      <th>...</th>\n",
       "      <td>...</td>\n",
       "      <td>...</td>\n",
       "      <td>...</td>\n",
       "      <td>...</td>\n",
       "      <td>...</td>\n",
       "      <td>...</td>\n",
       "    </tr>\n",
       "    <tr>\n",
       "      <th>409882</th>\n",
       "      <td>12</td>\n",
       "      <td>6740</td>\n",
       "      <td>12-6740</td>\n",
       "      <td>2013-08-01</td>\n",
       "      <td>-2.0</td>\n",
       "      <td>8</td>\n",
       "    </tr>\n",
       "    <tr>\n",
       "      <th>581285</th>\n",
       "      <td>12</td>\n",
       "      <td>3734</td>\n",
       "      <td>12-3734</td>\n",
       "      <td>2013-11-01</td>\n",
       "      <td>-2.0</td>\n",
       "      <td>11</td>\n",
       "    </tr>\n",
       "    <tr>\n",
       "      <th>409538</th>\n",
       "      <td>12</td>\n",
       "      <td>1829</td>\n",
       "      <td>12-1829</td>\n",
       "      <td>2013-08-01</td>\n",
       "      <td>-2.0</td>\n",
       "      <td>8</td>\n",
       "    </tr>\n",
       "    <tr>\n",
       "      <th>56799</th>\n",
       "      <td>59</td>\n",
       "      <td>14931</td>\n",
       "      <td>59-14931</td>\n",
       "      <td>2013-01-01</td>\n",
       "      <td>-2.0</td>\n",
       "      <td>1</td>\n",
       "    </tr>\n",
       "    <tr>\n",
       "      <th>581284</th>\n",
       "      <td>12</td>\n",
       "      <td>3732</td>\n",
       "      <td>12-3732</td>\n",
       "      <td>2013-11-01</td>\n",
       "      <td>-4.0</td>\n",
       "      <td>11</td>\n",
       "    </tr>\n",
       "  </tbody>\n",
       "</table>\n",
       "<p>1201305 rows × 6 columns</p>\n",
       "</div>"
      ],
      "text/plain": [
       "        shop_id  item_id  shopitem       Date    Sale  Order\n",
       "658884       31    20949  31-20949 2013-12-01  1305.0     12\n",
       "653297       25    20949  25-20949 2013-12-01  1066.0     12\n",
       "601679       31    20949  31-20949 2013-11-01   989.0     11\n",
       "544474       31    20949  31-20949 2013-10-01   978.0     10\n",
       "487269       31    20949  31-20949 2013-09-01   950.0      9\n",
       "...         ...      ...       ...        ...     ...    ...\n",
       "409882       12     6740   12-6740 2013-08-01    -2.0      8\n",
       "581285       12     3734   12-3734 2013-11-01    -2.0     11\n",
       "409538       12     1829   12-1829 2013-08-01    -2.0      8\n",
       "56799        59    14931  59-14931 2013-01-01    -2.0      1\n",
       "581284       12     3732   12-3732 2013-11-01    -4.0     11\n",
       "\n",
       "[1201305 rows x 6 columns]"
      ]
     },
     "execution_count": 21,
     "metadata": {},
     "output_type": "execute_result"
    }
   ],
   "source": [
    "train_full.sort_values('Sale', ascending = False)"
   ]
  },
  {
   "cell_type": "markdown",
   "metadata": {},
   "source": [
    "<b> scalling shopitem wise over L 1 differenciation per shopitem"
   ]
  },
  {
   "cell_type": "code",
   "execution_count": 22,
   "metadata": {},
   "outputs": [],
   "source": [
    "def feature_silver(data):\n",
    "    data = data.copy()\n",
    "    ## feature of diff using one lag\n",
    "    data['SaleL1M'] = data.sort_values('Date').groupby(['shopitem'])['Sale'].shift(1)\n",
    "    data['SaleL2M'] = data.sort_values('Date').groupby(['shopitem'])['Sale'].shift(2)\n",
    "    data['SaleL3M'] = data.sort_values('Date').groupby(['shopitem'])['Sale'].shift(3)\n",
    "    data_lagdiff = data.assign(L0M_L1M = data.Sale - data.SaleL1M)  ### This is new target ???? but yeaaaaaHHH\n",
    "    data_lagdiff = data_lagdiff.assign(L1M_L2M = data_lagdiff.SaleL1M - data_lagdiff.SaleL2M) \n",
    "    data_lagdiff = data_lagdiff.assign(L2M_L3M = data_lagdiff.SaleL2M - data_lagdiff.SaleL3M) \n",
    "    data_lagdiff = data_lagdiff.drop(columns = ['SaleL2M','SaleL3M'])\n",
    "    ### furhter lags in function of diff\n",
    "    data_lagdiff['L11M'] = data_lagdiff.sort_values('Date').groupby(['shopitem'])['L1M_L2M'].shift(11)\n",
    "    data_lagdiff['L12M'] = data_lagdiff.sort_values('Date').groupby(['shopitem'])['L1M_L2M'].shift(12)\n",
    "    data_lagdiff['L13M'] = data_lagdiff.sort_values('Date').groupby(['shopitem'])['L1M_L2M'].shift(13)\n",
    "    ## feature rolling average 3 months past\n",
    "    #data_lagdiff['RollMeanL1'] = data_lagdiff.sort_values('Date').groupby(['shopitem']).L1M_L2M.transform(lambda x: x.rolling(4, 1).mean())\n",
    "\n",
    "    ## more laggs \n",
    "    #data_lagdiff['SaleRML1'] = data_lagdiff.sort_values('Date').groupby(['shopitem'])['RollMeanL1'].shift(12)\n",
    "\n",
    "    ## Count no variation as dummy\n",
    "    data_lagdiff['count0'] = np.where(data_lagdiff.L1M_L2M != 0,0,1)\n",
    "    data_lagdiff['Roll0L1'] = data_lagdiff.sort_values('Date').groupby(['shopitem']).count0.transform(lambda x: x.rolling(4, 1).sum())\n",
    "    data_lagdiff['Roll0L1Mean'] = data_lagdiff.sort_values('Date').groupby(['shopitem']).Roll0L1.transform(lambda x: x.rolling(4, 1).mean())\n",
    "    data_lagdiff['Completion0L1_1'] = np.where(data_lagdiff.Roll0L1Mean > 2.5,1,0)\n",
    "    data_lagdiff['Completion0L1_0'] = np.where(data_lagdiff.Roll0L1Mean <= 2.5,1,0)\n",
    "    data_lagdiff = data_lagdiff.drop(columns = ['count0'])\n",
    "    \n",
    "    ## addition lags\n",
    "    data_lagdiff['Roll0L1L6'] = data_lagdiff.sort_values('Date').groupby(['shopitem'])['Roll0L1'].shift(6)\n",
    "    data_lagdiff['Roll0L1L12'] = data_lagdiff.sort_values('Date').groupby(['shopitem'])['Roll0L1'].shift(12)\n",
    "    \n",
    "    \n",
    "    data_result = data_lagdiff\n",
    "    return data_result"
   ]
  },
  {
   "cell_type": "code",
   "execution_count": 23,
   "metadata": {},
   "outputs": [],
   "source": [
    "train_feature = feature_silver(train_full)"
   ]
  },
  {
   "cell_type": "code",
   "execution_count": 24,
   "metadata": {},
   "outputs": [],
   "source": [
    "## Examples to test\n",
    "## train_feature[(train_feature.item_id == 30) & (train_feature.shop_id == 2)]\n",
    "## train_feature[(train_feature.item_id == 20949) & (train_feature.shop_id == 31)]"
   ]
  },
  {
   "cell_type": "code",
   "execution_count": 25,
   "metadata": {},
   "outputs": [],
   "source": [
    "df_test = train_feature[(train_feature.item_id == 30) & (train_feature.shop_id == 2)]"
   ]
  },
  {
   "cell_type": "code",
   "execution_count": 26,
   "metadata": {},
   "outputs": [
    {
     "data": {
      "text/html": [
       "<div>\n",
       "<style scoped>\n",
       "    .dataframe tbody tr th:only-of-type {\n",
       "        vertical-align: middle;\n",
       "    }\n",
       "\n",
       "    .dataframe tbody tr th {\n",
       "        vertical-align: top;\n",
       "    }\n",
       "\n",
       "    .dataframe thead th {\n",
       "        text-align: right;\n",
       "    }\n",
       "</style>\n",
       "<table border=\"1\" class=\"dataframe\">\n",
       "  <thead>\n",
       "    <tr style=\"text-align: right;\">\n",
       "      <th></th>\n",
       "      <th>shop_id</th>\n",
       "      <th>item_id</th>\n",
       "      <th>shopitem</th>\n",
       "      <th>Date</th>\n",
       "      <th>Sale</th>\n",
       "      <th>Order</th>\n",
       "      <th>SaleL1M</th>\n",
       "      <th>L0M_L1M</th>\n",
       "      <th>L1M_L2M</th>\n",
       "      <th>L2M_L3M</th>\n",
       "      <th>L11M</th>\n",
       "      <th>L12M</th>\n",
       "      <th>L13M</th>\n",
       "      <th>Roll0L1</th>\n",
       "      <th>Roll0L1Mean</th>\n",
       "      <th>Completion0L1_1</th>\n",
       "      <th>Completion0L1_0</th>\n",
       "      <th>Roll0L1L6</th>\n",
       "      <th>Roll0L1L12</th>\n",
       "    </tr>\n",
       "  </thead>\n",
       "  <tbody>\n",
       "    <tr>\n",
       "      <th>0</th>\n",
       "      <td>2</td>\n",
       "      <td>30</td>\n",
       "      <td>2-30</td>\n",
       "      <td>2013-01-01</td>\n",
       "      <td>0.0</td>\n",
       "      <td>1</td>\n",
       "      <td>NaN</td>\n",
       "      <td>NaN</td>\n",
       "      <td>NaN</td>\n",
       "      <td>NaN</td>\n",
       "      <td>NaN</td>\n",
       "      <td>NaN</td>\n",
       "      <td>NaN</td>\n",
       "      <td>0</td>\n",
       "      <td>0.000000</td>\n",
       "      <td>0</td>\n",
       "      <td>1</td>\n",
       "      <td>NaN</td>\n",
       "      <td>NaN</td>\n",
       "    </tr>\n",
       "    <tr>\n",
       "      <th>57205</th>\n",
       "      <td>2</td>\n",
       "      <td>30</td>\n",
       "      <td>2-30</td>\n",
       "      <td>2013-02-01</td>\n",
       "      <td>0.0</td>\n",
       "      <td>2</td>\n",
       "      <td>0.0</td>\n",
       "      <td>0.0</td>\n",
       "      <td>NaN</td>\n",
       "      <td>NaN</td>\n",
       "      <td>NaN</td>\n",
       "      <td>NaN</td>\n",
       "      <td>NaN</td>\n",
       "      <td>0</td>\n",
       "      <td>0.000000</td>\n",
       "      <td>0</td>\n",
       "      <td>1</td>\n",
       "      <td>NaN</td>\n",
       "      <td>NaN</td>\n",
       "    </tr>\n",
       "    <tr>\n",
       "      <th>114410</th>\n",
       "      <td>2</td>\n",
       "      <td>30</td>\n",
       "      <td>2-30</td>\n",
       "      <td>2013-03-01</td>\n",
       "      <td>1.0</td>\n",
       "      <td>3</td>\n",
       "      <td>0.0</td>\n",
       "      <td>1.0</td>\n",
       "      <td>0.0</td>\n",
       "      <td>NaN</td>\n",
       "      <td>NaN</td>\n",
       "      <td>NaN</td>\n",
       "      <td>NaN</td>\n",
       "      <td>1</td>\n",
       "      <td>0.333333</td>\n",
       "      <td>0</td>\n",
       "      <td>1</td>\n",
       "      <td>NaN</td>\n",
       "      <td>NaN</td>\n",
       "    </tr>\n",
       "    <tr>\n",
       "      <th>171615</th>\n",
       "      <td>2</td>\n",
       "      <td>30</td>\n",
       "      <td>2-30</td>\n",
       "      <td>2013-04-01</td>\n",
       "      <td>0.0</td>\n",
       "      <td>4</td>\n",
       "      <td>1.0</td>\n",
       "      <td>-1.0</td>\n",
       "      <td>1.0</td>\n",
       "      <td>0.0</td>\n",
       "      <td>NaN</td>\n",
       "      <td>NaN</td>\n",
       "      <td>NaN</td>\n",
       "      <td>1</td>\n",
       "      <td>0.500000</td>\n",
       "      <td>0</td>\n",
       "      <td>1</td>\n",
       "      <td>NaN</td>\n",
       "      <td>NaN</td>\n",
       "    </tr>\n",
       "    <tr>\n",
       "      <th>228820</th>\n",
       "      <td>2</td>\n",
       "      <td>30</td>\n",
       "      <td>2-30</td>\n",
       "      <td>2013-05-01</td>\n",
       "      <td>0.0</td>\n",
       "      <td>5</td>\n",
       "      <td>0.0</td>\n",
       "      <td>0.0</td>\n",
       "      <td>-1.0</td>\n",
       "      <td>1.0</td>\n",
       "      <td>NaN</td>\n",
       "      <td>NaN</td>\n",
       "      <td>NaN</td>\n",
       "      <td>1</td>\n",
       "      <td>0.750000</td>\n",
       "      <td>0</td>\n",
       "      <td>1</td>\n",
       "      <td>NaN</td>\n",
       "      <td>NaN</td>\n",
       "    </tr>\n",
       "  </tbody>\n",
       "</table>\n",
       "</div>"
      ],
      "text/plain": [
       "        shop_id  item_id shopitem       Date  Sale  Order  SaleL1M  L0M_L1M  \\\n",
       "0             2       30     2-30 2013-01-01   0.0      1      NaN      NaN   \n",
       "57205         2       30     2-30 2013-02-01   0.0      2      0.0      0.0   \n",
       "114410        2       30     2-30 2013-03-01   1.0      3      0.0      1.0   \n",
       "171615        2       30     2-30 2013-04-01   0.0      4      1.0     -1.0   \n",
       "228820        2       30     2-30 2013-05-01   0.0      5      0.0      0.0   \n",
       "\n",
       "        L1M_L2M  L2M_L3M  L11M  L12M  L13M  Roll0L1  Roll0L1Mean  \\\n",
       "0           NaN      NaN   NaN   NaN   NaN        0     0.000000   \n",
       "57205       NaN      NaN   NaN   NaN   NaN        0     0.000000   \n",
       "114410      0.0      NaN   NaN   NaN   NaN        1     0.333333   \n",
       "171615      1.0      0.0   NaN   NaN   NaN        1     0.500000   \n",
       "228820     -1.0      1.0   NaN   NaN   NaN        1     0.750000   \n",
       "\n",
       "        Completion0L1_1  Completion0L1_0  Roll0L1L6  Roll0L1L12  \n",
       "0                     0                1        NaN         NaN  \n",
       "57205                 0                1        NaN         NaN  \n",
       "114410                0                1        NaN         NaN  \n",
       "171615                0                1        NaN         NaN  \n",
       "228820                0                1        NaN         NaN  "
      ]
     },
     "execution_count": 26,
     "metadata": {},
     "output_type": "execute_result"
    }
   ],
   "source": [
    "df_test.head()"
   ]
  },
  {
   "cell_type": "code",
   "execution_count": 27,
   "metadata": {},
   "outputs": [],
   "source": [
    "def features_rows_train_silver(data, features, target, dates_back = 5):\n",
    "    max_date = data.Date.max()\n",
    "    min_date = max_date - relativedelta(days=dates_back)\n",
    "    data_result = data[(data.Date >= min_date) & (data.Date <= max_date)][features + [target]]\n",
    "    \n",
    "    ### interaction terms\n",
    "    \n",
    "    data_result['interaction1'] = data_result['L1M_L2M'] * data_result['Completion0L1_1']\n",
    "    data_result['interaction2'] = data_result['L1M_L2M'] * data_result['Completion0L1_0']\n",
    "    data_result['interaction3'] = data_result['L2M_L3M'] * data_result['Completion0L1_1']\n",
    "    data_result['interaction4'] = data_result['L2M_L3M'] * data_result['Completion0L1_0']\n",
    "    \n",
    "    ### Result\n",
    "    features_new = list(data_result.columns)\n",
    "    features_new.remove(target)\n",
    "    data_result = data_result[features_new + [target]]\n",
    "    \n",
    "    return data_result"
   ]
  },
  {
   "cell_type": "code",
   "execution_count": 28,
   "metadata": {},
   "outputs": [],
   "source": [
    "my_features = ['Date','Sale','SaleL1M','L1M_L2M','L2M_L3M','L11M','L12M','L13M','Roll0L1','Roll0L1Mean','Completion0L1_1','Completion0L1_0','Roll0L1L6','Roll0L1L12' ]\n",
    "my_target = 'L0M_L1M'"
   ]
  },
  {
   "cell_type": "code",
   "execution_count": 29,
   "metadata": {},
   "outputs": [],
   "source": [
    "train_selection = features_rows_train_silver(data = train_feature, features = my_features, target = my_target, dates_back = 3)"
   ]
  },
  {
   "cell_type": "code",
   "execution_count": 30,
   "metadata": {},
   "outputs": [
    {
     "data": {
      "text/html": [
       "<div>\n",
       "<style scoped>\n",
       "    .dataframe tbody tr th:only-of-type {\n",
       "        vertical-align: middle;\n",
       "    }\n",
       "\n",
       "    .dataframe tbody tr th {\n",
       "        vertical-align: top;\n",
       "    }\n",
       "\n",
       "    .dataframe thead th {\n",
       "        text-align: right;\n",
       "    }\n",
       "</style>\n",
       "<table border=\"1\" class=\"dataframe\">\n",
       "  <thead>\n",
       "    <tr style=\"text-align: right;\">\n",
       "      <th></th>\n",
       "      <th>Date</th>\n",
       "      <th>Sale</th>\n",
       "      <th>SaleL1M</th>\n",
       "      <th>L1M_L2M</th>\n",
       "      <th>L2M_L3M</th>\n",
       "      <th>L11M</th>\n",
       "      <th>L12M</th>\n",
       "      <th>L13M</th>\n",
       "      <th>Roll0L1</th>\n",
       "      <th>Roll0L1Mean</th>\n",
       "      <th>Completion0L1_1</th>\n",
       "      <th>Completion0L1_0</th>\n",
       "      <th>Roll0L1L6</th>\n",
       "      <th>Roll0L1L12</th>\n",
       "      <th>interaction1</th>\n",
       "      <th>interaction2</th>\n",
       "      <th>interaction3</th>\n",
       "      <th>interaction4</th>\n",
       "      <th>L0M_L1M</th>\n",
       "    </tr>\n",
       "  </thead>\n",
       "  <tbody>\n",
       "    <tr>\n",
       "      <th>1144100</th>\n",
       "      <td>2014-09-01</td>\n",
       "      <td>0.0</td>\n",
       "      <td>0.0</td>\n",
       "      <td>0.0</td>\n",
       "      <td>0.0</td>\n",
       "      <td>0.0</td>\n",
       "      <td>0.0</td>\n",
       "      <td>-1.0</td>\n",
       "      <td>3</td>\n",
       "      <td>2.50</td>\n",
       "      <td>0</td>\n",
       "      <td>1</td>\n",
       "      <td>4.0</td>\n",
       "      <td>2.0</td>\n",
       "      <td>0.0</td>\n",
       "      <td>0.0</td>\n",
       "      <td>0.0</td>\n",
       "      <td>0.0</td>\n",
       "      <td>0.0</td>\n",
       "    </tr>\n",
       "    <tr>\n",
       "      <th>1144101</th>\n",
       "      <td>2014-09-01</td>\n",
       "      <td>0.0</td>\n",
       "      <td>0.0</td>\n",
       "      <td>0.0</td>\n",
       "      <td>0.0</td>\n",
       "      <td>0.0</td>\n",
       "      <td>0.0</td>\n",
       "      <td>0.0</td>\n",
       "      <td>2</td>\n",
       "      <td>2.25</td>\n",
       "      <td>0</td>\n",
       "      <td>1</td>\n",
       "      <td>4.0</td>\n",
       "      <td>3.0</td>\n",
       "      <td>0.0</td>\n",
       "      <td>0.0</td>\n",
       "      <td>0.0</td>\n",
       "      <td>0.0</td>\n",
       "      <td>0.0</td>\n",
       "    </tr>\n",
       "    <tr>\n",
       "      <th>1144102</th>\n",
       "      <td>2014-09-01</td>\n",
       "      <td>2.0</td>\n",
       "      <td>0.0</td>\n",
       "      <td>-1.0</td>\n",
       "      <td>1.0</td>\n",
       "      <td>0.0</td>\n",
       "      <td>0.0</td>\n",
       "      <td>0.0</td>\n",
       "      <td>2</td>\n",
       "      <td>1.75</td>\n",
       "      <td>0</td>\n",
       "      <td>1</td>\n",
       "      <td>2.0</td>\n",
       "      <td>4.0</td>\n",
       "      <td>-0.0</td>\n",
       "      <td>-1.0</td>\n",
       "      <td>0.0</td>\n",
       "      <td>1.0</td>\n",
       "      <td>2.0</td>\n",
       "    </tr>\n",
       "    <tr>\n",
       "      <th>1144103</th>\n",
       "      <td>2014-09-01</td>\n",
       "      <td>1.0</td>\n",
       "      <td>0.0</td>\n",
       "      <td>0.0</td>\n",
       "      <td>0.0</td>\n",
       "      <td>0.0</td>\n",
       "      <td>0.0</td>\n",
       "      <td>0.0</td>\n",
       "      <td>4</td>\n",
       "      <td>3.75</td>\n",
       "      <td>1</td>\n",
       "      <td>0</td>\n",
       "      <td>1.0</td>\n",
       "      <td>4.0</td>\n",
       "      <td>0.0</td>\n",
       "      <td>0.0</td>\n",
       "      <td>0.0</td>\n",
       "      <td>0.0</td>\n",
       "      <td>1.0</td>\n",
       "    </tr>\n",
       "    <tr>\n",
       "      <th>1144104</th>\n",
       "      <td>2014-09-01</td>\n",
       "      <td>0.0</td>\n",
       "      <td>0.0</td>\n",
       "      <td>0.0</td>\n",
       "      <td>-1.0</td>\n",
       "      <td>0.0</td>\n",
       "      <td>0.0</td>\n",
       "      <td>0.0</td>\n",
       "      <td>2</td>\n",
       "      <td>2.75</td>\n",
       "      <td>1</td>\n",
       "      <td>0</td>\n",
       "      <td>4.0</td>\n",
       "      <td>4.0</td>\n",
       "      <td>0.0</td>\n",
       "      <td>0.0</td>\n",
       "      <td>-1.0</td>\n",
       "      <td>-0.0</td>\n",
       "      <td>0.0</td>\n",
       "    </tr>\n",
       "  </tbody>\n",
       "</table>\n",
       "</div>"
      ],
      "text/plain": [
       "              Date  Sale  SaleL1M  L1M_L2M  L2M_L3M  L11M  L12M  L13M  \\\n",
       "1144100 2014-09-01   0.0      0.0      0.0      0.0   0.0   0.0  -1.0   \n",
       "1144101 2014-09-01   0.0      0.0      0.0      0.0   0.0   0.0   0.0   \n",
       "1144102 2014-09-01   2.0      0.0     -1.0      1.0   0.0   0.0   0.0   \n",
       "1144103 2014-09-01   1.0      0.0      0.0      0.0   0.0   0.0   0.0   \n",
       "1144104 2014-09-01   0.0      0.0      0.0     -1.0   0.0   0.0   0.0   \n",
       "\n",
       "         Roll0L1  Roll0L1Mean  Completion0L1_1  Completion0L1_0  Roll0L1L6  \\\n",
       "1144100        3         2.50                0                1        4.0   \n",
       "1144101        2         2.25                0                1        4.0   \n",
       "1144102        2         1.75                0                1        2.0   \n",
       "1144103        4         3.75                1                0        1.0   \n",
       "1144104        2         2.75                1                0        4.0   \n",
       "\n",
       "         Roll0L1L12  interaction1  interaction2  interaction3  interaction4  \\\n",
       "1144100         2.0           0.0           0.0           0.0           0.0   \n",
       "1144101         3.0           0.0           0.0           0.0           0.0   \n",
       "1144102         4.0          -0.0          -1.0           0.0           1.0   \n",
       "1144103         4.0           0.0           0.0           0.0           0.0   \n",
       "1144104         4.0           0.0           0.0          -1.0          -0.0   \n",
       "\n",
       "         L0M_L1M  \n",
       "1144100      0.0  \n",
       "1144101      0.0  \n",
       "1144102      2.0  \n",
       "1144103      1.0  \n",
       "1144104      0.0  "
      ]
     },
     "execution_count": 30,
     "metadata": {},
     "output_type": "execute_result"
    }
   ],
   "source": [
    "train_selection.head()"
   ]
  },
  {
   "cell_type": "code",
   "execution_count": 31,
   "metadata": {},
   "outputs": [],
   "source": [
    "todrop = ['Date','Sale','SaleL1M']\n",
    "final_features = [x for x in my_features if x not in todrop]"
   ]
  },
  {
   "cell_type": "code",
   "execution_count": 32,
   "metadata": {},
   "outputs": [],
   "source": [
    "def scaler(dataset, features, target, scaler=None):\n",
    "    if scaler:\n",
    "        df = dataset[features + [target]]\n",
    "        df_scaled = scaler.transform(df)\n",
    "        dataset_scaled = pd.DataFrame(df_scaled, columns = df.columns)\n",
    "        return dataset_scaled\n",
    "    \n",
    "    else:\n",
    "        df  = dataset[features + [target]]\n",
    "        scaler = MinMaxScaler()\n",
    "        scaler.fit(df)\n",
    "\n",
    "        dataset_scaled = scaler.transform(df)\n",
    "        dataset_scaled = pd.DataFrame(dataset_scaled, columns = df.columns)\n",
    "        return dataset_scaled, scaler"
   ]
  },
  {
   "cell_type": "code",
   "execution_count": 33,
   "metadata": {},
   "outputs": [],
   "source": [
    "train_scaled, my_scaler = scaler(train_selection, final_features, my_target, scaler=None)"
   ]
  },
  {
   "cell_type": "code",
   "execution_count": 34,
   "metadata": {},
   "outputs": [
    {
     "data": {
      "text/html": [
       "<div>\n",
       "<style scoped>\n",
       "    .dataframe tbody tr th:only-of-type {\n",
       "        vertical-align: middle;\n",
       "    }\n",
       "\n",
       "    .dataframe tbody tr th {\n",
       "        vertical-align: top;\n",
       "    }\n",
       "\n",
       "    .dataframe thead th {\n",
       "        text-align: right;\n",
       "    }\n",
       "</style>\n",
       "<table border=\"1\" class=\"dataframe\">\n",
       "  <thead>\n",
       "    <tr style=\"text-align: right;\">\n",
       "      <th></th>\n",
       "      <th>L1M_L2M</th>\n",
       "      <th>L2M_L3M</th>\n",
       "      <th>L11M</th>\n",
       "      <th>L12M</th>\n",
       "      <th>L13M</th>\n",
       "      <th>Roll0L1</th>\n",
       "      <th>Roll0L1Mean</th>\n",
       "      <th>Completion0L1_1</th>\n",
       "      <th>Completion0L1_0</th>\n",
       "      <th>Roll0L1L6</th>\n",
       "      <th>Roll0L1L12</th>\n",
       "      <th>L0M_L1M</th>\n",
       "    </tr>\n",
       "  </thead>\n",
       "  <tbody>\n",
       "    <tr>\n",
       "      <th>0</th>\n",
       "      <td>0.600939</td>\n",
       "      <td>0.619048</td>\n",
       "      <td>0.292903</td>\n",
       "      <td>0.538306</td>\n",
       "      <td>0.902153</td>\n",
       "      <td>0.75</td>\n",
       "      <td>0.6250</td>\n",
       "      <td>0.0</td>\n",
       "      <td>1.0</td>\n",
       "      <td>1.00</td>\n",
       "      <td>0.50</td>\n",
       "      <td>0.362319</td>\n",
       "    </tr>\n",
       "    <tr>\n",
       "      <th>1</th>\n",
       "      <td>0.600939</td>\n",
       "      <td>0.619048</td>\n",
       "      <td>0.292903</td>\n",
       "      <td>0.538306</td>\n",
       "      <td>0.904110</td>\n",
       "      <td>0.50</td>\n",
       "      <td>0.5625</td>\n",
       "      <td>0.0</td>\n",
       "      <td>1.0</td>\n",
       "      <td>1.00</td>\n",
       "      <td>0.75</td>\n",
       "      <td>0.362319</td>\n",
       "    </tr>\n",
       "    <tr>\n",
       "      <th>2</th>\n",
       "      <td>0.596244</td>\n",
       "      <td>0.622024</td>\n",
       "      <td>0.292903</td>\n",
       "      <td>0.538306</td>\n",
       "      <td>0.904110</td>\n",
       "      <td>0.50</td>\n",
       "      <td>0.4375</td>\n",
       "      <td>0.0</td>\n",
       "      <td>1.0</td>\n",
       "      <td>0.50</td>\n",
       "      <td>1.00</td>\n",
       "      <td>0.369565</td>\n",
       "    </tr>\n",
       "    <tr>\n",
       "      <th>3</th>\n",
       "      <td>0.600939</td>\n",
       "      <td>0.619048</td>\n",
       "      <td>0.292903</td>\n",
       "      <td>0.538306</td>\n",
       "      <td>0.904110</td>\n",
       "      <td>1.00</td>\n",
       "      <td>0.9375</td>\n",
       "      <td>1.0</td>\n",
       "      <td>0.0</td>\n",
       "      <td>0.25</td>\n",
       "      <td>1.00</td>\n",
       "      <td>0.365942</td>\n",
       "    </tr>\n",
       "    <tr>\n",
       "      <th>4</th>\n",
       "      <td>0.600939</td>\n",
       "      <td>0.616071</td>\n",
       "      <td>0.292903</td>\n",
       "      <td>0.538306</td>\n",
       "      <td>0.904110</td>\n",
       "      <td>0.50</td>\n",
       "      <td>0.6875</td>\n",
       "      <td>1.0</td>\n",
       "      <td>0.0</td>\n",
       "      <td>1.00</td>\n",
       "      <td>1.00</td>\n",
       "      <td>0.362319</td>\n",
       "    </tr>\n",
       "  </tbody>\n",
       "</table>\n",
       "</div>"
      ],
      "text/plain": [
       "    L1M_L2M   L2M_L3M      L11M      L12M      L13M  Roll0L1  Roll0L1Mean  \\\n",
       "0  0.600939  0.619048  0.292903  0.538306  0.902153     0.75       0.6250   \n",
       "1  0.600939  0.619048  0.292903  0.538306  0.904110     0.50       0.5625   \n",
       "2  0.596244  0.622024  0.292903  0.538306  0.904110     0.50       0.4375   \n",
       "3  0.600939  0.619048  0.292903  0.538306  0.904110     1.00       0.9375   \n",
       "4  0.600939  0.616071  0.292903  0.538306  0.904110     0.50       0.6875   \n",
       "\n",
       "   Completion0L1_1  Completion0L1_0  Roll0L1L6  Roll0L1L12   L0M_L1M  \n",
       "0              0.0              1.0       1.00        0.50  0.362319  \n",
       "1              0.0              1.0       1.00        0.75  0.362319  \n",
       "2              0.0              1.0       0.50        1.00  0.369565  \n",
       "3              1.0              0.0       0.25        1.00  0.365942  \n",
       "4              1.0              0.0       1.00        1.00  0.362319  "
      ]
     },
     "execution_count": 34,
     "metadata": {},
     "output_type": "execute_result"
    }
   ],
   "source": [
    "train_scaled.head()"
   ]
  },
  {
   "cell_type": "markdown",
   "metadata": {},
   "source": [
    "### Basic ML modeling using linear regression with ridge regularization"
   ]
  },
  {
   "cell_type": "code",
   "execution_count": 35,
   "metadata": {},
   "outputs": [],
   "source": [
    "X_train = train_scaled[final_features]\n",
    "Y_train = train_scaled[my_target]"
   ]
  },
  {
   "cell_type": "code",
   "execution_count": 36,
   "metadata": {},
   "outputs": [],
   "source": [
    "n_alphas = 100\n",
    "alphas = np.logspace(-2, 3, n_alphas)\n",
    "\n",
    "coefs = []\n",
    "MSEs = []\n",
    "for a in alphas:\n",
    "    linearModel = Ridge(alpha=a, fit_intercept=True)\n",
    "    linearModel.fit(X_train, Y_train)\n",
    "    coefs.append(linearModel.coef_)\n",
    "    Y_pred = linearModel.predict(X_train)\n",
    "    MSE = mean_squared_error(Y_train,Y_pred)\n",
    "    MSEs.append(MSE)"
   ]
  },
  {
   "cell_type": "code",
   "execution_count": 37,
   "metadata": {},
   "outputs": [
    {
     "data": {
      "image/png": "[encoded data removed]",
      "text/plain": [
       "<Figure size 1440x360 with 2 Axes>"
      ]
     },
     "metadata": {},
     "output_type": "display_data"
    }
   ],
   "source": [
    "fig, ax = plt.subplots(1,2,figsize= (20,5))\n",
    "\n",
    "ax[0].plot(alphas, coefs)\n",
    "ax[0].set_xscale('log')\n",
    "#ax.set_xlim(ax.get_xlim()[::-1])  # reverse axis\n",
    "ax[0].set_xlabel('alpha')\n",
    "ax[0].set_ylabel('weights')\n",
    "ax[0].set_title('Coefficients as a function of the regularization')\n",
    "ax[0].axis('tight')\n",
    "\n",
    "ax[1].plot(alphas, MSEs)\n",
    "ax[1].set_xscale('log')\n",
    "ax[1].set_xlabel('alpha')\n",
    "ax[1].set_ylabel('MAE')\n",
    "ax[1].set_title('MAE function')\n",
    "ax[1].axis('tight')\n",
    "\n",
    "plt.show()"
   ]
  },
  {
   "cell_type": "code",
   "execution_count": 38,
   "metadata": {},
   "outputs": [
    {
     "data": {
      "text/plain": [
       "Ridge(alpha=0.19952623149688797)"
      ]
     },
     "execution_count": 38,
     "metadata": {},
     "output_type": "execute_result"
    }
   ],
   "source": [
    "linearModel = Ridge(alpha=10**(-0.7), fit_intercept=True)\n",
    "linearModel.fit(X_train, Y_train)"
   ]
  },
  {
   "cell_type": "code",
   "execution_count": 39,
   "metadata": {},
   "outputs": [],
   "source": [
    "Y_pred = linearModel.predict(X_train)"
   ]
  },
  {
   "cell_type": "code",
   "execution_count": 40,
   "metadata": {},
   "outputs": [],
   "source": [
    "def inversed_scale(scaler, data, target_name, y_pred = np.array([])):\n",
    "    data_new = data.copy()\n",
    "    if y_pred.any():\n",
    "        data_new[target_name] = y_pred\n",
    "    \n",
    "    unscaled_data = scaler.inverse_transform(data_new)\n",
    "    unscaled_data = pd.DataFrame(unscaled_data, columns = data_new.columns)\n",
    "    return unscaled_data"
   ]
  },
  {
   "cell_type": "code",
   "execution_count": 41,
   "metadata": {},
   "outputs": [],
   "source": [
    "predicted_train = inversed_scale(scaler = my_scaler, data = train_scaled, target_name = my_target, y_pred = Y_pred)"
   ]
  },
  {
   "cell_type": "code",
   "execution_count": 42,
   "metadata": {},
   "outputs": [],
   "source": [
    "def consolidation_prediction(data, prediction ):\n",
    "    pdf_plot = data.copy()\n",
    "    pdf_plot['PredictedVar'] = prediction\n",
    "    pdf_plot['RealValueVar'] = pdf_plot.L0M_L1M\n",
    "    pdf_plot = pdf_plot.assign(PredSale = pdf_plot.PredictedVar + pdf_plot.SaleL1M)\n",
    "    pdf_plot = pdf_plot[['Date','Sale','PredSale', 'PredictedVar', 'RealValueVar', 'SaleL1M']]\n",
    "    return pdf_plot"
   ]
  },
  {
   "cell_type": "code",
   "execution_count": 43,
   "metadata": {},
   "outputs": [],
   "source": [
    "pdf_plot = consolidation_prediction(data = train_selection, prediction = predicted_train.L0M_L1M.values)"
   ]
  },
  {
   "cell_type": "code",
   "execution_count": 44,
   "metadata": {},
   "outputs": [],
   "source": [
    "def plot_prediction(dfplot):\n",
    "    fig, axs = plt.subplots(nrows=1, ncols=2, figsize=(20,8))\n",
    "\n",
    "    ax = sns.scatterplot(ax = axs[0], x=\"RealValueVar\", y=\"PredictedVar\", data=dfplot)\n",
    "    ax = sns.scatterplot(ax = axs[1], x=\"Sale\", y=\"PredSale\", data=dfplot)\n",
    "\n",
    "    x0, x1 = axs[0].get_xlim()\n",
    "    y0, y1 = axs[0].get_ylim()\n",
    "    lims = [max(x0, y0), min(x1, y1)]\n",
    "    axs[0].plot(lims, lims, '-r')\n",
    "\n",
    "    x0, x1 = axs[1].get_xlim()\n",
    "    y0, y1 = axs[1].get_ylim()\n",
    "    lims = [max(x0, y0), min(x1, y1)]\n",
    "    axs[1].plot(lims, lims, '-r')\n",
    "\n",
    "    axs[0].set(xlabel='Real Variation', ylabel='Predicted Variation', title='Scatter plot of variation predictions')"
   ]
  },
  {
   "cell_type": "code",
   "execution_count": 45,
   "metadata": {},
   "outputs": [
    {
     "data": {
      "image/png": "[encoded data removed]",
      "text/plain": [
       "<Figure size 1440x576 with 2 Axes>"
      ]
     },
     "metadata": {},
     "output_type": "display_data"
    }
   ],
   "source": [
    "plot_prediction(pdf_plot)"
   ]
  },
  {
   "cell_type": "markdown",
   "metadata": {},
   "source": [
    "<b> hold out validation"
   ]
  },
  {
   "cell_type": "code",
   "execution_count": 46,
   "metadata": {},
   "outputs": [],
   "source": [
    "def preparing_to_predict(val_data, train_data):\n",
    "    val_data_go = val_data.copy()\n",
    "    val_data_go['date_block_num'] = np.nan\n",
    "    val_data_go['shopitem'] = val_data_go['shop_id'].astype('str') + '-' + val_data_go['item_id'].astype('str')\n",
    "    val_data_go = val_data_go[train_data.columns]\n",
    "    result_data = pd.concat([train_data,val_data_go])\n",
    "    return result_data"
   ]
  },
  {
   "cell_type": "code",
   "execution_count": 47,
   "metadata": {},
   "outputs": [],
   "source": [
    "full_valandtrain = preparing_to_predict(val_data = val_window, train_data = train_window)\n",
    "full_valandtrain = completion_semi_gold(full_valandtrain)"
   ]
  },
  {
   "cell_type": "code",
   "execution_count": 48,
   "metadata": {},
   "outputs": [],
   "source": [
    "valandtrain_feature = feature_silver(full_valandtrain)"
   ]
  },
  {
   "cell_type": "code",
   "execution_count": 49,
   "metadata": {},
   "outputs": [],
   "source": [
    "val_selection = features_rows_train_silver(data = valandtrain_feature, features = my_features, target = my_target, dates_back = 1)"
   ]
  },
  {
   "cell_type": "code",
   "execution_count": 50,
   "metadata": {},
   "outputs": [],
   "source": [
    "val_scaled = scaler(val_selection, final_features, my_target, scaler=my_scaler)"
   ]
  },
  {
   "cell_type": "code",
   "execution_count": 51,
   "metadata": {},
   "outputs": [],
   "source": [
    "X_val = val_scaled[final_features]"
   ]
  },
  {
   "cell_type": "code",
   "execution_count": 52,
   "metadata": {},
   "outputs": [],
   "source": [
    "Y_pred = linearModel.predict(X_val)"
   ]
  },
  {
   "cell_type": "code",
   "execution_count": 53,
   "metadata": {},
   "outputs": [],
   "source": [
    "predicted_val = inversed_scale(scaler = my_scaler, data = val_scaled, target_name = my_target, y_pred = Y_pred)"
   ]
  },
  {
   "cell_type": "code",
   "execution_count": 54,
   "metadata": {},
   "outputs": [],
   "source": [
    "my_lm_plot = consolidation_prediction(data = val_selection, prediction = predicted_val.L0M_L1M.values)"
   ]
  },
  {
   "cell_type": "code",
   "execution_count": 55,
   "metadata": {},
   "outputs": [
    {
     "data": {
      "image/png": "[encoded data removed]",
      "text/plain": [
       "<Figure size 1440x576 with 2 Axes>"
      ]
     },
     "metadata": {},
     "output_type": "display_data"
    }
   ],
   "source": [
    "plot_prediction(my_lm_plot)"
   ]
  },
  {
   "cell_type": "markdown",
   "metadata": {},
   "source": [
    "<b> completing validation"
   ]
  },
  {
   "cell_type": "code",
   "execution_count": 56,
   "metadata": {},
   "outputs": [
    {
     "data": {
      "text/plain": [
       "[datetime.datetime(2014, 11, 1, 0, 0),\n",
       " datetime.datetime(2015, 4, 1, 0, 0),\n",
       " datetime.datetime(2015, 5, 1, 0, 0),\n",
       " datetime.datetime(2015, 6, 1, 0, 0),\n",
       " datetime.datetime(2015, 7, 1, 0, 0),\n",
       " datetime.datetime(2015, 8, 1, 0, 0),\n",
       " datetime.datetime(2015, 9, 1, 0, 0),\n",
       " datetime.datetime(2015, 10, 1, 0, 0)]"
      ]
     },
     "execution_count": 56,
     "metadata": {},
     "output_type": "execute_result"
    }
   ],
   "source": [
    "test_dates"
   ]
  },
  {
   "cell_type": "code",
   "execution_count": 57,
   "metadata": {},
   "outputs": [
    {
     "data": {
      "text/html": [
       "<div>\n",
       "<style scoped>\n",
       "    .dataframe tbody tr th:only-of-type {\n",
       "        vertical-align: middle;\n",
       "    }\n",
       "\n",
       "    .dataframe tbody tr th {\n",
       "        vertical-align: top;\n",
       "    }\n",
       "\n",
       "    .dataframe thead th {\n",
       "        text-align: right;\n",
       "    }\n",
       "</style>\n",
       "<table border=\"1\" class=\"dataframe\">\n",
       "  <thead>\n",
       "    <tr style=\"text-align: right;\">\n",
       "      <th></th>\n",
       "      <th>SaleDateMY</th>\n",
       "      <th>date_block_num</th>\n",
       "      <th>shop_id</th>\n",
       "      <th>item_id</th>\n",
       "      <th>item_cnt_day</th>\n",
       "    </tr>\n",
       "  </thead>\n",
       "  <tbody>\n",
       "    <tr>\n",
       "      <th>290814</th>\n",
       "      <td>2014-11-01</td>\n",
       "      <td>22</td>\n",
       "      <td>2</td>\n",
       "      <td>486</td>\n",
       "      <td>2.0</td>\n",
       "    </tr>\n",
       "    <tr>\n",
       "      <th>290815</th>\n",
       "      <td>2014-11-01</td>\n",
       "      <td>22</td>\n",
       "      <td>2</td>\n",
       "      <td>491</td>\n",
       "      <td>1.0</td>\n",
       "    </tr>\n",
       "    <tr>\n",
       "      <th>290816</th>\n",
       "      <td>2014-11-01</td>\n",
       "      <td>22</td>\n",
       "      <td>2</td>\n",
       "      <td>806</td>\n",
       "      <td>1.0</td>\n",
       "    </tr>\n",
       "    <tr>\n",
       "      <th>290817</th>\n",
       "      <td>2014-11-01</td>\n",
       "      <td>22</td>\n",
       "      <td>2</td>\n",
       "      <td>1389</td>\n",
       "      <td>2.0</td>\n",
       "    </tr>\n",
       "    <tr>\n",
       "      <th>290818</th>\n",
       "      <td>2014-11-01</td>\n",
       "      <td>22</td>\n",
       "      <td>2</td>\n",
       "      <td>1485</td>\n",
       "      <td>1.0</td>\n",
       "    </tr>\n",
       "  </tbody>\n",
       "</table>\n",
       "</div>"
      ],
      "text/plain": [
       "       SaleDateMY  date_block_num  shop_id  item_id  item_cnt_day\n",
       "290814 2014-11-01              22        2      486           2.0\n",
       "290815 2014-11-01              22        2      491           1.0\n",
       "290816 2014-11-01              22        2      806           1.0\n",
       "290817 2014-11-01              22        2     1389           2.0\n",
       "290818 2014-11-01              22        2     1485           1.0"
      ]
     },
     "execution_count": 57,
     "metadata": {},
     "output_type": "execute_result"
    }
   ],
   "source": [
    "whole_test_data.head()"
   ]
  },
  {
   "cell_type": "code",
   "execution_count": 58,
   "metadata": {},
   "outputs": [],
   "source": [
    "def My_LM_prediction_on_test(dates_vector, whole_data):\n",
    "\n",
    "    data_result = list()\n",
    "    \n",
    "    ### preparing whole data\n",
    "    whole_full = completion_semi_gold(whole_data)\n",
    "    whole_feature = feature_silver(whole_full)\n",
    "    for datex in dates_vector:\n",
    "        train_feature = whole_feature[whole_feature.Date < datex ].copy()\n",
    "        valandtrain_feature = whole_feature[whole_feature.Date == datex ].copy()\n",
    "        \n",
    "        train_selection = features_rows_train_silver(data = train_feature, features = my_features, target = my_target, dates_back = 3)\n",
    "        train_scaled, my_scaler = scaler(train_selection, final_features, my_target, scaler=None)\n",
    "        \n",
    "        ### ML train\n",
    "        X_train = train_scaled[final_features]\n",
    "        Y_train = train_scaled[my_target]\n",
    "        linearModel = Ridge(alpha=10**(-0.7), fit_intercept=True)\n",
    "        linearModel.fit(X_train, Y_train)\n",
    "        \n",
    "        ### Test data prepa\n",
    "        val_selection = features_rows_train_silver(data = valandtrain_feature, features = my_features, target = my_target, dates_back = 1)\n",
    "        val_scaled = scaler(val_selection, final_features, my_target, scaler=my_scaler)\n",
    "        X_val = val_scaled[final_features]\n",
    "        \n",
    "        ## Prediction\n",
    "        Y_pred = linearModel.predict(X_val)\n",
    "        \n",
    "        ## Saving Result\n",
    "        predicted_val = inversed_scale(scaler = my_scaler, data = val_scaled, target_name = my_target, y_pred = Y_pred)\n",
    "        my_lm_plot = consolidation_prediction(data = val_selection, prediction = predicted_val.L0M_L1M.values)\n",
    "        data_result.append(my_lm_plot)\n",
    "        print(f'the prediction over the {datex} data is done')\n",
    "        \n",
    "    return pd.concat(data_result)"
   ]
  },
  {
   "cell_type": "code",
   "execution_count": 59,
   "metadata": {},
   "outputs": [
    {
     "name": "stdout",
     "output_type": "stream",
     "text": [
      "the prediction over the 2014-11-01 00:00:00 data is done\n",
      "the prediction over the 2015-04-01 00:00:00 data is done\n",
      "the prediction over the 2015-05-01 00:00:00 data is done\n",
      "the prediction over the 2015-06-01 00:00:00 data is done\n",
      "the prediction over the 2015-07-01 00:00:00 data is done\n",
      "the prediction over the 2015-08-01 00:00:00 data is done\n",
      "the prediction over the 2015-09-01 00:00:00 data is done\n",
      "the prediction over the 2015-10-01 00:00:00 data is done\n"
     ]
    }
   ],
   "source": [
    "myLM_test_results = My_LM_prediction_on_test(dates_vector = test_dates, whole_data = wholedata_silver)"
   ]
  },
  {
   "cell_type": "code",
   "execution_count": 61,
   "metadata": {},
   "outputs": [
    {
     "data": {
      "image/png": "[encoded data removed]",
      "text/plain": [
       "<Figure size 1440x576 with 2 Axes>"
      ]
     },
     "metadata": {},
     "output_type": "display_data"
    }
   ],
   "source": [
    "plot_prediction(myLM_test_results)"
   ]
  },
  {
   "cell_type": "code",
   "execution_count": 68,
   "metadata": {},
   "outputs": [],
   "source": [
    "def plot_metrics(data):\n",
    "    resultdict = {'Date':list(), 'RMSE':list()}\n",
    "    for datex in data.Date.unique():\n",
    "        df = data[data.Date == datex]\n",
    "        rmse = (mean_squared_error(df.Sale, df.PredSale))**(1/2)\n",
    "        resultdict['Date'].append(datex)\n",
    "        resultdict['RMSE'].append(rmse)\n",
    "    result = pd.DataFrame(resultdict)\n",
    "    return result"
   ]
  },
  {
   "cell_type": "code",
   "execution_count": 70,
   "metadata": {},
   "outputs": [],
   "source": [
    "rmse_results = plot_metrics(myLM_test_results)"
   ]
  },
  {
   "cell_type": "code",
   "execution_count": 73,
   "metadata": {},
   "outputs": [
    {
     "data": {
      "image/png": "[encoded data removed]",
      "text/plain": [
       "<Figure size 720x432 with 1 Axes>"
      ]
     },
     "metadata": {},
     "output_type": "display_data"
    }
   ],
   "source": [
    "fig, axs = plt.subplots(nrows=1, ncols=1,figsize=(10,6), sharex=True)\n",
    "ax = sns.lineplot(ax = axs , data = rmse_results, x=\"Date\", y=\"RMSE\", marker = True, )\n",
    "ax = sns.scatterplot(ax = axs , data = rmse_results, x=\"Date\", y=\"RMSE\", s = 35 )"
   ]
  },
  {
   "cell_type": "markdown",
   "metadata": {},
   "source": [
    "### Conclusions"
   ]
  },
  {
   "cell_type": "markdown",
   "metadata": {},
   "source": [
    "* Easy way or process to work with features\n",
    "* PREDICT VARIATIONS\n",
    "* the target RMSE is less than 1\n",
    "* keep that there are many 0\n",
    "* the feature processing function consider all the dates\n",
    "* the linear model experiment shows:\n",
    "    + important presence of no variation\n",
    "    + important presence of unexpected variations -> maybe means from other shops could help"
   ]
  },
  {
   "cell_type": "code",
   "execution_count": null,
   "metadata": {},
   "outputs": [],
   "source": []
  }
 ],
 "metadata": {
  "kernelspec": {
   "display_name": "Python 3",
   "language": "python",
   "name": "python3"
  },
  "language_info": {
   "codemirror_mode": {
    "name": "ipython",
    "version": 3
   },
   "file_extension": ".py",
   "mimetype": "text/x-python",
   "name": "python",
   "nbconvert_exporter": "python",
   "pygments_lexer": "ipython3",
   "version": "3.7.6"
  }
 },
 "nbformat": 4,
 "nbformat_minor": 4
}
