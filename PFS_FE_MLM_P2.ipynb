{
 "cells": [
  {
   "cell_type": "markdown",
   "metadata": {},
   "source": [
    "# Predict Future Sales"
   ]
  },
  {
   "cell_type": "markdown",
   "metadata": {},
   "source": [
    "Second part of feauture enginering and ML modeling - testing advanced models and advanced features"
   ]
  },
  {
   "cell_type": "markdown",
   "metadata": {},
   "source": [
    "kaggle link : https://www.kaggle.com/c/competitive-data-science-predict-future-sales/overview"
   ]
  },
  {
   "cell_type": "code",
   "execution_count": 1,
   "metadata": {},
   "outputs": [],
   "source": [
    "import pandas as pd\n",
    "import numpy as np\n",
    "import matplotlib.pyplot as plt\n",
    "import datetime\n",
    "import seaborn as sns; sns.set()\n",
    "import random\n",
    "from dateutil.relativedelta import relativedelta\n",
    "import os\n",
    "from itertools import chain"
   ]
  },
  {
   "cell_type": "code",
   "execution_count": 2,
   "metadata": {},
   "outputs": [],
   "source": [
    "from my_functions import merge_basic, scaler, inversed_scale, consolidation_prediction, plot_prediction\n",
    "from my_functions import preparing_to_predict, plot_metrics"
   ]
  },
  {
   "cell_type": "code",
   "execution_count": 3,
   "metadata": {},
   "outputs": [],
   "source": [
    "from especial_functions import balance_items_test, get_full_lags, feature_silver, integration_new_features_map\n",
    "from especial_functions import features_rows_train_silver, get_maps_from, balance_items_test\n",
    "from especial_functions import augmentation_reduction"
   ]
  },
  {
   "cell_type": "code",
   "execution_count": 4,
   "metadata": {},
   "outputs": [],
   "source": [
    "from sklearn.preprocessing import MinMaxScaler\n",
    "\n",
    "from sklearn.tree import DecisionTreeRegressor\n",
    "from sklearn.ensemble import AdaBoostRegressor\n",
    "from sklearn.metrics import mean_squared_error"
   ]
  },
  {
   "cell_type": "code",
   "execution_count": 5,
   "metadata": {},
   "outputs": [],
   "source": [
    "from sklearn.neighbors import KNeighborsClassifier as knnc\n",
    "from sklearn import metrics"
   ]
  },
  {
   "cell_type": "code",
   "execution_count": 6,
   "metadata": {},
   "outputs": [],
   "source": [
    "import warnings\n",
    "warnings.filterwarnings('ignore')"
   ]
  },
  {
   "cell_type": "markdown",
   "metadata": {},
   "source": [
    "### Data"
   ]
  },
  {
   "cell_type": "code",
   "execution_count": 7,
   "metadata": {},
   "outputs": [],
   "source": [
    "daily_train = pd.read_csv('sales_train.csv')\n",
    "items = pd.read_csv('items.csv')\n",
    "shops = pd.read_csv('shops.csv')\n",
    "categories = pd.read_csv('item_categories.csv')\n",
    "sample_submission = pd.read_csv('sample_submission.csv')\n",
    "test = pd.read_csv('test.csv')"
   ]
  },
  {
   "cell_type": "markdown",
   "metadata": {},
   "source": [
    "### Data modeling"
   ]
  },
  {
   "cell_type": "code",
   "execution_count": 8,
   "metadata": {},
   "outputs": [],
   "source": [
    "def exploiting_words(data):\n",
    "    items_vector = list(data.item_name.unique())\n",
    "    items_vector = pd.DataFrame({'item_name': items_vector})\n",
    "    items_vector['lenstr'] = items_vector.item_name.str.len() ## this can be a feature\n",
    "    items_vector['NWords'] = items_vector.item_name.str.split().str.len()\n",
    "    items_vector['ItemWord0'] = items_vector.item_name.str.split().str.get(0)\n",
    "    items_vector['ItemWord_1'] = items_vector.item_name.str.split().str.get(-1)\n",
    "    \n",
    "    def my_tokengen(data, columnx):\n",
    "        unique_words = list()\n",
    "        for string in  list(data[columnx].values):\n",
    "            for word in string.split():\n",
    "                unique_words.append(word)\n",
    "        unique_words = set(unique_words)\n",
    "        unique_words = list(unique_words)\n",
    "        unique_words.sort()\n",
    "        number = [idx[0] +1 for idx in enumerate(unique_words)]\n",
    "        map_word = {x:y for x,y in zip(unique_words, number)}\n",
    "\n",
    "        data[columnx] = data[columnx].map(map_word)\n",
    "        return data\n",
    "    \n",
    "    items_vector = my_tokengen(items_vector, 'ItemWord0')\n",
    "    items_vector = my_tokengen(items_vector, 'ItemWord_1')\n",
    "    items_vector = items_vector.merge(data[['item_name','item_id']], on = 'item_name', how = 'left').drop(columns = 'item_name')\n",
    "    \n",
    "    return {'item_name_explo':items_vector}"
   ]
  },
  {
   "cell_type": "code",
   "execution_count": 9,
   "metadata": {},
   "outputs": [],
   "source": [
    "def cleaning_shop_categs(shops, categories):\n",
    "    shops[['shop_comp1','shop_comp2']] = shops.shop_name.str.split(' \"',expand=True,)\n",
    "    shops['shop_comp1'] = shops.shop_comp1.replace({r'\\([^)]*\\)' : ''}, regex=True)\n",
    "    shops['shop_comp1'] = shops['shop_comp1'].str.split(' ').str[0]\n",
    "\n",
    "    shops['shop_comp2'] = shops.shop_comp2.replace({r'\\([^)]*\\)' : ''}, regex=True)\n",
    "    shops['shop_comp2'] = shops.shop_comp2.replace({'\"' :''}, regex=True)\n",
    "\n",
    "    categories[['categ_comp1','categ_comp2']] = categories.item_category_name.str.split(\" - \",expand=True,)\n",
    "    categories['categ_comp1'] = categories.categ_comp1.replace({r'\\([^)]*\\)' : ''}, regex=True)\n",
    "    categories['categ_comp2'] = categories.categ_comp2.replace({r'\\([^)]*\\)' : ''}, regex=True)\n",
    "    \n",
    "    return shops, categories\n",
    "\n",
    "def indexing_shop_categs(data, column):\n",
    "    my_map = dict()\n",
    "    for index, value in enumerate(data[column].unique()):\n",
    "        my_map[value] = index\n",
    "    data[f'map_{column}'] = data[column].map(my_map)\n",
    "    return data"
   ]
  },
  {
   "cell_type": "markdown",
   "metadata": {},
   "source": [
    "<b> Treating the map item, category and shop"
   ]
  },
  {
   "cell_type": "code",
   "execution_count": 10,
   "metadata": {},
   "outputs": [],
   "source": [
    "items_feature =  exploiting_words(data = items)"
   ]
  },
  {
   "cell_type": "code",
   "execution_count": 11,
   "metadata": {},
   "outputs": [],
   "source": [
    "shops_feature, categories_feature = cleaning_shop_categs(shops, categories)\n",
    "shops_feature = indexing_shop_categs(shops_feature, 'shop_comp1')\n",
    "shops_feature = indexing_shop_categs(shops_feature, 'shop_comp2')\n",
    "categories_feature = indexing_shop_categs(categories_feature, 'categ_comp1')\n",
    "categories_feature = indexing_shop_categs(categories_feature, 'categ_comp2')"
   ]
  },
  {
   "cell_type": "markdown",
   "metadata": {},
   "source": [
    "<b> Fast Cleaning"
   ]
  },
  {
   "cell_type": "code",
   "execution_count": 12,
   "metadata": {},
   "outputs": [],
   "source": [
    "median = daily_train[(daily_train.shop_id == 32) & (daily_train.item_id == 2973) & (daily_train.date_block_num == 4) & (daily_train.item_price > 0)].item_price.median()\n",
    "daily_train.loc[daily_train.item_price < 0, 'item_price'] = median"
   ]
  },
  {
   "cell_type": "code",
   "execution_count": 13,
   "metadata": {},
   "outputs": [],
   "source": [
    "daily_train.loc[daily_train.shop_id == 0, 'shop_id'] = 57\n",
    "test.loc[test.shop_id == 0, 'shop_id'] = 57\n",
    "daily_train.loc[daily_train.shop_id == 1, 'shop_id'] = 58\n",
    "test.loc[test.shop_id == 1, 'shop_id'] = 58\n",
    "daily_train.loc[daily_train.shop_id == 10, 'shop_id'] = 11\n",
    "test.loc[test.shop_id == 10, 'shop_id'] = 11"
   ]
  },
  {
   "cell_type": "code",
   "execution_count": 14,
   "metadata": {},
   "outputs": [],
   "source": [
    "### test preparation\n",
    "test_data = test\n",
    "test_data['date'] = pd.to_datetime(datetime.datetime(2015, 11, 1))\n",
    "test_data['date_block_num'] = 35\n",
    "test_data['item_price'] =  np.nan\n",
    "test_data['item_cnt_day'] = np.nan\n",
    "test_data = test_data[daily_train.columns]"
   ]
  },
  {
   "cell_type": "code",
   "execution_count": 15,
   "metadata": {},
   "outputs": [
    {
     "data": {
      "text/html": [
       "<div>\n",
       "<style scoped>\n",
       "    .dataframe tbody tr th:only-of-type {\n",
       "        vertical-align: middle;\n",
       "    }\n",
       "\n",
       "    .dataframe tbody tr th {\n",
       "        vertical-align: top;\n",
       "    }\n",
       "\n",
       "    .dataframe thead th {\n",
       "        text-align: right;\n",
       "    }\n",
       "</style>\n",
       "<table border=\"1\" class=\"dataframe\">\n",
       "  <thead>\n",
       "    <tr style=\"text-align: right;\">\n",
       "      <th></th>\n",
       "      <th>date</th>\n",
       "      <th>date_block_num</th>\n",
       "      <th>shop_id</th>\n",
       "      <th>item_id</th>\n",
       "      <th>item_price</th>\n",
       "      <th>item_cnt_day</th>\n",
       "    </tr>\n",
       "  </thead>\n",
       "  <tbody>\n",
       "    <tr>\n",
       "      <th>0</th>\n",
       "      <td>2015-11-01</td>\n",
       "      <td>35</td>\n",
       "      <td>5</td>\n",
       "      <td>5037</td>\n",
       "      <td>NaN</td>\n",
       "      <td>NaN</td>\n",
       "    </tr>\n",
       "    <tr>\n",
       "      <th>1</th>\n",
       "      <td>2015-11-01</td>\n",
       "      <td>35</td>\n",
       "      <td>5</td>\n",
       "      <td>5320</td>\n",
       "      <td>NaN</td>\n",
       "      <td>NaN</td>\n",
       "    </tr>\n",
       "    <tr>\n",
       "      <th>2</th>\n",
       "      <td>2015-11-01</td>\n",
       "      <td>35</td>\n",
       "      <td>5</td>\n",
       "      <td>5233</td>\n",
       "      <td>NaN</td>\n",
       "      <td>NaN</td>\n",
       "    </tr>\n",
       "    <tr>\n",
       "      <th>3</th>\n",
       "      <td>2015-11-01</td>\n",
       "      <td>35</td>\n",
       "      <td>5</td>\n",
       "      <td>5232</td>\n",
       "      <td>NaN</td>\n",
       "      <td>NaN</td>\n",
       "    </tr>\n",
       "    <tr>\n",
       "      <th>4</th>\n",
       "      <td>2015-11-01</td>\n",
       "      <td>35</td>\n",
       "      <td>5</td>\n",
       "      <td>5268</td>\n",
       "      <td>NaN</td>\n",
       "      <td>NaN</td>\n",
       "    </tr>\n",
       "  </tbody>\n",
       "</table>\n",
       "</div>"
      ],
      "text/plain": [
       "        date  date_block_num  shop_id  item_id  item_price  item_cnt_day\n",
       "0 2015-11-01              35        5     5037         NaN           NaN\n",
       "1 2015-11-01              35        5     5320         NaN           NaN\n",
       "2 2015-11-01              35        5     5233         NaN           NaN\n",
       "3 2015-11-01              35        5     5232         NaN           NaN\n",
       "4 2015-11-01              35        5     5268         NaN           NaN"
      ]
     },
     "execution_count": 15,
     "metadata": {},
     "output_type": "execute_result"
    }
   ],
   "source": [
    "test_data.head()"
   ]
  },
  {
   "cell_type": "code",
   "execution_count": 16,
   "metadata": {},
   "outputs": [
    {
     "data": {
      "text/html": [
       "<div>\n",
       "<style scoped>\n",
       "    .dataframe tbody tr th:only-of-type {\n",
       "        vertical-align: middle;\n",
       "    }\n",
       "\n",
       "    .dataframe tbody tr th {\n",
       "        vertical-align: top;\n",
       "    }\n",
       "\n",
       "    .dataframe thead th {\n",
       "        text-align: right;\n",
       "    }\n",
       "</style>\n",
       "<table border=\"1\" class=\"dataframe\">\n",
       "  <thead>\n",
       "    <tr style=\"text-align: right;\">\n",
       "      <th></th>\n",
       "      <th>date</th>\n",
       "      <th>date_block_num</th>\n",
       "      <th>shop_id</th>\n",
       "      <th>item_id</th>\n",
       "      <th>item_price</th>\n",
       "      <th>item_cnt_day</th>\n",
       "    </tr>\n",
       "  </thead>\n",
       "  <tbody>\n",
       "    <tr>\n",
       "      <th>0</th>\n",
       "      <td>02.01.2013</td>\n",
       "      <td>0</td>\n",
       "      <td>59</td>\n",
       "      <td>22154</td>\n",
       "      <td>999.00</td>\n",
       "      <td>1.0</td>\n",
       "    </tr>\n",
       "    <tr>\n",
       "      <th>1</th>\n",
       "      <td>03.01.2013</td>\n",
       "      <td>0</td>\n",
       "      <td>25</td>\n",
       "      <td>2552</td>\n",
       "      <td>899.00</td>\n",
       "      <td>1.0</td>\n",
       "    </tr>\n",
       "    <tr>\n",
       "      <th>2</th>\n",
       "      <td>05.01.2013</td>\n",
       "      <td>0</td>\n",
       "      <td>25</td>\n",
       "      <td>2552</td>\n",
       "      <td>899.00</td>\n",
       "      <td>-1.0</td>\n",
       "    </tr>\n",
       "    <tr>\n",
       "      <th>3</th>\n",
       "      <td>06.01.2013</td>\n",
       "      <td>0</td>\n",
       "      <td>25</td>\n",
       "      <td>2554</td>\n",
       "      <td>1709.05</td>\n",
       "      <td>1.0</td>\n",
       "    </tr>\n",
       "    <tr>\n",
       "      <th>4</th>\n",
       "      <td>15.01.2013</td>\n",
       "      <td>0</td>\n",
       "      <td>25</td>\n",
       "      <td>2555</td>\n",
       "      <td>1099.00</td>\n",
       "      <td>1.0</td>\n",
       "    </tr>\n",
       "  </tbody>\n",
       "</table>\n",
       "</div>"
      ],
      "text/plain": [
       "         date  date_block_num  shop_id  item_id  item_price  item_cnt_day\n",
       "0  02.01.2013               0       59    22154      999.00           1.0\n",
       "1  03.01.2013               0       25     2552      899.00           1.0\n",
       "2  05.01.2013               0       25     2552      899.00          -1.0\n",
       "3  06.01.2013               0       25     2554     1709.05           1.0\n",
       "4  15.01.2013               0       25     2555     1099.00           1.0"
      ]
     },
     "execution_count": 16,
     "metadata": {},
     "output_type": "execute_result"
    }
   ],
   "source": [
    "daily_train.head()"
   ]
  },
  {
   "cell_type": "markdown",
   "metadata": {},
   "source": [
    "<b> preparing Train aggregation"
   ]
  },
  {
   "cell_type": "code",
   "execution_count": 17,
   "metadata": {},
   "outputs": [],
   "source": [
    "def convert_bronze(data, train = False, test_order = 34):\n",
    "    if train:\n",
    "        data['date'] = pd.to_datetime(data['date'], format = '%d.%m.%Y')\n",
    "        \n",
    "    data['SaleDateMY'] = data['date'].dt.to_period('M').dt.to_timestamp()\n",
    "    data['item_cnt_day'] = data['item_cnt_day'].clip(0,20)\n",
    "    \n",
    "    data = data.groupby(['SaleDateMY', 'date_block_num', 'shop_id', 'item_id'],\n",
    "                                ).agg( Sale = ('item_cnt_day', 'sum'),\n",
    "                                   item_price = ('item_price', 'mean'))\n",
    "    data = data.reset_index().rename(columns = {'SaleDateMY':'Date'})\n",
    "    \n",
    "    data['min_date'] = data.groupby(['shop_id', 'item_id'])['Date'].transform('min')\n",
    "\n",
    "    ### completing with 0 items with 0 in no dates\n",
    "    \n",
    "    map_aggg = data[['Date','item_id','shop_id','min_date','Sale']]\\\n",
    "        .pivot_table(index = ['item_id','shop_id','min_date'], columns = ['Date'], values = 'Sale', aggfunc = 'count').reset_index()\n",
    "    map_aggg = map_aggg.melt(id_vars=['item_id','shop_id','min_date'], value_vars = map_aggg.columns[2:],  var_name='Date', value_name='Nothing')\n",
    "    map_aggg = map_aggg[map_aggg.Date >= map_aggg.min_date]\n",
    "    map_aggg = map_aggg[['item_id','shop_id','Date']]\n",
    "    \n",
    "    group_data = map_aggg.merge(data, on = ['item_id','shop_id','Date'], how = 'left').fillna(0)\n",
    "    group_data['Sale'] = group_data['Sale'].clip(0,20)\n",
    "    \n",
    "    del map_aggg\n",
    "    \n",
    "    if train:\n",
    "        ### get a map of the dates\n",
    "        date_list =[group_data.Date.min()]\n",
    "        date = group_data.Date.min()\n",
    "        max_date = group_data.Date.max()\n",
    "        while date <= max_date:\n",
    "            date = date_list[-1] + relativedelta(months=1)\n",
    "            date_list.append(date)\n",
    "        order_list = range(1,len(date_list)+1)\n",
    "        date_map = pd.DataFrame({'Date':date_list, 'Order':order_list})\n",
    "        group_data = group_data.merge(date_map, on = 'Date', how = 'left')\n",
    "    group_data = group_data.drop(columns = ['date_block_num', 'min_date'])\n",
    "    return group_data"
   ]
  },
  {
   "cell_type": "code",
   "execution_count": 18,
   "metadata": {},
   "outputs": [],
   "source": [
    "def merge_basic(train_data, items, items_feature ,categories, shops):\n",
    "    train_merge = train_data.merge(items, on = 'item_id', how = 'left')\n",
    "    train_merge = train_merge.merge(items_feature, on = 'item_id', how = 'left')\n",
    "    train_merge = train_merge.merge(categories, on = 'item_category_id', how = 'left')\n",
    "    train_merge = train_merge.merge(shops, on = 'shop_id', how = 'left')\n",
    "\n",
    "    return train_merge"
   ]
  },
  {
   "cell_type": "code",
   "execution_count": 19,
   "metadata": {},
   "outputs": [
    {
     "data": {
      "text/plain": [
       "(2935849, 6)"
      ]
     },
     "execution_count": 19,
     "metadata": {},
     "output_type": "execute_result"
    }
   ],
   "source": [
    "daily_train.shape"
   ]
  },
  {
   "cell_type": "code",
   "execution_count": 20,
   "metadata": {},
   "outputs": [],
   "source": [
    "train_bronze = convert_bronze(data = daily_train, train = True)"
   ]
  },
  {
   "cell_type": "code",
   "execution_count": 21,
   "metadata": {},
   "outputs": [
    {
     "data": {
      "text/plain": [
       "(9784152, 6)"
      ]
     },
     "execution_count": 21,
     "metadata": {},
     "output_type": "execute_result"
    }
   ],
   "source": [
    "train_bronze.shape"
   ]
  },
  {
   "cell_type": "code",
   "execution_count": 22,
   "metadata": {},
   "outputs": [],
   "source": [
    "train_merge = merge_basic(train_data = train_bronze, items = items, items_feature = items_feature['item_name_explo'],\n",
    "                            categories = categories_feature, shops = shops_feature)"
   ]
  },
  {
   "cell_type": "code",
   "execution_count": 23,
   "metadata": {},
   "outputs": [
    {
     "data": {
      "text/plain": [
       "(9784152, 22)"
      ]
     },
     "execution_count": 23,
     "metadata": {},
     "output_type": "execute_result"
    }
   ],
   "source": [
    "train_merge.shape"
   ]
  },
  {
   "cell_type": "markdown",
   "metadata": {},
   "source": [
    "<b> Splitting strategy:"
   ]
  },
  {
   "cell_type": "markdown",
   "metadata": {},
   "source": [
    "* time series expanding window of one period, Take 7 months\n",
    "* over the first fold, make the functions and features for modeling and prediction (avoid leakage)\n",
    "* lags and seasons are features\n",
    "* use rmse as metric\n",
    "* consider the outputs of the EDA\n",
    "* goal, predict november or yyyy-11-01"
   ]
  },
  {
   "cell_type": "markdown",
   "metadata": {},
   "source": [
    "#### The validation data"
   ]
  },
  {
   "cell_type": "code",
   "execution_count": 24,
   "metadata": {},
   "outputs": [
    {
     "data": {
      "text/plain": [
       "<matplotlib.axes._subplots.AxesSubplot at 0x2034a053fc8>"
      ]
     },
     "execution_count": 24,
     "metadata": {},
     "output_type": "execute_result"
    },
    {
     "data": {
      "image/png": "[encoded data removed]",
      "text/plain": [
       "<Figure size 432x288 with 1 Axes>"
      ]
     },
     "metadata": {},
     "output_type": "display_data"
    }
   ],
   "source": [
    "test_data.groupby(['item_id']).agg(lit = ('shop_id','nunique')).reset_index().lit.hist()"
   ]
  },
  {
   "cell_type": "code",
   "execution_count": 25,
   "metadata": {},
   "outputs": [
    {
     "data": {
      "text/plain": [
       "<matplotlib.axes._subplots.AxesSubplot at 0x2034cf7c908>"
      ]
     },
     "execution_count": 25,
     "metadata": {},
     "output_type": "execute_result"
    },
    {
     "data": {
      "image/png": "[encoded data removed]",
      "text/plain": [
       "<Figure size 432x288 with 1 Axes>"
      ]
     },
     "metadata": {},
     "output_type": "display_data"
    }
   ],
   "source": [
    "daily_train.groupby(['item_id']).agg(lit = ('shop_id','nunique')).reset_index().lit.hist(bins = 100)"
   ]
  },
  {
   "cell_type": "code",
   "execution_count": 26,
   "metadata": {},
   "outputs": [],
   "source": [
    "#len(daily_train.item_id.unique()),len(test_data.item_id.unique()), len(test_data.merge(daily_train, on = ['item_id'], how ='inner').item_id.unique())"
   ]
  },
  {
   "cell_type": "code",
   "execution_count": 27,
   "metadata": {},
   "outputs": [],
   "source": [
    "#len(daily_train.groupby(['shop_id','item_id']).agg(lit = ('item_cnt_day','max')).reset_index()) ,len(test_data),  len(test_data.merge(daily_train, on = ['item_id','shop_id'], how ='inner').item_id.unique())"
   ]
  },
  {
   "cell_type": "markdown",
   "metadata": {},
   "source": [
    "<b> validation must be some data with historique and some very new data"
   ]
  },
  {
   "cell_type": "code",
   "execution_count": 28,
   "metadata": {},
   "outputs": [],
   "source": [
    "def supagg(data):\n",
    "    data['lit'] = data.groupby(['item_id'])['shop_id'].transform('nunique')\n",
    "    agge = data.groupby(['item_id','shop_id']).agg(lit = ('lit','max')).reset_index()\n",
    "    return agge"
   ]
  },
  {
   "cell_type": "code",
   "execution_count": 29,
   "metadata": {},
   "outputs": [],
   "source": [
    "agg_daily_train = supagg(daily_train)"
   ]
  },
  {
   "cell_type": "code",
   "execution_count": 30,
   "metadata": {},
   "outputs": [],
   "source": [
    "def  reduce_sample(data, frac, single = False ):\n",
    "    if single:\n",
    "        data = data.groupby(['item_id','shop_id']).agg(lit = ('lit','max')).reset_index().sample(frac = frac, random_state = 123)\n",
    "    else:\n",
    "        data = data.sample(frac = frac, random_state = 123)\n",
    "        data = data[['item_id','shop_id','lit']]\n",
    "    return data"
   ]
  },
  {
   "cell_type": "code",
   "execution_count": 31,
   "metadata": {},
   "outputs": [],
   "source": [
    "vector_drop_1 = reduce_sample(data = agg_daily_train[agg_daily_train.lit > 5], frac = 0.70)\n",
    "vector_drop_2 = reduce_sample(data = agg_daily_train[agg_daily_train.lit <= 1], frac = 0.40, single = True)"
   ]
  },
  {
   "cell_type": "code",
   "execution_count": 32,
   "metadata": {},
   "outputs": [],
   "source": [
    "itemshop_to_drop_1 = list(vector_drop_1.assign(shopitem = vector_drop_1.shop_id.astype('str') + '_' + vector_drop_1.item_id.astype('str'))\\\n",
    "                        .shopitem.unique())\n",
    "itemshop_to_drop_2 = list(vector_drop_2.assign(shopitem = vector_drop_2.shop_id.astype('str') + '_' + vector_drop_2.item_id.astype('str'))\\\n",
    "                        .shopitem.unique())\n",
    "\n",
    "items_to_drop_all = itemshop_to_drop_1 + itemshop_to_drop_2"
   ]
  },
  {
   "cell_type": "code",
   "execution_count": 33,
   "metadata": {},
   "outputs": [
    {
     "data": {
      "text/plain": [
       "<matplotlib.axes._subplots.AxesSubplot at 0x2034bb98148>"
      ]
     },
     "execution_count": 33,
     "metadata": {},
     "output_type": "execute_result"
    },
    {
     "data": {
      "image/png": "[encoded data removed]",
      "text/plain": [
       "<Figure size 432x288 with 1 Axes>"
      ]
     },
     "metadata": {},
     "output_type": "display_data"
    }
   ],
   "source": [
    "daily_train = daily_train.assign(shopitem = daily_train.shop_id.astype('str') + '_' + daily_train.item_id.astype('str'))\n",
    "\n",
    "daily_train[ ~daily_train.shopitem.isin(items_to_drop_all) ]\\\n",
    "    .groupby(['item_id']).agg(lit = ('shop_id','nunique')).reset_index().lit.hist(bins = 100)"
   ]
  },
  {
   "cell_type": "code",
   "execution_count": 34,
   "metadata": {},
   "outputs": [
    {
     "data": {
      "text/plain": [
       "Timestamp('2015-10-01 00:00:00')"
      ]
     },
     "execution_count": 34,
     "metadata": {},
     "output_type": "execute_result"
    }
   ],
   "source": [
    "train_bronze.Date.max()"
   ]
  },
  {
   "cell_type": "code",
   "execution_count": 35,
   "metadata": {},
   "outputs": [],
   "source": [
    "test_dates = [datetime.datetime(2015, 9, 1), datetime.datetime(2015, 10, 1),]"
   ]
  },
  {
   "cell_type": "markdown",
   "metadata": {},
   "source": [
    "#### hold-out Train"
   ]
  },
  {
   "cell_type": "markdown",
   "metadata": {},
   "source": [
    " almost 95% of the items available"
   ]
  },
  {
   "cell_type": "code",
   "execution_count": 36,
   "metadata": {},
   "outputs": [],
   "source": [
    "date_val = datetime.datetime(2015, 9, 1)"
   ]
  },
  {
   "cell_type": "code",
   "execution_count": 37,
   "metadata": {},
   "outputs": [],
   "source": [
    "train_merge = train_merge.assign(shopitem = train_merge.shop_id.astype('str') + '_' + train_merge.item_id.astype('str'))"
   ]
  },
  {
   "cell_type": "code",
   "execution_count": 38,
   "metadata": {},
   "outputs": [],
   "source": [
    "def get_val_window(data, date, items_to_drop_all):\n",
    "    val_window_1 = data[data.Date == date ]\n",
    "    already_found = val_window_1.shopitem.unique()\n",
    "    \n",
    "    val_window_2 = data[ (data.Date != date) & (data.shopitem.isin(items_to_drop_all)) ]\n",
    "    val_window_2['Order'] = val_window_2.groupby(['shop_id','item_id']).cumcount() + 1\n",
    "    val_window_2 = val_window_2[val_window_2.Order == 1]\n",
    "    val_window_2['Date'] = date\n",
    "    val_window_2 = val_window_2[~val_window_2.shopitem.isin(already_found)]\n",
    "    val_window_2['Sale'] = 0\n",
    "    print(len(val_window_1),len(val_window_2))\n",
    "    val_window = pd.concat([val_window_1,val_window_2])\n",
    "    return val_window"
   ]
  },
  {
   "cell_type": "code",
   "execution_count": 39,
   "metadata": {},
   "outputs": [
    {
     "name": "stdout",
     "output_type": "stream",
     "text": [
      "411789 4438\n"
     ]
    }
   ],
   "source": [
    "train_full = train_merge[(train_merge.Date < date_val) & (~train_merge.shopitem.isin(items_to_drop_all))]  # itemshop_to_drop_2\n",
    "val_window = get_val_window(data = train_merge, date = date_val, items_to_drop_all = items_to_drop_all)"
   ]
  },
  {
   "cell_type": "code",
   "execution_count": 40,
   "metadata": {},
   "outputs": [
    {
     "data": {
      "text/html": [
       "<div>\n",
       "<style scoped>\n",
       "    .dataframe tbody tr th:only-of-type {\n",
       "        vertical-align: middle;\n",
       "    }\n",
       "\n",
       "    .dataframe tbody tr th {\n",
       "        vertical-align: top;\n",
       "    }\n",
       "\n",
       "    .dataframe thead th {\n",
       "        text-align: right;\n",
       "    }\n",
       "</style>\n",
       "<table border=\"1\" class=\"dataframe\">\n",
       "  <thead>\n",
       "    <tr style=\"text-align: right;\">\n",
       "      <th></th>\n",
       "      <th>item_id</th>\n",
       "      <th>shop_id</th>\n",
       "      <th>Date</th>\n",
       "      <th>Sale</th>\n",
       "      <th>item_price</th>\n",
       "      <th>Order</th>\n",
       "      <th>item_name</th>\n",
       "      <th>item_category_id</th>\n",
       "      <th>lenstr</th>\n",
       "      <th>NWords</th>\n",
       "      <th>...</th>\n",
       "      <th>categ_comp1</th>\n",
       "      <th>categ_comp2</th>\n",
       "      <th>map_categ_comp1</th>\n",
       "      <th>map_categ_comp2</th>\n",
       "      <th>shop_name</th>\n",
       "      <th>shop_comp1</th>\n",
       "      <th>shop_comp2</th>\n",
       "      <th>map_shop_comp1</th>\n",
       "      <th>map_shop_comp2</th>\n",
       "      <th>shopitem</th>\n",
       "    </tr>\n",
       "  </thead>\n",
       "  <tbody>\n",
       "    <tr>\n",
       "      <th>0</th>\n",
       "      <td>19</td>\n",
       "      <td>25</td>\n",
       "      <td>2013-01-01</td>\n",
       "      <td>1.0</td>\n",
       "      <td>28.0</td>\n",
       "      <td>1</td>\n",
       "      <td>/ЗОЛОТАЯ КОЛЛЕКЦИЯ м/ф-72</td>\n",
       "      <td>40</td>\n",
       "      <td>25</td>\n",
       "      <td>3</td>\n",
       "      <td>...</td>\n",
       "      <td>Кино</td>\n",
       "      <td>DVD</td>\n",
       "      <td>11</td>\n",
       "      <td>22</td>\n",
       "      <td>Москва ТРК \"Атриум\"</td>\n",
       "      <td>Москва</td>\n",
       "      <td>Атриум</td>\n",
       "      <td>14</td>\n",
       "      <td>18</td>\n",
       "      <td>25_19</td>\n",
       "    </tr>\n",
       "    <tr>\n",
       "      <th>9</th>\n",
       "      <td>28</td>\n",
       "      <td>31</td>\n",
       "      <td>2013-01-01</td>\n",
       "      <td>3.0</td>\n",
       "      <td>549.0</td>\n",
       "      <td>1</td>\n",
       "      <td>007 Legends [PС, Jewel, русская версия]</td>\n",
       "      <td>30</td>\n",
       "      <td>39</td>\n",
       "      <td>6</td>\n",
       "      <td>...</td>\n",
       "      <td>Игры PC</td>\n",
       "      <td>Стандартные издания</td>\n",
       "      <td>8</td>\n",
       "      <td>14</td>\n",
       "      <td>Москва ТЦ \"Семеновский\"</td>\n",
       "      <td>Москва</td>\n",
       "      <td>Семеновский</td>\n",
       "      <td>14</td>\n",
       "      <td>24</td>\n",
       "      <td>31_28</td>\n",
       "    </tr>\n",
       "    <tr>\n",
       "      <th>11</th>\n",
       "      <td>28</td>\n",
       "      <td>46</td>\n",
       "      <td>2013-01-01</td>\n",
       "      <td>1.0</td>\n",
       "      <td>549.0</td>\n",
       "      <td>1</td>\n",
       "      <td>007 Legends [PС, Jewel, русская версия]</td>\n",
       "      <td>30</td>\n",
       "      <td>39</td>\n",
       "      <td>6</td>\n",
       "      <td>...</td>\n",
       "      <td>Игры PC</td>\n",
       "      <td>Стандартные издания</td>\n",
       "      <td>8</td>\n",
       "      <td>14</td>\n",
       "      <td>Сергиев Посад ТЦ \"7Я\"</td>\n",
       "      <td>Сергиев</td>\n",
       "      <td>7Я</td>\n",
       "      <td>22</td>\n",
       "      <td>36</td>\n",
       "      <td>46_28</td>\n",
       "    </tr>\n",
       "    <tr>\n",
       "      <th>14</th>\n",
       "      <td>29</td>\n",
       "      <td>31</td>\n",
       "      <td>2013-01-01</td>\n",
       "      <td>2.0</td>\n",
       "      <td>2499.0</td>\n",
       "      <td>1</td>\n",
       "      <td>007 Legends [Xbox 360, русская версия]</td>\n",
       "      <td>23</td>\n",
       "      <td>38</td>\n",
       "      <td>6</td>\n",
       "      <td>...</td>\n",
       "      <td>Игры</td>\n",
       "      <td>XBOX 360</td>\n",
       "      <td>5</td>\n",
       "      <td>6</td>\n",
       "      <td>Москва ТЦ \"Семеновский\"</td>\n",
       "      <td>Москва</td>\n",
       "      <td>Семеновский</td>\n",
       "      <td>14</td>\n",
       "      <td>24</td>\n",
       "      <td>31_29</td>\n",
       "    </tr>\n",
       "    <tr>\n",
       "      <th>17</th>\n",
       "      <td>32</td>\n",
       "      <td>3</td>\n",
       "      <td>2013-01-01</td>\n",
       "      <td>3.0</td>\n",
       "      <td>349.0</td>\n",
       "      <td>1</td>\n",
       "      <td>1+1</td>\n",
       "      <td>40</td>\n",
       "      <td>3</td>\n",
       "      <td>1</td>\n",
       "      <td>...</td>\n",
       "      <td>Кино</td>\n",
       "      <td>DVD</td>\n",
       "      <td>11</td>\n",
       "      <td>22</td>\n",
       "      <td>Балашиха ТРК \"Октябрь-Киномир\"</td>\n",
       "      <td>Балашиха</td>\n",
       "      <td>Октябрь-Киномир</td>\n",
       "      <td>2</td>\n",
       "      <td>3</td>\n",
       "      <td>3_32</td>\n",
       "    </tr>\n",
       "  </tbody>\n",
       "</table>\n",
       "<p>5 rows × 23 columns</p>\n",
       "</div>"
      ],
      "text/plain": [
       "    item_id  shop_id       Date  Sale  item_price  Order  \\\n",
       "0        19       25 2013-01-01   1.0        28.0      1   \n",
       "9        28       31 2013-01-01   3.0       549.0      1   \n",
       "11       28       46 2013-01-01   1.0       549.0      1   \n",
       "14       29       31 2013-01-01   2.0      2499.0      1   \n",
       "17       32        3 2013-01-01   3.0       349.0      1   \n",
       "\n",
       "                                  item_name  item_category_id  lenstr  NWords  \\\n",
       "0                 /ЗОЛОТАЯ КОЛЛЕКЦИЯ м/ф-72                40      25       3   \n",
       "9   007 Legends [PС, Jewel, русская версия]                30      39       6   \n",
       "11  007 Legends [PС, Jewel, русская версия]                30      39       6   \n",
       "14   007 Legends [Xbox 360, русская версия]                23      38       6   \n",
       "17                                      1+1                40       3       1   \n",
       "\n",
       "    ...  categ_comp1          categ_comp2 map_categ_comp1 map_categ_comp2  \\\n",
       "0   ...         Кино                  DVD              11              22   \n",
       "9   ...      Игры PC  Стандартные издания               8              14   \n",
       "11  ...      Игры PC  Стандартные издания               8              14   \n",
       "14  ...         Игры             XBOX 360               5               6   \n",
       "17  ...         Кино                  DVD              11              22   \n",
       "\n",
       "                         shop_name  shop_comp1       shop_comp2  \\\n",
       "0              Москва ТРК \"Атриум\"      Москва           Атриум   \n",
       "9          Москва ТЦ \"Семеновский\"      Москва      Семеновский   \n",
       "11           Сергиев Посад ТЦ \"7Я\"     Сергиев               7Я   \n",
       "14         Москва ТЦ \"Семеновский\"      Москва      Семеновский   \n",
       "17  Балашиха ТРК \"Октябрь-Киномир\"    Балашиха  Октябрь-Киномир   \n",
       "\n",
       "   map_shop_comp1 map_shop_comp2 shopitem  \n",
       "0              14             18    25_19  \n",
       "9              14             24    31_28  \n",
       "11             22             36    46_28  \n",
       "14             14             24    31_29  \n",
       "17              2              3     3_32  \n",
       "\n",
       "[5 rows x 23 columns]"
      ]
     },
     "execution_count": 40,
     "metadata": {},
     "output_type": "execute_result"
    }
   ],
   "source": [
    "train_full.head()"
   ]
  },
  {
   "cell_type": "code",
   "execution_count": 41,
   "metadata": {},
   "outputs": [
    {
     "data": {
      "text/plain": [
       "(Timestamp('2015-08-01 00:00:00'), Timestamp('2013-01-01 00:00:00'))"
      ]
     },
     "execution_count": 41,
     "metadata": {},
     "output_type": "execute_result"
    }
   ],
   "source": [
    "train_full.Date.max(), train_full.Date.min()"
   ]
  },
  {
   "cell_type": "code",
   "execution_count": 42,
   "metadata": {},
   "outputs": [
    {
     "data": {
      "text/plain": [
       "((2830594, 23), (416227, 23))"
      ]
     },
     "execution_count": 42,
     "metadata": {},
     "output_type": "execute_result"
    }
   ],
   "source": [
    "train_full.shape, val_window.shape"
   ]
  },
  {
   "cell_type": "markdown",
   "metadata": {},
   "source": [
    "### Exploration of the features"
   ]
  },
  {
   "cell_type": "markdown",
   "metadata": {},
   "source": [
    "<b> knn features"
   ]
  },
  {
   "cell_type": "code",
   "execution_count": 44,
   "metadata": {
    "jupyter": {
     "source_hidden": true
    }
   },
   "outputs": [],
   "source": [
    "def get_knn_featrue(data):\n",
    "    train_go = data.assign(SaleBin = np.where(data.Sale > 0 ,1 , 0))\n",
    "    train_go = train_go[['item_id','shop_id','item_category_id','map_categ_comp1','map_categ_comp2','map_shop_comp1','map_shop_comp2',\n",
    "                     'ItemWord0','ItemWord_1',\n",
    "                     'Order','Date', 'SaleBin']]\n",
    "\n",
    "    def get_full_lags_for_KNN(whole, date_to_take):\n",
    "\n",
    "        data = whole[ whole.Date < date_to_take]\n",
    "        data['itemShopMax'] = data.groupby(['shop_id','item_id']).SaleBin.transform('max')\n",
    "        data['possnumb'] = np.where(data.SaleBin > 0 , 1,0)\n",
    "        data['possCounts'] = data.groupby(['item_id','shop_id']).possnumb.transform('sum')\n",
    "\n",
    "        features_dictionary = dict()\n",
    "        #########################################\n",
    "        ### only item Columns  ##################\n",
    "        ########################################\n",
    "\n",
    "        date_max = data.Date.max()\n",
    "        date_max = datetime.datetime(date_max.year, date_max.month, date_max.day)\n",
    "\n",
    "        data['OrderGot'] = data.groupby(['item_id']).Order.transform('min')\n",
    "        data['SpaceOrder'] = data['Order'] - data['OrderGot']\n",
    "\n",
    "        #########################################\n",
    "        ### starts  ##################\n",
    "        ########################################\n",
    "\n",
    "        starts = data.groupby('item_id').agg(OrderGot = ('OrderGot','max')).reset_index()\n",
    "\n",
    "        features_dictionary['Starts'] = {'data':starts, 'keys':['item_id']}\n",
    "\n",
    "\n",
    "        ####################### ####\n",
    "        ####### counting ##########\n",
    "        ############################\n",
    "\n",
    "        def counting_go(data,variable, column, variable_name, time_feature = 'Date'):\n",
    "            data_to_use = data\n",
    "            data_to_use = data_to_use[data_to_use.SaleBin >= 1]\n",
    "            df_feature = data_to_use.groupby([variable] + [time_feature]).agg(countx = (column,'nunique')).reset_index()\n",
    "            df_feature = df_feature.rename(columns = {'countx': f'count_unique_{variable_name}'})\n",
    "            if time_feature == 'Date':\n",
    "                df_feature[time_feature] = df_feature[time_feature] + pd.DateOffset(months=1)\n",
    "            else:\n",
    "                df_feature[time_feature] = df_feature[time_feature] + 1\n",
    "            del data_to_use\n",
    "            return  {'data': df_feature, 'keys':[variable,  time_feature]}\n",
    "\n",
    "        features_dictionary['count shop in item'] = counting_go(data = data,variable = 'shop_id', column = 'item_id', variable_name = 'item')\n",
    "        features_dictionary['count shop in item'] = counting_go(data = data,variable = 'shop_id', column = 'item_category_id', variable_name = 'categ')\n",
    "        features_dictionary['count shop in categ1'] = counting_go(data = data,variable = 'shop_id', column = 'map_categ_comp1', variable_name = 'categ1')\n",
    "        features_dictionary['count shop in categ1'] = counting_go(data = data,variable = 'map_shop_comp2', column = 'map_categ_comp1', variable_name = 'categ1')\n",
    "        features_dictionary['count shop in categ2'] = counting_go(data = data,variable = 'shop_id', column = 'map_categ_comp2', variable_name = 'categ2')\n",
    "        features_dictionary['count item in shop'] = counting_go(data = data,variable = 'item_id', column = 'shop_id', variable_name = 'shop_id')\n",
    "\n",
    "        def counting_total(data, variables,  variable_name, rolling):\n",
    "            data_to_use = data\n",
    "            data_to_use = data_to_use[data_to_use.SaleBin >= 1]\n",
    "            maxDate = data_to_use.Date.max()\n",
    "            #beginDate = maxDate - relativedelta(months = 12)\n",
    "            #data_to_use = data_to_use[data_to_use.Date > beginDate]\n",
    "            df_feature = data_to_use.groupby(variables + ['Date']).agg(countx = ('SaleBin','sum')).reset_index()\n",
    "            df_feature['rolling_feature'] = df_feature.sort_values('Date').groupby(variables)['countx'].rolling(rolling, min_periods=1).sum().reset_index(level=0, drop=True)\n",
    "            df_feature['Date'] = df_feature['Date'] + pd.DateOffset(months=1)\n",
    "            df_feature = df_feature.rename(columns = { 'rolling_feature': f'fullcount_{variable_name}'}).drop(columns = ['countx'])\n",
    "\n",
    "            return  {'data': df_feature, 'keys':variables + ['Date']}\n",
    "\n",
    "        features_dictionary['count catego global'] = counting_total(data = data, variables = ['map_categ_comp1'],  variable_name = 'categcomp', rolling = 3)\n",
    "        features_dictionary['count itemword global'] = counting_total(data = data, variables = ['ItemWord0'],  variable_name = 'itemword0', rolling = 3)\n",
    "\n",
    "        return features_dictionary\n",
    "\n",
    "    def integration_new_features_map(data, dict_feature, filter_ceros = True):\n",
    "        data_wow = data\n",
    "\n",
    "        ## first merge\n",
    "        data_wow = data_wow.merge(dict_feature['Starts']['data'], on = dict_feature['Starts']['keys'], how = 'left')\n",
    "\n",
    "        ### further features\n",
    "        data_wow['SpaceOrder'] = data_wow['Order'] - data_wow['OrderGot']\n",
    "        data_wow['SpaceOrder'] = data_wow['SpaceOrder'].fillna(0)\n",
    "\n",
    "        ## second merge\n",
    "\n",
    "        for keyx in list(dict_feature.keys())[1:]:\n",
    "            data_left = dict_feature[keyx]['data']\n",
    "            onx = dict_feature[keyx]['keys']\n",
    "            data_wow = data_wow.merge(data_left, on = onx, how = 'left')\n",
    "\n",
    "\n",
    "        return data_wow.fillna(0)\n",
    "    \n",
    "    features_dictionary = get_full_lags_for_KNN(whole = train_go, date_to_take = date_val) ## for train but result easy in val\n",
    "    full_features_dictionary = {**features_dictionary}\n",
    "    train_feature = integration_new_features_map(data = train_go, dict_feature = full_features_dictionary)\n",
    "    \n",
    "    maxDate = train_feature.Date.max()\n",
    "    begin = maxDate - relativedelta(months = 5)\n",
    "    datatrain = train_feature[train_feature.Date >= begin]\n",
    "    \n",
    "    def reduction_sampling(data, reduction_0, sample_frac):\n",
    "        df_reduce = data[data.SaleBin == 0].sample(frac = reduction_0)\n",
    "        df_keep = data[data.SaleBin == 1]\n",
    "        df_recons = pd.concat([df_reduce, df_keep])\n",
    "\n",
    "        df_result = df_recons.sample(frac = sample_frac)\n",
    "        return df_result\n",
    "\n",
    "    train_reduced = reduction_sampling(data = datatrain, reduction_0 = 0.60, sample_frac = 0.40)\n",
    "    \n",
    "    knn_features = ['count_unique_categ', 'count_unique_categ1', 'count_unique_categ2',\n",
    "       'count_unique_shop_id', 'fullcount_categcomp', 'fullcount_itemword0']\n",
    "    knn_target = 'SaleBin'\n",
    "    \n",
    "    knn_train_x = train_reduced[knn_features]\n",
    "    knn_train_y = train_reduced[knn_target]\n",
    "    \n",
    "    my_knn = knnc(n_neighbors=6)\n",
    "    my_knn.fit(knn_train_x, knn_train_y)\n",
    "    \n",
    "    result = my_knn.predict_proba(train_feature[knn_features])[:,1]\n",
    "\n",
    "    return result, my_knn, full_features_dictionary, knn_features "
   ]
  },
  {
   "cell_type": "code",
   "execution_count": 45,
   "metadata": {},
   "outputs": [],
   "source": [
    "preds, knn_machine, featuredict_knn, knn_features = get_knn_featrue(data = train_full)"
   ]
  },
  {
   "cell_type": "code",
   "execution_count": 46,
   "metadata": {},
   "outputs": [],
   "source": [
    "train_full['knn_feature'] = preds"
   ]
  },
  {
   "cell_type": "code",
   "execution_count": 47,
   "metadata": {},
   "outputs": [],
   "source": [
    "def knn_in_validation(data, machine, feature_dict, knn_features):\n",
    "    full_valandtrain_selected = data\n",
    "    full_valandtrain_selected['SaleBin'] = np.where(full_valandtrain_selected.Sale >0 , 1 ,0)\n",
    "    valandtrain_feature = integration_new_features_map(data = full_valandtrain_selected, dict_feature = feature_dict, filter_ceros = False).fillna(0)\n",
    "    \n",
    "    X_val = valandtrain_feature[knn_features]\n",
    "    \n",
    "    Y_pred = machine.predict_proba(X_val)[:,1]\n",
    "    return Y_pred"
   ]
  },
  {
   "cell_type": "markdown",
   "metadata": {},
   "source": [
    "<b> conventional features"
   ]
  },
  {
   "cell_type": "code",
   "execution_count": 48,
   "metadata": {},
   "outputs": [],
   "source": [
    "def balance_items_test(data, date_to_take , gen_sample = 0.70, seed = 1234, replace_0 = 0.00):\n",
    "    \n",
    "    data = data[data.Date < date_to_take]\n",
    "    data['shopitem'] = data.shop_id.astype('str') + ('_') + data.item_id.astype('str')\n",
    "    ## for general sample\n",
    "    to_hide = int( round(len(data.shopitem.unique())*gen_sample,0 ))\n",
    "    items = list(data.shopitem.unique())\n",
    "    items = [str(x) for x in items]\n",
    "    random.seed(seed)\n",
    "    random.shuffle(items)\n",
    "    \n",
    "    keep_items = items[0:to_hide]\n",
    "    data_result = data[data.shopitem.astype('str').isin(keep_items)].drop(columns = 'shopitem')\n",
    "    data_result['Sale'] = data_result['Sale'].clip(replace_0, 20)\n",
    "    \n",
    "    return data_result"
   ]
  },
  {
   "cell_type": "code",
   "execution_count": 49,
   "metadata": {},
   "outputs": [],
   "source": [
    "def binning_price(data, column, cut_bins  ): \n",
    "    var = data[column]\n",
    "    data['binColumn'] =  pd.cut(var, bins = cut_bins, labels = cut_bins[0:-1], right = False)\n",
    "    return data"
   ]
  },
  {
   "cell_type": "code",
   "execution_count": 59,
   "metadata": {},
   "outputs": [],
   "source": [
    "def get_full_lags(whole, date_to_take):\n",
    "    \n",
    "    data = whole[ whole.Date < date_to_take]\n",
    "    data['itemShopMax'] = data.groupby(['shop_id','item_id']).Sale.transform('max')\n",
    "    data['possnumb'] = np.where(data.Sale > 0 , 1,0)\n",
    "    data['possCounts'] = data.groupby(['item_id','shop_id']).possnumb.transform('sum')\n",
    "    \n",
    "    features_dictionary = dict()\n",
    "    #########################################\n",
    "    ### only item Columns  ##################\n",
    "    ########################################\n",
    "\n",
    "    date_max = data.Date.max()\n",
    "    date_max = datetime.datetime(date_max.year, date_max.month, date_max.day)\n",
    "    \n",
    "    data['OrderGot'] = data.groupby(['item_id']).Order.transform('min')\n",
    "    data['SpaceOrder'] = data['Order'] - data['OrderGot']\n",
    "    \n",
    "    #########################################\n",
    "    ### starts  ##################\n",
    "    ########################################\n",
    "\n",
    "    starts = data.groupby('item_id').agg(OrderGot = ('OrderGot','max')).reset_index()\n",
    "    \n",
    "    features_dictionary['Starts'] = {'data':starts, 'keys':['item_id']}\n",
    "    \n",
    "    ####################### ####\n",
    "    ####### counting ##########\n",
    "    ############################\n",
    "    \n",
    "    def counting_go(data,variable, column, variable_name, time_feature = 'Date'):\n",
    "        data_to_use = data\n",
    "        df_feature = data_to_use.groupby([variable] + [time_feature]).agg(countx = (column,'nunique')).reset_index()\n",
    "        df_feature = df_feature.rename(columns = {'countx': f'count_unique_{variable_name}'})\n",
    "        if time_feature == 'Date':\n",
    "            df_feature[time_feature] = df_feature[time_feature] + pd.DateOffset(months=1)\n",
    "        else:\n",
    "            df_feature[time_feature] = df_feature[time_feature] + 1\n",
    "        del data_to_use\n",
    "        return  {'data': df_feature, 'keys':[variable,  time_feature]}\n",
    "        \n",
    "    features_dictionary['count categ2 by shop'] = counting_go(data = data,variable = 'shop_id', column = 'map_categ_comp2', variable_name = 'categ2', time_feature = 'SpaceOrder')\n",
    "    \n",
    "    #########################\n",
    "    #### level  function lags  ######\n",
    "    #########################\n",
    "    \n",
    "    def get_lags_feature_go(data, columns_feature, list_lags, variable_name, category = False, lag_category = None, Null_activator = True, time_feature = 'Date',\n",
    "                             dimension = 'Sale', operation = 'median'):\n",
    "            \n",
    "        data_to_use = data\n",
    "        data_to_use['SaleL1'] = data_to_use.sort_values('Date').groupby(['item_id','shop_id'])['Sale'].shift(1)\n",
    "        data_to_use['SaleDiff'] = data_to_use['Sale'] - data_to_use['SaleL1']\n",
    "        \n",
    "        sale_min = data_to_use.Sale.min()\n",
    "        \n",
    "        if Null_activator:\n",
    "            data_to_use['Sale'] = np.where(data_to_use['Sale'] == sale_min, np.nan, data_to_use['Sale'])\n",
    "        else:\n",
    "            data_to_use['Sale'] = data_to_use['Sale'].fillna(0)\n",
    "        begin_date = data_to_use.Date.max() - relativedelta(months = 5)\n",
    "        data_to_use = data_to_use[data_to_use.Date >= begin_date]\n",
    "        \n",
    "        df_feature = data_to_use\\\n",
    "            .groupby(columns_feature + [time_feature])\\\n",
    "            .agg( lag = (dimension, operation) )\\\n",
    "            .reset_index()\n",
    "        \n",
    "        if time_feature == 'Date':\n",
    "            df_feature[time_feature] = df_feature[time_feature] + pd.DateOffset(months=1)\n",
    "        else:\n",
    "            df_feature[time_feature] = df_feature[time_feature] + 1\n",
    "        \n",
    "        for li in list_lags:\n",
    "            lu = li - 1\n",
    "            df_feature[f'L{li}_{variable_name}'] = df_feature.sort_values(time_feature).groupby(columns_feature)['lag'].shift(lu)\n",
    "        df_feature = df_feature.drop(columns = ['lag']).fillna(0)\n",
    "        \n",
    "        if category:\n",
    "            df_feature[f'CategoryL{lag_category}{variable_name}'] = np.where(df_feature[f'L{lag_category}_{variable_name}'] < 2,'A',\n",
    "                np.where(df_feature[f'L{lag_category}_{variable_name}'] < 5,'B',\n",
    "                np.where(df_feature[f'L{lag_category}_{variable_name}'] < 10,'C','D')))\n",
    "\n",
    "        del data_to_use\n",
    "        \n",
    "        return {'data':df_feature, 'keys': columns_feature + [time_feature]}\n",
    "    \n",
    "    features_dictionary['Focus_meanitem_features'] = get_lags_feature_go(data = data, columns_feature = ['item_id'],  time_feature = 'SpaceOrder',\n",
    "                                                                list_lags = [1, 4, 8], variable_name = 'meanItem',\n",
    "                                                                category = True, lag_category = 1)\n",
    "    \n",
    "    features_dictionary['Focus_meanCategory_features'] = get_lags_feature_go(data = data, columns_feature = ['item_category_id'], \n",
    "                                                                list_lags = [1, 4, 8], variable_name = 'meanCategory')\n",
    "    \n",
    "    features_dictionary['Focus_meanshopCategory_features'] = get_lags_feature_go(data = data, columns_feature = ['shop_id', 'item_category_id'],  \n",
    "                                                                list_lags = [1,4, 8], variable_name = 'meanshopCategory')\n",
    "    \n",
    "    \n",
    "    #### very new feqtures\n",
    "    features_dictionary['Focus_shopitem_features'] = get_lags_feature_go(data = data, columns_feature = ['item_id'], \n",
    "                                                                list_lags = [1, 4, 8], variable_name = 'sumItem', operation = 'sum')\n",
    "    \n",
    "    features_dictionary['Focus_shopitem_features'] = get_lags_feature_go(data = data, columns_feature = ['shop_id'], \n",
    "                                                                list_lags = [1, 4, 8], variable_name = 'sumShop', operation = 'sum')\n",
    "    \n",
    "    def get_count_integer(data, columns_feature, list_lags, variable_name, Null_activator = True, interval = [0,20], time_feature = 'Date'):\n",
    "        \n",
    "        data_to_use = data\n",
    "        sale_min = data_to_use.Sale.min()\n",
    "        if Null_activator:\n",
    "            data_to_use['Sale'] = np.where(data_to_use['Sale'] == sale_min, np.nan, data_to_use['Sale'])\n",
    "        else:\n",
    "            data_to_use['Sale'] = data_to_use['Sale'].fillna(0)\n",
    "        \n",
    "        data_to_use['integer'] = np.where((data_to_use.SpaceOrder >= 0) & ( (data_to_use.Sale >= interval[0]) & (data_to_use.Sale <= interval[1]) ), 1,0)\n",
    "        begin_date = data_to_use.Date.max() - relativedelta(months = 5)\n",
    "        data_to_use = data_to_use[data_to_use.Date >= begin_date]\n",
    "        \n",
    "        df_feature = data_to_use\\\n",
    "            .groupby(columns_feature + [time_feature])\\\n",
    "            .agg( integer_count = ('integer','sum') )\\\n",
    "            .reset_index()\n",
    "        \n",
    "        if time_feature == 'Date':\n",
    "            df_feature[time_feature] = df_feature[time_feature] + pd.DateOffset(months=1)\n",
    "        else:\n",
    "            df_feature[time_feature] = df_feature[time_feature] + 1\n",
    "        \n",
    "        for li in list_lags:\n",
    "            lu = li - 1\n",
    "            df_feature[f'L{li}_{variable_name}'] = df_feature.sort_values(time_feature).groupby(columns_feature)['integer_count'].shift(lu)\n",
    "        df_feature = df_feature.drop(columns = ['integer_count']).fillna(0)\n",
    "\n",
    "        del data_to_use\n",
    "        return {'data':df_feature, 'keys': columns_feature + [time_feature]}\n",
    "    \n",
    "    features_dictionary['Focus_positives1-10_categ_features']  = get_count_integer(data = data, columns_feature = ['item_category_id'], interval = [1,10],\n",
    "                                                                      list_lags = [1,2,4], variable_name = 'positives_categ', Null_activator = False)\n",
    "\n",
    "    ####################\n",
    "    ### item price #####\n",
    "    ####################\n",
    "    \n",
    "    def item_price_features(data, variables, variable_name, time_feature = 'Date'):\n",
    "    \n",
    "        df_feature = data\n",
    "        if time_feature == 'Date':\n",
    "            df_feature[time_feature] = df_feature[time_feature] + pd.DateOffset(months=1)\n",
    "        else:\n",
    "            df_feature[time_feature] = df_feature[time_feature] + 1\n",
    "        \n",
    "        sale_min = df_feature.Sale.min()\n",
    "        df_feature['Sale'] = np.where(df_feature['Sale'] == sale_min, np.nan, df_feature['Sale'])\n",
    "        df_feature['avgPrice'] = df_feature.groupby( variables + ['Order']).item_price.transform('mean')\n",
    "        df_feature['L1Price'] = df_feature.sort_values(time_feature).groupby(['item_id','shop_id'])['item_price'].shift(1)\n",
    "    \n",
    "        df_feature = df_feature.groupby( variables + [time_feature]).agg(meanL1Price = ('L1Price','mean')).reset_index()\n",
    "        df_feature = df_feature.rename(columns = {'meanL1Price': f'{variable_name}_meanL1Price'})\n",
    "        \n",
    "        return {'data':df_feature, 'keys': variables + [time_feature]}\n",
    "        \n",
    "    features_dictionary['meanL1Price_item'] = item_price_features(data = data, variables = ['item_id'], variable_name = 'ItemId', time_feature = 'SpaceOrder')\n",
    "    #features_dictionary['meanL1Price_shopitemWord0'] = item_price_features(data = data, variables = ['shop_id', 'ItemWord0'], variable_name = 'shopid_itemWord0', time_feature = 'SpaceOrder')\n",
    "    \n",
    "    def price_median_laggings(data, columns_index, list_lags, variable_name ):\n",
    "        \n",
    "        data['mean_price'] = data[data.item_price > 0].groupby( columns_index + ['Date']).item_price.transform('median')\n",
    "        begin_date = data.Date.max() - relativedelta(months = 5)\n",
    "        data_to_use = data[data.Date >= begin_date]\n",
    "        \n",
    "        df_feature = data_to_use\\\n",
    "            .groupby(columns_index + ['Date'])\\\n",
    "            .agg( lag = ('item_price', 'median') )\\\n",
    "            .reset_index()\n",
    "        df_feature['Date'] = df_feature['Date'] + pd.DateOffset(months=1)\n",
    "        \n",
    "        for li in list_lags:\n",
    "            lu = li - 1\n",
    "            df_feature[f'L{li}_{variable_name}'] = df_feature.sort_values('Date').groupby(columns_index)['lag'].shift(lu)\n",
    "        df_feature = df_feature.drop(columns = ['lag']).fillna(0)\n",
    "        \n",
    "        return {'data':df_feature, 'keys': columns_index + ['Date']}\n",
    "        \n",
    "    \n",
    "    #### new feqtures\n",
    "    features_dictionary['Focus_shopcomp2_features'] = get_lags_feature_go(data = data, columns_feature = ['map_shop_comp2'],  \n",
    "                                                                list_lags = [1,2], variable_name = 'shopcomp2')\n",
    "    features_dictionary['Focus_shopcomp_catcomp_features'] = get_lags_feature_go(data = data, columns_feature = ['map_shop_comp1','map_categ_comp1'],  \n",
    "                                                                list_lags = [1,2], variable_name = 'shopcomp_catcomp')\n",
    "    \n",
    "    features_dictionary['Focus_item_3more_features']  = get_count_integer(data = data, columns_feature = ['item_id'], interval = [3,20],\n",
    "                                                                      list_lags = [1,2,4], variable_name = 'item_3more', Null_activator = False)\n",
    "    features_dictionary['Focus_shopCategory_3more_features']  = get_count_integer(data = data, columns_feature = ['shop_id','item_category_id'], interval = [3,20],\n",
    "                                                                      list_lags = [1,2,4], variable_name = 'shopCategory_3more', Null_activator = False)\n",
    "\n",
    "    return features_dictionary"
   ]
  },
  {
   "cell_type": "code",
   "execution_count": 60,
   "metadata": {},
   "outputs": [],
   "source": [
    "def feature_silver(data, date_to_take, Train = True):\n",
    "    data = data\n",
    "    \n",
    "    if Train:\n",
    "        data = data[ data.Date < date_to_take] \n",
    "    else:\n",
    "        data = data[data.Date >= (date_to_take - relativedelta(months=1))]\n",
    "    \n",
    "    ## further quasi id\n",
    "    data['shop_id_term_5'] =  data['shop_id'].astype('int') % 5\n",
    "    data['shop_id_term_10'] =  data['shop_id'].astype('int') % 10\n",
    "    \n",
    "    data['map1_shop_term_5'] =  data['map_shop_comp1'].astype('int') % 5\n",
    "    data['map1_shop_term_10'] =  data['map_shop_comp1'].astype('int') % 10\n",
    "    \n",
    "    data['map2_shop_term_5'] =  data['map_shop_comp2'].astype('int') % 5\n",
    "    data['map2_shop_term_10'] =  data['map_shop_comp2'].astype('int') % 10\n",
    "    \n",
    "    data['month'] =  data['Date'].dt.month\n",
    "    \n",
    "    return data"
   ]
  },
  {
   "cell_type": "code",
   "execution_count": 61,
   "metadata": {},
   "outputs": [],
   "source": [
    "def integration_new_features_map(data, dict_feature, filter_ceros = True):\n",
    "    data_wow = data\n",
    "\n",
    "    ## first merge\n",
    "    data_wow = data_wow.merge(dict_feature['Starts']['data'], on = dict_feature['Starts']['keys'], how = 'left')\n",
    "    \n",
    "    ### further features\n",
    "    data_wow['SpaceOrder'] = data_wow['Order'] - data_wow['OrderGot']\n",
    "    data_wow['SpaceOrder'] = data_wow['SpaceOrder'].fillna(0)\n",
    "    data_wow['SpaceOrder'] = np.where(data_wow['SpaceOrder'].isnull(), 0, data_wow['SpaceOrder'] )\n",
    "    data_wow['SpaceOrderActivator'] = np.where(data_wow['SpaceOrder'] >= 3,'A' , 'B' ) ### this is q dummy\n",
    "    \n",
    "    ## second merge\n",
    "    \n",
    "    for keyx in list(dict_feature.keys())[1:]:\n",
    "        data_left = dict_feature[keyx]['data']\n",
    "        onx = dict_feature[keyx]['keys']\n",
    "        data_wow = data_wow.merge(data_left, on = onx, how = 'left')\n",
    "        \n",
    "    if filter_ceros:\n",
    "        data_wow = data_wow[data_wow.SpaceOrder >= 0]\n",
    "        \n",
    "    return data_wow.fillna(0)"
   ]
  },
  {
   "cell_type": "code",
   "execution_count": 62,
   "metadata": {},
   "outputs": [
    {
     "name": "stdout",
     "output_type": "stream",
     "text": [
      "Wall time: 35.4 s\n"
     ]
    }
   ],
   "source": [
    "%%time\n",
    "train_full_selected = balance_items_test(data = train_full, date_to_take = date_val , gen_sample = 0.9999, seed = 1234)\n",
    "features_dictionary = get_full_lags(whole = train_full, date_to_take = date_val) ## for train but result easy in val\n",
    "full_features_dictionary = {**features_dictionary}"
   ]
  },
  {
   "cell_type": "code",
   "execution_count": 63,
   "metadata": {},
   "outputs": [
    {
     "name": "stdout",
     "output_type": "stream",
     "text": [
      "Wall time: 933 ms\n"
     ]
    }
   ],
   "source": [
    "%%time\n",
    "train_feature_tocomplete = feature_silver(train_full_selected , date_to_take = date_val, Train = True) ## for both"
   ]
  },
  {
   "cell_type": "code",
   "execution_count": 64,
   "metadata": {},
   "outputs": [
    {
     "name": "stdout",
     "output_type": "stream",
     "text": [
      "Wall time: 40.9 s\n"
     ]
    }
   ],
   "source": [
    "%%time\n",
    "train_feature = integration_new_features_map(data = train_feature_tocomplete, dict_feature = full_features_dictionary)  ## for both not prob"
   ]
  },
  {
   "cell_type": "code",
   "execution_count": 65,
   "metadata": {},
   "outputs": [
    {
     "data": {
      "text/plain": [
       "(2830364, 61)"
      ]
     },
     "execution_count": 65,
     "metadata": {},
     "output_type": "execute_result"
    }
   ],
   "source": [
    "train_feature.shape"
   ]
  },
  {
   "cell_type": "code",
   "execution_count": 66,
   "metadata": {},
   "outputs": [],
   "source": [
    "def features_rows_train_silver(data, features, target, sample_gen = None, validation = None, dates_back = 18, additional_val_cols = [] ):\n",
    "    data = data\n",
    "    if validation:\n",
    "        if 'shop_id' in additional_val_cols or 'item_id' in additional_val_cols:\n",
    "            additional_val_cols = []\n",
    "            \n",
    "        data_result = data[ data.Date == validation][additional_val_cols +features + [target]]\n",
    "        features_new = list(data_result.columns)\n",
    "        features_new.remove(target)\n",
    "        data_result = data_result[ features_new + [target]].fillna(0)\n",
    "        \n",
    "    else:\n",
    "        dataMax = data.Date.max()\n",
    "        beginDate = dataMax - relativedelta(months = dates_back)\n",
    "        data_result = data[data.Date >= beginDate]\n",
    "            \n",
    "        data_result = data_result.sample(frac = sample_gen)\n",
    "\n",
    "    return data_result"
   ]
  },
  {
   "cell_type": "code",
   "execution_count": 67,
   "metadata": {},
   "outputs": [
    {
     "data": {
      "text/plain": [
       "Index(['item_id', 'shop_id', 'Date', 'Sale', 'item_price', 'Order',\n",
       "       'item_name', 'item_category_id', 'lenstr', 'NWords', 'ItemWord0',\n",
       "       'ItemWord_1', 'item_category_name', 'categ_comp1', 'categ_comp2',\n",
       "       'map_categ_comp1', 'map_categ_comp2', 'shop_name', 'shop_comp1',\n",
       "       'shop_comp2', 'map_shop_comp1', 'map_shop_comp2', 'knn_feature',\n",
       "       'shop_id_term_5', 'shop_id_term_10', 'map1_shop_term_5',\n",
       "       'map1_shop_term_10', 'map2_shop_term_5', 'map2_shop_term_10', 'month',\n",
       "       'OrderGot', 'SpaceOrder', 'SpaceOrderActivator', 'count_unique_categ2',\n",
       "       'L1_meanItem', 'L4_meanItem', 'L8_meanItem', 'CategoryL1meanItem',\n",
       "       'L1_meanCategory', 'L4_meanCategory', 'L8_meanCategory',\n",
       "       'L1_meanshopCategory', 'L4_meanshopCategory', 'L8_meanshopCategory',\n",
       "       'L1_sumShop', 'L4_sumShop', 'L8_sumShop', 'L1_positives_categ',\n",
       "       'L2_positives_categ', 'L4_positives_categ', 'ItemId_meanL1Price',\n",
       "       'L1_shopcomp2', 'L2_shopcomp2', 'L1_shopcomp_catcomp',\n",
       "       'L2_shopcomp_catcomp', 'L1_item_3more', 'L2_item_3more',\n",
       "       'L4_item_3more', 'L1_shopCategory_3more', 'L2_shopCategory_3more',\n",
       "       'L4_shopCategory_3more'],\n",
       "      dtype='object')"
      ]
     },
     "execution_count": 67,
     "metadata": {},
     "output_type": "execute_result"
    }
   ],
   "source": [
    "train_feature.columns #"
   ]
  },
  {
   "cell_type": "code",
   "execution_count": 93,
   "metadata": {},
   "outputs": [
    {
     "data": {
      "text/plain": [
       "48"
      ]
     },
     "execution_count": 93,
     "metadata": {},
     "output_type": "execute_result"
    }
   ],
   "source": [
    "to_drop_columns = ['Date']\n",
    "ids_columns = ['item_category_id', 'item_id','shop_id',\n",
    "              'shop_id_term_5','shop_id_term_10', 'map1_shop_term_5',\n",
    "               'map1_shop_term_10','map2_shop_term_5', 'map2_shop_term_10'] #\n",
    "strings_number = ['lenstr', 'NWords', 'ItemWord0', 'ItemWord_1', 'map_categ_comp1', 'map_categ_comp2',\n",
    "                 'map_shop_comp1', 'map_shop_comp2']\n",
    "numericals = [ 'month',\n",
    "       'OrderGot', 'SpaceOrder',  'count_unique_categ2',\n",
    "       'L1_meanItem', 'L4_meanItem', 'L8_meanItem',\n",
    "       'L1_meanCategory', 'L4_meanCategory', 'L8_meanCategory',\n",
    "       'L1_meanshopCategory', 'L4_meanshopCategory', 'L8_meanshopCategory',\n",
    "       'L1_sumShop', 'L4_sumShop', 'L8_sumShop', 'L1_positives_categ',\n",
    "       'L2_positives_categ', 'L4_positives_categ', 'ItemId_meanL1Price',\n",
    "       'L1_shopcomp2', 'L2_shopcomp2', 'L1_shopcomp_catcomp',\n",
    "       'L2_shopcomp_catcomp', 'L1_item_3more', 'L2_item_3more',\n",
    "       'L4_item_3more', 'L1_shopCategory_3more', 'L2_shopCategory_3more',\n",
    "       'L4_shopCategory_3more'] + ids_columns + strings_number + ['knn_feature']\n",
    "\n",
    "categoricals = ['SpaceOrderActivator', 'CategoryL1meanItem']\n",
    "my_features = to_drop_columns + numericals + categoricals\n",
    "my_target = 'Sale'\n",
    "len(my_features) - 3"
   ]
  },
  {
   "cell_type": "code",
   "execution_count": 94,
   "metadata": {},
   "outputs": [
    {
     "name": "stdout",
     "output_type": "stream",
     "text": [
      "Wall time: 2.94 s\n"
     ]
    }
   ],
   "source": [
    "%%time\n",
    "train_selection = features_rows_train_silver(data = train_feature, features = my_features, target = my_target, sample_gen = 0.60)"
   ]
  },
  {
   "cell_type": "code",
   "execution_count": 95,
   "metadata": {},
   "outputs": [
    {
     "data": {
      "text/plain": [
       "(1245700, 61)"
      ]
     },
     "execution_count": 95,
     "metadata": {},
     "output_type": "execute_result"
    }
   ],
   "source": [
    "train_selection.shape"
   ]
  },
  {
   "cell_type": "code",
   "execution_count": 96,
   "metadata": {},
   "outputs": [
    {
     "data": {
      "text/plain": [
       "<matplotlib.axes._subplots.AxesSubplot at 0x20301848788>"
      ]
     },
     "execution_count": 96,
     "metadata": {},
     "output_type": "execute_result"
    },
    {
     "data": {
      "image/png": "[encoded data removed]",
      "text/plain": [
       "<Figure size 432x288 with 1 Axes>"
      ]
     },
     "metadata": {},
     "output_type": "display_data"
    }
   ],
   "source": [
    "train_selection.Sale.hist(bins = 25)"
   ]
  },
  {
   "cell_type": "code",
   "execution_count": 97,
   "metadata": {},
   "outputs": [],
   "source": [
    "def augmentation_reduction(data, fracs = [0.7, 0.1, 0.1, 0.8]):\n",
    "    data_wow = data\n",
    "    random.seed(1256)\n",
    "    mins_sale = data_wow.Sale.min()\n",
    "    zeros = np.array(data_wow[data_wow.Sale == mins_sale].index)\n",
    "    nx = int(round(zeros.shape[0]*fracs[0], 0))\n",
    "    indexes = np.random.choice(zeros.shape[0], nx, replace=False)\n",
    "    zeros_selected = zeros[indexes]\n",
    "    data_wow = data_wow[ ~data_wow.index.isin(zeros_selected)]\n",
    "    \n",
    "    ones = np.array(data_wow[data_wow.Sale == 1].index)\n",
    "    nx = int(round(ones.shape[0]*fracs[1], 0))\n",
    "    indexes = np.random.choice(ones.shape[0], nx, replace=False)\n",
    "    ones_selected = ones[indexes]\n",
    "    data_wow = data_wow[ ~data_wow.index.isin(ones_selected)]\n",
    "    \n",
    "    twoes = np.array(data_wow[data_wow.Sale == 2].index)\n",
    "    nx = int(round(twoes.shape[0]*fracs[2], 0))\n",
    "    indexes = np.random.choice(twoes.shape[0], nx, replace=False)\n",
    "    twoes_selected = twoes[indexes]\n",
    "    data_wow = data_wow[ ~data_wow.index.isin(twoes_selected)]\n",
    "    \n",
    "    twenties = np.array(data_wow[data_wow.Sale == 20].index)\n",
    "    nx = int(round(twenties.shape[0]*fracs[3], 0))\n",
    "    indexes = np.random.choice(twenties.shape[0], nx, replace=False)\n",
    "    twenties_selected = twenties[indexes]\n",
    "    data_wow = data_wow[ ~data_wow.index.isin(twenties_selected)]\n",
    "    \n",
    "    #data_augmented_tens = data_wow[data_wow.Sale > 10]\n",
    "    data_augmented = pd.concat([data_wow, \n",
    "                               ],axis= 0).reset_index()\n",
    "    \n",
    "    return data_augmented"
   ]
  },
  {
   "cell_type": "code",
   "execution_count": 98,
   "metadata": {},
   "outputs": [],
   "source": [
    "zero_vector = [0.35, 0.0001, 0.0001, 0.85]"
   ]
  },
  {
   "cell_type": "code",
   "execution_count": 99,
   "metadata": {},
   "outputs": [],
   "source": [
    "train_augmented = augmentation_reduction(train_selection, fracs = zero_vector)"
   ]
  },
  {
   "cell_type": "code",
   "execution_count": 100,
   "metadata": {},
   "outputs": [
    {
     "data": {
      "text/plain": [
       "<matplotlib.axes._subplots.AxesSubplot at 0x2030190f888>"
      ]
     },
     "execution_count": 100,
     "metadata": {},
     "output_type": "execute_result"
    },
    {
     "data": {
      "image/png": "[encoded data removed]",
      "text/plain": [
       "<Figure size 432x288 with 1 Axes>"
      ]
     },
     "metadata": {},
     "output_type": "display_data"
    }
   ],
   "source": [
    "train_augmented.Sale.hist(bins = 65)"
   ]
  },
  {
   "cell_type": "markdown",
   "metadata": {},
   "source": [
    "### continue ..."
   ]
  },
  {
   "cell_type": "code",
   "execution_count": 101,
   "metadata": {},
   "outputs": [],
   "source": [
    "def scaler(dataset, features, target, scaler=None, drop_columns = []):\n",
    "    if scaler:\n",
    "        features = [x for x in features if x not in drop_columns]\n",
    "        df = dataset[features + [target]]\n",
    "        df_scaled = scaler.transform(df)\n",
    "        dataset_scaled = pd.DataFrame(df_scaled, columns = df.columns, index = df.index)\n",
    "        return dataset_scaled\n",
    "    \n",
    "    else:\n",
    "        features = [x for x in features if x not in drop_columns]\n",
    "        df  = dataset[features + [target]]\n",
    "        scaler = MinMaxScaler()\n",
    "        scaler.fit(df)\n",
    "\n",
    "        dataset_scaled = scaler.transform(df)\n",
    "        dataset_scaled = pd.DataFrame(dataset_scaled, columns = df.columns, index = df.index)\n",
    "        return dataset_scaled, scaler"
   ]
  },
  {
   "cell_type": "code",
   "execution_count": 102,
   "metadata": {},
   "outputs": [],
   "source": [
    "my_columns_to_drops = ['shop_id_ItemWord0_mean_LastOrder', 'NWords','L1_iter_count_unique_item_id_shop_id', 'L1_iter_item_shop','SpaceOrder',  \n",
    "    'shop_id_mean_LastSpaceOrder','count_unique_categ2','map_shop_comp1_mean_LastOrder','ItemWord0_meanL1Price',\n",
    "    'fullcount_itemword_shop','ItemId_meanL1Price',\n",
    "    'count_unique_item', 'count_unique_categ1', 'count_unique_shop_id',\n",
    "     'OrderGot',\n",
    "    'item_id', 'ItemWord0',\n",
    "    'map2_shop_term_10','map2_shop_term_5', 'map1_shop_term_10', 'map1_shop_term_5'\n",
    "    ## new drops\n",
    "\n",
    "    ] + \\\n",
    "    ['CategoryL1Item_D', 'CategoryL1Item_C','CategoryL1Item_0','SpaceOrderActivator_A', 'SpaceOrderActivator_B', 'CategoryL1Item_B', 'CategoryL1Item_A'] "
   ]
  },
  {
   "cell_type": "code",
   "execution_count": 103,
   "metadata": {},
   "outputs": [],
   "source": [
    "feature_dictionary = {'numericals':numericals,\n",
    "                     'categoricals': categoricals,\n",
    "                     'my_target':my_target,\n",
    "                      'features_to_drop': my_columns_to_drops}"
   ]
  },
  {
   "cell_type": "code",
   "execution_count": 104,
   "metadata": {},
   "outputs": [],
   "source": [
    "train_scaled, my_scaler = scaler(train_augmented, numericals, my_target, scaler=None, drop_columns = my_columns_to_drops)\n",
    "#train_scaled = train_augmented[ numericals + [my_target] ]\n",
    "if len(categoricals) != 0:\n",
    "    train_dummies = pd.get_dummies(train_augmented[categoricals])\n",
    "    train_scaled = pd.concat([train_dummies,train_scaled],axis = 1)"
   ]
  },
  {
   "cell_type": "code",
   "execution_count": 105,
   "metadata": {},
   "outputs": [],
   "source": [
    "if len(categoricals) != 0:\n",
    "    final_features = list(train_dummies.columns) +  numericals\n",
    "else:\n",
    "    final_features = numericals\n",
    "final_features = [x for x in final_features if x not in my_columns_to_drops]"
   ]
  },
  {
   "cell_type": "code",
   "execution_count": 106,
   "metadata": {},
   "outputs": [],
   "source": [
    "pd.DataFrame({'final_features':final_features}).to_csv('FinalFeatures.csv')"
   ]
  },
  {
   "cell_type": "code",
   "execution_count": 107,
   "metadata": {},
   "outputs": [
    {
     "data": {
      "text/plain": [
       "((860450, 45), (1245700, 61))"
      ]
     },
     "execution_count": 107,
     "metadata": {},
     "output_type": "execute_result"
    }
   ],
   "source": [
    "train_scaled.shape, train_selection.shape"
   ]
  },
  {
   "cell_type": "code",
   "execution_count": 108,
   "metadata": {},
   "outputs": [],
   "source": [
    "sample_frac = 0.25\n",
    "train_scaled_sampled = train_scaled.sample(frac = sample_frac, random_state = 12489)\n",
    "train_scaled_sampled[train_scaled_sampled.select_dtypes(np.float64).columns] = train_scaled_sampled.select_dtypes(np.float64).astype(np.float32)"
   ]
  },
  {
   "cell_type": "code",
   "execution_count": 109,
   "metadata": {},
   "outputs": [
    {
     "data": {
      "text/plain": [
       "(215112, 45)"
      ]
     },
     "execution_count": 109,
     "metadata": {},
     "output_type": "execute_result"
    }
   ],
   "source": [
    "train_scaled_sampled.shape"
   ]
  },
  {
   "cell_type": "markdown",
   "metadata": {},
   "source": [
    "### ML modeling using ADAboost"
   ]
  },
  {
   "cell_type": "code",
   "execution_count": 110,
   "metadata": {},
   "outputs": [],
   "source": [
    "X_train = train_scaled_sampled[final_features]\n",
    "Y_train = train_scaled_sampled[my_target]"
   ]
  },
  {
   "cell_type": "code",
   "execution_count": 111,
   "metadata": {},
   "outputs": [],
   "source": [
    "my_base = DecisionTreeRegressor(criterion = 'squared_error', max_depth = 25, min_samples_split = 7, min_samples_leaf = 7 , max_features = 20)\n",
    "my_ABM = AdaBoostRegressor(base_estimator = my_base, n_estimators= 60, learning_rate=0.001, loss='linear')"
   ]
  },
  {
   "cell_type": "code",
   "execution_count": 112,
   "metadata": {},
   "outputs": [
    {
     "name": "stdout",
     "output_type": "stream",
     "text": [
      "Wall time: 1min 48s\n"
     ]
    },
    {
     "data": {
      "text/plain": [
       "AdaBoostRegressor(base_estimator=DecisionTreeRegressor(max_depth=25,\n",
       "                                                       max_features=20,\n",
       "                                                       min_samples_leaf=7,\n",
       "                                                       min_samples_split=7),\n",
       "                  learning_rate=0.001, n_estimators=60)"
      ]
     },
     "execution_count": 112,
     "metadata": {},
     "output_type": "execute_result"
    }
   ],
   "source": [
    "%%time\n",
    "my_ABM.fit(X_train, Y_train)"
   ]
  },
  {
   "cell_type": "markdown",
   "metadata": {},
   "source": [
    "<b> hold out validation"
   ]
  },
  {
   "cell_type": "code",
   "execution_count": 113,
   "metadata": {},
   "outputs": [],
   "source": [
    "full_valandtrain_selected = val_window\n",
    "\n",
    "# knn feature for validation\n",
    "val_preds = knn_in_validation(data = full_valandtrain_selected, machine = knn_machine, feature_dict = featuredict_knn, knn_features = knn_features)\n",
    "full_valandtrain_selected['knn_feature'] = val_preds"
   ]
  },
  {
   "cell_type": "code",
   "execution_count": 114,
   "metadata": {},
   "outputs": [
    {
     "data": {
      "text/plain": [
       "(416227, 25)"
      ]
     },
     "execution_count": 114,
     "metadata": {},
     "output_type": "execute_result"
    }
   ],
   "source": [
    "full_valandtrain_selected.shape"
   ]
  },
  {
   "cell_type": "code",
   "execution_count": 115,
   "metadata": {},
   "outputs": [
    {
     "data": {
      "text/plain": [
       "<matplotlib.axes._subplots.AxesSubplot at 0x2030187f448>"
      ]
     },
     "execution_count": 115,
     "metadata": {},
     "output_type": "execute_result"
    },
    {
     "data": {
      "image/png": "[encoded data removed]",
      "text/plain": [
       "<Figure size 432x288 with 1 Axes>"
      ]
     },
     "metadata": {},
     "output_type": "display_data"
    }
   ],
   "source": [
    "full_valandtrain_selected.Sale.hist(bins = 45)"
   ]
  },
  {
   "cell_type": "code",
   "execution_count": 116,
   "metadata": {},
   "outputs": [],
   "source": [
    "valandtrain_feature = feature_silver(full_valandtrain_selected, date_to_take = date_val, Train = False)\n",
    "valandtrain_feature = integration_new_features_map(data = valandtrain_feature, dict_feature = full_features_dictionary, filter_ceros = False).fillna(0)"
   ]
  },
  {
   "cell_type": "code",
   "execution_count": 117,
   "metadata": {},
   "outputs": [],
   "source": [
    "val_selection = features_rows_train_silver(data = valandtrain_feature, features = my_features, target = my_target, validation = date_val, additional_val_cols = ['shop_id','item_id']) "
   ]
  },
  {
   "cell_type": "code",
   "execution_count": 118,
   "metadata": {},
   "outputs": [],
   "source": [
    "val_scaled = scaler(val_selection, numericals, my_target, scaler=my_scaler,drop_columns = my_columns_to_drops )\n",
    "#val_scaled = val_selection[numericals + [my_target]]\n",
    "if len(categoricals) != 0:\n",
    "    val_dummies = pd.get_dummies(val_selection[categoricals])\n",
    "    val_scaled_full = pd.concat([val_dummies,val_scaled],axis = 1)\n",
    "else:\n",
    "    val_scaled_full = val_scaled"
   ]
  },
  {
   "cell_type": "code",
   "execution_count": 119,
   "metadata": {},
   "outputs": [],
   "source": [
    "X_val = val_scaled_full[final_features]"
   ]
  },
  {
   "cell_type": "code",
   "execution_count": 120,
   "metadata": {},
   "outputs": [],
   "source": [
    "Y_pred = my_ABM.predict(X_val)"
   ]
  },
  {
   "cell_type": "code",
   "execution_count": 121,
   "metadata": {},
   "outputs": [],
   "source": [
    "predicted_val = inversed_scale(scaler = my_scaler, data = val_scaled, target_name = my_target, y_pred = Y_pred)\n",
    "#predicted_val['Sale'] = Y_pred"
   ]
  },
  {
   "cell_type": "code",
   "execution_count": 122,
   "metadata": {},
   "outputs": [],
   "source": [
    "my_lm_plot = consolidation_prediction(data = val_selection, prediction = predicted_val.Sale.values)"
   ]
  },
  {
   "cell_type": "code",
   "execution_count": 123,
   "metadata": {},
   "outputs": [
    {
     "data": {
      "text/plain": [
       "((416227, 5), 0.0, 14.42857156906809)"
      ]
     },
     "execution_count": 123,
     "metadata": {},
     "output_type": "execute_result"
    }
   ],
   "source": [
    "my_lm_plot.shape , my_lm_plot.PredSale.min(), my_lm_plot.PredSale.max()"
   ]
  },
  {
   "cell_type": "code",
   "execution_count": 124,
   "metadata": {},
   "outputs": [],
   "source": [
    "my_lm_plot = my_lm_plot.assign(shopitem = my_lm_plot.shop_id.astype('str') + '_' + my_lm_plot.item_id.astype('str'))"
   ]
  },
  {
   "cell_type": "code",
   "execution_count": 125,
   "metadata": {},
   "outputs": [
    {
     "data": {
      "text/plain": [
       "<matplotlib.axes._subplots.AxesSubplot at 0x20301884108>"
      ]
     },
     "execution_count": 125,
     "metadata": {},
     "output_type": "execute_result"
    },
    {
     "data": {
      "image/png": "[encoded data removed]",
      "text/plain": [
       "<Figure size 432x288 with 1 Axes>"
      ]
     },
     "metadata": {},
     "output_type": "display_data"
    }
   ],
   "source": [
    "my_lm_plot.PredSale.hist(bins = 55)"
   ]
  },
  {
   "cell_type": "code",
   "execution_count": 126,
   "metadata": {},
   "outputs": [
    {
     "data": {
      "text/plain": [
       "<matplotlib.axes._subplots.AxesSubplot at 0x2030100bdc8>"
      ]
     },
     "execution_count": 126,
     "metadata": {},
     "output_type": "execute_result"
    },
    {
     "data": {
      "image/png": "[encoded data removed]",
      "text/plain": [
       "<Figure size 432x288 with 1 Axes>"
      ]
     },
     "metadata": {},
     "output_type": "display_data"
    }
   ],
   "source": [
    "my_lm_plot[ (my_lm_plot.shopitem.isin(items_to_drop_all))].PredSale.hist(bins = 55)\n",
    "#plt.axhline(x=1, color='r', linestyle='-')"
   ]
  },
  {
   "cell_type": "code",
   "execution_count": 127,
   "metadata": {},
   "outputs": [
    {
     "data": {
      "text/plain": [
       "(0.7373195814127751, 0.7741975019093661)"
      ]
     },
     "execution_count": 127,
     "metadata": {},
     "output_type": "execute_result"
    }
   ],
   "source": [
    "mean_squared_error(my_lm_plot.Sale, my_lm_plot.PredSale) ** (1/2), \\\n",
    "mean_squared_error(my_lm_plot[ (my_lm_plot.shopitem.isin(items_to_drop_all))].Sale, my_lm_plot[ (my_lm_plot.shopitem.isin(items_to_drop_all))].PredSale) ** (1/2)\n",
    "\n",
    "## full 1.0754162493794321, the dropones 1.1469303214159647 before 1.06\n",
    "## fill 1.2061724493618828, the dropones 1.3313348025951859 got 1.081\n",
    "## full 1.0807419410614092, the dropones 1.0863630210835353 got 1.09"
   ]
  },
  {
   "cell_type": "code",
   "execution_count": 128,
   "metadata": {},
   "outputs": [
    {
     "data": {
      "image/png": "[encoded data removed]",
      "text/plain": [
       "<Figure size 720x576 with 1 Axes>"
      ]
     },
     "metadata": {},
     "output_type": "display_data"
    }
   ],
   "source": [
    "plot_prediction(my_lm_plot)"
   ]
  },
  {
   "cell_type": "code",
   "execution_count": 129,
   "metadata": {},
   "outputs": [
    {
     "data": {
      "text/plain": [
       "[Text(0.5, 1.0, 'feature importance')]"
      ]
     },
     "execution_count": 129,
     "metadata": {},
     "output_type": "execute_result"
    },
    {
     "data": {
      "image/png": "[encoded data removed]",
      "text/plain": [
       "<Figure size 288x720 with 1 Axes>"
      ]
     },
     "metadata": {},
     "output_type": "display_data"
    }
   ],
   "source": [
    "dfplot = pd.DataFrame({'feature':final_features,'importance': list(my_ABM.feature_importances_)}).sort_values('importance',ascending = False)\n",
    "\n",
    "fig = plt.figure(figsize=(4,10))\n",
    "ax = sns.barplot(x=\"importance\", y=\"feature\", data=dfplot)\n",
    "ax.set(title='feature importance')"
   ]
  },
  {
   "cell_type": "code",
   "execution_count": 130,
   "metadata": {},
   "outputs": [
    {
     "data": {
      "text/plain": [
       "array(['knn_feature', 'lenstr', 'ItemWord_1', 'month', 'map_categ_comp2',\n",
       "       'item_category_id', 'shop_id', 'map_shop_comp2', 'shop_id_term_10',\n",
       "       'L1_meanItem', 'map_shop_comp1', 'shop_id_term_5', 'L1_sumShop',\n",
       "       'map_categ_comp1', 'L1_item_3more', 'L1_meanshopCategory',\n",
       "       'CategoryL1meanItem_D', 'CategoryL1meanItem_A',\n",
       "       'L1_shopCategory_3more', 'CategoryL1meanItem_0', 'L1_shopcomp2',\n",
       "       'L1_positives_categ', 'L1_shopcomp_catcomp', 'L2_positives_categ',\n",
       "       'L2_shopCategory_3more', 'L2_shopcomp2', 'L2_shopcomp_catcomp',\n",
       "       'L1_meanCategory', 'L4_sumShop', 'L2_item_3more',\n",
       "       'CategoryL1meanItem_B', 'L4_meanItem', 'L4_meanshopCategory',\n",
       "       'L4_positives_categ', 'CategoryL1meanItem_C',\n",
       "       'L4_shopCategory_3more', 'L4_meanCategory', 'L4_item_3more',\n",
       "       'L8_sumShop', 'L8_meanshopCategory', 'L8_meanCategory',\n",
       "       'L8_meanItem'], dtype=object)"
      ]
     },
     "execution_count": 130,
     "metadata": {},
     "output_type": "execute_result"
    }
   ],
   "source": [
    "dfplot.sort_values('importance',ascending = False).head(100).feature.values   # "
   ]
  },
  {
   "cell_type": "code",
   "execution_count": 131,
   "metadata": {},
   "outputs": [],
   "source": [
    "my_vars_checkpoint = ['lenstr', 'ItemWord_1', 'L1_item_3more', 'L1_Item',\n",
    "       'fullcount_categ_shop', 'map_categ_comp2', 'month',\n",
    "       'item_category_id', 'L1_shopCategory_3more', 'shop_id',\n",
    "       'map_shop_comp2', 'L2_item_3more', 'shop_id_term_10',\n",
    "       'L2_shopCategory_3more', 'L2_Item', 'map2_shop_term_10',\n",
    "       'L2_Category', 'L1_positives_categ', 'L1_shopCategory',\n",
    "       'L2_positives_categ', 'shop_id_term_5', 'map2_shop_term_5',\n",
    "       'map1_shop_term_10', 'map_categ_comp1', 'map_shop_comp1',\n",
    "       'L2_shopCategory', 'L1_Category', 'map1_shop_term_5',\n",
    "       'L2_shopcomp_catcomp', 'L1_shopcomp_catcomp', 'L2_shopcomp2',\n",
    "       'L1_shopcomp2', 'L4_shopCategory', 'L4_shopCategory_3more',\n",
    "       'L4_positives_categ', 'L4_item_3more', 'L4_Category']"
   ]
  },
  {
   "cell_type": "markdown",
   "metadata": {},
   "source": [
    "#### Tuning"
   ]
  },
  {
   "cell_type": "code",
   "execution_count": 149,
   "metadata": {},
   "outputs": [],
   "source": [
    "my_adab_models = [my_ABM]\n",
    "number_of_machines = 5\n",
    "machines_labels = [f'machine-{x}' for x in range(1,number_of_machines +1) ]\n",
    "\n",
    "parameters = { 'Machine':machines_labels,\n",
    "    'max_depth': [25, 25, 15, 17, 25],\n",
    "    'min_samples_split':[5, 7, 10, 3, 3],\n",
    "    'min_samples_leaf':[2, 9, 10, 3, 5],\n",
    "    'max_features':[20, 20, 20, 20, 20],\n",
    "              \n",
    "    'n_estimators' : [40, 30, 20, 20, 20],\n",
    "    'learning_rate' : [0.009, 0.01, 0.03, 0.07, 0.1] }\n",
    "\n",
    "for i in range(number_of_machines):\n",
    "    max_depth_param = parameters['max_depth'][i]\n",
    "    min_samples_split_param = parameters['min_samples_split'][i]\n",
    "    min_samples_leaf_param = parameters['min_samples_leaf'][i]\n",
    "    max_features_param = parameters['max_features'][i]\n",
    "    \n",
    "    n_estimators_param = parameters['n_estimators'][i]\n",
    "    learning_rate_param = parameters['learning_rate'][i]\n",
    "    \n",
    "    my_base = DecisionTreeRegressor(criterion = 'squared_error', max_depth = max_depth_param, min_samples_split = min_samples_split_param, min_samples_leaf = min_samples_leaf_param , max_features = max_features_param)\n",
    "    my_adab = AdaBoostRegressor(base_estimator = my_base, n_estimators = n_estimators_param, learning_rate = learning_rate_param, loss='linear')\n",
    "    my_adab_models.append(my_adab)\n",
    "    \n",
    "machines_labels = machines_labels + ['machine-'+ str(number_of_machines + 1)]\n",
    "\n",
    "parameters_df = pd.DataFrame(parameters)  "
   ]
  },
  {
   "cell_type": "code",
   "execution_count": 128,
   "metadata": {},
   "outputs": [],
   "source": [
    "experiments = 10\n",
    "\n",
    "dict_results = {\n",
    "    'epoc':list(),\n",
    "    'machine': list(),\n",
    "    'error full': list(),\n",
    "    'error hide': list()\n",
    "}\n",
    "\n",
    "for (my_ABM,machine_number) in zip(my_adab_models, machines_labels):\n",
    "    for epoc in range(0,experiments):\n",
    "        sample_frac = 0.05\n",
    "        train_scaled_sampled = train_scaled.sample(frac = sample_frac, random_state = 12489)\n",
    "\n",
    "        X_train = train_scaled_sampled[final_features]\n",
    "        Y_train = train_scaled_sampled[my_target]\n",
    "\n",
    "        my_base = DecisionTreeRegressor(criterion = 'squared_error', max_depth = 25, min_samples_split = 4, min_samples_leaf = 4 , max_features = 20)\n",
    "        my_ABM = AdaBoostRegressor(base_estimator = my_base, n_estimators= 60, learning_rate=0.001, loss='linear')\n",
    "        my_ABM.fit(X_train, Y_train)\n",
    "\n",
    "        X_val = val_scaled_full[final_features]\n",
    "        Y_pred = my_ABM.predict(X_val)\n",
    "        predicted_val = inversed_scale(scaler = my_scaler, data = val_scaled, target_name = my_target, y_pred = Y_pred)\n",
    "        my_lm_plot = consolidation_prediction(data = val_selection, prediction = predicted_val.Sale.values)\n",
    "        my_lm_plot = my_lm_plot.assign(shopitem = my_lm_plot.shop_id.astype('str') + '_' + my_lm_plot.item_id.astype('str'))\n",
    "\n",
    "        error_full = mean_squared_error(my_lm_plot.Sale, my_lm_plot.PredSale) ** (1/2)\n",
    "        error_hide = mean_squared_error(my_lm_plot[ (my_lm_plot.shopitem.isin(items_to_drop_all))].Sale, my_lm_plot[ (my_lm_plot.shopitem.isin(items_to_drop_all))].PredSale) ** (1/2)\n",
    "        \n",
    "        dict_results['epoc'].append(epoc)\n",
    "        dict_results['machine'].append(machine_number)\n",
    "        dict_results['error full'].append(error_full)\n",
    "        dict_results['error hide'].append(error_hide)\n",
    "    \n",
    "tunning_dfresult = pd.DataFrame(dict_results)"
   ]
  },
  {
   "cell_type": "code",
   "execution_count": 129,
   "metadata": {},
   "outputs": [
    {
     "data": {
      "image/png": "[encoded data removed]",
      "text/plain": [
       "<Figure size 1080x360 with 2 Axes>"
      ]
     },
     "metadata": {},
     "output_type": "display_data"
    }
   ],
   "source": [
    "fig, axs = plt.subplots(1,2, figsize=(15,5) )\n",
    "ax = sns.violinplot(ax = axs[0],x=\"machine\", y=\"error hide\", data=tunning_dfresult)\n",
    "ax = sns.lineplot(ax = axs[1],x=\"machine\", y=\"error hide\", data=tunning_dfresult)"
   ]
  },
  {
   "cell_type": "markdown",
   "metadata": {
    "jupyter": {
     "source_hidden": true
    }
   },
   "source": [
    "### Production of folds for cross validation"
   ]
  },
  {
   "cell_type": "code",
   "execution_count": 151,
   "metadata": {
    "jupyter": {
     "source_hidden": true
    }
   },
   "outputs": [],
   "source": [
    "def get_splited_data(dates_vector):\n",
    "    train_data = dict()\n",
    "    validation_data = dict()\n",
    "    \n",
    "    for datex in dates_vector:\n",
    "        datex_str = datex.strftime('%Y-%m-%d')\n",
    "        train_selection = pd.read_csv(f'generated_datasets/data_{datex_str}/train_selection.csv')\n",
    "        val_selection = pd.read_csv(f'generated_datasets/data_{datex_str}/val_selection.csv')\n",
    "        \n",
    "        train_data[datex_str] = train_selection\n",
    "        validation_data[datex_str] = val_selection\n",
    "        print(datex_str)\n",
    "    return { 'Train Data' : train_data, \n",
    "            'Validation Data': validation_data}"
   ]
  },
  {
   "cell_type": "code",
   "execution_count": null,
   "metadata": {
    "jupyter": {
     "source_hidden": true
    }
   },
   "outputs": [],
   "source": [
    "def My_ML_prediction_on_test( data_dict , dates_vector, model, features_dict, zero_vector, frac = 0.80):\n",
    "    \n",
    "    numericals = features_dict['numericals']\n",
    "    categoricals = features_dict['categoricals']\n",
    "    my_columns_to_drops = features_dict['features_to_drop']\n",
    "    my_target = features_dict['my_target']\n",
    "    \n",
    "    data_result = list()\n",
    "\n",
    "    for datex in dates_vector:\n",
    "        datex_str = datex.strftime('%Y-%m-%d')\n",
    "        #### reading files\n",
    "        train_selection = data_dict['Train Data'][datex_str]\n",
    "        val_selection = data_dict['Validation Data'][datex_str]\n",
    "        train_augmented = augmentation_reduction(train_selection, fracs = zero_vector)\n",
    "        \n",
    "        train_scaled, my_scaler = scaler(train_augmented, numericals, my_target, scaler=None, drop_columns = my_columns_to_drops)\n",
    "        #train_scaled = train_augmented[ numericals + [my_target] ]\n",
    "        if len(categoricals) != 0:\n",
    "            train_dummies = pd.get_dummies(train_augmented[categoricals])\n",
    "            train_scaled = pd.concat([train_dummies,train_scaled],axis = 1)\n",
    "            \n",
    "        if len(categoricals) != 0:\n",
    "            final_features = list(train_dummies.columns) +  numericals\n",
    "        else:\n",
    "            final_features = numericals\n",
    "        final_features = [x for x in final_features if x not in my_columns_to_drops]\n",
    "        \n",
    "        train_scaled_sampled = train_scaled.sample(frac = frac, random_state = 12489)\n",
    "        \n",
    "        ### ML train\n",
    "        X_train = train_scaled_sampled[final_features]\n",
    "        Y_train = train_scaled_sampled[my_target]\n",
    "        model.fit(X_train, Y_train)\n",
    "        \n",
    "        ### Test data prepa\n",
    "        val_scaled = scaler(val_selection, numericals, my_target, scaler=my_scaler,drop_columns = my_columns_to_drops )\n",
    "        \n",
    "        if len(categoricals) != 0:\n",
    "            val_dummies = pd.get_dummies(val_selection[categoricals])\n",
    "            val_scaled_full = pd.concat([val_dummies,val_scaled],axis = 1)\n",
    "        else:\n",
    "            val_scaled_full = val_scaled\n",
    "        \n",
    "        X_val = val_scaled_full[final_features]\n",
    "        \n",
    "        ## Prediction\n",
    "        Y_pred = model.predict(X_val)\n",
    "        \n",
    "        ## Saving Result\n",
    "        predicted_val = inversed_scale(scaler = my_scaler, data = val_scaled, target_name = my_target, y_pred = Y_pred)\n",
    "        my_lm_plot = consolidation_prediction(data = val_selection, prediction = predicted_val.Sale.values)\n",
    "        data_result.append(my_lm_plot)\n",
    "        #print(f'the prediction over the {datex} data is done')\n",
    "        \n",
    "    return pd.concat(data_result)"
   ]
  },
  {
   "cell_type": "code",
   "execution_count": null,
   "metadata": {
    "jupyter": {
     "source_hidden": true
    }
   },
   "outputs": [],
   "source": [
    "dictionary_data = get_splited_data(dates_vector = test_dates)"
   ]
  },
  {
   "cell_type": "code",
   "execution_count": null,
   "metadata": {
    "jupyter": {
     "source_hidden": true
    }
   },
   "outputs": [],
   "source": [
    "%%time\n",
    "my_base = DecisionTreeRegressor(criterion = 'squared_error', max_depth = 35, min_samples_split = 10, min_samples_leaf = 10 , max_features = 25)\n",
    "my_ABM = AdaBoostRegressor(base_estimator = my_base, n_estimators=40, learning_rate=0.005, loss='linear')\n",
    "my_test_results = My_ML_prediction_on_test( data_dict = dictionary_data, dates_vector = test_dates, model = my_ABM, features_dict = feature_dictionary,\n",
    "                                           zero_vector = zero_vector, frac = 0.05)"
   ]
  },
  {
   "cell_type": "code",
   "execution_count": null,
   "metadata": {
    "jupyter": {
     "source_hidden": true
    }
   },
   "outputs": [],
   "source": [
    "plot_prediction(my_test_results)"
   ]
  },
  {
   "cell_type": "code",
   "execution_count": null,
   "metadata": {
    "jupyter": {
     "source_hidden": true
    }
   },
   "outputs": [],
   "source": [
    "rmse_results = plot_metrics(my_test_results)"
   ]
  },
  {
   "cell_type": "code",
   "execution_count": null,
   "metadata": {
    "jupyter": {
     "source_hidden": true
    }
   },
   "outputs": [],
   "source": [
    "rmse_results.RMSE.mean() ## 0.7468165004618947 best one"
   ]
  },
  {
   "cell_type": "code",
   "execution_count": null,
   "metadata": {
    "jupyter": {
     "source_hidden": true
    }
   },
   "outputs": [],
   "source": [
    "fig, axs = plt.subplots(nrows=1, ncols=1,figsize=(10,6), sharex=True)\n",
    "ax = sns.lineplot(ax = axs , data = rmse_results, x=\"Date\", y=\"RMSE\", marker = True, )\n",
    "ax = sns.scatterplot(ax = axs , data = rmse_results, x=\"Date\", y=\"RMSE\", s = 35 )"
   ]
  },
  {
   "cell_type": "markdown",
   "metadata": {
    "jupyter": {
     "source_hidden": true
    }
   },
   "source": [
    "<b> checking errors"
   ]
  },
  {
   "cell_type": "code",
   "execution_count": null,
   "metadata": {
    "jupyter": {
     "source_hidden": true
    }
   },
   "outputs": [],
   "source": [
    "my_test_results_melt = my_test_results.assign(Class = np.where( my_test_results.Sale > 10, 'A',\n",
    "                                                      np.where( my_test_results.Sale > 7, 'B',\n",
    "                                                      np.where( my_test_results.Sale > 5, 'C',\n",
    "                                                      np.where( my_test_results.Sale > 3, 'D','E')))))\\\n",
    "                            .assign(ABSerror = abs(my_test_results.Sale - my_test_results.PredSale))"
   ]
  },
  {
   "cell_type": "code",
   "execution_count": null,
   "metadata": {
    "jupyter": {
     "source_hidden": true
    }
   },
   "outputs": [],
   "source": [
    "my_test_results_melt.pivot_table(index = ['Date'], columns = 'Class', values = ['ABSerror'], aggfunc =  lambda x: np.percentile(x, 75) )"
   ]
  },
  {
   "cell_type": "code",
   "execution_count": null,
   "metadata": {
    "jupyter": {
     "source_hidden": true
    }
   },
   "outputs": [],
   "source": [
    "my_test_results_melt.pivot_table(index = ['Date'], columns = 'Class', values = ['ABSerror'], aggfunc =  lambda x: np.percentile(x, 100) )"
   ]
  },
  {
   "cell_type": "markdown",
   "metadata": {
    "jupyter": {
     "source_hidden": true
    }
   },
   "source": [
    "some improvement :/\n",
    "improve algo speed"
   ]
  },
  {
   "cell_type": "markdown",
   "metadata": {},
   "source": [
    "### Baseline Prediction"
   ]
  },
  {
   "cell_type": "code",
   "execution_count": 132,
   "metadata": {},
   "outputs": [],
   "source": [
    "date_val = datetime.datetime(2015,11,1)"
   ]
  },
  {
   "cell_type": "code",
   "execution_count": 133,
   "metadata": {},
   "outputs": [],
   "source": [
    "train_full = train_merge[train_merge.Date < date_val ]\n",
    "#train_full = train_merge[(train_merge.Date < date_val) & (~train_merge.shopitem.isin(itemshop_to_drop_2))] "
   ]
  },
  {
   "cell_type": "code",
   "execution_count": 134,
   "metadata": {},
   "outputs": [],
   "source": [
    "preds, knn_machine, featuredict_knn, knn_features = get_knn_featrue(data = train_full)\n",
    "train_full['knn_feature'] = preds"
   ]
  },
  {
   "cell_type": "code",
   "execution_count": 135,
   "metadata": {},
   "outputs": [
    {
     "data": {
      "text/plain": [
       "(9784152, 24)"
      ]
     },
     "execution_count": 135,
     "metadata": {},
     "output_type": "execute_result"
    }
   ],
   "source": [
    "train_full.shape"
   ]
  },
  {
   "cell_type": "code",
   "execution_count": 136,
   "metadata": {},
   "outputs": [
    {
     "name": "stdout",
     "output_type": "stream",
     "text": [
      "Wall time: 1min 23s\n"
     ]
    }
   ],
   "source": [
    "%%time\n",
    "features_dictionary = get_full_lags(whole = train_full, date_to_take = date_val) ## for train but result easy in val\n",
    "full_features_dictionary = {**features_dictionary}"
   ]
  },
  {
   "cell_type": "code",
   "execution_count": 137,
   "metadata": {},
   "outputs": [],
   "source": [
    "train_feature_tocomplete = feature_silver(train_full , date_to_take = date_val, Train = True) ## for both"
   ]
  },
  {
   "cell_type": "code",
   "execution_count": 138,
   "metadata": {},
   "outputs": [
    {
     "name": "stdout",
     "output_type": "stream",
     "text": [
      "Wall time: 8min 36s\n"
     ]
    }
   ],
   "source": [
    "%%time\n",
    "train_feature = integration_new_features_map(data = train_feature_tocomplete, dict_feature = full_features_dictionary)  ## for both not prob"
   ]
  },
  {
   "cell_type": "code",
   "execution_count": 139,
   "metadata": {},
   "outputs": [
    {
     "name": "stdout",
     "output_type": "stream",
     "text": [
      "Wall time: 14.6 s\n",
      "Parser   : 393 ms\n"
     ]
    }
   ],
   "source": [
    "%%time\n",
    "train_selection = features_rows_train_silver(data = train_feature, features = my_features, target = my_target, sample_gen = 0.2)"
   ]
  },
  {
   "cell_type": "code",
   "execution_count": 140,
   "metadata": {},
   "outputs": [
    {
     "data": {
      "text/plain": [
       "(1370470, 62)"
      ]
     },
     "execution_count": 140,
     "metadata": {},
     "output_type": "execute_result"
    }
   ],
   "source": [
    "train_selection.shape"
   ]
  },
  {
   "cell_type": "code",
   "execution_count": 141,
   "metadata": {},
   "outputs": [],
   "source": [
    "train_augmented = augmentation_reduction(train_selection, fracs = zero_vector)"
   ]
  },
  {
   "cell_type": "code",
   "execution_count": 142,
   "metadata": {},
   "outputs": [],
   "source": [
    "train_scaled, my_scaler = scaler(train_augmented, numericals, my_target, scaler=None, drop_columns = my_columns_to_drops)\n",
    "#train_scaled = train_augmented[ numericals + [my_target] ]\n",
    "if len(categoricals) != 0:\n",
    "    train_dummies = pd.get_dummies(train_augmented[categoricals])\n",
    "    train_scaled = pd.concat([train_dummies,train_scaled],axis = 1)"
   ]
  },
  {
   "cell_type": "code",
   "execution_count": 143,
   "metadata": {},
   "outputs": [],
   "source": [
    "if len(categoricals) != 0:\n",
    "    final_features = list(train_dummies.columns) +  numericals\n",
    "else:\n",
    "    final_features = numericals\n",
    "final_features = [x for x in final_features if x not in my_columns_to_drops]"
   ]
  },
  {
   "cell_type": "code",
   "execution_count": 144,
   "metadata": {},
   "outputs": [
    {
     "data": {
      "text/plain": [
       "(943825, 45)"
      ]
     },
     "execution_count": 144,
     "metadata": {},
     "output_type": "execute_result"
    }
   ],
   "source": [
    "train_scaled.shape"
   ]
  },
  {
   "cell_type": "code",
   "execution_count": 145,
   "metadata": {},
   "outputs": [],
   "source": [
    "sample_frac = 0.25\n",
    "train_scaled_sampled = train_scaled.sample(frac = sample_frac)\n",
    "train_scaled_sampled[train_scaled_sampled.select_dtypes(np.float64).columns] = train_scaled_sampled.select_dtypes(np.float64).astype(np.float32)"
   ]
  },
  {
   "cell_type": "code",
   "execution_count": 146,
   "metadata": {},
   "outputs": [
    {
     "data": {
      "text/plain": [
       "(235956, 45)"
      ]
     },
     "execution_count": 146,
     "metadata": {},
     "output_type": "execute_result"
    }
   ],
   "source": [
    "train_scaled_sampled.shape"
   ]
  },
  {
   "cell_type": "code",
   "execution_count": 147,
   "metadata": {},
   "outputs": [],
   "source": [
    "X_train = train_scaled_sampled[final_features]\n",
    "Y_train = train_scaled_sampled[my_target]"
   ]
  },
  {
   "cell_type": "code",
   "execution_count": 150,
   "metadata": {},
   "outputs": [
    {
     "data": {
      "text/plain": [
       "AdaBoostRegressor(base_estimator=DecisionTreeRegressor(max_depth=25,\n",
       "                                                       max_features=20,\n",
       "                                                       min_samples_leaf=2,\n",
       "                                                       min_samples_split=5),\n",
       "                  learning_rate=0.009, n_estimators=40)"
      ]
     },
     "execution_count": 150,
     "metadata": {},
     "output_type": "execute_result"
    }
   ],
   "source": [
    "my_adab_models[1].fit(X_train, Y_train)"
   ]
  },
  {
   "cell_type": "markdown",
   "metadata": {},
   "source": [
    "<b> prepare test to predict"
   ]
  },
  {
   "cell_type": "code",
   "execution_count": 151,
   "metadata": {},
   "outputs": [
    {
     "data": {
      "text/html": [
       "<div>\n",
       "<style scoped>\n",
       "    .dataframe tbody tr th:only-of-type {\n",
       "        vertical-align: middle;\n",
       "    }\n",
       "\n",
       "    .dataframe tbody tr th {\n",
       "        vertical-align: top;\n",
       "    }\n",
       "\n",
       "    .dataframe thead th {\n",
       "        text-align: right;\n",
       "    }\n",
       "</style>\n",
       "<table border=\"1\" class=\"dataframe\">\n",
       "  <thead>\n",
       "    <tr style=\"text-align: right;\">\n",
       "      <th></th>\n",
       "      <th>date</th>\n",
       "      <th>date_block_num</th>\n",
       "      <th>shop_id</th>\n",
       "      <th>item_id</th>\n",
       "      <th>item_price</th>\n",
       "      <th>item_cnt_day</th>\n",
       "    </tr>\n",
       "  </thead>\n",
       "  <tbody>\n",
       "    <tr>\n",
       "      <th>0</th>\n",
       "      <td>2015-11-01</td>\n",
       "      <td>35</td>\n",
       "      <td>5</td>\n",
       "      <td>5037</td>\n",
       "      <td>NaN</td>\n",
       "      <td>NaN</td>\n",
       "    </tr>\n",
       "    <tr>\n",
       "      <th>1</th>\n",
       "      <td>2015-11-01</td>\n",
       "      <td>35</td>\n",
       "      <td>5</td>\n",
       "      <td>5320</td>\n",
       "      <td>NaN</td>\n",
       "      <td>NaN</td>\n",
       "    </tr>\n",
       "    <tr>\n",
       "      <th>2</th>\n",
       "      <td>2015-11-01</td>\n",
       "      <td>35</td>\n",
       "      <td>5</td>\n",
       "      <td>5233</td>\n",
       "      <td>NaN</td>\n",
       "      <td>NaN</td>\n",
       "    </tr>\n",
       "    <tr>\n",
       "      <th>3</th>\n",
       "      <td>2015-11-01</td>\n",
       "      <td>35</td>\n",
       "      <td>5</td>\n",
       "      <td>5232</td>\n",
       "      <td>NaN</td>\n",
       "      <td>NaN</td>\n",
       "    </tr>\n",
       "    <tr>\n",
       "      <th>4</th>\n",
       "      <td>2015-11-01</td>\n",
       "      <td>35</td>\n",
       "      <td>5</td>\n",
       "      <td>5268</td>\n",
       "      <td>NaN</td>\n",
       "      <td>NaN</td>\n",
       "    </tr>\n",
       "  </tbody>\n",
       "</table>\n",
       "</div>"
      ],
      "text/plain": [
       "        date  date_block_num  shop_id  item_id  item_price  item_cnt_day\n",
       "0 2015-11-01              35        5     5037         NaN           NaN\n",
       "1 2015-11-01              35        5     5320         NaN           NaN\n",
       "2 2015-11-01              35        5     5233         NaN           NaN\n",
       "3 2015-11-01              35        5     5232         NaN           NaN\n",
       "4 2015-11-01              35        5     5268         NaN           NaN"
      ]
     },
     "execution_count": 151,
     "metadata": {},
     "output_type": "execute_result"
    }
   ],
   "source": [
    "### test preparation\n",
    "test_data.head()"
   ]
  },
  {
   "cell_type": "code",
   "execution_count": 152,
   "metadata": {},
   "outputs": [],
   "source": [
    "test_bronze = convert_bronze(data = test_data, train = False)\n",
    "test_merged = merge_basic(train_data = test_bronze, items = items, items_feature = items_feature['item_name_explo'],\n",
    "                            categories = categories_feature, shops = shops_feature)"
   ]
  },
  {
   "cell_type": "code",
   "execution_count": 153,
   "metadata": {},
   "outputs": [],
   "source": [
    "val_preds = knn_in_validation(data = test_merged.assign(Order = 0), machine = knn_machine, feature_dict = featuredict_knn, knn_features = knn_features)\n",
    "test_merged['knn_feature'] = val_preds"
   ]
  },
  {
   "cell_type": "code",
   "execution_count": 154,
   "metadata": {},
   "outputs": [
    {
     "data": {
      "text/plain": [
       "((214200, 22), (214200, 7))"
      ]
     },
     "execution_count": 154,
     "metadata": {},
     "output_type": "execute_result"
    }
   ],
   "source": [
    "test_merged.shape, test.shape"
   ]
  },
  {
   "cell_type": "code",
   "execution_count": 155,
   "metadata": {},
   "outputs": [],
   "source": [
    "valandtrain_feature_firt = feature_silver(test_merged, date_to_take = date_val, Train = False)"
   ]
  },
  {
   "cell_type": "code",
   "execution_count": 156,
   "metadata": {},
   "outputs": [
    {
     "data": {
      "text/plain": [
       "(214200, 29)"
      ]
     },
     "execution_count": 156,
     "metadata": {},
     "output_type": "execute_result"
    }
   ],
   "source": [
    "valandtrain_feature_firt.shape"
   ]
  },
  {
   "cell_type": "code",
   "execution_count": 157,
   "metadata": {},
   "outputs": [],
   "source": [
    "valandtrain_feature = integration_new_features_map(data = valandtrain_feature_firt.assign(Order = 35),\n",
    "                                                   dict_feature = full_features_dictionary, filter_ceros = False).fillna(0)"
   ]
  },
  {
   "cell_type": "code",
   "execution_count": 158,
   "metadata": {},
   "outputs": [
    {
     "data": {
      "text/plain": [
       "(214200, 61)"
      ]
     },
     "execution_count": 158,
     "metadata": {},
     "output_type": "execute_result"
    }
   ],
   "source": [
    "valandtrain_feature.shape"
   ]
  },
  {
   "cell_type": "code",
   "execution_count": 159,
   "metadata": {},
   "outputs": [],
   "source": [
    "val_selection = features_rows_train_silver(data = valandtrain_feature, features = my_features, target = my_target, validation = date_val, additional_val_cols = ['shop_id'])"
   ]
  },
  {
   "cell_type": "code",
   "execution_count": 160,
   "metadata": {},
   "outputs": [
    {
     "data": {
      "text/plain": [
       "((214200, 61), (214200, 52), (214200, 7))"
      ]
     },
     "execution_count": 160,
     "metadata": {},
     "output_type": "execute_result"
    }
   ],
   "source": [
    "valandtrain_feature.shape, val_selection.shape, test.shape"
   ]
  },
  {
   "cell_type": "code",
   "execution_count": 161,
   "metadata": {},
   "outputs": [],
   "source": [
    "val_scaled = scaler(val_selection, numericals, my_target, scaler=my_scaler,drop_columns = my_columns_to_drops )\n",
    "\n",
    "if len(categoricals) != 0:\n",
    "    val_dummies = pd.get_dummies(val_selection[categoricals])\n",
    "    val_scaled_full = pd.concat([val_dummies,val_scaled],axis = 1)\n",
    "else:\n",
    "    val_scaled_full = val_scaled"
   ]
  },
  {
   "cell_type": "code",
   "execution_count": 162,
   "metadata": {},
   "outputs": [],
   "source": [
    "X_val = val_scaled_full[final_features]"
   ]
  },
  {
   "cell_type": "code",
   "execution_count": 163,
   "metadata": {},
   "outputs": [],
   "source": [
    "Y_pred_adaboost = my_ABM.predict(X_val)"
   ]
  },
  {
   "cell_type": "code",
   "execution_count": 164,
   "metadata": {},
   "outputs": [],
   "source": [
    "predicted_val_adaboost = inversed_scale(scaler = my_scaler, data = val_scaled, target_name = my_target, y_pred = Y_pred_adaboost)"
   ]
  },
  {
   "cell_type": "code",
   "execution_count": 165,
   "metadata": {},
   "outputs": [],
   "source": [
    "pre_prediction = val_selection[['shop_id','item_id']]\n",
    "pre_prediction['item_cnt_month'] = predicted_val_adaboost.Sale \n",
    "pre_prediction = pre_prediction.merge( test, on = ['shop_id', 'item_id'], how = 'left')\n",
    "pre_prediction = pre_prediction.sort_values('ID')"
   ]
  },
  {
   "cell_type": "code",
   "execution_count": 166,
   "metadata": {},
   "outputs": [
    {
     "data": {
      "text/plain": [
       "<matplotlib.axes._subplots.AxesSubplot at 0x20301cc8148>"
      ]
     },
     "execution_count": 166,
     "metadata": {},
     "output_type": "execute_result"
    },
    {
     "data": {
      "image/png": "[encoded data removed]",
      "text/plain": [
       "<Figure size 432x288 with 1 Axes>"
      ]
     },
     "metadata": {},
     "output_type": "display_data"
    }
   ],
   "source": [
    "pre_prediction.item_cnt_month.hist(bins = 25)"
   ]
  },
  {
   "cell_type": "code",
   "execution_count": 167,
   "metadata": {},
   "outputs": [],
   "source": [
    "pre_prediction[['ID', 'item_cnt_month']].to_csv('miguel_prediction.csv',index = False, header = True)"
   ]
  },
  {
   "cell_type": "markdown",
   "metadata": {},
   "source": [
    "This result got 1.053 (best)"
   ]
  },
  {
   "cell_type": "markdown",
   "metadata": {},
   "source": [
    "##### probing"
   ]
  },
  {
   "cell_type": "code",
   "execution_count": 168,
   "metadata": {},
   "outputs": [],
   "source": [
    "all_combinations = daily_train.groupby(['item_id','shop_id']).agg(count = ('item_cnt_day','count')).reset_index()\n",
    "all_combinations['Found'] = True"
   ]
  },
  {
   "cell_type": "code",
   "execution_count": 169,
   "metadata": {},
   "outputs": [],
   "source": [
    "df_go = pre_prediction.merge(all_combinations, on = ['item_id','shop_id'], how = 'left')\n",
    "df_go['Found'] = df_go['Found'].fillna(False)"
   ]
  },
  {
   "cell_type": "code",
   "execution_count": 170,
   "metadata": {},
   "outputs": [
    {
     "data": {
      "text/html": [
       "<div>\n",
       "<style scoped>\n",
       "    .dataframe tbody tr th:only-of-type {\n",
       "        vertical-align: middle;\n",
       "    }\n",
       "\n",
       "    .dataframe tbody tr th {\n",
       "        vertical-align: top;\n",
       "    }\n",
       "\n",
       "    .dataframe thead th {\n",
       "        text-align: right;\n",
       "    }\n",
       "</style>\n",
       "<table border=\"1\" class=\"dataframe\">\n",
       "  <thead>\n",
       "    <tr style=\"text-align: right;\">\n",
       "      <th></th>\n",
       "      <th>count</th>\n",
       "    </tr>\n",
       "    <tr>\n",
       "      <th>Found</th>\n",
       "      <th></th>\n",
       "    </tr>\n",
       "  </thead>\n",
       "  <tbody>\n",
       "    <tr>\n",
       "      <th>False</th>\n",
       "      <td>102729</td>\n",
       "    </tr>\n",
       "    <tr>\n",
       "      <th>True</th>\n",
       "      <td>111471</td>\n",
       "    </tr>\n",
       "  </tbody>\n",
       "</table>\n",
       "</div>"
      ],
      "text/plain": [
       "        count\n",
       "Found        \n",
       "False  102729\n",
       "True   111471"
      ]
     },
     "execution_count": 170,
     "metadata": {},
     "output_type": "execute_result"
    }
   ],
   "source": [
    "df_go.groupby('Found').agg(count = ('ID','count'))"
   ]
  },
  {
   "cell_type": "code",
   "execution_count": 171,
   "metadata": {},
   "outputs": [
    {
     "data": {
      "text/plain": [
       "<matplotlib.axes._subplots.AxesSubplot at 0x20300efc348>"
      ]
     },
     "execution_count": 171,
     "metadata": {},
     "output_type": "execute_result"
    },
    {
     "data": {
      "image/png": "[encoded data removed]",
      "text/plain": [
       "<Figure size 432x288 with 1 Axes>"
      ]
     },
     "metadata": {},
     "output_type": "display_data"
    }
   ],
   "source": [
    "df_go[df_go.Found == True].item_cnt_month.hist(bins = 35)"
   ]
  },
  {
   "cell_type": "code",
   "execution_count": 172,
   "metadata": {},
   "outputs": [
    {
     "data": {
      "text/plain": [
       "<matplotlib.axes._subplots.AxesSubplot at 0x20300f70cc8>"
      ]
     },
     "execution_count": 172,
     "metadata": {},
     "output_type": "execute_result"
    },
    {
     "data": {
      "image/png": "[encoded data removed]",
      "text/plain": [
       "<Figure size 432x288 with 1 Axes>"
      ]
     },
     "metadata": {},
     "output_type": "display_data"
    }
   ],
   "source": [
    "df_go[df_go.Found == False].item_cnt_month.hist(bins = 45)"
   ]
  },
  {
   "cell_type": "code",
   "execution_count": 173,
   "metadata": {},
   "outputs": [
    {
     "data": {
      "text/plain": [
       "0.0"
      ]
     },
     "execution_count": 173,
     "metadata": {},
     "output_type": "execute_result"
    }
   ],
   "source": [
    "df_go[df_go.Found == False].item_cnt_month.min()"
   ]
  },
  {
   "cell_type": "code",
   "execution_count": 174,
   "metadata": {},
   "outputs": [],
   "source": [
    "def interval_corrector(data, interval, sample, value):\n",
    "    data_part = data[(data.Found  == False) & (data.item_cnt_month >= interval[0]) & (data.item_cnt_month <= interval[1])].sample(frac = sample)\n",
    "    data_part['flag'] = 1\n",
    "    data = data.merge(data_part[['item_id','shop_id','flag']], on = ['item_id','shop_id'], how = 'left')\n",
    "    data['item_cnt_month'] = np.where(data['flag'] == 1, value, data['item_cnt_month'])\n",
    "    data = data.drop(columns = ['flag'])\n",
    "    data = data.sort_values('ID')\n",
    "    return data"
   ]
  },
  {
   "cell_type": "code",
   "execution_count": 168,
   "metadata": {},
   "outputs": [],
   "source": [
    "df_go_mod = interval_corrector(data = df_go, interval = [0.9, 1.10], sample = 0.70, value = 0.35)"
   ]
  },
  {
   "cell_type": "code",
   "execution_count": 169,
   "metadata": {},
   "outputs": [
    {
     "data": {
      "text/plain": [
       "<matplotlib.axes._subplots.AxesSubplot at 0x29aa3d998c8>"
      ]
     },
     "execution_count": 169,
     "metadata": {},
     "output_type": "execute_result"
    },
    {
     "data": {
      "image/png": "[encoded data removed]",
      "text/plain": [
       "<Figure size 432x288 with 1 Axes>"
      ]
     },
     "metadata": {},
     "output_type": "display_data"
    }
   ],
   "source": [
    "df_go_mod[df_go_mod.Found == False].item_cnt_month.hist(bins = 35)"
   ]
  },
  {
   "cell_type": "code",
   "execution_count": 170,
   "metadata": {},
   "outputs": [],
   "source": [
    "df_go_mod[['ID','item_cnt_month']].to_csv('miguel_prediction_prov.csv',index = False, header = True)"
   ]
  },
  {
   "cell_type": "markdown",
   "metadata": {},
   "source": [
    "this probing gor 1.21, then"
   ]
  }
 ],
 "metadata": {
  "kernelspec": {
   "display_name": "Python 3",
   "language": "python",
   "name": "python3"
  },
  "language_info": {
   "codemirror_mode": {
    "name": "ipython",
    "version": 3
   },
   "file_extension": ".py",
   "mimetype": "text/x-python",
   "name": "python",
   "nbconvert_exporter": "python",
   "pygments_lexer": "ipython3",
   "version": "3.7.6"
  }
 },
 "nbformat": 4,
 "nbformat_minor": 4
}
