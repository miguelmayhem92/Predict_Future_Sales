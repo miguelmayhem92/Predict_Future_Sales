{
 "cells": [
  {
   "cell_type": "markdown",
   "metadata": {},
   "source": [
    "# Predict Future Sales"
   ]
  },
  {
   "cell_type": "markdown",
   "metadata": {},
   "source": [
    "Second part of feauture enginering and ML modeling - testing advanced models and advanced features"
   ]
  },
  {
   "cell_type": "markdown",
   "metadata": {},
   "source": [
    "kaggle link : https://www.kaggle.com/c/competitive-data-science-predict-future-sales/overview"
   ]
  },
  {
   "cell_type": "code",
   "execution_count": 1,
   "metadata": {},
   "outputs": [],
   "source": [
    "import pandas as pd\n",
    "import numpy as np\n",
    "import matplotlib.pyplot as plt\n",
    "import datetime\n",
    "import seaborn as sns; sns.set()\n",
    "import random\n",
    "from dateutil.relativedelta import relativedelta\n",
    "import os"
   ]
  },
  {
   "cell_type": "code",
   "execution_count": 2,
   "metadata": {},
   "outputs": [],
   "source": [
    "from my_functions import merge_basic, convert_silver, completion_semi_gold, scaler, inversed_scale, consolidation_prediction, plot_prediction, preparing_to_predict, plot_metrics"
   ]
  },
  {
   "cell_type": "code",
   "execution_count": 3,
   "metadata": {},
   "outputs": [],
   "source": [
    "from sklearn.preprocessing import MinMaxScaler\n",
    "\n",
    "from sklearn.tree import DecisionTreeRegressor\n",
    "from sklearn.ensemble import AdaBoostRegressor\n",
    "from sklearn.metrics import mean_squared_error"
   ]
  },
  {
   "cell_type": "code",
   "execution_count": 4,
   "metadata": {},
   "outputs": [],
   "source": [
    "#from sklearn_extra.cluster import KMedoids\n",
    "from sklearn.cluster import KMeans"
   ]
  },
  {
   "cell_type": "markdown",
   "metadata": {},
   "source": [
    "### Data"
   ]
  },
  {
   "cell_type": "code",
   "execution_count": 5,
   "metadata": {},
   "outputs": [],
   "source": [
    "daily_train = pd.read_csv('sales_train.csv')\n",
    "items = pd.read_csv('items.csv')\n",
    "shops = pd.read_csv('shops.csv')\n",
    "categories = pd.read_csv('item_categories.csv')\n",
    "sample_submission = pd.read_csv('sample_submission.csv')\n",
    "test = pd.read_csv('test.csv')"
   ]
  },
  {
   "cell_type": "markdown",
   "metadata": {},
   "source": [
    "### Data modeling"
   ]
  },
  {
   "cell_type": "code",
   "execution_count": 6,
   "metadata": {},
   "outputs": [],
   "source": [
    "train_merge = merge_basic(daily_train, test,'left')"
   ]
  },
  {
   "cell_type": "code",
   "execution_count": 7,
   "metadata": {},
   "outputs": [
    {
     "data": {
      "text/html": [
       "<div>\n",
       "<style scoped>\n",
       "    .dataframe tbody tr th:only-of-type {\n",
       "        vertical-align: middle;\n",
       "    }\n",
       "\n",
       "    .dataframe tbody tr th {\n",
       "        vertical-align: top;\n",
       "    }\n",
       "\n",
       "    .dataframe thead th {\n",
       "        text-align: right;\n",
       "    }\n",
       "</style>\n",
       "<table border=\"1\" class=\"dataframe\">\n",
       "  <thead>\n",
       "    <tr style=\"text-align: right;\">\n",
       "      <th></th>\n",
       "      <th>date</th>\n",
       "      <th>date_block_num</th>\n",
       "      <th>shop_id</th>\n",
       "      <th>item_id</th>\n",
       "      <th>item_price</th>\n",
       "      <th>item_cnt_day</th>\n",
       "      <th>item_name</th>\n",
       "      <th>item_category_id</th>\n",
       "      <th>item_category_name</th>\n",
       "      <th>comp1_x</th>\n",
       "      <th>comp2_x</th>\n",
       "      <th>map_comp1categ</th>\n",
       "      <th>map_comp2categ</th>\n",
       "      <th>shop_name</th>\n",
       "      <th>comp1_y</th>\n",
       "      <th>comp2_y</th>\n",
       "      <th>map_comp1shop</th>\n",
       "      <th>map_comp2shop</th>\n",
       "      <th>ID</th>\n",
       "      <th>SaleDate</th>\n",
       "    </tr>\n",
       "  </thead>\n",
       "  <tbody>\n",
       "    <tr>\n",
       "      <th>0</th>\n",
       "      <td>02.01.2013</td>\n",
       "      <td>0</td>\n",
       "      <td>59</td>\n",
       "      <td>22154</td>\n",
       "      <td>999.00</td>\n",
       "      <td>1.0</td>\n",
       "      <td>ЯВЛЕНИЕ 2012 (BD)</td>\n",
       "      <td>37</td>\n",
       "      <td>Кино - Blu-Ray</td>\n",
       "      <td>Кино</td>\n",
       "      <td>Blu-Ray</td>\n",
       "      <td>11</td>\n",
       "      <td>19</td>\n",
       "      <td>Ярославль ТЦ \"Альтаир\"</td>\n",
       "      <td>Ярославль</td>\n",
       "      <td>Альтаир</td>\n",
       "      <td>31</td>\n",
       "      <td>45</td>\n",
       "      <td>150983.0</td>\n",
       "      <td>2013-01-02</td>\n",
       "    </tr>\n",
       "    <tr>\n",
       "      <th>1</th>\n",
       "      <td>03.01.2013</td>\n",
       "      <td>0</td>\n",
       "      <td>25</td>\n",
       "      <td>2552</td>\n",
       "      <td>899.00</td>\n",
       "      <td>1.0</td>\n",
       "      <td>DEEP PURPLE  The House Of Blue Light  LP</td>\n",
       "      <td>58</td>\n",
       "      <td>Музыка - Винил</td>\n",
       "      <td>Музыка</td>\n",
       "      <td>Винил</td>\n",
       "      <td>13</td>\n",
       "      <td>39</td>\n",
       "      <td>Москва ТРК \"Атриум\"</td>\n",
       "      <td>Москва</td>\n",
       "      <td>Атриум</td>\n",
       "      <td>14</td>\n",
       "      <td>18</td>\n",
       "      <td>NaN</td>\n",
       "      <td>2013-01-03</td>\n",
       "    </tr>\n",
       "    <tr>\n",
       "      <th>2</th>\n",
       "      <td>05.01.2013</td>\n",
       "      <td>0</td>\n",
       "      <td>25</td>\n",
       "      <td>2552</td>\n",
       "      <td>899.00</td>\n",
       "      <td>-1.0</td>\n",
       "      <td>DEEP PURPLE  The House Of Blue Light  LP</td>\n",
       "      <td>58</td>\n",
       "      <td>Музыка - Винил</td>\n",
       "      <td>Музыка</td>\n",
       "      <td>Винил</td>\n",
       "      <td>13</td>\n",
       "      <td>39</td>\n",
       "      <td>Москва ТРК \"Атриум\"</td>\n",
       "      <td>Москва</td>\n",
       "      <td>Атриум</td>\n",
       "      <td>14</td>\n",
       "      <td>18</td>\n",
       "      <td>NaN</td>\n",
       "      <td>2013-01-05</td>\n",
       "    </tr>\n",
       "    <tr>\n",
       "      <th>3</th>\n",
       "      <td>06.01.2013</td>\n",
       "      <td>0</td>\n",
       "      <td>25</td>\n",
       "      <td>2554</td>\n",
       "      <td>1709.05</td>\n",
       "      <td>1.0</td>\n",
       "      <td>DEEP PURPLE  Who Do You Think We Are  LP</td>\n",
       "      <td>58</td>\n",
       "      <td>Музыка - Винил</td>\n",
       "      <td>Музыка</td>\n",
       "      <td>Винил</td>\n",
       "      <td>13</td>\n",
       "      <td>39</td>\n",
       "      <td>Москва ТРК \"Атриум\"</td>\n",
       "      <td>Москва</td>\n",
       "      <td>Атриум</td>\n",
       "      <td>14</td>\n",
       "      <td>18</td>\n",
       "      <td>NaN</td>\n",
       "      <td>2013-01-06</td>\n",
       "    </tr>\n",
       "    <tr>\n",
       "      <th>4</th>\n",
       "      <td>15.01.2013</td>\n",
       "      <td>0</td>\n",
       "      <td>25</td>\n",
       "      <td>2555</td>\n",
       "      <td>1099.00</td>\n",
       "      <td>1.0</td>\n",
       "      <td>DEEP PURPLE 30 Very Best Of 2CD (Фирм.)</td>\n",
       "      <td>56</td>\n",
       "      <td>Музыка - CD фирменного производства</td>\n",
       "      <td>Музыка</td>\n",
       "      <td>CD фирменного производства</td>\n",
       "      <td>13</td>\n",
       "      <td>37</td>\n",
       "      <td>Москва ТРК \"Атриум\"</td>\n",
       "      <td>Москва</td>\n",
       "      <td>Атриум</td>\n",
       "      <td>14</td>\n",
       "      <td>18</td>\n",
       "      <td>NaN</td>\n",
       "      <td>2013-01-15</td>\n",
       "    </tr>\n",
       "  </tbody>\n",
       "</table>\n",
       "</div>"
      ],
      "text/plain": [
       "         date  date_block_num  shop_id  item_id  item_price  item_cnt_day  \\\n",
       "0  02.01.2013               0       59    22154      999.00           1.0   \n",
       "1  03.01.2013               0       25     2552      899.00           1.0   \n",
       "2  05.01.2013               0       25     2552      899.00          -1.0   \n",
       "3  06.01.2013               0       25     2554     1709.05           1.0   \n",
       "4  15.01.2013               0       25     2555     1099.00           1.0   \n",
       "\n",
       "                                  item_name  item_category_id  \\\n",
       "0                         ЯВЛЕНИЕ 2012 (BD)                37   \n",
       "1  DEEP PURPLE  The House Of Blue Light  LP                58   \n",
       "2  DEEP PURPLE  The House Of Blue Light  LP                58   \n",
       "3  DEEP PURPLE  Who Do You Think We Are  LP                58   \n",
       "4   DEEP PURPLE 30 Very Best Of 2CD (Фирм.)                56   \n",
       "\n",
       "                    item_category_name comp1_x                     comp2_x  \\\n",
       "0                       Кино - Blu-Ray    Кино                     Blu-Ray   \n",
       "1                       Музыка - Винил  Музыка                       Винил   \n",
       "2                       Музыка - Винил  Музыка                       Винил   \n",
       "3                       Музыка - Винил  Музыка                       Винил   \n",
       "4  Музыка - CD фирменного производства  Музыка  CD фирменного производства   \n",
       "\n",
       "   map_comp1categ  map_comp2categ               shop_name    comp1_y  comp2_y  \\\n",
       "0              11              19  Ярославль ТЦ \"Альтаир\"  Ярославль  Альтаир   \n",
       "1              13              39     Москва ТРК \"Атриум\"     Москва   Атриум   \n",
       "2              13              39     Москва ТРК \"Атриум\"     Москва   Атриум   \n",
       "3              13              39     Москва ТРК \"Атриум\"     Москва   Атриум   \n",
       "4              13              37     Москва ТРК \"Атриум\"     Москва   Атриум   \n",
       "\n",
       "   map_comp1shop  map_comp2shop        ID   SaleDate  \n",
       "0             31             45  150983.0 2013-01-02  \n",
       "1             14             18       NaN 2013-01-03  \n",
       "2             14             18       NaN 2013-01-05  \n",
       "3             14             18       NaN 2013-01-06  \n",
       "4             14             18       NaN 2013-01-15  "
      ]
     },
     "execution_count": 7,
     "metadata": {},
     "output_type": "execute_result"
    }
   ],
   "source": [
    "train_merge.head(5)"
   ]
  },
  {
   "cell_type": "code",
   "execution_count": 8,
   "metadata": {},
   "outputs": [],
   "source": [
    "wholedata_silver = convert_silver(train_merge)"
   ]
  },
  {
   "cell_type": "code",
   "execution_count": 9,
   "metadata": {},
   "outputs": [
    {
     "data": {
      "text/html": [
       "<div>\n",
       "<style scoped>\n",
       "    .dataframe tbody tr th:only-of-type {\n",
       "        vertical-align: middle;\n",
       "    }\n",
       "\n",
       "    .dataframe tbody tr th {\n",
       "        vertical-align: top;\n",
       "    }\n",
       "\n",
       "    .dataframe thead th {\n",
       "        text-align: right;\n",
       "    }\n",
       "</style>\n",
       "<table border=\"1\" class=\"dataframe\">\n",
       "  <thead>\n",
       "    <tr style=\"text-align: right;\">\n",
       "      <th></th>\n",
       "      <th>SaleDateMY</th>\n",
       "      <th>date_block_num</th>\n",
       "      <th>shop_id</th>\n",
       "      <th>item_id</th>\n",
       "      <th>item_name</th>\n",
       "      <th>item_category_id</th>\n",
       "      <th>shop_name</th>\n",
       "      <th>item_category_name</th>\n",
       "      <th>map_comp1categ</th>\n",
       "      <th>map_comp2categ</th>\n",
       "      <th>map_comp1shop</th>\n",
       "      <th>map_comp2shop</th>\n",
       "      <th>InTest</th>\n",
       "      <th>item_cnt_day</th>\n",
       "      <th>item_price</th>\n",
       "      <th>shopitem</th>\n",
       "    </tr>\n",
       "  </thead>\n",
       "  <tbody>\n",
       "    <tr>\n",
       "      <th>0</th>\n",
       "      <td>2013-01-01</td>\n",
       "      <td>0</td>\n",
       "      <td>0</td>\n",
       "      <td>32</td>\n",
       "      <td>1+1</td>\n",
       "      <td>40</td>\n",
       "      <td>!Якутск Орджоникидзе, 56 фран</td>\n",
       "      <td>Кино - DVD</td>\n",
       "      <td>11</td>\n",
       "      <td>22</td>\n",
       "      <td>0</td>\n",
       "      <td>0</td>\n",
       "      <td>0</td>\n",
       "      <td>6.0</td>\n",
       "      <td>221.0</td>\n",
       "      <td>0-32</td>\n",
       "    </tr>\n",
       "    <tr>\n",
       "      <th>1</th>\n",
       "      <td>2013-01-01</td>\n",
       "      <td>0</td>\n",
       "      <td>0</td>\n",
       "      <td>33</td>\n",
       "      <td>1+1 (BD)</td>\n",
       "      <td>37</td>\n",
       "      <td>!Якутск Орджоникидзе, 56 фран</td>\n",
       "      <td>Кино - Blu-Ray</td>\n",
       "      <td>11</td>\n",
       "      <td>19</td>\n",
       "      <td>0</td>\n",
       "      <td>0</td>\n",
       "      <td>0</td>\n",
       "      <td>3.0</td>\n",
       "      <td>347.0</td>\n",
       "      <td>0-33</td>\n",
       "    </tr>\n",
       "    <tr>\n",
       "      <th>2</th>\n",
       "      <td>2013-01-01</td>\n",
       "      <td>0</td>\n",
       "      <td>0</td>\n",
       "      <td>35</td>\n",
       "      <td>10 ЛЕТ СПУСТЯ</td>\n",
       "      <td>40</td>\n",
       "      <td>!Якутск Орджоникидзе, 56 фран</td>\n",
       "      <td>Кино - DVD</td>\n",
       "      <td>11</td>\n",
       "      <td>22</td>\n",
       "      <td>0</td>\n",
       "      <td>0</td>\n",
       "      <td>0</td>\n",
       "      <td>1.0</td>\n",
       "      <td>247.0</td>\n",
       "      <td>0-35</td>\n",
       "    </tr>\n",
       "    <tr>\n",
       "      <th>3</th>\n",
       "      <td>2013-01-01</td>\n",
       "      <td>0</td>\n",
       "      <td>0</td>\n",
       "      <td>43</td>\n",
       "      <td>100 МИЛЛИОНОВ ЕВРО</td>\n",
       "      <td>40</td>\n",
       "      <td>!Якутск Орджоникидзе, 56 фран</td>\n",
       "      <td>Кино - DVD</td>\n",
       "      <td>11</td>\n",
       "      <td>22</td>\n",
       "      <td>0</td>\n",
       "      <td>0</td>\n",
       "      <td>0</td>\n",
       "      <td>1.0</td>\n",
       "      <td>221.0</td>\n",
       "      <td>0-43</td>\n",
       "    </tr>\n",
       "    <tr>\n",
       "      <th>4</th>\n",
       "      <td>2013-01-01</td>\n",
       "      <td>0</td>\n",
       "      <td>0</td>\n",
       "      <td>51</td>\n",
       "      <td>100 лучших произведений классики (mp3-CD) (Dig...</td>\n",
       "      <td>57</td>\n",
       "      <td>!Якутск Орджоникидзе, 56 фран</td>\n",
       "      <td>Музыка - MP3</td>\n",
       "      <td>13</td>\n",
       "      <td>38</td>\n",
       "      <td>0</td>\n",
       "      <td>0</td>\n",
       "      <td>0</td>\n",
       "      <td>2.0</td>\n",
       "      <td>130.0</td>\n",
       "      <td>0-51</td>\n",
       "    </tr>\n",
       "  </tbody>\n",
       "</table>\n",
       "</div>"
      ],
      "text/plain": [
       "  SaleDateMY  date_block_num  shop_id  item_id  \\\n",
       "0 2013-01-01               0        0       32   \n",
       "1 2013-01-01               0        0       33   \n",
       "2 2013-01-01               0        0       35   \n",
       "3 2013-01-01               0        0       43   \n",
       "4 2013-01-01               0        0       51   \n",
       "\n",
       "                                           item_name  item_category_id  \\\n",
       "0                                                1+1                40   \n",
       "1                                           1+1 (BD)                37   \n",
       "2                                      10 ЛЕТ СПУСТЯ                40   \n",
       "3                                 100 МИЛЛИОНОВ ЕВРО                40   \n",
       "4  100 лучших произведений классики (mp3-CD) (Dig...                57   \n",
       "\n",
       "                       shop_name item_category_name  map_comp1categ  \\\n",
       "0  !Якутск Орджоникидзе, 56 фран         Кино - DVD              11   \n",
       "1  !Якутск Орджоникидзе, 56 фран     Кино - Blu-Ray              11   \n",
       "2  !Якутск Орджоникидзе, 56 фран         Кино - DVD              11   \n",
       "3  !Якутск Орджоникидзе, 56 фран         Кино - DVD              11   \n",
       "4  !Якутск Орджоникидзе, 56 фран       Музыка - MP3              13   \n",
       "\n",
       "   map_comp2categ  map_comp1shop  map_comp2shop  InTest  item_cnt_day  \\\n",
       "0              22              0              0       0           6.0   \n",
       "1              19              0              0       0           3.0   \n",
       "2              22              0              0       0           1.0   \n",
       "3              22              0              0       0           1.0   \n",
       "4              38              0              0       0           2.0   \n",
       "\n",
       "   item_price shopitem  \n",
       "0       221.0     0-32  \n",
       "1       347.0     0-33  \n",
       "2       247.0     0-35  \n",
       "3       221.0     0-43  \n",
       "4       130.0     0-51  "
      ]
     },
     "execution_count": 9,
     "metadata": {},
     "output_type": "execute_result"
    }
   ],
   "source": [
    "wholedata_silver.head()"
   ]
  },
  {
   "cell_type": "code",
   "execution_count": 10,
   "metadata": {},
   "outputs": [
    {
     "data": {
      "text/plain": [
       "(1609124, 16)"
      ]
     },
     "execution_count": 10,
     "metadata": {},
     "output_type": "execute_result"
    }
   ],
   "source": [
    "wholedata_silver.shape"
   ]
  },
  {
   "cell_type": "markdown",
   "metadata": {},
   "source": [
    "<b> Splitting strategy:"
   ]
  },
  {
   "cell_type": "markdown",
   "metadata": {},
   "source": [
    "* time series expanding window of one period, Take 7 months\n",
    "* over the first fold, make the functions and features for modeling and prediction (avoid leakage)\n",
    "* lags and seasons are features\n",
    "* use rmse as metric\n",
    "* consider the outputs of the EDA\n",
    "* goal, predict november or yyyy-11-01"
   ]
  },
  {
   "cell_type": "markdown",
   "metadata": {},
   "source": [
    "#### The validation data"
   ]
  },
  {
   "cell_type": "code",
   "execution_count": 11,
   "metadata": {},
   "outputs": [
    {
     "data": {
      "text/plain": [
       "Timestamp('2015-10-01 00:00:00')"
      ]
     },
     "execution_count": 11,
     "metadata": {},
     "output_type": "execute_result"
    }
   ],
   "source": [
    "wholedata_silver.SaleDateMY.max()"
   ]
  },
  {
   "cell_type": "code",
   "execution_count": 12,
   "metadata": {},
   "outputs": [],
   "source": [
    "test_dates = [datetime.datetime(2014, 11, 1), datetime.datetime(2015, 4, 1), datetime.datetime(2015, 5, 1), datetime.datetime(2015, 6, 1), datetime.datetime(2015, 7, 1), datetime.datetime(2015, 8, 1),\n",
    "datetime.datetime(2015, 9, 1), datetime.datetime(2015, 10, 1),]"
   ]
  },
  {
   "cell_type": "markdown",
   "metadata": {},
   "source": [
    "#### hold-out Train"
   ]
  },
  {
   "cell_type": "code",
   "execution_count": 13,
   "metadata": {},
   "outputs": [],
   "source": [
    "train_big_full = completion_semi_gold(wholedata_silver)"
   ]
  },
  {
   "cell_type": "code",
   "execution_count": 14,
   "metadata": {},
   "outputs": [
    {
     "data": {
      "text/plain": [
       "Index(['InTest', 'shop_id', 'item_id', 'item_name', 'shopitem',\n",
       "       'item_category_id', 'shop_name', 'item_category_name', 'map_comp1categ',\n",
       "       'map_comp2categ', 'map_comp1shop', 'map_comp2shop', 'Date', 'Sale',\n",
       "       'item_price', 'Order', 'MiguelId'],\n",
       "      dtype='object')"
      ]
     },
     "execution_count": 14,
     "metadata": {},
     "output_type": "execute_result"
    }
   ],
   "source": [
    "train_big_full.columns"
   ]
  },
  {
   "cell_type": "code",
   "execution_count": 15,
   "metadata": {},
   "outputs": [],
   "source": [
    "date_val = datetime.datetime(2014, 10, 1)"
   ]
  },
  {
   "cell_type": "code",
   "execution_count": 16,
   "metadata": {},
   "outputs": [],
   "source": [
    "train_full = train_big_full[train_big_full.Date < date_val ].copy()\n",
    "val_window = train_big_full[train_big_full.Date == date_val ].copy()"
   ]
  },
  {
   "cell_type": "code",
   "execution_count": 17,
   "metadata": {},
   "outputs": [
    {
     "data": {
      "text/html": [
       "<div>\n",
       "<style scoped>\n",
       "    .dataframe tbody tr th:only-of-type {\n",
       "        vertical-align: middle;\n",
       "    }\n",
       "\n",
       "    .dataframe tbody tr th {\n",
       "        vertical-align: top;\n",
       "    }\n",
       "\n",
       "    .dataframe thead th {\n",
       "        text-align: right;\n",
       "    }\n",
       "</style>\n",
       "<table border=\"1\" class=\"dataframe\">\n",
       "  <thead>\n",
       "    <tr style=\"text-align: right;\">\n",
       "      <th></th>\n",
       "      <th>InTest</th>\n",
       "      <th>shop_id</th>\n",
       "      <th>item_id</th>\n",
       "      <th>item_name</th>\n",
       "      <th>shopitem</th>\n",
       "      <th>item_category_id</th>\n",
       "      <th>shop_name</th>\n",
       "      <th>item_category_name</th>\n",
       "      <th>map_comp1categ</th>\n",
       "      <th>map_comp2categ</th>\n",
       "      <th>map_comp1shop</th>\n",
       "      <th>map_comp2shop</th>\n",
       "      <th>Date</th>\n",
       "      <th>Sale</th>\n",
       "      <th>item_price</th>\n",
       "      <th>Order</th>\n",
       "      <th>MiguelId</th>\n",
       "    </tr>\n",
       "  </thead>\n",
       "  <tbody>\n",
       "    <tr>\n",
       "      <th>0</th>\n",
       "      <td>0</td>\n",
       "      <td>0</td>\n",
       "      <td>30</td>\n",
       "      <td>007: КООРДИНАТЫ «СКАЙФОЛЛ»</td>\n",
       "      <td>0-30</td>\n",
       "      <td>40</td>\n",
       "      <td>!Якутск Орджоникидзе, 56 фран</td>\n",
       "      <td>Кино - DVD</td>\n",
       "      <td>11</td>\n",
       "      <td>22</td>\n",
       "      <td>0</td>\n",
       "      <td>0</td>\n",
       "      <td>2013-01-01</td>\n",
       "      <td>0.0</td>\n",
       "      <td>0.0</td>\n",
       "      <td>1</td>\n",
       "      <td>0-30-2013-01-01</td>\n",
       "    </tr>\n",
       "    <tr>\n",
       "      <th>1</th>\n",
       "      <td>0</td>\n",
       "      <td>0</td>\n",
       "      <td>31</td>\n",
       "      <td>007: КООРДИНАТЫ «СКАЙФОЛЛ» (BD)</td>\n",
       "      <td>0-31</td>\n",
       "      <td>37</td>\n",
       "      <td>!Якутск Орджоникидзе, 56 фран</td>\n",
       "      <td>Кино - Blu-Ray</td>\n",
       "      <td>11</td>\n",
       "      <td>19</td>\n",
       "      <td>0</td>\n",
       "      <td>0</td>\n",
       "      <td>2013-01-01</td>\n",
       "      <td>0.0</td>\n",
       "      <td>0.0</td>\n",
       "      <td>1</td>\n",
       "      <td>0-31-2013-01-01</td>\n",
       "    </tr>\n",
       "    <tr>\n",
       "      <th>2</th>\n",
       "      <td>0</td>\n",
       "      <td>0</td>\n",
       "      <td>32</td>\n",
       "      <td>1+1</td>\n",
       "      <td>0-32</td>\n",
       "      <td>40</td>\n",
       "      <td>!Якутск Орджоникидзе, 56 фран</td>\n",
       "      <td>Кино - DVD</td>\n",
       "      <td>11</td>\n",
       "      <td>22</td>\n",
       "      <td>0</td>\n",
       "      <td>0</td>\n",
       "      <td>2013-01-01</td>\n",
       "      <td>6.0</td>\n",
       "      <td>221.0</td>\n",
       "      <td>1</td>\n",
       "      <td>0-32-2013-01-01</td>\n",
       "    </tr>\n",
       "    <tr>\n",
       "      <th>3</th>\n",
       "      <td>0</td>\n",
       "      <td>0</td>\n",
       "      <td>33</td>\n",
       "      <td>1+1 (BD)</td>\n",
       "      <td>0-33</td>\n",
       "      <td>37</td>\n",
       "      <td>!Якутск Орджоникидзе, 56 фран</td>\n",
       "      <td>Кино - Blu-Ray</td>\n",
       "      <td>11</td>\n",
       "      <td>19</td>\n",
       "      <td>0</td>\n",
       "      <td>0</td>\n",
       "      <td>2013-01-01</td>\n",
       "      <td>3.0</td>\n",
       "      <td>347.0</td>\n",
       "      <td>1</td>\n",
       "      <td>0-33-2013-01-01</td>\n",
       "    </tr>\n",
       "    <tr>\n",
       "      <th>4</th>\n",
       "      <td>0</td>\n",
       "      <td>0</td>\n",
       "      <td>35</td>\n",
       "      <td>10 ЛЕТ СПУСТЯ</td>\n",
       "      <td>0-35</td>\n",
       "      <td>40</td>\n",
       "      <td>!Якутск Орджоникидзе, 56 фран</td>\n",
       "      <td>Кино - DVD</td>\n",
       "      <td>11</td>\n",
       "      <td>22</td>\n",
       "      <td>0</td>\n",
       "      <td>0</td>\n",
       "      <td>2013-01-01</td>\n",
       "      <td>1.0</td>\n",
       "      <td>247.0</td>\n",
       "      <td>1</td>\n",
       "      <td>0-35-2013-01-01</td>\n",
       "    </tr>\n",
       "  </tbody>\n",
       "</table>\n",
       "</div>"
      ],
      "text/plain": [
       "   InTest  shop_id  item_id                        item_name shopitem  \\\n",
       "0       0        0       30       007: КООРДИНАТЫ «СКАЙФОЛЛ»     0-30   \n",
       "1       0        0       31  007: КООРДИНАТЫ «СКАЙФОЛЛ» (BD)     0-31   \n",
       "2       0        0       32                              1+1     0-32   \n",
       "3       0        0       33                         1+1 (BD)     0-33   \n",
       "4       0        0       35                    10 ЛЕТ СПУСТЯ     0-35   \n",
       "\n",
       "   item_category_id                      shop_name item_category_name  \\\n",
       "0                40  !Якутск Орджоникидзе, 56 фран         Кино - DVD   \n",
       "1                37  !Якутск Орджоникидзе, 56 фран     Кино - Blu-Ray   \n",
       "2                40  !Якутск Орджоникидзе, 56 фран         Кино - DVD   \n",
       "3                37  !Якутск Орджоникидзе, 56 фран     Кино - Blu-Ray   \n",
       "4                40  !Якутск Орджоникидзе, 56 фран         Кино - DVD   \n",
       "\n",
       "   map_comp1categ  map_comp2categ  map_comp1shop  map_comp2shop       Date  \\\n",
       "0              11              22              0              0 2013-01-01   \n",
       "1              11              19              0              0 2013-01-01   \n",
       "2              11              22              0              0 2013-01-01   \n",
       "3              11              19              0              0 2013-01-01   \n",
       "4              11              22              0              0 2013-01-01   \n",
       "\n",
       "   Sale  item_price  Order         MiguelId  \n",
       "0   0.0         0.0      1  0-30-2013-01-01  \n",
       "1   0.0         0.0      1  0-31-2013-01-01  \n",
       "2   6.0       221.0      1  0-32-2013-01-01  \n",
       "3   3.0       347.0      1  0-33-2013-01-01  \n",
       "4   1.0       247.0      1  0-35-2013-01-01  "
      ]
     },
     "execution_count": 17,
     "metadata": {},
     "output_type": "execute_result"
    }
   ],
   "source": [
    "train_full.head()"
   ]
  },
  {
   "cell_type": "code",
   "execution_count": 18,
   "metadata": {},
   "outputs": [
    {
     "data": {
      "text/plain": [
       "(Timestamp('2014-09-01 00:00:00'), Timestamp('2013-01-01 00:00:00'))"
      ]
     },
     "execution_count": 18,
     "metadata": {},
     "output_type": "execute_result"
    }
   ],
   "source": [
    "train_full.Date.max(), train_full.Date.min()"
   ]
  },
  {
   "cell_type": "code",
   "execution_count": 19,
   "metadata": {},
   "outputs": [
    {
     "data": {
      "text/plain": [
       "(8906604, 17)"
      ]
     },
     "execution_count": 19,
     "metadata": {},
     "output_type": "execute_result"
    }
   ],
   "source": [
    "train_full.shape"
   ]
  },
  {
   "cell_type": "code",
   "execution_count": 20,
   "metadata": {},
   "outputs": [
    {
     "data": {
      "text/html": [
       "<div>\n",
       "<style scoped>\n",
       "    .dataframe tbody tr th:only-of-type {\n",
       "        vertical-align: middle;\n",
       "    }\n",
       "\n",
       "    .dataframe tbody tr th {\n",
       "        vertical-align: top;\n",
       "    }\n",
       "\n",
       "    .dataframe thead th {\n",
       "        text-align: right;\n",
       "    }\n",
       "</style>\n",
       "<table border=\"1\" class=\"dataframe\">\n",
       "  <thead>\n",
       "    <tr style=\"text-align: right;\">\n",
       "      <th></th>\n",
       "      <th>shopitems</th>\n",
       "    </tr>\n",
       "    <tr>\n",
       "      <th>InTest</th>\n",
       "      <th></th>\n",
       "    </tr>\n",
       "  </thead>\n",
       "  <tbody>\n",
       "    <tr>\n",
       "      <th>0</th>\n",
       "      <td>312720</td>\n",
       "    </tr>\n",
       "    <tr>\n",
       "      <th>1</th>\n",
       "      <td>111404</td>\n",
       "    </tr>\n",
       "  </tbody>\n",
       "</table>\n",
       "</div>"
      ],
      "text/plain": [
       "        shopitems\n",
       "InTest           \n",
       "0          312720\n",
       "1          111404"
      ]
     },
     "execution_count": 20,
     "metadata": {},
     "output_type": "execute_result"
    }
   ],
   "source": [
    "train_full.groupby('InTest').agg(shopitems = ('shopitem','nunique'))"
   ]
  },
  {
   "cell_type": "markdown",
   "metadata": {},
   "source": [
    "### Exploration of the features"
   ]
  },
  {
   "cell_type": "code",
   "execution_count": 21,
   "metadata": {},
   "outputs": [],
   "source": [
    "def balance_items_test(data, date_to_take , percentage_test = 0.30, smalls_percent = 0.5, gen_sample = 0.70):\n",
    "    \n",
    "    data = data[data.Date < date_to_take].copy()\n",
    "    \n",
    "    ## data from not in test\n",
    "    \n",
    "    items_in_test = list(data[data.InTest == 1].shopitem.unique())\n",
    "    items_in_test = [str(x) for x in items_in_test]\n",
    "    \n",
    "    items_no_test = list(data[data.InTest == 0].shopitem.unique())\n",
    "    items_no_test = [str(x) for x in items_no_test]\n",
    "    ncapture = int(round(len(items_no_test)*percentage_test,0 ))\n",
    "    random.shuffle(items_no_test)\n",
    "    items_no_test = items_no_test[0:ncapture]\n",
    "    \n",
    "    selected_items = items_in_test + items_no_test\n",
    "    data = data[data.shopitem.isin(selected_items)]\n",
    "    \n",
    "    ## data min item\n",
    "    data['max'] = data.groupby(['shopitem']).Sale.transform('max')\n",
    "    smalls = list(data[data['max'] < 2].shopitem.unique())\n",
    "    to_drop = int( round(len(smalls)*smalls_percent,0 ))\n",
    "    items = [str(x) for x in smalls]\n",
    "    random.shuffle(items)\n",
    "    keep_items = items[0:to_drop]\n",
    "    data = data[~data.shopitem.astype('str').isin(keep_items)].drop(columns = ['max'])\n",
    "    \n",
    "    ## for general sample\n",
    "    to_hide = int( round(len(data.shopitem.unique())*gen_sample,0 ))\n",
    "    items = list(data.shopitem.unique())\n",
    "    items = [str(x) for x in items]\n",
    "    random.shuffle(items)\n",
    "    \n",
    "    keep_items = items[0:to_hide]\n",
    "    data_result = data[data.shopitem.astype('str').isin(keep_items)]\n",
    "    \n",
    "    return data_result"
   ]
  },
  {
   "cell_type": "code",
   "execution_count": 22,
   "metadata": {},
   "outputs": [],
   "source": [
    "def q1(x):\n",
    "    return x.quantile(0.25)\n",
    "\n",
    "def q2(x):\n",
    "    return x.quantile(0.50)\n",
    "\n",
    "def q3(x):\n",
    "    return x.quantile(0.90)"
   ]
  },
  {
   "cell_type": "code",
   "execution_count": 23,
   "metadata": {},
   "outputs": [],
   "source": [
    "def exploiting_words(data):\n",
    "    items_vector = list(data.item_name.unique())\n",
    "    items_vector = pd.DataFrame({'item_name': items_vector})\n",
    "    items_vector['lenstr'] = items_vector.item_name.str.len() ## this can be a feature\n",
    "    items_vector['NWords'] = items_vector.item_name.str.split().str.len()\n",
    "    items_vector['Word0'] = items_vector.item_name.str.split().str.get(0)\n",
    "    items_vector['Word_1'] = items_vector.item_name.str.split().str.get(-1)\n",
    "    \n",
    "    def my_tokengen(data, columnx):\n",
    "        unique_words = list()\n",
    "        for string in  list(data[columnx].values):\n",
    "            for word in string.split():\n",
    "                unique_words.append(word)\n",
    "        unique_words = set(unique_words)\n",
    "        unique_words = list(unique_words)\n",
    "        unique_words.sort()\n",
    "        number = [idx[0] +1 for idx in enumerate(unique_words)]\n",
    "        map_word = {x:y for x,y in zip(unique_words, number)}\n",
    "\n",
    "        data[columnx] = data[columnx].map(map_word)\n",
    "        return data\n",
    "    \n",
    "    items_vector = my_tokengen(items_vector, 'Word0')\n",
    "    items_vector = my_tokengen(items_vector, 'Word_1')\n",
    "    items_vector = items_vector.merge(items[['item_name','item_id']], on = 'item_name', how = 'left').drop(columns = 'item_name')\n",
    "    \n",
    "    return {'item_name_explo':items_vector}"
   ]
  },
  {
   "cell_type": "code",
   "execution_count": 24,
   "metadata": {},
   "outputs": [],
   "source": [
    "def get_full_lags(whole, date_to_take):\n",
    "    \n",
    "    data = whole[ whole.Date < date_to_take].copy()\n",
    "    data['itemShopMax'] = data.groupby(['shopitem']).Sale.transform('max')\n",
    "    data['possnumb'] = np.where(data.Sale > 0 , 1,0)\n",
    "    data['possCounts'] = data.groupby(['item_id','shop_id']).possnumb.transform('sum')\n",
    "    \n",
    "    features_dictionary = dict()\n",
    "    #########################################\n",
    "    ### only item Columns  ##################\n",
    "    ########################################\n",
    "\n",
    "    date_max = data.Date.max()\n",
    "    date_max = datetime.datetime(date_max.year, date_max.month, date_max.day)\n",
    "    \n",
    "    #########################################\n",
    "    ### starts  ##################\n",
    "    ########################################\n",
    "    \n",
    "    data['itempMax'] = data.groupby(['item_id']).Sale.transform('max')\n",
    "    data['maxOrder'] = data.groupby(['item_id','possnumb']).cumcount() + 1\n",
    "    data['maxOrder'] = np.where(data.possnumb == 0 , 0, data['maxOrder'] )\n",
    "    data['OrderGot'] = np.where(data.maxOrder == 1, data.Order,0)\n",
    "    data['OrderGot'] = data.groupby(['item_id']).OrderGot.transform('sum')\n",
    "    \n",
    "    starts = data.groupby('item_id').agg(OrderGot = ('OrderGot','max')).reset_index()\n",
    "    \n",
    "    features_dictionary['Starts'] = starts\n",
    "    \n",
    "    \n",
    "    ########################################\n",
    "    #### explosionts ###############\n",
    "    #########################################\n",
    "    data['SpaceOrder'] = data['Order'] - data['OrderGot']\n",
    "    df_feature = data[data.SpaceOrder >= 0].copy()\n",
    "    df_feature['Sale'] = np.where(df_feature['Sale'] == 0, np.nan, df_feature['Sale'])\n",
    "    df_feature_item = df_feature.groupby(['item_id','SpaceOrder']).agg(maxSaleItem = ('Sale','mean')).reset_index()\n",
    "    \n",
    "    features_dictionary['Item pattern'] = df_feature_item\n",
    "    \n",
    "    #########################\n",
    "    #### level  Item ######\n",
    "    #########################\n",
    "    \n",
    "    data_to_use = data.copy()\n",
    "    data_to_use['SpaceOrder'] = data_to_use['Order'] - data_to_use['OrderGot']\n",
    "    data_to_use['cero'] = np.where((data_to_use.SpaceOrder >= 0) & (data_to_use.Sale == 0), 1,0)\n",
    "    \n",
    "    data_to_use['Sale'] = np.where(data_to_use['Sale'] == 0, np.nan, data_to_use['Sale'])\n",
    "    \n",
    "    df_feature = data_to_use\\\n",
    "        .groupby(['item_id','Date'])\\\n",
    "        .agg(maxValueItemLev1 = ('Sale','mean'),\n",
    "            countItemPossitives = ('possnumb','sum'),\n",
    "            countItemZero = ('possnumb','sum'))\\\n",
    "        .reset_index()\n",
    "    \n",
    "    df_feature['Date'] = df_feature.Date + pd.DateOffset(months=1)\n",
    "    \n",
    "    ## lags using max\n",
    "    df_feature['L1maxLev1Item'] = df_feature.sort_values('Date').groupby(['item_id'])['maxValueItemLev1'].shift(0)\n",
    "    df_feature['L2maxLev1Item'] = df_feature.sort_values('Date').groupby(['item_id'])['maxValueItemLev1'].shift(1)\n",
    "    df_feature['L3maxLev1Item'] = df_feature.sort_values('Date').groupby(['item_id'])['maxValueItemLev1'].shift(2)\n",
    "    df_feature['L4maxLev1Item'] = df_feature.sort_values('Date').groupby(['item_id'])['maxValueItemLev1'].shift(3)\n",
    "    df_feature['L5maxLev1Item'] = df_feature.sort_values('Date').groupby(['item_id'])['maxValueItemLev1'].shift(4)\n",
    "\n",
    "    df_feature['CategoryL1Item'] = np.where(df_feature['L1maxLev1Item'] < 2,'A',\n",
    "            np.where(df_feature['L1maxLev1Item'] < 5,'B',\n",
    "            np.where(df_feature['L1maxLev1Item'] < 10,'C','D')))\n",
    "    df_feature_item = df_feature.drop(columns = ['maxValueItemLev1'])\n",
    "\n",
    "    features_dictionary['Focus_item_features'] = df_feature_item\n",
    "    \n",
    "    #########################\n",
    "    #### level  Item shop ######\n",
    "    #########################\n",
    "    \n",
    "    data_to_use = data.copy()\n",
    "    data_to_use['SpaceOrder'] = data_to_use['Order'] - data_to_use['OrderGot']\n",
    "    data_to_use['cero'] = np.where((data_to_use.SpaceOrder >= 0) & (data_to_use.Sale == 0), 1,0)\n",
    "    data_to_use['Sale'] = np.where(data_to_use['Sale'] == 0, np.nan, data_to_use['Sale'])\n",
    "    \n",
    "    df_feature = data_to_use\\\n",
    "        .groupby(['item_id','shop_id','Date'])\\\n",
    "        .agg(\n",
    "            maxValueItemShopLev1 = ('Sale','mean'),\n",
    "            countItemShopPossitives = ('possnumb','sum'),\n",
    "            countItemShopZero = ('possnumb','sum')\n",
    "            )\\\n",
    "        .reset_index()\n",
    "    \n",
    "    df_feature['Date'] = df_feature.Date + pd.DateOffset(months=1)\n",
    "    \n",
    "    ## lags using max\n",
    "    df_feature['L1maxLev1ItemShop'] = df_feature.sort_values('Date').groupby(['item_id'])['maxValueItemShopLev1'].shift(0)\n",
    "    df_feature['L2maxLev1ItemShop'] = df_feature.sort_values('Date').groupby(['item_id'])['maxValueItemShopLev1'].shift(1)\n",
    "    df_feature['L3maxLev1ItemShop'] = df_feature.sort_values('Date').groupby(['item_id'])['maxValueItemShopLev1'].shift(2)\n",
    "    df_feature['L4maxLev1ItemShop'] = df_feature.sort_values('Date').groupby(['item_id'])['maxValueItemShopLev1'].shift(3)\n",
    "    df_feature['L5maxLev1ItemShop'] = df_feature.sort_values('Date').groupby(['item_id'])['maxValueItemShopLev1'].shift(4)\n",
    "\n",
    "    df_feature_item = df_feature.drop(columns = ['maxValueItemShopLev1'])\n",
    "\n",
    "    features_dictionary['Focus_item_shop_features'] = df_feature_item\n",
    "    #########################\n",
    "    #### level  shop ######\n",
    "    #########################\n",
    "    \n",
    "    data_to_use = data.copy()\n",
    "    data_to_use['Sale'] = np.where(data_to_use['Sale'] == 0, np.nan, data_to_use['Sale'])\n",
    "    \n",
    "    df_feature = data_to_use\\\n",
    "        .groupby(['shop_id','Date'])\\\n",
    "        .agg(\n",
    "            maxValueShopLev1 = ('Sale','mean'),\n",
    "            )\\\n",
    "        .reset_index()\n",
    "    \n",
    "    df_feature['Date'] = df_feature.Date + pd.DateOffset(months=1)\n",
    "    \n",
    "    ## lags using max\n",
    "    df_feature['L1maxLev1Shop'] = df_feature.sort_values('Date').groupby(['shop_id'])['maxValueShopLev1'].shift(0)\n",
    "\n",
    "    df_feature_shop = df_feature.drop(columns = ['maxValueShopLev1'])\n",
    "\n",
    "    features_dictionary['Focus_shop_features'] = df_feature_shop\n",
    "    \n",
    "    ###########################\n",
    "    #### Variational features ######\n",
    "    #########################\n",
    "    \n",
    "    df_feature = data[data.Order >= data.Order.max() - 5]\\\n",
    "            [['shop_id','item_id','shopitem','Date','Order','Sale']].copy()\n",
    "    df_feature['OrderGo'] = df_feature['Order'] - df_feature['Order'].min()\n",
    "    df_feature = df_feature[df_feature.Sale > 2 ]  #optional\n",
    "    df_feature['Date'] = df_feature.Date + pd.DateOffset(months=1)\n",
    "    df_feature['SaleL1M'] = df_feature.sort_values('Date').groupby(['shopitem'])['Sale'].shift(1)\n",
    "    df_feature = df_feature.assign(L0M_L1M = df_feature.Sale - df_feature.SaleL1M)\n",
    "    \n",
    "    df_lag_var_item = df_feature.groupby(['item_id','Date']).agg(meanLaggedVars = ('L0M_L1M','mean')).reset_index()\n",
    "    df_lag_mean_var_item = df_feature[df_feature.OrderGo >= 3].fillna(0)\\\n",
    "        .groupby(['item_id']).agg(meanLastLagsVars = ('L0M_L1M','mean')).reset_index()\n",
    "    \n",
    "    features_dictionary['item previous var'] = df_lag_var_item\n",
    "    features_dictionary['item mean last vars'] = df_lag_mean_var_item\n",
    "    \n",
    "    #########################\n",
    "    #### last month and order sold ######\n",
    "    #########################\n",
    "\n",
    "    df_feature = data[['shop_id','item_id','Order','Date','Sale']].copy()\n",
    "    df_feature['Month'] = df_feature.Date.dt.month\n",
    "    df_feature['SaleFlag'] = np.where(df_feature['Sale'] > 0,1,0)\n",
    "    df_feature['Sale'] = np.where(df_feature['Sale'] == 0, np.nan, df_feature['Sale'])\n",
    "    df_feature['LastOrder'] = df_feature.groupby(['shop_id','item_id','SaleFlag']).Order.transform('max')\n",
    "    df_feature['LastOrder'] = np.where(df_feature['SaleFlag'] == 1 , df_feature['LastOrder'], 0)\n",
    "    df_feature['LastOrder'] = df_feature.groupby(['shop_id','item_id']).LastOrder.transform('max')\n",
    "\n",
    "    df_feature['LastMonth'] = np.where(df_feature['LastOrder'] == df_feature['Order'], df_feature['Month'],0)\n",
    "    df_feature['LastMonth'] = df_feature.groupby(['shop_id','item_id']).LastMonth.transform('max')\n",
    "    \n",
    "    def get_lasts(data, variable, variable_y, get_order):\n",
    "    \n",
    "        df_last = data.groupby([variable,variable_y]).agg(count = ('Month','count')).reset_index().copy()\n",
    "        df_last['orderCluster'] = df_last.groupby([variable])['count'].rank(\"first\", ascending=False)\n",
    "\n",
    "        vector = df_last.groupby(variable).agg(countClusters = (variable_y,'nunique')).reset_index().copy()\n",
    "\n",
    "        for i in range(1,get_order+1):\n",
    "            cluster_i = df_last[df_last.orderCluster == i][[variable,variable_y]].rename(columns = {variable_y:f'{variable}{variable_y}{i}'}).copy()\n",
    "            vector = vector.merge(cluster_i, on = variable, how = 'left').copy()\n",
    "            if i > 1:\n",
    "                j = i - 1\n",
    "                vector[f'{variable}{variable_y}{i}'] = np.where(vector[f'{variable}{variable_y}{i}'].isnull(),vector[f'{variable}{variable_y}{j}'],\n",
    "                                                           vector[f'{variable}{variable_y}{i}'] )\n",
    "            \n",
    "        return vector.drop(columns = 'countClusters')\n",
    "    \n",
    "    lasthmonth_item = get_lasts(data = df_feature, variable = 'item_id', variable_y = 'LastMonth', get_order = 5)\n",
    "    lasthOrder_item = get_lasts(data = df_feature, variable = 'item_id', variable_y = 'LastOrder', get_order = 5)\n",
    "    \n",
    "    features_dictionary['lasthmonth_item'] = lasthmonth_item\n",
    "    features_dictionary['lasthOrder_item'] = lasthOrder_item\n",
    "    \n",
    "    ####################\n",
    "    ### item price #####\n",
    "    ####################\n",
    "    \n",
    "    df_feature = data[['shop_id','item_id','Date','Order','Sale','item_price']].copy()\n",
    "    df_feature['Date'] = df_feature.Date + pd.DateOffset(months=1)\n",
    "    df_feature['Sale'] = np.where(df_feature['Sale'] == 0, np.nan, df_feature['Sale'])\n",
    "    df_feature['avgPrice'] = df_feature.groupby(['item_id','Order']).item_price.transform('mean')\n",
    "    df_feature['L1Price'] = df_feature.sort_values('Date').groupby(['item_id','shop_id'])['item_price'].shift(1)\n",
    "    \n",
    "    df_feature = df_feature.groupby(['item_id','Date']).agg(meanL1Price = ('L1Price','mean')).reset_index()\n",
    "    \n",
    "    features_dictionary['meanL1Price_item'] = df_feature\n",
    "    \n",
    "    return features_dictionary"
   ]
  },
  {
   "cell_type": "raw",
   "metadata": {
    "jupyter": {
     "source_hidden": true
    }
   },
   "source": [
    "def get_clusters(data, n_clusters_features, date_to_take):\n",
    "    \n",
    "    data = data[ data.Date < date_to_take].copy()\n",
    "    data['itemShopMax'] = data.groupby(['shopitem']).Sale.transform('max')\n",
    "    data['possnumb'] = np.where(data.Sale > 0 , 1,0)\n",
    "    data['possCounts'] = data.groupby(['item_id','shop_id']).possnumb.transform('sum')\n",
    "    data['maxOrder'] = data.groupby(['item_id','possnumb']).cumcount() + 1\n",
    "    data['maxOrder'] = np.where(data.possnumb == 0 , 0, data['maxOrder'] )\n",
    "    data['OrderGot'] = np.where(data.maxOrder == 1, data.Order,0)\n",
    "    data['OrderGot'] = data.groupby(['item_id']).OrderGot.transform('sum')\n",
    "    data['SpaceOrder'] = data['Order'] - data['OrderGot']\n",
    "    data = data[data['SpaceOrder'] >= 0 ].copy()\n",
    "    \n",
    "    data_horizontal = data.pivot_table(index= ['item_id','shop_id','map_comp1categ','map_comp2categ','map_comp1shop','map_comp2shop'\n",
    "                                           ,'OrderGot','possCounts'],columns = 'SpaceOrder' ,values = 'Sale', aggfunc = 'sum')\\\n",
    "    .fillna(0)\\\n",
    "    .reset_index()\\\n",
    "    .sort_values(['possCounts'])\n",
    "    data_horizontal['index'] = range(1,len(data_horizontal) + 1)\n",
    "    data_horizontal = data_horizontal.set_index('index')\n",
    "    \n",
    "    train_x = data_horizontal.iloc[:,10:-1]\n",
    "\n",
    "    kmeans = KMeans( n_clusters = 7).fit(train_x)\n",
    "    \n",
    "    data_horizontal['Cluster'] = kmeans.labels_ +1\n",
    "    data_cluster = data_horizontal[['item_id','shop_id','map_comp1categ','map_comp2categ','map_comp1shop','map_comp2shop','Cluster']].copy()\n",
    "    \n",
    "    def get_cluster_variable(data, get_order, variable):\n",
    "\n",
    "        cluster_item = data.groupby([variable,'Cluster']).agg(count = ('map_comp2shop','count')).reset_index().copy()\n",
    "        cluster_item['orderCluster'] = cluster_item.groupby([variable])['count'].rank(\"first\", ascending=False)\n",
    "\n",
    "        vector = cluster_item.groupby(variable).agg(countClusters = ('Cluster','nunique')).reset_index()\n",
    "\n",
    "        for i in range(1,get_order+1):\n",
    "            cluster_i = cluster_item[cluster_item.orderCluster == i][[variable,'Cluster']].rename(columns = {'Cluster':f'{variable}ClusterOrder{i}'}).copy()\n",
    "            vector = vector.merge(cluster_i, on = variable, how = 'left')\n",
    "            if i > 1:\n",
    "                j = i - 1\n",
    "                vector[f'{variable}ClusterOrder{i}'] = np.where(vector[f'{variable}ClusterOrder{i}'].isnull(),vector[f'{variable}ClusterOrder{j}'],\n",
    "                                                           vector[f'{variable}ClusterOrder{i}'] )\n",
    "        return vector\n",
    "            \n",
    "    map_item = get_cluster_variable(data = data_cluster, get_order = n_clusters_features, variable = 'item_id')\n",
    "    \n",
    "    maps = dict()\n",
    "    maps['Cluster_items'] = map_item\n",
    "    \n",
    "    return maps"
   ]
  },
  {
   "cell_type": "code",
   "execution_count": 25,
   "metadata": {},
   "outputs": [],
   "source": [
    "def feature_silver(data, date_to_take, Train = True):\n",
    "    data = data.copy()\n",
    "    \n",
    "    if Train:\n",
    "        data = data[ data.Date < date_to_take] \n",
    "    else:\n",
    "        data = data[data.Date >= (date_to_take - relativedelta(months=1))]\n",
    "    \n",
    "    ## feature of diff using one lag\n",
    "    data['SaleL1M'] = data.sort_values('Date').groupby(['shopitem'])['Sale'].shift(1)\n",
    "    data['SaleL2M'] = data.sort_values('Date').groupby(['shopitem'])['Sale'].shift(2)\n",
    "    \n",
    "    data_lagdiff = data.assign(L0M_L1M = data.Sale - data.SaleL1M)  ### This is new target ???? but yeaaaaaHHH\n",
    "    data_lagdiff = data_lagdiff.assign(L1M_L2M = data_lagdiff.SaleL1M - data_lagdiff.SaleL2M) \n",
    "    \n",
    "    data_lagdiff = data_lagdiff.drop(columns = ['SaleL2M'])\n",
    "    ## quasi item ids\n",
    "    data_lagdiff['ItemIdPart1'] = data_lagdiff.item_id.astype('str').str.strip().str[-1]\n",
    "    data_lagdiff['ItemIdPart2'] = data_lagdiff.item_id.astype('str').str.strip().str[-4]\n",
    "    \n",
    "    ## further quasi id\n",
    "    data_lagdiff['CategIdItem3A'] =  data_lagdiff['item_id'].astype('int') % 5\n",
    "    data_lagdiff['CategIdItem3B'] =  data_lagdiff['item_id'].astype('int') % 10\n",
    "    \n",
    "    ## month\n",
    "    data_lagdiff = data_lagdiff.assign(month = data_lagdiff.Date.dt.month)\n",
    "    \n",
    "    max_date = data_lagdiff.Date.max() + relativedelta(months=1)\n",
    "    max_date_month = max_date.month\n",
    "    data_lagdiff['monthToPredict'] = np.where(data_lagdiff['month'] == max_date_month,1,0)\n",
    "        \n",
    "    ## year\n",
    "    data_lagdiff['Year'] = data_lagdiff.Date.dt.year\n",
    "    ## quarter\n",
    "    data_lagdiff['Quarter'] = np.where(data_lagdiff.month.isin([1,2,3]),1,\n",
    "                            np.where(data_lagdiff.month.isin([4,5,6]),2,\n",
    "                            np.where(data_lagdiff.month.isin([7,8,9]),3,\n",
    "                            np.where(data_lagdiff.month.isin([10,11,12]),4,0))))\n",
    "    \n",
    "    return data_lagdiff"
   ]
  },
  {
   "cell_type": "code",
   "execution_count": 26,
   "metadata": {},
   "outputs": [],
   "source": [
    "def integration_new_features_map(data, dict_feature, filter_ceros = True):\n",
    "    data_wow = data.copy()\n",
    "        \n",
    "    ## first merge\n",
    "    data_wow = data_wow.merge(dict_feature['Starts'], on = ['item_id'], how = 'left')\n",
    "    data_wow = data_wow.merge(dict_feature['Focus_item_features'], on = ['item_id','Date'], how = 'left')\n",
    "    data_wow = data_wow.merge(dict_feature['Focus_item_shop_features'], on = ['item_id','shop_id','Date'], how = 'left')\n",
    "    data_wow = data_wow.merge(dict_feature['item_name_explo'], on = ['item_id'], how = 'left')\n",
    "    data_wow = data_wow.merge(dict_feature['Focus_shop_features'], on = ['shop_id','Date'], how = 'left')\n",
    "    \n",
    "    data_wow = data_wow.merge(dict_feature['item previous var'], on = ['item_id','Date'], how = 'left')\n",
    "    #data_wow = data_wow.merge(features_dictionary['item mean last vars'], on = ['item_id'], how = 'left')\n",
    "\n",
    "    data_wow = data_wow.merge(dict_feature['lasthmonth_item'], on = ['item_id'], how = 'left')\n",
    "    data_wow = data_wow.merge(dict_feature['lasthOrder_item'], on = ['item_id'], how = 'left')\n",
    "    data_wow = data_wow.merge(dict_feature['meanL1Price_item'], on = ['item_id','Date'], how = 'left')\n",
    "    \n",
    "    #data_wow = data_wow.merge(dict_feature['Cluster_items'], on = ['item_id'], how = 'left')\n",
    "\n",
    "    ### further features\n",
    "    \n",
    "    data_wow['SpaceOrder'] = data_wow['Order'] - data_wow['OrderGot']\n",
    "    data_wow['SpaceOrder'] = data_wow['SpaceOrder'].fillna(0)\n",
    "    data_wow['SpaceOrder'] = np.where(data_wow['SpaceOrder'].isnull(), 0, data_wow['SpaceOrder'] )\n",
    "    data_wow['SpaceOrderActivator'] = np.where(data_wow['SpaceOrder'] >= 3,'A' , 'B' ) ### this is q dummy\n",
    "    \n",
    "    if filter_ceros:\n",
    "        data_wow = data_wow[data_wow.SpaceOrder >= 0]\n",
    "    return data_wow"
   ]
  },
  {
   "cell_type": "code",
   "execution_count": 27,
   "metadata": {},
   "outputs": [
    {
     "name": "stdout",
     "output_type": "stream",
     "text": [
      "Wall time: 2min 14s\n"
     ]
    }
   ],
   "source": [
    "%%time\n",
    "features_dictionary = get_full_lags(whole = train_full, date_to_take = date_val) ## for train but result easy in val\n",
    "item_explo_names = exploiting_words(train_full)\n",
    "#feature_cluster = get_clusters(data = train_full, n_clusters_features = 5, date_to_take = date_val )\n",
    "full_features_dictionary = {**features_dictionary,\n",
    "                            **item_explo_names\n",
    "                            #**feature_cluster\n",
    "                           }"
   ]
  },
  {
   "cell_type": "code",
   "execution_count": 28,
   "metadata": {},
   "outputs": [
    {
     "name": "stdout",
     "output_type": "stream",
     "text": [
      "Wall time: 30.8 s\n"
     ]
    }
   ],
   "source": [
    "%%time\n",
    "data_train_selected = balance_items_test(train_full, date_to_take = date_val, percentage_test = 0.30, smalls_percent = 0.5, gen_sample = 0.25) ## for train\n",
    "train_feature_tocomplete = feature_silver(data_train_selected, date_to_take = date_val, Train = True) ## for both"
   ]
  },
  {
   "cell_type": "code",
   "execution_count": 29,
   "metadata": {},
   "outputs": [],
   "source": [
    "train_feature = integration_new_features_map(data = train_feature_tocomplete, dict_feature = full_features_dictionary)  ## for both not prob"
   ]
  },
  {
   "cell_type": "code",
   "execution_count": 30,
   "metadata": {},
   "outputs": [],
   "source": [
    "def features_rows_train_silver(data, features, target ,validation = None, dates_back = 3, limit = 5,additional_val_cols = [], sample = 0.05):\n",
    "    data = data.copy()\n",
    "    if validation:\n",
    "        data_result = data[ data.Date == validation][additional_val_cols +features + [target]]\n",
    "        features_new = list(data_result.columns)\n",
    "        features_new.remove(target)\n",
    "        data_result = data_result[ features_new + [target]].fillna(0)\n",
    "        \n",
    "    else:\n",
    "        ### splits\n",
    "        ### conventional for regular time series\n",
    "        dates_back = 3\n",
    "        ### Date cqpture ####################\n",
    "        date_max = date_val - relativedelta(months=1)\n",
    "        months_to_get = [4,5,6,10,11]\n",
    "        minyear = 2014\n",
    "        min_date = date_max - relativedelta(months=dates_back)\n",
    "\n",
    "        year_i = date_max.year\n",
    "\n",
    "        dates_result = list()\n",
    "\n",
    "        while year_i >= minyear:\n",
    "            for monthi in months_to_get:\n",
    "                dates_result.append(datetime.datetime(year_i, monthi, 1))\n",
    "                dates_result = [x for x in dates_result if x <= date_max]\n",
    "            year_i = year_i - 1\n",
    "\n",
    "        dates_result = dates_result + [date_max - relativedelta(months=i) for i in range(0,dates_back +1)]\n",
    "        dates_result = list(set(dates_result))\n",
    "        dates_result.sort()\n",
    "        dates_result = dates_result[::-1]\n",
    "\n",
    "        list_dfs = list()\n",
    "        for datex,i in zip(dates_result[0:limit], range(len(dates_result[0:limit]))):\n",
    "            datex_plus1 = datex + relativedelta(months=1)\n",
    "            features_dictionary = get_full_lags(whole = data, date_to_take = datex_plus1) ## for train but result easy in val\n",
    "            item_explo_names = exploiting_words(train_full)\n",
    "            full_features_dictionary = {**features_dictionary,\n",
    "                                        **item_explo_names\n",
    "                                       }\n",
    "            \n",
    "            data_train_selected = balance_items_test(data, date_to_take = datex_plus1, percentage_test = 0.30, smalls_percent = 0.5, gen_sample = sample) ## for train\n",
    "            train_feature_tocomplete = feature_silver(data_train_selected, date_to_take = datex_plus1, Train = True) ## for both\n",
    "            train_feature = integration_new_features_map(data = train_feature_tocomplete, dict_feature = full_features_dictionary)  ## for both not prob\n",
    "            df = train_feature[train_feature.Date == datex]\n",
    "            \n",
    "            list_dfs.append(df)\n",
    "            del df, train_feature, train_feature_tocomplete, data_train_selected, full_features_dictionary\n",
    "            del features_dictionary\n",
    "            #del feature_cluster\n",
    "        data_result = pd.concat(list_dfs).fillna(0).reset_index(drop = True)\n",
    "\n",
    "    return data_result"
   ]
  },
  {
   "cell_type": "code",
   "execution_count": 31,
   "metadata": {},
   "outputs": [
    {
     "data": {
      "text/plain": [
       "Index(['InTest', 'shop_id', 'item_id', 'item_name', 'shopitem',\n",
       "       'item_category_id', 'shop_name', 'item_category_name', 'map_comp1categ',\n",
       "       'map_comp2categ', 'map_comp1shop', 'map_comp2shop', 'Date', 'Sale',\n",
       "       'item_price', 'Order', 'MiguelId', 'SaleL1M', 'L0M_L1M', 'L1M_L2M',\n",
       "       'ItemIdPart1', 'ItemIdPart2', 'CategIdItem3A', 'CategIdItem3B', 'month',\n",
       "       'monthToPredict', 'Year', 'Quarter', 'OrderGot', 'countItemPossitives',\n",
       "       'countItemZero', 'L1maxLev1Item', 'L2maxLev1Item', 'L3maxLev1Item',\n",
       "       'L4maxLev1Item', 'L5maxLev1Item', 'CategoryL1Item',\n",
       "       'countItemShopPossitives', 'countItemShopZero', 'L1maxLev1ItemShop',\n",
       "       'L2maxLev1ItemShop', 'L3maxLev1ItemShop', 'L4maxLev1ItemShop',\n",
       "       'L5maxLev1ItemShop', 'lenstr', 'NWords', 'Word0', 'Word_1',\n",
       "       'L1maxLev1Shop', 'meanLaggedVars', 'item_idLastMonth1',\n",
       "       'item_idLastMonth2', 'item_idLastMonth3', 'item_idLastMonth4',\n",
       "       'item_idLastMonth5', 'item_idLastOrder1', 'item_idLastOrder2',\n",
       "       'item_idLastOrder3', 'item_idLastOrder4', 'item_idLastOrder5',\n",
       "       'meanL1Price', 'SpaceOrder', 'SpaceOrderActivator'],\n",
       "      dtype='object')"
      ]
     },
     "execution_count": 31,
     "metadata": {},
     "output_type": "execute_result"
    }
   ],
   "source": [
    "train_feature.columns "
   ]
  },
  {
   "cell_type": "code",
   "execution_count": 32,
   "metadata": {},
   "outputs": [
    {
     "data": {
      "text/plain": [
       "39"
      ]
     },
     "execution_count": 32,
     "metadata": {},
     "output_type": "execute_result"
    }
   ],
   "source": [
    "to_drop_columns = ['Date']\n",
    "ids_columns = ['item_category_id',\n",
    "       'ItemIdPart1','ItemIdPart2', 'CategIdItem3A', 'CategIdItem3B'] #'item_id'\n",
    "numericals = [ 'Quarter', 'OrderGot', 'countItemPossitives',\n",
    "       'countItemZero', 'L1maxLev1Item', 'L2maxLev1Item', 'L3maxLev1Item',\n",
    "       'L4maxLev1Item', 'L5maxLev1Item',\n",
    "       'countItemShopPossitives', 'countItemShopZero', 'L1maxLev1ItemShop',\n",
    "       'L2maxLev1ItemShop', 'L3maxLev1ItemShop', 'L4maxLev1ItemShop',\n",
    "       'L5maxLev1ItemShop', 'lenstr', 'NWords', 'Word0', 'Word_1',\n",
    "       'L1maxLev1Shop', 'meanLaggedVars', 'item_idLastMonth1',\n",
    "       'item_idLastMonth2', 'item_idLastMonth3', 'item_idLastMonth4',\n",
    "       'item_idLastMonth5', 'item_idLastOrder1', 'item_idLastOrder2',\n",
    "       'item_idLastOrder3', 'item_idLastOrder4', 'item_idLastOrder5',\n",
    "       'meanL1Price', 'SpaceOrder'] + ids_columns\n",
    "\n",
    "categoricals = ['SpaceOrderActivator', 'CategoryL1Item']\n",
    "my_features = to_drop_columns + numericals + categoricals\n",
    "my_target = 'Sale'\n",
    "len(my_features) - 3"
   ]
  },
  {
   "cell_type": "code",
   "execution_count": 33,
   "metadata": {},
   "outputs": [
    {
     "data": {
      "text/plain": [
       "20.0"
      ]
     },
     "execution_count": 33,
     "metadata": {},
     "output_type": "execute_result"
    }
   ],
   "source": [
    "train_full.Sale.max()"
   ]
  },
  {
   "cell_type": "code",
   "execution_count": 34,
   "metadata": {},
   "outputs": [
    {
     "name": "stdout",
     "output_type": "stream",
     "text": [
      "Wall time: 3min 10s\n"
     ]
    }
   ],
   "source": [
    "%%time\n",
    "train_selection = features_rows_train_silver(data = train_full, features = my_features, target = my_target,limit = 1, sample = 0.65)"
   ]
  },
  {
   "cell_type": "code",
   "execution_count": 35,
   "metadata": {},
   "outputs": [
    {
     "data": {
      "text/plain": [
       "(20.0, 20.0)"
      ]
     },
     "execution_count": 35,
     "metadata": {},
     "output_type": "execute_result"
    }
   ],
   "source": [
    "train_selection.Sale.max(), train_selection.SaleL1M.max()"
   ]
  },
  {
   "cell_type": "code",
   "execution_count": 36,
   "metadata": {},
   "outputs": [
    {
     "data": {
      "text/plain": [
       "<matplotlib.axes._subplots.AxesSubplot at 0x2e80021aac8>"
      ]
     },
     "execution_count": 36,
     "metadata": {},
     "output_type": "execute_result"
    },
    {
     "data": {
      "image/png": "[encoded data removed]",
      "text/plain": [
       "<Figure size 432x288 with 1 Axes>"
      ]
     },
     "metadata": {},
     "output_type": "display_data"
    }
   ],
   "source": [
    "train_selection.Sale.hist(bins = 25)"
   ]
  },
  {
   "cell_type": "code",
   "execution_count": 37,
   "metadata": {},
   "outputs": [],
   "source": [
    "def augmentation_reduction(data):\n",
    "    data_wow = data.copy()\n",
    "    zeros = np.array(data_wow[data_wow.Sale == 0].index)\n",
    "    nx = int(round(zeros.shape[0]*0.7, 0))\n",
    "    indexes = np.random.choice(zeros.shape[0], nx, replace=False)\n",
    "    zeros_selected = zeros[indexes]\n",
    "    data_wow = data_wow[ ~data_wow.index.isin(zeros_selected)]\n",
    "    \n",
    "    ones = np.array(data_wow[data_wow.Sale == 1].index)\n",
    "    nx = int(round(ones.shape[0]*0.1, 0))\n",
    "    indexes = np.random.choice(ones.shape[0], nx, replace=False)\n",
    "    ones_selected = ones[indexes]\n",
    "    data_wow = data_wow[ ~data_wow.index.isin(ones_selected)]\n",
    "    \n",
    "    twoes = np.array(data_wow[data_wow.Sale == 2].index)\n",
    "    nx = int(round(twoes.shape[0]*0.1, 0))\n",
    "    indexes = np.random.choice(twoes.shape[0], nx, replace=False)\n",
    "    twoes_selected = twoes[indexes]\n",
    "    data_wow = data_wow[ ~data_wow.index.isin(twoes_selected)]\n",
    "    \n",
    "    twenties = np.array(data_wow[data_wow.Sale == 20].index)\n",
    "    nx = int(round(twenties.shape[0]*0.8, 0))\n",
    "    indexes = np.random.choice(twenties.shape[0], nx, replace=False)\n",
    "    twenties_selected = twenties[indexes]\n",
    "    data_wow = data_wow[ ~data_wow.index.isin(twenties_selected)]\n",
    "    \n",
    "    #data_augmented_tens = data_wow[data_wow.Sale > 10].copy()\n",
    "    data_augmented = pd.concat([data_wow, \n",
    "                               ],axis= 0).reset_index()\n",
    "    \n",
    "    return data_augmented"
   ]
  },
  {
   "cell_type": "code",
   "execution_count": 38,
   "metadata": {},
   "outputs": [],
   "source": [
    "train_augmented = augmentation_reduction(train_selection)"
   ]
  },
  {
   "cell_type": "code",
   "execution_count": 39,
   "metadata": {},
   "outputs": [
    {
     "data": {
      "text/plain": [
       "<matplotlib.axes._subplots.AxesSubplot at 0x2e800ed9888>"
      ]
     },
     "execution_count": 39,
     "metadata": {},
     "output_type": "execute_result"
    },
    {
     "data": {
      "image/png": "[encoded data removed]",
      "text/plain": [
       "<Figure size 432x288 with 1 Axes>"
      ]
     },
     "metadata": {},
     "output_type": "display_data"
    }
   ],
   "source": [
    "train_augmented.Sale.hist(bins = 25)"
   ]
  },
  {
   "cell_type": "markdown",
   "metadata": {},
   "source": [
    "### continue ..."
   ]
  },
  {
   "cell_type": "code",
   "execution_count": 40,
   "metadata": {},
   "outputs": [],
   "source": [
    "def scaler(dataset, features, target, scaler=None, drop_columns = []):\n",
    "    if scaler:\n",
    "        features = [x for x in features if x not in drop_columns]\n",
    "        df = dataset[features + [target]]\n",
    "        df_scaled = scaler.transform(df)\n",
    "        dataset_scaled = pd.DataFrame(df_scaled, columns = df.columns, index = df.index)\n",
    "        return dataset_scaled\n",
    "    \n",
    "    else:\n",
    "        features = [x for x in features if x not in drop_columns]\n",
    "        df  = dataset[features + [target]]\n",
    "        scaler = MinMaxScaler()\n",
    "        scaler.fit(df)\n",
    "\n",
    "        dataset_scaled = scaler.transform(df)\n",
    "        dataset_scaled = pd.DataFrame(dataset_scaled, columns = df.columns, index = df.index)\n",
    "        return dataset_scaled, scaler"
   ]
  },
  {
   "cell_type": "code",
   "execution_count": 41,
   "metadata": {},
   "outputs": [],
   "source": [
    "my_columns_to_drops = ['SpaceOrderActivator_B', 'CategoryL1Item_B', 'Quarter',\n",
    "       'CategoryL1Item_C', 'CategoryL1Item_D', 'SpaceOrderActivator_A',\n",
    "       'countItemShopPossitives', 'item_idLastMonth5',\n",
    "       'item_idLastMonth4']"
   ]
  },
  {
   "cell_type": "code",
   "execution_count": 42,
   "metadata": {},
   "outputs": [],
   "source": [
    "train_scaled, my_scaler = scaler(train_augmented, numericals, my_target, scaler=None, drop_columns = my_columns_to_drops)\n",
    "#train_scaled = train_augmented[ numericals + [my_target] ]\n",
    "if len(categoricals) != 0:\n",
    "    train_dummies = pd.get_dummies(train_augmented[categoricals])\n",
    "    train_scaled = pd.concat([train_dummies,train_scaled],axis = 1)"
   ]
  },
  {
   "cell_type": "code",
   "execution_count": 43,
   "metadata": {},
   "outputs": [],
   "source": [
    "if len(categoricals) != 0:\n",
    "    final_features = list(train_dummies.columns) +  numericals\n",
    "else:\n",
    "    final_features = numericals\n",
    "final_features = [x for x in final_features if x not in my_columns_to_drops]"
   ]
  },
  {
   "cell_type": "code",
   "execution_count": 44,
   "metadata": {},
   "outputs": [
    {
     "data": {
      "text/plain": [
       "((34547, 42), (86804, 63))"
      ]
     },
     "execution_count": 44,
     "metadata": {},
     "output_type": "execute_result"
    }
   ],
   "source": [
    "train_scaled.shape, train_selection.shape"
   ]
  },
  {
   "cell_type": "code",
   "execution_count": 45,
   "metadata": {},
   "outputs": [
    {
     "data": {
      "text/plain": [
       "20.0"
      ]
     },
     "execution_count": 45,
     "metadata": {},
     "output_type": "execute_result"
    }
   ],
   "source": [
    "train_selection.Sale.max()"
   ]
  },
  {
   "cell_type": "markdown",
   "metadata": {},
   "source": [
    "### ML modeling using ADAboost"
   ]
  },
  {
   "cell_type": "code",
   "execution_count": 46,
   "metadata": {},
   "outputs": [],
   "source": [
    "X_train = train_scaled[final_features]\n",
    "Y_train = train_scaled[my_target]"
   ]
  },
  {
   "cell_type": "code",
   "execution_count": 47,
   "metadata": {},
   "outputs": [
    {
     "name": "stdout",
     "output_type": "stream",
     "text": [
      "Wall time: 1min 23s\n"
     ]
    },
    {
     "data": {
      "text/plain": [
       "AdaBoostRegressor(base_estimator=DecisionTreeRegressor(max_depth=30,\n",
       "                                                       max_features=20,\n",
       "                                                       min_samples_leaf=10,\n",
       "                                                       min_samples_split=10),\n",
       "                  learning_rate=0.005, n_estimators=40)"
      ]
     },
     "execution_count": 47,
     "metadata": {},
     "output_type": "execute_result"
    }
   ],
   "source": [
    "%%time\n",
    "my_base = DecisionTreeRegressor(criterion = 'squared_error', max_depth = 30, min_samples_split = 10, min_samples_leaf = 10 , max_features = 20)\n",
    "my_ABM = AdaBoostRegressor(base_estimator = my_base, n_estimators=40, learning_rate=0.005, loss='linear')\n",
    "my_ABM.fit(X_train, Y_train)"
   ]
  },
  {
   "cell_type": "markdown",
   "metadata": {},
   "source": [
    "<b> hold out validation"
   ]
  },
  {
   "cell_type": "raw",
   "metadata": {
    "jupyter": {
     "source_hidden": true
    }
   },
   "source": [
    "def preparing_to_predict(data, whole, order):\n",
    "    data_wow = data.copy()\n",
    "    data_wow['Date'] = data_wow.SaleDateMY\n",
    "    data_wow['Order'] = order + 1\n",
    "    data_wow['Sale'] = data_wow.item_cnt_day\n",
    "    data_wow['Sale'] = data_wow['Sale'].clip(0,20)\n",
    "    data_wow['shopitem'] = data_wow['shop_id'].astype('str') + '-' + data_wow['item_id'].astype('str')\n",
    "    data_wow = data_wow.assign(MiguelId = data_wow.shop_id.astype('str') +'-'+ data_wow.item_id.astype('str') +'-'+ data_wow['Date'].astype('str'))\n",
    "    data_wow = data_wow[['InTest','shop_id','item_id','shopitem','item_category_id','map_comp1categ', 'map_comp2categ', 'map_comp1shop', 'map_comp2shop',\n",
    "                         'Date','Sale','Order','MiguelId']]\n",
    "    \n",
    "    if len(whole) >  0 :\n",
    "        data_prev = data_wow.Date.max() - relativedelta(months = 1)\n",
    "        part_data = whole[whole.SaleDateMY == data_prev ].copy()\n",
    "        part_data['Date'] = part_data.SaleDateMY\n",
    "        part_data['Order'] = part_data.date_block_num\n",
    "        part_data['Sale'] = part_data.item_cnt_day\n",
    "        data_wow['Sale'] = data_wow['Sale'].clip(0,20)\n",
    "        part_data['shopitem'] = part_data['shop_id'].astype('str') + '-' + part_data['item_id'].astype('str')\n",
    "        part_data = part_data.assign(MiguelId = part_data.shop_id.astype('str') +'-'+ part_data.item_id.astype('str') +'-'+ part_data['Date'].astype('str'))\n",
    "        part_data = part_data[['InTest','shop_id','item_id','shopitem','item_category_id','map_comp1categ', 'map_comp2categ', 'map_comp1shop', 'map_comp2shop',\n",
    "                               'Date','Sale','Order','MiguelId']]\n",
    "    \n",
    "    data_wow = pd.concat([part_data,data_wow])\n",
    "    data_wow['Sale'] = data_wow['Sale'].clip(0,20)\n",
    "    return data_wow"
   ]
  },
  {
   "cell_type": "raw",
   "metadata": {},
   "source": [
    "full_valandtrain_selected = preparing_to_predict(data = val_window, whole = wholedata_silver, order = train_full.Order.max())"
   ]
  },
  {
   "cell_type": "code",
   "execution_count": 48,
   "metadata": {},
   "outputs": [],
   "source": [
    "full_valandtrain_selected = val_window"
   ]
  },
  {
   "cell_type": "code",
   "execution_count": 49,
   "metadata": {},
   "outputs": [
    {
     "data": {
      "text/plain": [
       "(424124, 17)"
      ]
     },
     "execution_count": 49,
     "metadata": {},
     "output_type": "execute_result"
    }
   ],
   "source": [
    "full_valandtrain_selected.shape"
   ]
  },
  {
   "cell_type": "code",
   "execution_count": 50,
   "metadata": {},
   "outputs": [
    {
     "data": {
      "text/plain": [
       "<matplotlib.axes._subplots.AxesSubplot at 0x15699ddea48>"
      ]
     },
     "execution_count": 50,
     "metadata": {},
     "output_type": "execute_result"
    },
    {
     "data": {
      "image/png": "[encoded data removed]",
      "text/plain": [
       "<Figure size 432x288 with 1 Axes>"
      ]
     },
     "metadata": {},
     "output_type": "display_data"
    }
   ],
   "source": [
    "full_valandtrain_selected.Sale.hist(bins = 25)"
   ]
  },
  {
   "cell_type": "code",
   "execution_count": 51,
   "metadata": {},
   "outputs": [],
   "source": [
    "valandtrain_feature = feature_silver(full_valandtrain_selected, date_to_take = date_val, Train = False)\n",
    "valandtrain_feature = integration_new_features_map(data = valandtrain_feature, dict_feature = full_features_dictionary, filter_ceros = True) "
   ]
  },
  {
   "cell_type": "code",
   "execution_count": 52,
   "metadata": {},
   "outputs": [],
   "source": [
    "val_selection = features_rows_train_silver(data = valandtrain_feature, features = my_features, target = my_target, validation = date_val, additional_val_cols = ['shop_id', 'item_id']) "
   ]
  },
  {
   "cell_type": "code",
   "execution_count": 53,
   "metadata": {},
   "outputs": [],
   "source": [
    "val_scaled = scaler(val_selection, numericals, my_target, scaler=my_scaler,drop_columns = my_columns_to_drops )\n",
    "#val_scaled = val_selection[numericals + [my_target]]\n",
    "if len(categoricals) != 0:\n",
    "    val_dummies = pd.get_dummies(val_selection[categoricals])\n",
    "    val_scaled_full = pd.concat([val_dummies,val_scaled],axis = 1)\n",
    "else:\n",
    "    val_scaled_full = val_scaled"
   ]
  },
  {
   "cell_type": "code",
   "execution_count": 54,
   "metadata": {},
   "outputs": [],
   "source": [
    "X_val = val_scaled_full[final_features]"
   ]
  },
  {
   "cell_type": "code",
   "execution_count": 55,
   "metadata": {},
   "outputs": [],
   "source": [
    "Y_pred = my_ABM.predict(X_val)"
   ]
  },
  {
   "cell_type": "code",
   "execution_count": 56,
   "metadata": {},
   "outputs": [],
   "source": [
    "predicted_val = inversed_scale(scaler = my_scaler, data = val_scaled, target_name = my_target, y_pred = Y_pred)\n",
    "#predicted_val['Sale'] = Y_pred"
   ]
  },
  {
   "cell_type": "code",
   "execution_count": 57,
   "metadata": {},
   "outputs": [],
   "source": [
    "my_lm_plot = consolidation_prediction(data = val_selection, prediction = predicted_val.Sale.values)"
   ]
  },
  {
   "cell_type": "code",
   "execution_count": 58,
   "metadata": {},
   "outputs": [
    {
     "data": {
      "text/plain": [
       "((424124, 5), 0.0, 19.71428571428571)"
      ]
     },
     "execution_count": 58,
     "metadata": {},
     "output_type": "execute_result"
    }
   ],
   "source": [
    "my_lm_plot.shape , my_lm_plot.PredSale.min(), my_lm_plot.PredSale.max()"
   ]
  },
  {
   "cell_type": "code",
   "execution_count": 59,
   "metadata": {},
   "outputs": [
    {
     "data": {
      "text/plain": [
       "<matplotlib.axes._subplots.AxesSubplot at 0x15765924948>"
      ]
     },
     "execution_count": 59,
     "metadata": {},
     "output_type": "execute_result"
    },
    {
     "data": {
      "image/png": "[encoded data removed]",
      "text/plain": [
       "<Figure size 432x288 with 1 Axes>"
      ]
     },
     "metadata": {},
     "output_type": "display_data"
    }
   ],
   "source": [
    "my_lm_plot.PredSale.hist(bins = 25)"
   ]
  },
  {
   "cell_type": "code",
   "execution_count": 60,
   "metadata": {},
   "outputs": [
    {
     "data": {
      "text/plain": [
       "1.0109580870097943"
      ]
     },
     "execution_count": 60,
     "metadata": {},
     "output_type": "execute_result"
    }
   ],
   "source": [
    "mean_squared_error(my_lm_plot.Sale, my_lm_plot.PredSale) ** (1/2) ## 1.0109580870097943 using balancing just dropping 0s and 20s"
   ]
  },
  {
   "cell_type": "code",
   "execution_count": 61,
   "metadata": {},
   "outputs": [
    {
     "data": {
      "image/png": "[encoded data removed]",
      "text/plain": [
       "<Figure size 720x576 with 1 Axes>"
      ]
     },
     "metadata": {},
     "output_type": "display_data"
    }
   ],
   "source": [
    "plot_prediction(my_lm_plot)"
   ]
  },
  {
   "cell_type": "code",
   "execution_count": 62,
   "metadata": {},
   "outputs": [
    {
     "data": {
      "text/plain": [
       "[Text(0.5, 1.0, 'feature importance')]"
      ]
     },
     "execution_count": 62,
     "metadata": {},
     "output_type": "execute_result"
    },
    {
     "data": {
      "image/png": "[encoded data removed]",
      "text/plain": [
       "<Figure size 288x720 with 1 Axes>"
      ]
     },
     "metadata": {},
     "output_type": "display_data"
    }
   ],
   "source": [
    "dfplot = pd.DataFrame({'feature':final_features,'importance': list(my_ABM.feature_importances_)}).sort_values('importance',ascending = False)\n",
    "\n",
    "fig = plt.figure(figsize=(4,10))\n",
    "ax = sns.barplot(x=\"importance\", y=\"feature\", data=dfplot)\n",
    "ax.set(title='feature importance')"
   ]
  },
  {
   "cell_type": "code",
   "execution_count": 63,
   "metadata": {},
   "outputs": [
    {
     "data": {
      "text/plain": [
       "array(['L5maxLev1ItemShop', 'L4maxLev1ItemShop', 'CategIdItem3A',\n",
       "       'L3maxLev1ItemShop', 'L2maxLev1ItemShop', 'meanLaggedVars',\n",
       "       'item_idLastOrder5', 'ItemIdPart1', 'CategIdItem3B',\n",
       "       'item_idLastMonth1'], dtype=object)"
      ]
     },
     "execution_count": 63,
     "metadata": {},
     "output_type": "execute_result"
    }
   ],
   "source": [
    "dfplot.sort_values('importance',ascending = True).head(10).feature.values"
   ]
  },
  {
   "cell_type": "markdown",
   "metadata": {},
   "source": [
    "### Production of folds for cross validation"
   ]
  },
  {
   "cell_type": "code",
   "execution_count": 58,
   "metadata": {},
   "outputs": [],
   "source": [
    "def get_splited_data(dates_vector):\n",
    "    train_data = dict()\n",
    "    validation_data = dict()\n",
    "    \n",
    "    for datex in dates_vector:\n",
    "        datex_str = datex.strftime('%Y-%m-%d')\n",
    "        train_selection = pd.read_csv(f'generated_datasets/data_{datex_str}/train_selection.csv')\n",
    "        val_selection = pd.read_csv(f'generated_datasets/data_{datex_str}/val_selection.csv')\n",
    "        \n",
    "        train_data[datex_str] = train_selection\n",
    "        validation_data[datex_str] = val_selection\n",
    "        print(datex_str)\n",
    "    return { 'Train Data' : train_data, \n",
    "            'Validation Data': validation_data}"
   ]
  },
  {
   "cell_type": "code",
   "execution_count": 62,
   "metadata": {},
   "outputs": [],
   "source": [
    "def My_ML_prediction_on_test( data_dict , dates_vector, model, frac = 0.80):\n",
    "\n",
    "    data_result = list()\n",
    "\n",
    "    for datex in dates_vector:\n",
    "        datex_str = datex.strftime('%Y-%m-%d')\n",
    "        #### reading files\n",
    "        train_selection = data_dict['Train Data'][datex_str]\n",
    "        val_selection = data_dict['Validation Data'][datex_str]\n",
    "        train_selection = train_selection.sample(frac = frac)\n",
    "        train_augmented = augmentation_reduction(train_selection)\n",
    "        \n",
    "        train_scaled, my_scaler = scaler(train_augmented, numericals, my_target, scaler=None, drop_columns = my_columns_to_drops)\n",
    "        #train_scaled = train_augmented[ numericals + [my_target] ]\n",
    "        if len(categoricals) != 0:\n",
    "            train_dummies = pd.get_dummies(train_augmented[categoricals])\n",
    "            train_scaled = pd.concat([train_dummies,train_scaled],axis = 1)\n",
    "        \n",
    "        ### ML train\n",
    "        X_train = train_scaled[final_features]\n",
    "        Y_train = train_scaled[my_target]\n",
    "        model.fit(X_train, Y_train)\n",
    "        \n",
    "        ### Test data prepa\n",
    "        val_scaled = scaler(val_selection, numericals, my_target, scaler=my_scaler,drop_columns = my_columns_to_drops )\n",
    "        \n",
    "        if len(categoricals) != 0:\n",
    "            val_dummies = pd.get_dummies(val_selection[categoricals])\n",
    "            val_scaled_full = pd.concat([val_dummies,val_scaled],axis = 1)\n",
    "        else:\n",
    "            val_scaled_full = val_scaled\n",
    "        \n",
    "        X_val = val_scaled_full[final_features]\n",
    "        \n",
    "        ## Prediction\n",
    "        Y_pred = model.predict(X_val)\n",
    "        \n",
    "        ## Saving Result\n",
    "        predicted_val = inversed_scale(scaler = my_scaler, data = val_scaled, target_name = my_target, y_pred = Y_pred)\n",
    "        my_lm_plot = consolidation_prediction(data = val_selection, prediction = predicted_val.Sale.values)\n",
    "        data_result.append(my_lm_plot)\n",
    "        #print(f'the prediction over the {datex} data is done')\n",
    "        \n",
    "    return pd.concat(data_result)"
   ]
  },
  {
   "cell_type": "code",
   "execution_count": 60,
   "metadata": {},
   "outputs": [
    {
     "name": "stdout",
     "output_type": "stream",
     "text": [
      "2014-11-01\n",
      "2015-04-01\n",
      "2015-05-01\n",
      "2015-06-01\n",
      "2015-07-01\n",
      "2015-08-01\n",
      "2015-09-01\n",
      "2015-10-01\n"
     ]
    }
   ],
   "source": [
    "dictionary_data = get_splited_data(dates_vector = test_dates)"
   ]
  },
  {
   "cell_type": "code",
   "execution_count": 63,
   "metadata": {},
   "outputs": [
    {
     "name": "stdout",
     "output_type": "stream",
     "text": [
      "Wall time: 12min 46s\n"
     ]
    }
   ],
   "source": [
    "%%time\n",
    "my_base = DecisionTreeRegressor(criterion = 'squared_error', max_depth = 30, min_samples_split = 10, min_samples_leaf = 10 , max_features = 25)\n",
    "my_ABM = AdaBoostRegressor(base_estimator = my_base, n_estimators=40, learning_rate=0.005, loss='linear')\n",
    "my_test_results = My_ML_prediction_on_test( data_dict = dictionary_data, dates_vector = test_dates, model = my_ABM, frac = 0.50)"
   ]
  },
  {
   "cell_type": "code",
   "execution_count": 64,
   "metadata": {},
   "outputs": [
    {
     "data": {
      "image/png": "[encoded data removed]",
      "text/plain": [
       "<Figure size 720x576 with 1 Axes>"
      ]
     },
     "metadata": {},
     "output_type": "display_data"
    }
   ],
   "source": [
    "plot_prediction(my_test_results)"
   ]
  },
  {
   "cell_type": "code",
   "execution_count": 65,
   "metadata": {},
   "outputs": [],
   "source": [
    "rmse_results = plot_metrics(my_test_results)"
   ]
  },
  {
   "cell_type": "code",
   "execution_count": 66,
   "metadata": {},
   "outputs": [
    {
     "data": {
      "text/plain": [
       "0.7504301914483464"
      ]
     },
     "execution_count": 66,
     "metadata": {},
     "output_type": "execute_result"
    }
   ],
   "source": [
    "rmse_results.RMSE.mean() ## 0.7468165004618947 best one"
   ]
  },
  {
   "cell_type": "code",
   "execution_count": 67,
   "metadata": {},
   "outputs": [
    {
     "data": {
      "image/png": "[encoded data removed]",
      "text/plain": [
       "<Figure size 720x432 with 1 Axes>"
      ]
     },
     "metadata": {},
     "output_type": "display_data"
    }
   ],
   "source": [
    "fig, axs = plt.subplots(nrows=1, ncols=1,figsize=(10,6), sharex=True)\n",
    "ax = sns.lineplot(ax = axs , data = rmse_results, x=\"Date\", y=\"RMSE\", marker = True, )\n",
    "ax = sns.scatterplot(ax = axs , data = rmse_results, x=\"Date\", y=\"RMSE\", s = 35 )"
   ]
  },
  {
   "cell_type": "markdown",
   "metadata": {},
   "source": [
    "<b> checking errors"
   ]
  },
  {
   "cell_type": "code",
   "execution_count": 55,
   "metadata": {},
   "outputs": [],
   "source": [
    "my_test_results_melt = my_test_results.assign(Class = np.where( my_test_results.Sale > 10, 'A',\n",
    "                                                      np.where( my_test_results.Sale > 7, 'B',\n",
    "                                                      np.where( my_test_results.Sale > 5, 'C',\n",
    "                                                      np.where( my_test_results.Sale > 3, 'D','E')))))\\\n",
    "                            .assign(ABSerror = abs(my_test_results.Sale - my_test_results.PredSale))"
   ]
  },
  {
   "cell_type": "code",
   "execution_count": 56,
   "metadata": {},
   "outputs": [
    {
     "data": {
      "text/html": [
       "<div>\n",
       "<style scoped>\n",
       "    .dataframe tbody tr th:only-of-type {\n",
       "        vertical-align: middle;\n",
       "    }\n",
       "\n",
       "    .dataframe tbody tr th {\n",
       "        vertical-align: top;\n",
       "    }\n",
       "\n",
       "    .dataframe thead tr th {\n",
       "        text-align: left;\n",
       "    }\n",
       "\n",
       "    .dataframe thead tr:last-of-type th {\n",
       "        text-align: right;\n",
       "    }\n",
       "</style>\n",
       "<table border=\"1\" class=\"dataframe\">\n",
       "  <thead>\n",
       "    <tr>\n",
       "      <th></th>\n",
       "      <th colspan=\"5\" halign=\"left\">ABSerror</th>\n",
       "    </tr>\n",
       "    <tr>\n",
       "      <th>Class</th>\n",
       "      <th>A</th>\n",
       "      <th>B</th>\n",
       "      <th>C</th>\n",
       "      <th>D</th>\n",
       "      <th>E</th>\n",
       "    </tr>\n",
       "    <tr>\n",
       "      <th>Date</th>\n",
       "      <th></th>\n",
       "      <th></th>\n",
       "      <th></th>\n",
       "      <th></th>\n",
       "      <th></th>\n",
       "    </tr>\n",
       "  </thead>\n",
       "  <tbody>\n",
       "    <tr>\n",
       "      <th>2014-11-01</th>\n",
       "      <td>20.000000</td>\n",
       "      <td>8.000000</td>\n",
       "      <td>6.000000</td>\n",
       "      <td>4.000000</td>\n",
       "      <td>0.315789</td>\n",
       "    </tr>\n",
       "    <tr>\n",
       "      <th>2015-04-01</th>\n",
       "      <td>17.941176</td>\n",
       "      <td>8.480263</td>\n",
       "      <td>5.900000</td>\n",
       "      <td>3.727273</td>\n",
       "      <td>0.200000</td>\n",
       "    </tr>\n",
       "    <tr>\n",
       "      <th>2015-05-01</th>\n",
       "      <td>20.000000</td>\n",
       "      <td>8.000000</td>\n",
       "      <td>5.095455</td>\n",
       "      <td>3.578125</td>\n",
       "      <td>0.153846</td>\n",
       "    </tr>\n",
       "    <tr>\n",
       "      <th>2015-06-01</th>\n",
       "      <td>14.000000</td>\n",
       "      <td>7.000000</td>\n",
       "      <td>5.029412</td>\n",
       "      <td>3.454545</td>\n",
       "      <td>0.100000</td>\n",
       "    </tr>\n",
       "    <tr>\n",
       "      <th>2015-07-01</th>\n",
       "      <td>11.595833</td>\n",
       "      <td>6.528846</td>\n",
       "      <td>4.900000</td>\n",
       "      <td>3.250000</td>\n",
       "      <td>0.090909</td>\n",
       "    </tr>\n",
       "    <tr>\n",
       "      <th>2015-08-01</th>\n",
       "      <td>13.000000</td>\n",
       "      <td>7.060662</td>\n",
       "      <td>5.062500</td>\n",
       "      <td>3.411765</td>\n",
       "      <td>0.090909</td>\n",
       "    </tr>\n",
       "    <tr>\n",
       "      <th>2015-09-01</th>\n",
       "      <td>17.737500</td>\n",
       "      <td>8.000000</td>\n",
       "      <td>5.243056</td>\n",
       "      <td>3.181818</td>\n",
       "      <td>0.105263</td>\n",
       "    </tr>\n",
       "    <tr>\n",
       "      <th>2015-10-01</th>\n",
       "      <td>18.625000</td>\n",
       "      <td>8.732057</td>\n",
       "      <td>6.000000</td>\n",
       "      <td>4.000000</td>\n",
       "      <td>0.111111</td>\n",
       "    </tr>\n",
       "  </tbody>\n",
       "</table>\n",
       "</div>"
      ],
      "text/plain": [
       "             ABSerror                                        \n",
       "Class               A         B         C         D         E\n",
       "Date                                                         \n",
       "2014-11-01  20.000000  8.000000  6.000000  4.000000  0.315789\n",
       "2015-04-01  17.941176  8.480263  5.900000  3.727273  0.200000\n",
       "2015-05-01  20.000000  8.000000  5.095455  3.578125  0.153846\n",
       "2015-06-01  14.000000  7.000000  5.029412  3.454545  0.100000\n",
       "2015-07-01  11.595833  6.528846  4.900000  3.250000  0.090909\n",
       "2015-08-01  13.000000  7.060662  5.062500  3.411765  0.090909\n",
       "2015-09-01  17.737500  8.000000  5.243056  3.181818  0.105263\n",
       "2015-10-01  18.625000  8.732057  6.000000  4.000000  0.111111"
      ]
     },
     "execution_count": 56,
     "metadata": {},
     "output_type": "execute_result"
    }
   ],
   "source": [
    "my_test_results_melt.pivot_table(index = ['Date'], columns = 'Class', values = ['ABSerror'], aggfunc =  lambda x: np.percentile(x, 75) )"
   ]
  },
  {
   "cell_type": "code",
   "execution_count": 57,
   "metadata": {},
   "outputs": [
    {
     "data": {
      "text/html": [
       "<div>\n",
       "<style scoped>\n",
       "    .dataframe tbody tr th:only-of-type {\n",
       "        vertical-align: middle;\n",
       "    }\n",
       "\n",
       "    .dataframe tbody tr th {\n",
       "        vertical-align: top;\n",
       "    }\n",
       "\n",
       "    .dataframe thead tr th {\n",
       "        text-align: left;\n",
       "    }\n",
       "\n",
       "    .dataframe thead tr:last-of-type th {\n",
       "        text-align: right;\n",
       "    }\n",
       "</style>\n",
       "<table border=\"1\" class=\"dataframe\">\n",
       "  <thead>\n",
       "    <tr>\n",
       "      <th></th>\n",
       "      <th colspan=\"5\" halign=\"left\">ABSerror</th>\n",
       "    </tr>\n",
       "    <tr>\n",
       "      <th>Class</th>\n",
       "      <th>A</th>\n",
       "      <th>B</th>\n",
       "      <th>C</th>\n",
       "      <th>D</th>\n",
       "      <th>E</th>\n",
       "    </tr>\n",
       "    <tr>\n",
       "      <th>Date</th>\n",
       "      <th></th>\n",
       "      <th></th>\n",
       "      <th></th>\n",
       "      <th></th>\n",
       "      <th></th>\n",
       "    </tr>\n",
       "  </thead>\n",
       "  <tbody>\n",
       "    <tr>\n",
       "      <th>2014-11-01</th>\n",
       "      <td>20.0</td>\n",
       "      <td>10.0</td>\n",
       "      <td>10.727273</td>\n",
       "      <td>12.727273</td>\n",
       "      <td>17.000000</td>\n",
       "    </tr>\n",
       "    <tr>\n",
       "      <th>2015-04-01</th>\n",
       "      <td>20.0</td>\n",
       "      <td>10.0</td>\n",
       "      <td>11.333333</td>\n",
       "      <td>13.333333</td>\n",
       "      <td>16.388889</td>\n",
       "    </tr>\n",
       "    <tr>\n",
       "      <th>2015-05-01</th>\n",
       "      <td>20.0</td>\n",
       "      <td>10.8</td>\n",
       "      <td>7.000000</td>\n",
       "      <td>8.312500</td>\n",
       "      <td>18.700000</td>\n",
       "    </tr>\n",
       "    <tr>\n",
       "      <th>2015-06-01</th>\n",
       "      <td>20.0</td>\n",
       "      <td>10.0</td>\n",
       "      <td>7.000000</td>\n",
       "      <td>9.400000</td>\n",
       "      <td>18.600000</td>\n",
       "    </tr>\n",
       "    <tr>\n",
       "      <th>2015-07-01</th>\n",
       "      <td>20.0</td>\n",
       "      <td>10.0</td>\n",
       "      <td>9.300000</td>\n",
       "      <td>8.454545</td>\n",
       "      <td>11.545455</td>\n",
       "    </tr>\n",
       "    <tr>\n",
       "      <th>2015-08-01</th>\n",
       "      <td>20.0</td>\n",
       "      <td>10.0</td>\n",
       "      <td>7.000000</td>\n",
       "      <td>6.307692</td>\n",
       "      <td>18.100000</td>\n",
       "    </tr>\n",
       "    <tr>\n",
       "      <th>2015-09-01</th>\n",
       "      <td>20.0</td>\n",
       "      <td>10.0</td>\n",
       "      <td>7.000000</td>\n",
       "      <td>8.384615</td>\n",
       "      <td>13.250000</td>\n",
       "    </tr>\n",
       "    <tr>\n",
       "      <th>2015-10-01</th>\n",
       "      <td>20.0</td>\n",
       "      <td>10.0</td>\n",
       "      <td>9.461538</td>\n",
       "      <td>8.928571</td>\n",
       "      <td>19.133333</td>\n",
       "    </tr>\n",
       "  </tbody>\n",
       "</table>\n",
       "</div>"
      ],
      "text/plain": [
       "           ABSerror                                       \n",
       "Class             A     B          C          D          E\n",
       "Date                                                      \n",
       "2014-11-01     20.0  10.0  10.727273  12.727273  17.000000\n",
       "2015-04-01     20.0  10.0  11.333333  13.333333  16.388889\n",
       "2015-05-01     20.0  10.8   7.000000   8.312500  18.700000\n",
       "2015-06-01     20.0  10.0   7.000000   9.400000  18.600000\n",
       "2015-07-01     20.0  10.0   9.300000   8.454545  11.545455\n",
       "2015-08-01     20.0  10.0   7.000000   6.307692  18.100000\n",
       "2015-09-01     20.0  10.0   7.000000   8.384615  13.250000\n",
       "2015-10-01     20.0  10.0   9.461538   8.928571  19.133333"
      ]
     },
     "execution_count": 57,
     "metadata": {},
     "output_type": "execute_result"
    }
   ],
   "source": [
    "my_test_results_melt.pivot_table(index = ['Date'], columns = 'Class', values = ['ABSerror'], aggfunc =  lambda x: np.percentile(x, 100) )"
   ]
  },
  {
   "cell_type": "markdown",
   "metadata": {},
   "source": [
    "some improvement :/\n",
    "improve algo speed"
   ]
  },
  {
   "cell_type": "markdown",
   "metadata": {},
   "source": [
    "### Basic K flod with Parameter tunning"
   ]
  },
  {
   "cell_type": "code",
   "execution_count": 69,
   "metadata": {},
   "outputs": [],
   "source": [
    "my_adab_models = list()\n",
    "number_of_machines = 10\n",
    "machines_labels = [f'machine-{x}' for x in range(1,number_of_machines +1) ]\n",
    "\n",
    "parameters = { 'Machine':machines_labels,\n",
    "    'max_depth': [40,50, 50, 30, 30, 45, 60, 40, 50, 35],\n",
    "    'min_samples_split':[10, 4, 10, 7, 9, 15, 3, 3, 5, 5],\n",
    "    'min_samples_leaf':[10, 7, 12, 5, 10, 5, 15, 3, 15, 12],\n",
    "    'max_features':[28, 30, 30, 25, 30, 21, 28, 23, 20, 30],\n",
    "              \n",
    "    'n_estimators' : [50, 45, 90, 100, 50, 35, 150, 120, 85, 60],\n",
    "    'learning_rate' : [0.05, 0.08, 0.02, 0.04, 0.004, 0.0003, 0.15, 0.08, 0.001, 0.005] }\n",
    "\n",
    "for i in range(number_of_machines):\n",
    "    max_depth_param = parameters['max_depth'][i]\n",
    "    min_samples_split_param = parameters['min_samples_split'][i]\n",
    "    min_samples_leaf_param = parameters['min_samples_leaf'][i]\n",
    "    max_features_param = parameters['max_features'][i]\n",
    "    \n",
    "    n_estimators_param = parameters['n_estimators'][i]\n",
    "    learning_rate_param = parameters['learning_rate'][i]\n",
    "    \n",
    "    my_base = DecisionTreeRegressor(criterion = 'squared_error', max_depth = max_depth_param, min_samples_split = min_samples_split_param, min_samples_leaf = min_samples_leaf_param , max_features = max_features_param)\n",
    "    my_adab = AdaBoostRegressor(base_estimator = my_base, n_estimators = n_estimators_param, learning_rate = learning_rate_param, loss='linear')\n",
    "    my_adab_models.append(my_adab)\n",
    "\n",
    "parameters_df = pd.DataFrame(parameters)  "
   ]
  },
  {
   "cell_type": "code",
   "execution_count": 72,
   "metadata": {},
   "outputs": [],
   "source": [
    "def my_kfold_crossval_and_Hptunning(data_dict, models_toTrain,frac = 1.0):\n",
    "\n",
    "    results = {'machine label': list(),\n",
    "        'machine result': list()}\n",
    "\n",
    "    for machine,i in zip(models_toTrain, range(1,len(models_toTrain) + 1)):\n",
    "        label = f'machine-{i}'\n",
    "        results['machine label'].append(label)\n",
    "        df_result = My_ML_prediction_on_test( data_dict = data_dict, dates_vector = test_dates, model = machine, frac = frac)\n",
    "        results['machine result'].append(df_result)\n",
    "        print(label + ' is done')\n",
    "        \n",
    "    return results"
   ]
  },
  {
   "cell_type": "code",
   "execution_count": 73,
   "metadata": {},
   "outputs": [
    {
     "name": "stdout",
     "output_type": "stream",
     "text": [
      "machine-1 is done\n",
      "machine-2 is done\n",
      "machine-3 is done\n",
      "machine-4 is done\n",
      "machine-5 is done\n",
      "machine-6 is done\n",
      "machine-7 is done\n",
      "machine-8 is done\n",
      "machine-9 is done\n",
      "machine-10 is done\n"
     ]
    }
   ],
   "source": [
    "my_test_results = my_kfold_crossval_and_Hptunning(data_dict = dictionary_data, models_toTrain =  my_adab_models, frac = 0.005)"
   ]
  },
  {
   "cell_type": "code",
   "execution_count": 74,
   "metadata": {},
   "outputs": [],
   "source": [
    "def consolidated_plot_metrics(data):\n",
    "    list_dfplot = list()\n",
    "    for i in range(len(data['machine label'])):\n",
    "        label = data['machine label'][i]\n",
    "        result_detail = data['machine result'][i]\n",
    "        df_plot = plot_metrics(result_detail)\n",
    "        df_plot['machine'] = label\n",
    "        list_dfplot.append(df_plot)\n",
    "    \n",
    "    return pd.concat(list_dfplot)"
   ]
  },
  {
   "cell_type": "code",
   "execution_count": 75,
   "metadata": {},
   "outputs": [],
   "source": [
    "metrics_toplot = consolidated_plot_metrics(my_test_results)"
   ]
  },
  {
   "cell_type": "code",
   "execution_count": 76,
   "metadata": {},
   "outputs": [
    {
     "data": {
      "image/png": "[encoded data removed]",
      "text/plain": [
       "<Figure size 936x432 with 1 Axes>"
      ]
     },
     "metadata": {},
     "output_type": "display_data"
    }
   ],
   "source": [
    "fig, axs = plt.subplots(nrows=1, ncols=1,figsize=(13,6), sharex=True)\n",
    "ax = sns.lineplot(ax = axs , data = metrics_toplot, x=\"Date\", y=\"RMSE\", marker = True, hue = 'machine', legend = False )\n",
    "ax = sns.scatterplot(ax = axs , data = metrics_toplot, x=\"Date\", y=\"RMSE\", s = 35, hue= 'machine' )"
   ]
  },
  {
   "cell_type": "code",
   "execution_count": 77,
   "metadata": {},
   "outputs": [],
   "source": [
    "def consolidated_metrics_MSE(data):\n",
    "    labels = list()\n",
    "    RMSEs = list()\n",
    "    for i in range(len(data['machine label'])):\n",
    "        label = data['machine label'][i]\n",
    "        result_detail = data['machine result'][i]\n",
    "        pred = result_detail['Sale']\n",
    "        real = result_detail['PredSale']\n",
    "        rmse = mean_squared_error(real,pred)**(1/2)\n",
    "        labels.append(label)\n",
    "        RMSEs.append(rmse)\n",
    "    \n",
    "    return pd.DataFrame({'machine':labels,'RMSE': RMSEs}).sort_values('RMSE')"
   ]
  },
  {
   "cell_type": "code",
   "execution_count": 78,
   "metadata": {},
   "outputs": [
    {
     "data": {
      "text/html": [
       "<div>\n",
       "<style scoped>\n",
       "    .dataframe tbody tr th:only-of-type {\n",
       "        vertical-align: middle;\n",
       "    }\n",
       "\n",
       "    .dataframe tbody tr th {\n",
       "        vertical-align: top;\n",
       "    }\n",
       "\n",
       "    .dataframe thead th {\n",
       "        text-align: right;\n",
       "    }\n",
       "</style>\n",
       "<table border=\"1\" class=\"dataframe\">\n",
       "  <thead>\n",
       "    <tr style=\"text-align: right;\">\n",
       "      <th></th>\n",
       "      <th>machine</th>\n",
       "      <th>RMSE</th>\n",
       "    </tr>\n",
       "  </thead>\n",
       "  <tbody>\n",
       "    <tr>\n",
       "      <th>5</th>\n",
       "      <td>machine-6</td>\n",
       "      <td>0.766451</td>\n",
       "    </tr>\n",
       "    <tr>\n",
       "      <th>2</th>\n",
       "      <td>machine-3</td>\n",
       "      <td>0.770677</td>\n",
       "    </tr>\n",
       "    <tr>\n",
       "      <th>9</th>\n",
       "      <td>machine-10</td>\n",
       "      <td>0.771746</td>\n",
       "    </tr>\n",
       "    <tr>\n",
       "      <th>8</th>\n",
       "      <td>machine-9</td>\n",
       "      <td>0.773676</td>\n",
       "    </tr>\n",
       "    <tr>\n",
       "      <th>3</th>\n",
       "      <td>machine-4</td>\n",
       "      <td>0.775808</td>\n",
       "    </tr>\n",
       "    <tr>\n",
       "      <th>1</th>\n",
       "      <td>machine-2</td>\n",
       "      <td>0.777121</td>\n",
       "    </tr>\n",
       "    <tr>\n",
       "      <th>4</th>\n",
       "      <td>machine-5</td>\n",
       "      <td>0.781222</td>\n",
       "    </tr>\n",
       "    <tr>\n",
       "      <th>0</th>\n",
       "      <td>machine-1</td>\n",
       "      <td>0.791177</td>\n",
       "    </tr>\n",
       "    <tr>\n",
       "      <th>7</th>\n",
       "      <td>machine-8</td>\n",
       "      <td>0.799428</td>\n",
       "    </tr>\n",
       "    <tr>\n",
       "      <th>6</th>\n",
       "      <td>machine-7</td>\n",
       "      <td>0.799737</td>\n",
       "    </tr>\n",
       "  </tbody>\n",
       "</table>\n",
       "</div>"
      ],
      "text/plain": [
       "      machine      RMSE\n",
       "5   machine-6  0.766451\n",
       "2   machine-3  0.770677\n",
       "9  machine-10  0.771746\n",
       "8   machine-9  0.773676\n",
       "3   machine-4  0.775808\n",
       "1   machine-2  0.777121\n",
       "4   machine-5  0.781222\n",
       "0   machine-1  0.791177\n",
       "7   machine-8  0.799428\n",
       "6   machine-7  0.799737"
      ]
     },
     "execution_count": 78,
     "metadata": {},
     "output_type": "execute_result"
    }
   ],
   "source": [
    "consolidated_metrics_MSE(my_test_results)"
   ]
  },
  {
   "cell_type": "markdown",
   "metadata": {},
   "source": [
    "The winer is machine 6"
   ]
  },
  {
   "cell_type": "markdown",
   "metadata": {},
   "source": [
    "### Winner Prediction"
   ]
  },
  {
   "cell_type": "code",
   "execution_count": 80,
   "metadata": {},
   "outputs": [
    {
     "name": "stdout",
     "output_type": "stream",
     "text": [
      "machine-1 is done\n"
     ]
    }
   ],
   "source": [
    "my_test_results = my_kfold_crossval_and_Hptunning(data_dict = dictionary_data, models_toTrain =  [my_adab_models[5]], frac = 0.75)"
   ]
  },
  {
   "cell_type": "code",
   "execution_count": 81,
   "metadata": {},
   "outputs": [],
   "source": [
    "metrics_toplot = consolidated_plot_metrics(my_test_results)"
   ]
  },
  {
   "cell_type": "code",
   "execution_count": 82,
   "metadata": {},
   "outputs": [
    {
     "data": {
      "text/plain": [
       "0.7524171871872724"
      ]
     },
     "execution_count": 82,
     "metadata": {},
     "output_type": "execute_result"
    }
   ],
   "source": [
    "np.mean(metrics_toplot.RMSE)  ## 0.7524171871872724 best"
   ]
  },
  {
   "cell_type": "code",
   "execution_count": 83,
   "metadata": {},
   "outputs": [
    {
     "data": {
      "image/png": "[encoded data removed]",
      "text/plain": [
       "<Figure size 936x432 with 1 Axes>"
      ]
     },
     "metadata": {},
     "output_type": "display_data"
    }
   ],
   "source": [
    "fig, axs = plt.subplots(nrows=1, ncols=1,figsize=(13,6), sharex=True)\n",
    "ax = sns.lineplot(ax = axs , data = metrics_toplot, x=\"Date\", y=\"RMSE\", marker = True, hue = 'machine', legend = False )\n",
    "ax = sns.scatterplot(ax = axs , data = metrics_toplot, x=\"Date\", y=\"RMSE\", s = 35, hue= 'machine' )"
   ]
  },
  {
   "cell_type": "markdown",
   "metadata": {},
   "source": [
    "### Saving prediction for stacking"
   ]
  },
  {
   "cell_type": "code",
   "execution_count": 84,
   "metadata": {},
   "outputs": [],
   "source": [
    "my_test_results['machine result'][0].to_csv('preds_stacking/preds_adaboost.csv',header = True, index = False)"
   ]
  }
 ],
 "metadata": {
  "kernelspec": {
   "display_name": "Python 3",
   "language": "python",
   "name": "python3"
  },
  "language_info": {
   "codemirror_mode": {
    "name": "ipython",
    "version": 3
   },
   "file_extension": ".py",
   "mimetype": "text/x-python",
   "name": "python",
   "nbconvert_exporter": "python",
   "pygments_lexer": "ipython3",
   "version": "3.7.6"
  }
 },
 "nbformat": 4,
 "nbformat_minor": 4
}
