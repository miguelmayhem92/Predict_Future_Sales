{
 "cells": [
  {
   "cell_type": "markdown",
   "metadata": {},
   "source": [
    "# Predict Future Sales"
   ]
  },
  {
   "cell_type": "markdown",
   "metadata": {},
   "source": [
    "Second part of feauture enginering and ML modeling - testing advanced models and advanced features"
   ]
  },
  {
   "cell_type": "markdown",
   "metadata": {},
   "source": [
    "kaggle link : https://www.kaggle.com/c/competitive-data-science-predict-future-sales/overview"
   ]
  },
  {
   "cell_type": "code",
   "execution_count": 1,
   "metadata": {},
   "outputs": [],
   "source": [
    "import pandas as pd\n",
    "import numpy as np\n",
    "import matplotlib.pyplot as plt\n",
    "import datetime\n",
    "import seaborn as sns; sns.set()\n",
    "import random\n",
    "from dateutil.relativedelta import relativedelta\n",
    "import os"
   ]
  },
  {
   "cell_type": "code",
   "execution_count": 2,
   "metadata": {},
   "outputs": [],
   "source": [
    "from my_functions import merge_basic, convert_silver, completion_semi_gold, scaler, inversed_scale, consolidation_prediction, plot_prediction, preparing_to_predict, plot_metrics"
   ]
  },
  {
   "cell_type": "code",
   "execution_count": 3,
   "metadata": {},
   "outputs": [],
   "source": [
    "from sklearn.preprocessing import MinMaxScaler\n",
    "\n",
    "from sklearn.tree import DecisionTreeRegressor\n",
    "from sklearn.ensemble import AdaBoostRegressor\n",
    "from sklearn.metrics import mean_squared_error"
   ]
  },
  {
   "cell_type": "markdown",
   "metadata": {},
   "source": [
    "### Data"
   ]
  },
  {
   "cell_type": "code",
   "execution_count": 4,
   "metadata": {},
   "outputs": [],
   "source": [
    "daily_train = pd.read_csv('sales_train.csv')\n",
    "items = pd.read_csv('items.csv')\n",
    "shops = pd.read_csv('shops.csv')\n",
    "categories = pd.read_csv('item_categories.csv')\n",
    "sample_submission = pd.read_csv('sample_submission.csv')\n",
    "test = pd.read_csv('test.csv')"
   ]
  },
  {
   "cell_type": "markdown",
   "metadata": {},
   "source": [
    "### Data modeling"
   ]
  },
  {
   "cell_type": "code",
   "execution_count": 5,
   "metadata": {},
   "outputs": [],
   "source": [
    "train_merge = merge_basic(daily_train, test,'left')"
   ]
  },
  {
   "cell_type": "code",
   "execution_count": 6,
   "metadata": {},
   "outputs": [
    {
     "data": {
      "text/html": [
       "<div>\n",
       "<style scoped>\n",
       "    .dataframe tbody tr th:only-of-type {\n",
       "        vertical-align: middle;\n",
       "    }\n",
       "\n",
       "    .dataframe tbody tr th {\n",
       "        vertical-align: top;\n",
       "    }\n",
       "\n",
       "    .dataframe thead th {\n",
       "        text-align: right;\n",
       "    }\n",
       "</style>\n",
       "<table border=\"1\" class=\"dataframe\">\n",
       "  <thead>\n",
       "    <tr style=\"text-align: right;\">\n",
       "      <th></th>\n",
       "      <th>date</th>\n",
       "      <th>date_block_num</th>\n",
       "      <th>shop_id</th>\n",
       "      <th>item_id</th>\n",
       "      <th>item_price</th>\n",
       "      <th>item_cnt_day</th>\n",
       "      <th>item_name</th>\n",
       "      <th>item_category_id</th>\n",
       "      <th>item_category_name</th>\n",
       "      <th>ID</th>\n",
       "      <th>SaleDate</th>\n",
       "    </tr>\n",
       "  </thead>\n",
       "  <tbody>\n",
       "    <tr>\n",
       "      <th>0</th>\n",
       "      <td>02.01.2013</td>\n",
       "      <td>0</td>\n",
       "      <td>59</td>\n",
       "      <td>22154</td>\n",
       "      <td>999.00</td>\n",
       "      <td>1.0</td>\n",
       "      <td>ЯВЛЕНИЕ 2012 (BD)</td>\n",
       "      <td>37</td>\n",
       "      <td>Кино - Blu-Ray</td>\n",
       "      <td>150983.0</td>\n",
       "      <td>2013-01-02</td>\n",
       "    </tr>\n",
       "    <tr>\n",
       "      <th>1</th>\n",
       "      <td>03.01.2013</td>\n",
       "      <td>0</td>\n",
       "      <td>25</td>\n",
       "      <td>2552</td>\n",
       "      <td>899.00</td>\n",
       "      <td>1.0</td>\n",
       "      <td>DEEP PURPLE  The House Of Blue Light  LP</td>\n",
       "      <td>58</td>\n",
       "      <td>Музыка - Винил</td>\n",
       "      <td>NaN</td>\n",
       "      <td>2013-01-03</td>\n",
       "    </tr>\n",
       "    <tr>\n",
       "      <th>2</th>\n",
       "      <td>05.01.2013</td>\n",
       "      <td>0</td>\n",
       "      <td>25</td>\n",
       "      <td>2552</td>\n",
       "      <td>899.00</td>\n",
       "      <td>-1.0</td>\n",
       "      <td>DEEP PURPLE  The House Of Blue Light  LP</td>\n",
       "      <td>58</td>\n",
       "      <td>Музыка - Винил</td>\n",
       "      <td>NaN</td>\n",
       "      <td>2013-01-05</td>\n",
       "    </tr>\n",
       "    <tr>\n",
       "      <th>3</th>\n",
       "      <td>06.01.2013</td>\n",
       "      <td>0</td>\n",
       "      <td>25</td>\n",
       "      <td>2554</td>\n",
       "      <td>1709.05</td>\n",
       "      <td>1.0</td>\n",
       "      <td>DEEP PURPLE  Who Do You Think We Are  LP</td>\n",
       "      <td>58</td>\n",
       "      <td>Музыка - Винил</td>\n",
       "      <td>NaN</td>\n",
       "      <td>2013-01-06</td>\n",
       "    </tr>\n",
       "    <tr>\n",
       "      <th>4</th>\n",
       "      <td>15.01.2013</td>\n",
       "      <td>0</td>\n",
       "      <td>25</td>\n",
       "      <td>2555</td>\n",
       "      <td>1099.00</td>\n",
       "      <td>1.0</td>\n",
       "      <td>DEEP PURPLE 30 Very Best Of 2CD (Фирм.)</td>\n",
       "      <td>56</td>\n",
       "      <td>Музыка - CD фирменного производства</td>\n",
       "      <td>NaN</td>\n",
       "      <td>2013-01-15</td>\n",
       "    </tr>\n",
       "  </tbody>\n",
       "</table>\n",
       "</div>"
      ],
      "text/plain": [
       "         date  date_block_num  shop_id  item_id  item_price  item_cnt_day  \\\n",
       "0  02.01.2013               0       59    22154      999.00           1.0   \n",
       "1  03.01.2013               0       25     2552      899.00           1.0   \n",
       "2  05.01.2013               0       25     2552      899.00          -1.0   \n",
       "3  06.01.2013               0       25     2554     1709.05           1.0   \n",
       "4  15.01.2013               0       25     2555     1099.00           1.0   \n",
       "\n",
       "                                  item_name  item_category_id  \\\n",
       "0                         ЯВЛЕНИЕ 2012 (BD)                37   \n",
       "1  DEEP PURPLE  The House Of Blue Light  LP                58   \n",
       "2  DEEP PURPLE  The House Of Blue Light  LP                58   \n",
       "3  DEEP PURPLE  Who Do You Think We Are  LP                58   \n",
       "4   DEEP PURPLE 30 Very Best Of 2CD (Фирм.)                56   \n",
       "\n",
       "                    item_category_name        ID   SaleDate  \n",
       "0                       Кино - Blu-Ray  150983.0 2013-01-02  \n",
       "1                       Музыка - Винил       NaN 2013-01-03  \n",
       "2                       Музыка - Винил       NaN 2013-01-05  \n",
       "3                       Музыка - Винил       NaN 2013-01-06  \n",
       "4  Музыка - CD фирменного производства       NaN 2013-01-15  "
      ]
     },
     "execution_count": 6,
     "metadata": {},
     "output_type": "execute_result"
    }
   ],
   "source": [
    "train_merge.head()"
   ]
  },
  {
   "cell_type": "code",
   "execution_count": 7,
   "metadata": {},
   "outputs": [],
   "source": [
    "wholedata_silver = convert_silver(train_merge)"
   ]
  },
  {
   "cell_type": "code",
   "execution_count": 8,
   "metadata": {},
   "outputs": [
    {
     "data": {
      "text/html": [
       "<div>\n",
       "<style scoped>\n",
       "    .dataframe tbody tr th:only-of-type {\n",
       "        vertical-align: middle;\n",
       "    }\n",
       "\n",
       "    .dataframe tbody tr th {\n",
       "        vertical-align: top;\n",
       "    }\n",
       "\n",
       "    .dataframe thead th {\n",
       "        text-align: right;\n",
       "    }\n",
       "</style>\n",
       "<table border=\"1\" class=\"dataframe\">\n",
       "  <thead>\n",
       "    <tr style=\"text-align: right;\">\n",
       "      <th></th>\n",
       "      <th>SaleDateMY</th>\n",
       "      <th>date_block_num</th>\n",
       "      <th>shop_id</th>\n",
       "      <th>item_id</th>\n",
       "      <th>item_category_name</th>\n",
       "      <th>item_category_id</th>\n",
       "      <th>InTest</th>\n",
       "      <th>item_cnt_day</th>\n",
       "      <th>shopitem</th>\n",
       "    </tr>\n",
       "  </thead>\n",
       "  <tbody>\n",
       "    <tr>\n",
       "      <th>0</th>\n",
       "      <td>2013-01-01</td>\n",
       "      <td>0</td>\n",
       "      <td>0</td>\n",
       "      <td>32</td>\n",
       "      <td>Кино - DVD</td>\n",
       "      <td>40</td>\n",
       "      <td>0</td>\n",
       "      <td>6.0</td>\n",
       "      <td>0-32</td>\n",
       "    </tr>\n",
       "    <tr>\n",
       "      <th>1</th>\n",
       "      <td>2013-01-01</td>\n",
       "      <td>0</td>\n",
       "      <td>0</td>\n",
       "      <td>33</td>\n",
       "      <td>Кино - Blu-Ray</td>\n",
       "      <td>37</td>\n",
       "      <td>0</td>\n",
       "      <td>3.0</td>\n",
       "      <td>0-33</td>\n",
       "    </tr>\n",
       "    <tr>\n",
       "      <th>2</th>\n",
       "      <td>2013-01-01</td>\n",
       "      <td>0</td>\n",
       "      <td>0</td>\n",
       "      <td>35</td>\n",
       "      <td>Кино - DVD</td>\n",
       "      <td>40</td>\n",
       "      <td>0</td>\n",
       "      <td>1.0</td>\n",
       "      <td>0-35</td>\n",
       "    </tr>\n",
       "    <tr>\n",
       "      <th>3</th>\n",
       "      <td>2013-01-01</td>\n",
       "      <td>0</td>\n",
       "      <td>0</td>\n",
       "      <td>43</td>\n",
       "      <td>Кино - DVD</td>\n",
       "      <td>40</td>\n",
       "      <td>0</td>\n",
       "      <td>1.0</td>\n",
       "      <td>0-43</td>\n",
       "    </tr>\n",
       "    <tr>\n",
       "      <th>4</th>\n",
       "      <td>2013-01-01</td>\n",
       "      <td>0</td>\n",
       "      <td>0</td>\n",
       "      <td>51</td>\n",
       "      <td>Музыка - MP3</td>\n",
       "      <td>57</td>\n",
       "      <td>0</td>\n",
       "      <td>2.0</td>\n",
       "      <td>0-51</td>\n",
       "    </tr>\n",
       "  </tbody>\n",
       "</table>\n",
       "</div>"
      ],
      "text/plain": [
       "  SaleDateMY  date_block_num  shop_id  item_id item_category_name  \\\n",
       "0 2013-01-01               0        0       32         Кино - DVD   \n",
       "1 2013-01-01               0        0       33     Кино - Blu-Ray   \n",
       "2 2013-01-01               0        0       35         Кино - DVD   \n",
       "3 2013-01-01               0        0       43         Кино - DVD   \n",
       "4 2013-01-01               0        0       51       Музыка - MP3   \n",
       "\n",
       "   item_category_id  InTest  item_cnt_day shopitem  \n",
       "0                40       0           6.0     0-32  \n",
       "1                37       0           3.0     0-33  \n",
       "2                40       0           1.0     0-35  \n",
       "3                40       0           1.0     0-43  \n",
       "4                57       0           2.0     0-51  "
      ]
     },
     "execution_count": 8,
     "metadata": {},
     "output_type": "execute_result"
    }
   ],
   "source": [
    "wholedata_silver.head()"
   ]
  },
  {
   "cell_type": "code",
   "execution_count": 9,
   "metadata": {},
   "outputs": [
    {
     "data": {
      "text/plain": [
       "(1609124, 9)"
      ]
     },
     "execution_count": 9,
     "metadata": {},
     "output_type": "execute_result"
    }
   ],
   "source": [
    "wholedata_silver.shape"
   ]
  },
  {
   "cell_type": "markdown",
   "metadata": {},
   "source": [
    "<b> Splitting strategy:"
   ]
  },
  {
   "cell_type": "markdown",
   "metadata": {},
   "source": [
    "* time series expanding window of one period, Take 7 months\n",
    "* over the first fold, make the functions and features for modeling and prediction (avoid leakage)\n",
    "* lags and seasons are features\n",
    "* use rmse as metric\n",
    "* consider the outputs of the EDA\n",
    "* goal, predict november or yyyy-11-01"
   ]
  },
  {
   "cell_type": "markdown",
   "metadata": {},
   "source": [
    "#### The validation data"
   ]
  },
  {
   "cell_type": "code",
   "execution_count": 10,
   "metadata": {},
   "outputs": [
    {
     "data": {
      "text/plain": [
       "Timestamp('2015-10-01 00:00:00')"
      ]
     },
     "execution_count": 10,
     "metadata": {},
     "output_type": "execute_result"
    }
   ],
   "source": [
    "wholedata_silver.SaleDateMY.max()"
   ]
  },
  {
   "cell_type": "code",
   "execution_count": 11,
   "metadata": {},
   "outputs": [],
   "source": [
    "test_dates = [datetime.datetime(2014, 11, 1), datetime.datetime(2015, 4, 1), datetime.datetime(2015, 5, 1), datetime.datetime(2015, 6, 1), datetime.datetime(2015, 7, 1), datetime.datetime(2015, 8, 1),\n",
    "datetime.datetime(2015, 9, 1), datetime.datetime(2015, 10, 1),]"
   ]
  },
  {
   "cell_type": "markdown",
   "metadata": {},
   "source": [
    "#### hold-out Train"
   ]
  },
  {
   "cell_type": "code",
   "execution_count": 12,
   "metadata": {},
   "outputs": [],
   "source": [
    "date_val = datetime.datetime(2014, 10, 1)"
   ]
  },
  {
   "cell_type": "code",
   "execution_count": 13,
   "metadata": {},
   "outputs": [],
   "source": [
    "train_window = wholedata_silver[wholedata_silver.SaleDateMY < date_val ].copy()\n",
    "val_window = wholedata_silver[wholedata_silver.SaleDateMY == date_val ]\\\n",
    "    [['InTest','SaleDateMY','shop_id','item_id','item_category_id', 'item_category_name','item_cnt_day']].copy()"
   ]
  },
  {
   "cell_type": "code",
   "execution_count": 14,
   "metadata": {},
   "outputs": [
    {
     "data": {
      "text/html": [
       "<div>\n",
       "<style scoped>\n",
       "    .dataframe tbody tr th:only-of-type {\n",
       "        vertical-align: middle;\n",
       "    }\n",
       "\n",
       "    .dataframe tbody tr th {\n",
       "        vertical-align: top;\n",
       "    }\n",
       "\n",
       "    .dataframe thead th {\n",
       "        text-align: right;\n",
       "    }\n",
       "</style>\n",
       "<table border=\"1\" class=\"dataframe\">\n",
       "  <thead>\n",
       "    <tr style=\"text-align: right;\">\n",
       "      <th></th>\n",
       "      <th>SaleDateMY</th>\n",
       "      <th>date_block_num</th>\n",
       "      <th>shop_id</th>\n",
       "      <th>item_id</th>\n",
       "      <th>item_category_name</th>\n",
       "      <th>item_category_id</th>\n",
       "      <th>InTest</th>\n",
       "      <th>item_cnt_day</th>\n",
       "      <th>shopitem</th>\n",
       "    </tr>\n",
       "  </thead>\n",
       "  <tbody>\n",
       "    <tr>\n",
       "      <th>0</th>\n",
       "      <td>2013-01-01</td>\n",
       "      <td>0</td>\n",
       "      <td>0</td>\n",
       "      <td>32</td>\n",
       "      <td>Кино - DVD</td>\n",
       "      <td>40</td>\n",
       "      <td>0</td>\n",
       "      <td>6.0</td>\n",
       "      <td>0-32</td>\n",
       "    </tr>\n",
       "    <tr>\n",
       "      <th>1</th>\n",
       "      <td>2013-01-01</td>\n",
       "      <td>0</td>\n",
       "      <td>0</td>\n",
       "      <td>33</td>\n",
       "      <td>Кино - Blu-Ray</td>\n",
       "      <td>37</td>\n",
       "      <td>0</td>\n",
       "      <td>3.0</td>\n",
       "      <td>0-33</td>\n",
       "    </tr>\n",
       "    <tr>\n",
       "      <th>2</th>\n",
       "      <td>2013-01-01</td>\n",
       "      <td>0</td>\n",
       "      <td>0</td>\n",
       "      <td>35</td>\n",
       "      <td>Кино - DVD</td>\n",
       "      <td>40</td>\n",
       "      <td>0</td>\n",
       "      <td>1.0</td>\n",
       "      <td>0-35</td>\n",
       "    </tr>\n",
       "    <tr>\n",
       "      <th>3</th>\n",
       "      <td>2013-01-01</td>\n",
       "      <td>0</td>\n",
       "      <td>0</td>\n",
       "      <td>43</td>\n",
       "      <td>Кино - DVD</td>\n",
       "      <td>40</td>\n",
       "      <td>0</td>\n",
       "      <td>1.0</td>\n",
       "      <td>0-43</td>\n",
       "    </tr>\n",
       "    <tr>\n",
       "      <th>4</th>\n",
       "      <td>2013-01-01</td>\n",
       "      <td>0</td>\n",
       "      <td>0</td>\n",
       "      <td>51</td>\n",
       "      <td>Музыка - MP3</td>\n",
       "      <td>57</td>\n",
       "      <td>0</td>\n",
       "      <td>2.0</td>\n",
       "      <td>0-51</td>\n",
       "    </tr>\n",
       "  </tbody>\n",
       "</table>\n",
       "</div>"
      ],
      "text/plain": [
       "  SaleDateMY  date_block_num  shop_id  item_id item_category_name  \\\n",
       "0 2013-01-01               0        0       32         Кино - DVD   \n",
       "1 2013-01-01               0        0       33     Кино - Blu-Ray   \n",
       "2 2013-01-01               0        0       35         Кино - DVD   \n",
       "3 2013-01-01               0        0       43         Кино - DVD   \n",
       "4 2013-01-01               0        0       51       Музыка - MP3   \n",
       "\n",
       "   item_category_id  InTest  item_cnt_day shopitem  \n",
       "0                40       0           6.0     0-32  \n",
       "1                37       0           3.0     0-33  \n",
       "2                40       0           1.0     0-35  \n",
       "3                40       0           1.0     0-43  \n",
       "4                57       0           2.0     0-51  "
      ]
     },
     "execution_count": 14,
     "metadata": {},
     "output_type": "execute_result"
    }
   ],
   "source": [
    "train_window.head()"
   ]
  },
  {
   "cell_type": "code",
   "execution_count": 15,
   "metadata": {},
   "outputs": [
    {
     "data": {
      "text/plain": [
       "(Timestamp('2014-09-01 00:00:00'), Timestamp('2013-01-01 00:00:00'))"
      ]
     },
     "execution_count": 15,
     "metadata": {},
     "output_type": "execute_result"
    }
   ],
   "source": [
    "train_window.SaleDateMY.max(), train_window.SaleDateMY.min()"
   ]
  },
  {
   "cell_type": "code",
   "execution_count": 16,
   "metadata": {},
   "outputs": [],
   "source": [
    "train_full = completion_semi_gold(train_window)"
   ]
  },
  {
   "cell_type": "code",
   "execution_count": 17,
   "metadata": {},
   "outputs": [
    {
     "data": {
      "text/html": [
       "<div>\n",
       "<style scoped>\n",
       "    .dataframe tbody tr th:only-of-type {\n",
       "        vertical-align: middle;\n",
       "    }\n",
       "\n",
       "    .dataframe tbody tr th {\n",
       "        vertical-align: top;\n",
       "    }\n",
       "\n",
       "    .dataframe thead th {\n",
       "        text-align: right;\n",
       "    }\n",
       "</style>\n",
       "<table border=\"1\" class=\"dataframe\">\n",
       "  <thead>\n",
       "    <tr style=\"text-align: right;\">\n",
       "      <th></th>\n",
       "      <th>InTest</th>\n",
       "      <th>shop_id</th>\n",
       "      <th>item_id</th>\n",
       "      <th>shopitem</th>\n",
       "      <th>item_category_id</th>\n",
       "      <th>Date</th>\n",
       "      <th>Sale</th>\n",
       "      <th>Order</th>\n",
       "      <th>MiguelId</th>\n",
       "    </tr>\n",
       "  </thead>\n",
       "  <tbody>\n",
       "    <tr>\n",
       "      <th>0</th>\n",
       "      <td>0</td>\n",
       "      <td>0</td>\n",
       "      <td>30</td>\n",
       "      <td>0-30</td>\n",
       "      <td>40</td>\n",
       "      <td>2013-01-01</td>\n",
       "      <td>0.0</td>\n",
       "      <td>1</td>\n",
       "      <td>0-30-2013-01-01</td>\n",
       "    </tr>\n",
       "    <tr>\n",
       "      <th>1</th>\n",
       "      <td>0</td>\n",
       "      <td>0</td>\n",
       "      <td>31</td>\n",
       "      <td>0-31</td>\n",
       "      <td>37</td>\n",
       "      <td>2013-01-01</td>\n",
       "      <td>0.0</td>\n",
       "      <td>1</td>\n",
       "      <td>0-31-2013-01-01</td>\n",
       "    </tr>\n",
       "    <tr>\n",
       "      <th>2</th>\n",
       "      <td>0</td>\n",
       "      <td>0</td>\n",
       "      <td>32</td>\n",
       "      <td>0-32</td>\n",
       "      <td>40</td>\n",
       "      <td>2013-01-01</td>\n",
       "      <td>6.0</td>\n",
       "      <td>1</td>\n",
       "      <td>0-32-2013-01-01</td>\n",
       "    </tr>\n",
       "    <tr>\n",
       "      <th>3</th>\n",
       "      <td>0</td>\n",
       "      <td>0</td>\n",
       "      <td>33</td>\n",
       "      <td>0-33</td>\n",
       "      <td>37</td>\n",
       "      <td>2013-01-01</td>\n",
       "      <td>3.0</td>\n",
       "      <td>1</td>\n",
       "      <td>0-33-2013-01-01</td>\n",
       "    </tr>\n",
       "    <tr>\n",
       "      <th>4</th>\n",
       "      <td>0</td>\n",
       "      <td>0</td>\n",
       "      <td>35</td>\n",
       "      <td>0-35</td>\n",
       "      <td>40</td>\n",
       "      <td>2013-01-01</td>\n",
       "      <td>1.0</td>\n",
       "      <td>1</td>\n",
       "      <td>0-35-2013-01-01</td>\n",
       "    </tr>\n",
       "  </tbody>\n",
       "</table>\n",
       "</div>"
      ],
      "text/plain": [
       "   InTest  shop_id  item_id shopitem  item_category_id       Date  Sale  \\\n",
       "0       0        0       30     0-30                40 2013-01-01   0.0   \n",
       "1       0        0       31     0-31                37 2013-01-01   0.0   \n",
       "2       0        0       32     0-32                40 2013-01-01   6.0   \n",
       "3       0        0       33     0-33                37 2013-01-01   3.0   \n",
       "4       0        0       35     0-35                40 2013-01-01   1.0   \n",
       "\n",
       "   Order         MiguelId  \n",
       "0      1  0-30-2013-01-01  \n",
       "1      1  0-31-2013-01-01  \n",
       "2      1  0-32-2013-01-01  \n",
       "3      1  0-33-2013-01-01  \n",
       "4      1  0-35-2013-01-01  "
      ]
     },
     "execution_count": 17,
     "metadata": {},
     "output_type": "execute_result"
    }
   ],
   "source": [
    "train_full.head()"
   ]
  },
  {
   "cell_type": "code",
   "execution_count": 18,
   "metadata": {},
   "outputs": [
    {
     "data": {
      "text/plain": [
       "(7034391, 9)"
      ]
     },
     "execution_count": 18,
     "metadata": {},
     "output_type": "execute_result"
    }
   ],
   "source": [
    "train_full.shape"
   ]
  },
  {
   "cell_type": "code",
   "execution_count": 19,
   "metadata": {},
   "outputs": [
    {
     "data": {
      "text/html": [
       "<div>\n",
       "<style scoped>\n",
       "    .dataframe tbody tr th:only-of-type {\n",
       "        vertical-align: middle;\n",
       "    }\n",
       "\n",
       "    .dataframe tbody tr th {\n",
       "        vertical-align: top;\n",
       "    }\n",
       "\n",
       "    .dataframe thead th {\n",
       "        text-align: right;\n",
       "    }\n",
       "</style>\n",
       "<table border=\"1\" class=\"dataframe\">\n",
       "  <thead>\n",
       "    <tr style=\"text-align: right;\">\n",
       "      <th></th>\n",
       "      <th>shopitems</th>\n",
       "    </tr>\n",
       "    <tr>\n",
       "      <th>InTest</th>\n",
       "      <th></th>\n",
       "    </tr>\n",
       "  </thead>\n",
       "  <tbody>\n",
       "    <tr>\n",
       "      <th>0</th>\n",
       "      <td>277766</td>\n",
       "    </tr>\n",
       "    <tr>\n",
       "      <th>1</th>\n",
       "      <td>57205</td>\n",
       "    </tr>\n",
       "  </tbody>\n",
       "</table>\n",
       "</div>"
      ],
      "text/plain": [
       "        shopitems\n",
       "InTest           \n",
       "0          277766\n",
       "1           57205"
      ]
     },
     "execution_count": 19,
     "metadata": {},
     "output_type": "execute_result"
    }
   ],
   "source": [
    "train_full.groupby('InTest').agg(shopitems = ('shopitem','nunique'))"
   ]
  },
  {
   "cell_type": "markdown",
   "metadata": {},
   "source": [
    "### Exploration of the features"
   ]
  },
  {
   "cell_type": "code",
   "execution_count": 20,
   "metadata": {},
   "outputs": [],
   "source": [
    "def balance_items_test(data, percentage_test = 0.30, smalls_percent = 0.5, gen_sample = 0.70):\n",
    "    \n",
    "    data = data.copy()\n",
    "    \n",
    "    ## data from not in test\n",
    "    \n",
    "    items_in_test = list(data[data.InTest == 1].shopitem.unique())\n",
    "    items_in_test = [str(x) for x in items_in_test]\n",
    "    \n",
    "    items_no_test = list(data[data.InTest == 0].shopitem.unique())\n",
    "    items_no_test = [str(x) for x in items_no_test]\n",
    "    ncapture = int(round(len(items_no_test)*percentage_test,0 ))\n",
    "    random.shuffle(items_no_test)\n",
    "    items_no_test = items_no_test[0:ncapture]\n",
    "    \n",
    "    selected_items = items_in_test + items_no_test\n",
    "    data = data[data.shopitem.isin(selected_items)]\n",
    "    \n",
    "    ## data min item\n",
    "    data['max'] = data.groupby(['shopitem']).Sale.transform('max')\n",
    "    smalls = list(data[data['max'] < 2].shopitem.unique())\n",
    "    to_drop = int( round(len(smalls)*smalls_percent,0 ))\n",
    "    items = [str(x) for x in smalls]\n",
    "    random.shuffle(items)\n",
    "    keep_items = items[0:to_drop]\n",
    "    data = data[~data.shopitem.astype('str').isin(keep_items)].drop(columns = ['max'])\n",
    "    \n",
    "    ## for general sample\n",
    "    to_hide = int( round(len(data.shopitem.unique())*gen_sample,0 ))\n",
    "    items = list(data.shopitem.unique())\n",
    "    items = [str(x) for x in items]\n",
    "    random.shuffle(items)\n",
    "    \n",
    "    keep_items = items[0:to_hide]\n",
    "    data_result = data[data.shopitem.astype('str').isin(keep_items)]\n",
    "    \n",
    "    return data_result"
   ]
  },
  {
   "cell_type": "markdown",
   "metadata": {},
   "source": [
    "<b> scalling shopitem wise over L 1 differenciation per shopitem"
   ]
  },
  {
   "cell_type": "code",
   "execution_count": 23,
   "metadata": {},
   "outputs": [],
   "source": [
    "def get_starts_items(data_whole, data_train):\n",
    "    df_orders = data_train.groupby(['Date','Order']).count().reset_index()\n",
    "    max_date = df_orders.Date.max()\n",
    "    max_order = df_orders.Order.max()\n",
    "    \n",
    "    min_wholedate = data_whole.SaleDateMY.min()\n",
    "    max_wholedate = data_whole.SaleDateMY.max()\n",
    "\n",
    "    listdate_1 = [max_date]\n",
    "    listorder_1 =  [max_order]\n",
    "\n",
    "    datex = listdate_1[0]\n",
    "    ordernew = listorder_1[0]\n",
    "    while datex > min_wholedate:\n",
    "        datex = datex - relativedelta(months = 1)\n",
    "        ordernew = ordernew - 1\n",
    "        listdate_1.append(datex), listorder_1.append(ordernew)\n",
    "\n",
    "    map_order = pd.DataFrame({'Date':listdate_1,'Order':listorder_1})\n",
    "    \n",
    "    data = data_whole[data_whole.SaleDateMY <= max_date ].copy()\n",
    "    data = data.rename(columns = {'SaleDateMY':'Date','item_cnt_day':'Sale'})\n",
    "    data = data.merge(map_order, on = 'Date',how = 'left')\n",
    "    \n",
    "    starts = data.pivot_table(index= ['item_id','item_category_id','Order'] ,values = ['Sale'], aggfunc = 'max').reset_index()\n",
    "    \n",
    "    starts['possnumb'] = np.where(starts.Sale > 0 , 1,0)\n",
    "    starts['maxOrder'] = starts.groupby(['item_id','possnumb']).cumcount() + 1\n",
    "    starts['maxOrder'] = np.where(starts.possnumb == 0 , 0, starts['maxOrder'] )\n",
    "    starts['OrderGot'] = np.where(starts.maxOrder == 1, starts.Order,0)\n",
    "    starts['OrderGot'] = starts.groupby(['item_id']).OrderGot.transform('sum')\n",
    "              \n",
    "    starts = starts.groupby('item_id').agg(OrderGot = ('OrderGot','max')).reset_index()\n",
    "    \n",
    "    return starts"
   ]
  },
  {
   "cell_type": "code",
   "execution_count": 91,
   "metadata": {},
   "outputs": [],
   "source": [
    "def feature_silver(data, starters, date_to_take, Train = True):\n",
    "    \n",
    "    if Train:\n",
    "        data_long = data.copy()\n",
    "        data = data.copy()\n",
    "        data = data[ data.Date < date_to_take] \n",
    "    else:\n",
    "        data = data.copy()\n",
    "        data = data[data.Date >= (date_to_take - relativedelta(months = 15))]\n",
    "    \n",
    "    ## feature of diff using one lag\n",
    "    data['SaleL1M'] = data.sort_values('Date').groupby(['shopitem'])['Sale'].shift(1)\n",
    "    data['SaleL2M'] = data.sort_values('Date').groupby(['shopitem'])['Sale'].shift(2)\n",
    "    \n",
    "    data_lagdiff = data.assign(L0M_L1M = data.Sale - data.SaleL1M)  ### This is new target ???? but yeaaaaaHHH\n",
    "    data_lagdiff = data_lagdiff.assign(L1M_L2M = data_lagdiff.SaleL1M - data_lagdiff.SaleL2M) \n",
    "    \n",
    "    data_lagdiff = data_lagdiff.drop(columns = ['SaleL2M'])\n",
    "    ## quasi ids\n",
    "    data_lagdiff['ItemIdPart1'] = data_lagdiff.item_id.astype('str').str.strip().str[-1]\n",
    "    data_lagdiff['ItemIdPart2'] = data_lagdiff.item_id.astype('str').str.strip().str[0]\n",
    "    data_lagdiff['ItemIdPart3'] = data_lagdiff.item_id.astype('str').str.strip().str[0:2]\n",
    "    data_lagdiff['shopIdPart1'] = data_lagdiff.shop_id.astype('str').str.strip().str[-1]\n",
    "    data_lagdiff['shopIdPart2'] = data_lagdiff.shop_id.astype('str').str.strip().str[0]\n",
    "    \n",
    "    ## further quasi id\n",
    "    data_lagdiff['CategIdItem3'] =  data_lagdiff['ItemIdPart3'].astype('int') % 4\n",
    "    data_lagdiff['CategIdItem2'] =  data_lagdiff['ItemIdPart2'].astype('int') % 4\n",
    "    \n",
    "    ## month\n",
    "    data_lagdiff = data_lagdiff.assign(month = data_lagdiff.Date.dt.month)\n",
    "    \n",
    "    max_date = data_lagdiff.Date.max() + relativedelta(months=1)\n",
    "    max_date_month = max_date.month\n",
    "    data_lagdiff['monthToPredict'] = np.where(data_lagdiff['month'] == max_date_month,1,0)\n",
    "        \n",
    "    ## year\n",
    "    data_lagdiff['Year'] = data_lagdiff.Date.dt.year\n",
    "    ## quarter\n",
    "    data_lagdiff['Quarter'] = np.where(data_lagdiff.month.isin([1,2,3]),1,\n",
    "                            np.where(data_lagdiff.month.isin([4,5,6]),2,\n",
    "                            np.where(data_lagdiff.month.isin([7,8,9]),3,\n",
    "                            np.where(data_lagdiff.month.isin([10,11,12]),4,0))))\n",
    "    \n",
    "    if Train:\n",
    "\n",
    "        #########################################\n",
    "        ### only item Columns  ##################\n",
    "        ########################################\n",
    "\n",
    "        def q1(x):\n",
    "            return x.quantile(0.25)\n",
    "\n",
    "        def q2(x):\n",
    "            return x.quantile(0.50)\n",
    "\n",
    "        def q3(x):\n",
    "            return x.quantile(0.90)\n",
    "\n",
    "        date_max = data_lagdiff.Date.max()\n",
    "        date_max = datetime.datetime(date_max.year, date_max.month, date_max.day)\n",
    "        begin_date = date_max - relativedelta(months = 14)\n",
    "\n",
    "        df_feature = data_lagdiff[data_lagdiff.Date >= begin_date]\\\n",
    "            .groupby(['item_id','Date'])\\\n",
    "            .agg( lowValueItem = ('Sale', q1), \n",
    "                medianValueItem = ('Sale',q2),\n",
    "                highValueItem = ('Sale',q3),\n",
    "                maxValueItem = ('Sale','max'))\\\n",
    "            .reset_index()\n",
    "        df_feature['Date'] = df_feature.Date + pd.DateOffset(months=1)\n",
    "        df_feature['RangeValueItem'] = df_feature.maxValueItem - df_feature.medianValueItem\n",
    "        \n",
    "        ## lags \n",
    "        df_feature['L1medianValueItem'] = df_feature.sort_values('Date').groupby(['item_id'])['medianValueItem'].shift(1)\n",
    "        df_feature['L2medianValueItem'] = df_feature.sort_values('Date').groupby(['item_id'])['medianValueItem'].shift(2)\n",
    "        df_feature['L3medianValueItem'] = df_feature.sort_values('Date').groupby(['item_id'])['medianValueItem'].shift(3)\n",
    "        df_feature['L11medianValueItem'] = df_feature.sort_values('Date').groupby(['item_id'])['medianValueItem'].shift(11)\n",
    "        df_feature['L12medianValueItem'] = df_feature.sort_values('Date').groupby(['item_id'])['medianValueItem'].shift(12)\n",
    "\n",
    "        df_feature = df_feature.assign(L1M_L2MItem = df_feature.medianValueItem - df_feature.L1medianValueItem)\n",
    "        df_feature = df_feature.assign(L1M_L3MItem = df_feature.medianValueItem - df_feature.L2medianValueItem)\n",
    "        df_feature = df_feature.assign(L1M_L4MItem = df_feature.medianValueItem - df_feature.L3medianValueItem)\n",
    "        df_feature = df_feature.assign(L1M_L12MItem = df_feature.medianValueItem - df_feature.L11medianValueItem)\n",
    "        df_feature = df_feature.assign(L1M_L13MItem = df_feature.medianValueItem - df_feature.L12medianValueItem)\n",
    "        \n",
    "        ## lags \n",
    "        df_feature['L1maxValueItem'] = df_feature.sort_values('Date').groupby(['item_id'])['maxValueItem'].shift(1)\n",
    "        df_feature['L2maxValueItem'] = df_feature.sort_values('Date').groupby(['item_id'])['maxValueItem'].shift(2)\n",
    "        df_feature['L3maxValueItem'] = df_feature.sort_values('Date').groupby(['item_id'])['maxValueItem'].shift(3)\n",
    "        df_feature['L11maxValueItem'] = df_feature.sort_values('Date').groupby(['item_id'])['maxValueItem'].shift(11)\n",
    "        df_feature['L12maxValueItem'] = df_feature.sort_values('Date').groupby(['item_id'])['maxValueItem'].shift(12)\n",
    "        \n",
    "        df_feature = df_feature.assign(L1M_L2MItemMax = df_feature.maxValueItem - df_feature.L1maxValueItem)\n",
    "        df_feature = df_feature.assign(L1M_L3MItemMax = df_feature.maxValueItem - df_feature.L2maxValueItem)\n",
    "        df_feature = df_feature.assign(L1M_L4MItemMax = df_feature.maxValueItem - df_feature.L3maxValueItem)\n",
    "        df_feature = df_feature.assign(L1M_L12MItemMax = df_feature.maxValueItem - df_feature.L11maxValueItem)\n",
    "        df_feature = df_feature.assign(L1M_L13MItemMax = df_feature.maxValueItem - df_feature.L12maxValueItem)\n",
    "\n",
    "        df_feature = df_feature.drop(columns = ['L1medianValueItem', 'L2medianValueItem', 'L3medianValueItem', 'L11medianValueItem', 'L12medianValueItem',\n",
    "                                               'L1maxValueItem', 'L2maxValueItem', 'L3maxValueItem', 'L11maxValueItem', 'L12maxValueItem',\n",
    "                                               'lowValueItem', 'medianValueItem', 'highValueItem', 'maxValueItem'])\n",
    "\n",
    "        ## count recent 0\n",
    "        df_feature['count0'] = np.where(df_feature.L1M_L2MItem == 0,1,0)\n",
    "        df_feature['Roll0L1Item'] = df_feature.sort_values('Date').groupby(['item_id']).count0.transform(lambda x: x.rolling(4, 1).sum())\n",
    "        df_feature_item = df_feature.drop(columns = ['count0'])\n",
    "        \n",
    "        df_feature['count0'] = np.where(df_feature.L1M_L2MItemMax == 0,1,0)\n",
    "        df_feature['Roll0L1ItemMax'] = df_feature.sort_values('Date').groupby(['item_id']).count0.transform(lambda x: x.rolling(4, 1).sum())\n",
    "        df_feature_item = df_feature.drop(columns = ['count0'])\n",
    "\n",
    "        features_dictionary = {'Focus_item_features': df_feature_item}\n",
    "\n",
    "        ########################################\n",
    "        ############ END  ##############\n",
    "        ########################################\n",
    "        \n",
    "        \n",
    "        ###############################################\n",
    "        ####### maps for feature highVariation #######\n",
    "        ###############################################\n",
    "\n",
    "        df_feature = data_lagdiff[['shop_id','item_id','shopitem','item_category_id','Date', 'Sale']].copy()\n",
    "        df_feature['Date'] = df_feature.Date + pd.DateOffset(months=1)\n",
    "        df_feature['count0'] = np.where(df_feature.Sale == 0,1,0)\n",
    "        df_feature['month'] = df_feature['Date'].dt.month\n",
    "        df_feature['count0'] = df_feature.sort_values('Date').groupby(['shopitem']).count0.transform('sum')\n",
    "        df_feature['SaleNew'] = np.where(df_feature.Sale == 0,np.nan, df_feature.Sale)\n",
    "        df_feature['minSale'] = df_feature.sort_values('Date').groupby(['shopitem']).SaleNew.transform('min')\n",
    "        df_feature['SaleL1M'] = df_feature.sort_values('Date').groupby(['shopitem'])['Sale'].shift(1)\n",
    "        df_feature = df_feature.assign(L0M_L1M = df_feature.Sale - df_feature.SaleL1M)\n",
    "        df_feature['maxVar'] = df_feature.groupby(['shopitem']).L0M_L1M.transform('max')\n",
    "\n",
    "        df_feature = df_feature[(abs(df_feature.maxVar) > 3) &(df_feature.count0 < 6)]\n",
    "\n",
    "        df_feature['Year'] = df_feature.Date.dt.year\n",
    "        df_feature['Quarter'] = np.where(df_feature.month.isin([1,2,3]),1,\n",
    "                                np.where(df_feature.month.isin([4,5,6]),2,\n",
    "                                np.where(df_feature.month.isin([7,8,9]),3,\n",
    "                                np.where(df_feature.month.isin([10,11,12]),4,0))))\n",
    "\n",
    "        feature_med = df_feature.groupby(['item_id','Year','Quarter','month']).agg(medianVar = ('L0M_L1M',q2),\n",
    "                                                                     highVar = ('L0M_L1M',q3)).reset_index()\n",
    "        feature_med['HighMeanQuart'] = feature_med.groupby(['Year','Quarter']).highVar.transform('mean')\n",
    "        feature_med['medianVarL12'] = feature_med.sort_values(['Year','month']).groupby(['item_id'])['medianVar'].shift(12)\n",
    "        feature_med['HighVarL12'] = feature_med.sort_values(['Year','month']).groupby(['item_id'])['highVar'].shift(12)\n",
    "\n",
    "        feature_var_season = feature_med.groupby(['item_id','Year','Quarter'])[['HighMeanQuart']].max().reset_index()\n",
    "        feature_var_season['HighMeanQuartL4'] = feature_var_season.sort_values(['Year','Quarter']).groupby(['item_id'])['HighMeanQuart'].shift(4)\n",
    "        feature_var_season = feature_var_season.fillna(0)\n",
    "        feature_var_season['SeasonalVariation'] = feature_var_season.HighMeanQuart - feature_var_season.HighMeanQuartL4\n",
    "        feature_var_season = feature_var_season.drop(columns = 'HighMeanQuart')\n",
    "\n",
    "\n",
    "        feature_med = feature_med.merge(feature_var_season, on = ['item_id','Year','Quarter'],how = 'left')\n",
    "        feature_med = feature_med[['item_id','Year','month','medianVarL12','SeasonalVariation','HighVarL12']]\n",
    "\n",
    "        features_dictionary['HighVarSeason'] = feature_med\n",
    "        ####################################\n",
    "        ##### end ##########################\n",
    "        ####################################\n",
    "        \n",
    "        #####################################\n",
    "        ### shop sale average on items\n",
    "        ####################################\n",
    "        df_feature = data_lagdiff[['shop_id','item_id','shopitem','item_category_id','Date', 'Sale']].copy()\n",
    "        df_feature['Date'] = df_feature.Date + pd.DateOffset(months=1)\n",
    "        df_feature = data_lagdiff.assign( possCounts = np.where(df_feature.Sale > 0, 1, 0) )\n",
    "        df_feature['possCounts'] = df_feature.groupby(['shopitem']).possCounts.transform(lambda x: x.sum())\n",
    "        df_feature['SaleL1M'] = df_feature.sort_values('Date').groupby(['shopitem'])['Sale'].shift(1)\n",
    "        df_feature = df_feature.assign(L0M_L1M = df_feature.Sale - df_feature.SaleL1M)\n",
    "        df_feature['maxVar'] = df_feature.groupby(['shopitem']).L0M_L1M.transform('max')\n",
    "        \n",
    "        df_feature = df_feature[df_feature.maxVar < 4].copy()\n",
    "\n",
    "        df_feature_shop = df_feature.groupby(['shop_id','month']).agg(sumVarShop = ('L0M_L1M','sum')).reset_index()\n",
    "        df_feature_item = df_feature[df_feature.possCounts < 5].groupby(['item_id','month']).agg(maxSmallItemVar = ('L0M_L1M','max'))\n",
    "\n",
    "        features_dictionary['SmallItemVars'] = df_feature_item\n",
    "        features_dictionary['ShopVarMax'] = df_feature_shop\n",
    "\n",
    "        ####################################\n",
    "        ##### end ##########################\n",
    "        ####################################\n",
    "\n",
    "        #########################################\n",
    "        ### only shops Columns  ##################\n",
    "        ########################################\n",
    "\n",
    "        df_feature = data_lagdiff[data_lagdiff.Date >= begin_date]\\\n",
    "            .groupby(['shop_id','Date'])\\\n",
    "            .agg( lowValueShop = ('Sale', q1), \n",
    "                medianValueShop = ('Sale',q2),\n",
    "                highValueShop = ('Sale',q3),\n",
    "                maxValueShop = ('Sale','max'))\\\n",
    "            .reset_index()\n",
    "        df_feature['Date'] = df_feature.Date + pd.DateOffset(months=1)\n",
    "        df_feature['RangeValueShop'] =  df_feature.maxValueShop - df_feature.medianValueShop\n",
    "        features_dictionary['Focus_shop_features'] = df_feature\n",
    "        \n",
    "        ## lags \n",
    "        df_feature['L1medianValueShop'] = df_feature.sort_values('Date').groupby(['shop_id'])['maxValueShop'].shift(1)\n",
    "        df_feature['L2medianValueShop'] = df_feature.sort_values('Date').groupby(['shop_id'])['maxValueShop'].shift(2)\n",
    "        df_feature['L3medianValueShop'] = df_feature.sort_values('Date').groupby(['shop_id'])['maxValueShop'].shift(3)\n",
    "        df_feature['L11medianValueShop'] = df_feature.sort_values('Date').groupby(['shop_id'])['maxValueShop'].shift(11)\n",
    "        df_feature['L12medianValueShop'] = df_feature.sort_values('Date').groupby(['shop_id'])['maxValueShop'].shift(12)\n",
    "\n",
    "        df_feature = df_feature.assign(L1M_L2MShop = df_feature.medianValueShop - df_feature.L1medianValueShop)\n",
    "        df_feature = df_feature.assign(L1M_L3MShop = df_feature.medianValueShop - df_feature.L2medianValueShop)\n",
    "        df_feature = df_feature.assign(L1M_L4MShop = df_feature.medianValueShop - df_feature.L3medianValueShop)\n",
    "        df_feature = df_feature.assign(L1M_L12MShop = df_feature.medianValueShop - df_feature.L11medianValueShop)\n",
    "        df_feature = df_feature.assign(L1M_L13MShop = df_feature.medianValueShop - df_feature.L12medianValueShop)\n",
    "\n",
    "        df_feature = df_feature.drop(columns = ['L1medianValueShop', 'L2medianValueShop', 'L3medianValueShop', 'L11medianValueShop', 'L12medianValueShop',\n",
    "                                               'lowValueShop', 'medianValueShop', 'highValueShop', 'maxValueShop'])\n",
    "\n",
    "        ## count recent 0\n",
    "        df_feature['count0'] = np.where(df_feature.L1M_L2MShop == 0,1,0)\n",
    "        df_feature['Roll0L1shop'] = df_feature.sort_values('Date').groupby(['shop_id']).count0.transform(lambda x: x.rolling(4, 1).sum())\n",
    "        df_feature_shop = df_feature.drop(columns = ['count0'])\n",
    "\n",
    "        features_dictionary['Focus_shop_features'] = df_feature_shop        \n",
    "\n",
    "        ####################################\n",
    "        ##### end ##########################\n",
    "        ####################################\n",
    "        \n",
    "        #######################################\n",
    "        ### for feature explosion \n",
    "        #######################################\n",
    "        \n",
    "        df_feature = data_lagdiff.merge(starters, on = 'item_id', how = 'left')\n",
    "\n",
    "        ### the reorder gives the date x gap to OrderGot\n",
    "        df_feature['reorder'] = df_feature['Order'] - df_feature['OrderGot'] \n",
    "\n",
    "        ### the lag diff gives the estimated variation\n",
    "        df_feature['SaleL1M'] = df_feature.sort_values('Order').groupby(['item_id'])['Sale'].shift(1)\n",
    "        df_feature = df_feature.assign(L1M_L2M = df_feature.Sale - df_feature.SaleL1M) \n",
    "\n",
    "        \n",
    "        ## feature  percentile variation for 3 times after start\n",
    "        df_feature_explosions = df_feature[(df_feature.reorder >= 0) & (df_feature.reorder <= 5)]\\\n",
    "            .groupby(['OrderGot', 'reorder']).agg(EstimVar = ('L1M_L2M','mean'))\\\n",
    "            .reset_index().sort_values(['OrderGot','reorder'],ascending = False)\\\n",
    "            .groupby('reorder').agg(EstimVar = ('EstimVar','mean'))\n",
    "        \n",
    "        features_dictionary['items_explosions'] = df_feature_explosions\n",
    "\n",
    "    \n",
    "        ####################################\n",
    "        ##### end ##########################\n",
    "        ####################################\n",
    "        \n",
    "        \n",
    "        data_result = data_lagdiff\n",
    "        return data_result, features_dictionary\n",
    "        \n",
    "    else:\n",
    "        data_result = data_lagdiff\n",
    "        \n",
    "        return data_result"
   ]
  },
  {
   "cell_type": "code",
   "execution_count": 92,
   "metadata": {},
   "outputs": [],
   "source": [
    "def integration_new_features_map(data, dict_feature, Starters, val_date = None):\n",
    "    data_wow = data.copy()\n",
    "        \n",
    "    ## first merge\n",
    "    data_wow = data_wow.merge(dict_feature['Focus_item_features'], on = ['item_id','Date'], how = 'left')\n",
    "    data_wow = data_wow.merge(dict_feature['Focus_shop_features'], on = ['shop_id','Date'], how = 'left')\n",
    "    data_wow = data_wow.merge(dict_feature['HighVarSeason'], on = ['item_id','Year','month'], how = 'left')\n",
    "    data_wow = data_wow.merge(dict_feature['ShopVarMax'], on = ['shop_id','month'], how = 'left')\n",
    "    data_wow = data_wow.merge(dict_feature['SmallItemVars'], on = ['item_id','month'], how = 'left')\n",
    "    \n",
    "    ## especial merge and additional features\n",
    "    data_wow = data_wow.merge(Starters, on = ['item_id'], how = 'left')\n",
    "    data_wow['reorder'] = data_wow['Order'] - data_wow['OrderGot']\n",
    "    data_wow['reorder'] = np.where(data_wow['reorder'].isna(), 0, data_wow['reorder'])\n",
    "    data_wow['NewItemIdAppeared'] = np.where(data_wow.Order > data_wow.OrderGot,1,0) \n",
    "    data_wow = data_wow.merge(dict_feature['items_explosions'], on = ['reorder'], how = 'left')\n",
    "\n",
    "    return data_wow"
   ]
  },
  {
   "cell_type": "code",
   "execution_count": 93,
   "metadata": {},
   "outputs": [],
   "source": [
    "starts = get_starts_items(wholedata_silver, train_full)"
   ]
  },
  {
   "cell_type": "code",
   "execution_count": 94,
   "metadata": {},
   "outputs": [],
   "source": [
    "data_train_selected = balance_items_test(train_full, percentage_test = 0.30, smalls_percent = 0.5, gen_sample = 0.05)"
   ]
  },
  {
   "cell_type": "code",
   "execution_count": 95,
   "metadata": {},
   "outputs": [
    {
     "data": {
      "text/plain": [
       "(106386, 9)"
      ]
     },
     "execution_count": 95,
     "metadata": {},
     "output_type": "execute_result"
    }
   ],
   "source": [
    "data_train_selected.shape"
   ]
  },
  {
   "cell_type": "code",
   "execution_count": 96,
   "metadata": {},
   "outputs": [
    {
     "name": "stdout",
     "output_type": "stream",
     "text": [
      "Wall time: 2min\n"
     ]
    }
   ],
   "source": [
    "%%time\n",
    "train_feature_tocomplete, features_dictionary = feature_silver(data_train_selected, starts, date_to_take = date_val)"
   ]
  },
  {
   "cell_type": "code",
   "execution_count": 97,
   "metadata": {},
   "outputs": [],
   "source": [
    "train_feature = integration_new_features_map(data = train_feature_tocomplete, dict_feature = features_dictionary, Starters = starts) "
   ]
  },
  {
   "cell_type": "code",
   "execution_count": 98,
   "metadata": {},
   "outputs": [],
   "source": [
    "def features_rows_train_silver(data, features, target ,validation = None, dates_back = 3):\n",
    "    data = data.copy()\n",
    "    if validation:\n",
    "        data_result = data[ data.Date == validation][features + [target]]\n",
    "        features_new = list(data_result.columns)\n",
    "        features_new.remove(target)\n",
    "        data_result = data_result[features_new + [target]].fillna(0)\n",
    "        \n",
    "    else:\n",
    "        ### splits\n",
    "        ### conventional for regular time series\n",
    "    \n",
    "        cutoff = 3\n",
    "        \n",
    "        ### Date cqpture ####################\n",
    "        date_max = data.Date.max()\n",
    "        months_to_get = [4,5,6,10,11]\n",
    "        minyear = 2014\n",
    "        min_date = date_max - relativedelta(months=dates_back)\n",
    "\n",
    "        year_i = date_max.year\n",
    "\n",
    "        dates_result = list()\n",
    "\n",
    "        while year_i >= minyear:\n",
    "            for monthi in months_to_get:\n",
    "                dates_result.append(datetime.datetime(year_i, monthi, 1))\n",
    "                dates_result = [x for x in dates_result if x <= date_max]\n",
    "            year_i = year_i - 1\n",
    "\n",
    "        dates_result = dates_result + [date_max - relativedelta(months=i) for i in range(0,dates_back +1)]\n",
    "        dates_result = list(set(dates_result))\n",
    "        dates_result.sort()\n",
    "        ######################################\n",
    "    \n",
    "        data_result = data[data.Date.isin(dates_result)][features + [target]].fillna(0)\n",
    "\n",
    "    return data_result"
   ]
  },
  {
   "cell_type": "code",
   "execution_count": 99,
   "metadata": {},
   "outputs": [
    {
     "data": {
      "text/plain": [
       "Index(['InTest', 'shop_id', 'item_id', 'shopitem', 'item_category_id', 'Date',\n",
       "       'Sale', 'Order', 'MiguelId', 'SaleL1M', 'L0M_L1M', 'L1M_L2M',\n",
       "       'ItemIdPart1', 'ItemIdPart2', 'ItemIdPart3', 'shopIdPart1',\n",
       "       'shopIdPart2', 'CategIdItem3', 'CategIdItem2', 'month',\n",
       "       'monthToPredict', 'Year', 'Quarter', 'RangeValueItem', 'L1M_L2MItem',\n",
       "       'L1M_L3MItem', 'L1M_L4MItem', 'L1M_L12MItem', 'L1M_L13MItem',\n",
       "       'L1M_L2MItemMax', 'L1M_L3MItemMax', 'L1M_L4MItemMax', 'L1M_L12MItemMax',\n",
       "       'L1M_L13MItemMax', 'Roll0L1Item', 'Roll0L1ItemMax', 'RangeValueShop',\n",
       "       'L1M_L2MShop', 'L1M_L3MShop', 'L1M_L4MShop', 'L1M_L12MShop',\n",
       "       'L1M_L13MShop', 'Roll0L1shop', 'medianVarL12', 'SeasonalVariation',\n",
       "       'HighVarL12', 'sumVarShop', 'maxSmallItemVar', 'OrderGot', 'reorder',\n",
       "       'NewItemIdAppeared', 'EstimVar'],\n",
       "      dtype='object')"
      ]
     },
     "execution_count": 99,
     "metadata": {},
     "output_type": "execute_result"
    }
   ],
   "source": [
    "train_feature.columns"
   ]
  },
  {
   "cell_type": "code",
   "execution_count": 100,
   "metadata": {},
   "outputs": [
    {
     "data": {
      "text/plain": [
       "42"
      ]
     },
     "execution_count": 100,
     "metadata": {},
     "output_type": "execute_result"
    }
   ],
   "source": [
    "to_drop_columns = ['Date','Sale','SaleL1M']\n",
    "ids_columns = ['shop_id','item_category_id','ItemIdPart1', 'ItemIdPart2', 'ItemIdPart3', 'shopIdPart1',\n",
    "       'shopIdPart2', 'CategIdItem3', 'CategIdItem2'] #'item_id'\n",
    "numericals = ['month',\n",
    "       'monthToPredict', 'Year', 'Quarter', 'RangeValueItem', 'L1M_L2MItem',\n",
    "       'L1M_L3MItem', 'L1M_L4MItem', 'L1M_L12MItem', 'L1M_L13MItem',\n",
    "       'L1M_L2MItemMax', 'L1M_L3MItemMax', 'L1M_L4MItemMax', 'L1M_L12MItemMax',\n",
    "       'L1M_L13MItemMax', 'Roll0L1Item', 'Roll0L1ItemMax', 'RangeValueShop',\n",
    "       'L1M_L2MShop', 'L1M_L3MShop', 'L1M_L4MShop', 'L1M_L12MShop',\n",
    "       'L1M_L13MShop', 'Roll0L1shop', 'medianVarL12', 'SeasonalVariation',\n",
    "       'HighVarL12', 'sumVarShop', 'maxSmallItemVar', 'OrderGot', 'reorder',\n",
    "       'NewItemIdAppeared', 'EstimVar'] + ids_columns\n",
    "categoricals = []\n",
    "my_features = to_drop_columns + numericals + categoricals\n",
    "my_target = 'L0M_L1M'\n",
    "len(my_features) - 3"
   ]
  },
  {
   "cell_type": "code",
   "execution_count": 101,
   "metadata": {},
   "outputs": [],
   "source": [
    "train_selection = features_rows_train_silver(data = train_feature, features = my_features, target = my_target)"
   ]
  },
  {
   "cell_type": "markdown",
   "metadata": {},
   "source": [
    "### continue ..."
   ]
  },
  {
   "cell_type": "code",
   "execution_count": 102,
   "metadata": {},
   "outputs": [],
   "source": [
    "def scaler(dataset, features, target, scaler=None, drop_columns = []):\n",
    "    if scaler:\n",
    "        features = [x for x in features if x not in drop_columns]\n",
    "        df = dataset[features + [target]]\n",
    "        df_scaled = scaler.transform(df)\n",
    "        dataset_scaled = pd.DataFrame(df_scaled, columns = df.columns, index = df.index)\n",
    "        return dataset_scaled\n",
    "    \n",
    "    else:\n",
    "        features = [x for x in features if x not in drop_columns]\n",
    "        df  = dataset[features + [target]]\n",
    "        scaler = MinMaxScaler()\n",
    "        scaler.fit(df)\n",
    "\n",
    "        dataset_scaled = scaler.transform(df)\n",
    "        dataset_scaled = pd.DataFrame(dataset_scaled, columns = df.columns, index = df.index)\n",
    "        return dataset_scaled, scaler"
   ]
  },
  {
   "cell_type": "code",
   "execution_count": 103,
   "metadata": {},
   "outputs": [],
   "source": [
    "my_columns_to_drops = ['Year', 'monthToPredict', 'Roll0L1shop', 'SeasonalVariation','L1M_L13MItemMax', 'Quarter']\n",
    "train_scaled, my_scaler = scaler(train_selection, numericals, my_target, scaler=None, drop_columns = my_columns_to_drops)\n",
    "if len(categoricals) != 0:\n",
    "    train_dummies = pd.get_dummies(train_selection[categoricals])\n",
    "    train_scaled = pd.concat([train_dummies,train_scaled],axis = 1)"
   ]
  },
  {
   "cell_type": "code",
   "execution_count": 104,
   "metadata": {},
   "outputs": [],
   "source": [
    "if len(categoricals) != 0:\n",
    "    final_features = list(train_dummies.columns) +  numericals\n",
    "else:\n",
    "    final_features = numericals\n",
    "final_features = [x for x in final_features if x not in my_columns_to_drops]"
   ]
  },
  {
   "cell_type": "code",
   "execution_count": 105,
   "metadata": {},
   "outputs": [
    {
     "data": {
      "text/html": [
       "<div>\n",
       "<style scoped>\n",
       "    .dataframe tbody tr th:only-of-type {\n",
       "        vertical-align: middle;\n",
       "    }\n",
       "\n",
       "    .dataframe tbody tr th {\n",
       "        vertical-align: top;\n",
       "    }\n",
       "\n",
       "    .dataframe thead th {\n",
       "        text-align: right;\n",
       "    }\n",
       "</style>\n",
       "<table border=\"1\" class=\"dataframe\">\n",
       "  <thead>\n",
       "    <tr style=\"text-align: right;\">\n",
       "      <th></th>\n",
       "      <th>month</th>\n",
       "      <th>RangeValueItem</th>\n",
       "      <th>L1M_L2MItem</th>\n",
       "      <th>L1M_L3MItem</th>\n",
       "      <th>L1M_L4MItem</th>\n",
       "      <th>L1M_L12MItem</th>\n",
       "      <th>L1M_L13MItem</th>\n",
       "      <th>L1M_L2MItemMax</th>\n",
       "      <th>L1M_L3MItemMax</th>\n",
       "      <th>L1M_L4MItemMax</th>\n",
       "      <th>...</th>\n",
       "      <th>shop_id</th>\n",
       "      <th>item_category_id</th>\n",
       "      <th>ItemIdPart1</th>\n",
       "      <th>ItemIdPart2</th>\n",
       "      <th>ItemIdPart3</th>\n",
       "      <th>shopIdPart1</th>\n",
       "      <th>shopIdPart2</th>\n",
       "      <th>CategIdItem3</th>\n",
       "      <th>CategIdItem2</th>\n",
       "      <th>L0M_L1M</th>\n",
       "    </tr>\n",
       "  </thead>\n",
       "  <tbody>\n",
       "    <tr>\n",
       "      <th>75990</th>\n",
       "      <td>0.0</td>\n",
       "      <td>0.000000</td>\n",
       "      <td>0.428571</td>\n",
       "      <td>0.483871</td>\n",
       "      <td>0.603306</td>\n",
       "      <td>0.802817</td>\n",
       "      <td>0.652893</td>\n",
       "      <td>0.431111</td>\n",
       "      <td>0.455319</td>\n",
       "      <td>0.561644</td>\n",
       "      <td>...</td>\n",
       "      <td>0.0</td>\n",
       "      <td>0.679012</td>\n",
       "      <td>1.000000</td>\n",
       "      <td>0.500</td>\n",
       "      <td>0.550562</td>\n",
       "      <td>0.0</td>\n",
       "      <td>0.0</td>\n",
       "      <td>1.000000</td>\n",
       "      <td>0.333333</td>\n",
       "      <td>0.561111</td>\n",
       "    </tr>\n",
       "    <tr>\n",
       "      <th>75991</th>\n",
       "      <td>0.0</td>\n",
       "      <td>0.000000</td>\n",
       "      <td>0.428571</td>\n",
       "      <td>0.483871</td>\n",
       "      <td>0.603306</td>\n",
       "      <td>0.802817</td>\n",
       "      <td>0.652893</td>\n",
       "      <td>0.431111</td>\n",
       "      <td>0.455319</td>\n",
       "      <td>0.561644</td>\n",
       "      <td>...</td>\n",
       "      <td>0.0</td>\n",
       "      <td>0.925926</td>\n",
       "      <td>0.777778</td>\n",
       "      <td>0.625</td>\n",
       "      <td>0.617978</td>\n",
       "      <td>0.0</td>\n",
       "      <td>0.0</td>\n",
       "      <td>0.333333</td>\n",
       "      <td>0.666667</td>\n",
       "      <td>0.561111</td>\n",
       "    </tr>\n",
       "    <tr>\n",
       "      <th>75992</th>\n",
       "      <td>0.0</td>\n",
       "      <td>0.004762</td>\n",
       "      <td>0.434524</td>\n",
       "      <td>0.489247</td>\n",
       "      <td>0.607438</td>\n",
       "      <td>0.802817</td>\n",
       "      <td>0.652893</td>\n",
       "      <td>0.435556</td>\n",
       "      <td>0.459574</td>\n",
       "      <td>0.565068</td>\n",
       "      <td>...</td>\n",
       "      <td>0.0</td>\n",
       "      <td>0.802469</td>\n",
       "      <td>0.777778</td>\n",
       "      <td>0.000</td>\n",
       "      <td>0.000000</td>\n",
       "      <td>0.0</td>\n",
       "      <td>0.0</td>\n",
       "      <td>0.666667</td>\n",
       "      <td>0.333333</td>\n",
       "      <td>0.561111</td>\n",
       "    </tr>\n",
       "    <tr>\n",
       "      <th>75993</th>\n",
       "      <td>0.0</td>\n",
       "      <td>0.000000</td>\n",
       "      <td>0.428571</td>\n",
       "      <td>0.483871</td>\n",
       "      <td>0.603306</td>\n",
       "      <td>0.802817</td>\n",
       "      <td>0.652893</td>\n",
       "      <td>0.431111</td>\n",
       "      <td>0.455319</td>\n",
       "      <td>0.561644</td>\n",
       "      <td>...</td>\n",
       "      <td>0.0</td>\n",
       "      <td>0.925926</td>\n",
       "      <td>0.777778</td>\n",
       "      <td>0.000</td>\n",
       "      <td>0.000000</td>\n",
       "      <td>0.0</td>\n",
       "      <td>0.0</td>\n",
       "      <td>0.666667</td>\n",
       "      <td>0.333333</td>\n",
       "      <td>0.561111</td>\n",
       "    </tr>\n",
       "    <tr>\n",
       "      <th>75994</th>\n",
       "      <td>0.0</td>\n",
       "      <td>0.000000</td>\n",
       "      <td>0.428571</td>\n",
       "      <td>0.483871</td>\n",
       "      <td>0.603306</td>\n",
       "      <td>0.802817</td>\n",
       "      <td>0.652893</td>\n",
       "      <td>0.431111</td>\n",
       "      <td>0.455319</td>\n",
       "      <td>0.561644</td>\n",
       "      <td>...</td>\n",
       "      <td>0.0</td>\n",
       "      <td>0.333333</td>\n",
       "      <td>0.222222</td>\n",
       "      <td>0.000</td>\n",
       "      <td>0.044944</td>\n",
       "      <td>0.0</td>\n",
       "      <td>0.0</td>\n",
       "      <td>0.666667</td>\n",
       "      <td>0.333333</td>\n",
       "      <td>0.561111</td>\n",
       "    </tr>\n",
       "  </tbody>\n",
       "</table>\n",
       "<p>5 rows × 37 columns</p>\n",
       "</div>"
      ],
      "text/plain": [
       "       month  RangeValueItem  L1M_L2MItem  L1M_L3MItem  L1M_L4MItem  \\\n",
       "75990    0.0        0.000000     0.428571     0.483871     0.603306   \n",
       "75991    0.0        0.000000     0.428571     0.483871     0.603306   \n",
       "75992    0.0        0.004762     0.434524     0.489247     0.607438   \n",
       "75993    0.0        0.000000     0.428571     0.483871     0.603306   \n",
       "75994    0.0        0.000000     0.428571     0.483871     0.603306   \n",
       "\n",
       "       L1M_L12MItem  L1M_L13MItem  L1M_L2MItemMax  L1M_L3MItemMax  \\\n",
       "75990      0.802817      0.652893        0.431111        0.455319   \n",
       "75991      0.802817      0.652893        0.431111        0.455319   \n",
       "75992      0.802817      0.652893        0.435556        0.459574   \n",
       "75993      0.802817      0.652893        0.431111        0.455319   \n",
       "75994      0.802817      0.652893        0.431111        0.455319   \n",
       "\n",
       "       L1M_L4MItemMax  ...  shop_id  item_category_id  ItemIdPart1  \\\n",
       "75990        0.561644  ...      0.0          0.679012     1.000000   \n",
       "75991        0.561644  ...      0.0          0.925926     0.777778   \n",
       "75992        0.565068  ...      0.0          0.802469     0.777778   \n",
       "75993        0.561644  ...      0.0          0.925926     0.777778   \n",
       "75994        0.561644  ...      0.0          0.333333     0.222222   \n",
       "\n",
       "       ItemIdPart2  ItemIdPart3  shopIdPart1  shopIdPart2  CategIdItem3  \\\n",
       "75990        0.500     0.550562          0.0          0.0      1.000000   \n",
       "75991        0.625     0.617978          0.0          0.0      0.333333   \n",
       "75992        0.000     0.000000          0.0          0.0      0.666667   \n",
       "75993        0.000     0.000000          0.0          0.0      0.666667   \n",
       "75994        0.000     0.044944          0.0          0.0      0.666667   \n",
       "\n",
       "       CategIdItem2   L0M_L1M  \n",
       "75990      0.333333  0.561111  \n",
       "75991      0.666667  0.561111  \n",
       "75992      0.333333  0.561111  \n",
       "75993      0.333333  0.561111  \n",
       "75994      0.333333  0.561111  \n",
       "\n",
       "[5 rows x 37 columns]"
      ]
     },
     "execution_count": 105,
     "metadata": {},
     "output_type": "execute_result"
    }
   ],
   "source": [
    "train_scaled.head()"
   ]
  },
  {
   "cell_type": "code",
   "execution_count": 106,
   "metadata": {},
   "outputs": [
    {
     "data": {
      "text/plain": [
       "((30396, 37), (30396, 46))"
      ]
     },
     "execution_count": 106,
     "metadata": {},
     "output_type": "execute_result"
    }
   ],
   "source": [
    "train_scaled.shape, train_selection.shape"
   ]
  },
  {
   "cell_type": "markdown",
   "metadata": {},
   "source": [
    "### ML modeling using ADAboost"
   ]
  },
  {
   "cell_type": "code",
   "execution_count": 107,
   "metadata": {},
   "outputs": [],
   "source": [
    "X_train = train_scaled[final_features]\n",
    "Y_train = train_scaled[my_target]"
   ]
  },
  {
   "cell_type": "code",
   "execution_count": 108,
   "metadata": {},
   "outputs": [
    {
     "name": "stdout",
     "output_type": "stream",
     "text": [
      "Wall time: 17.5 s\n"
     ]
    },
    {
     "data": {
      "text/plain": [
       "AdaBoostRegressor(base_estimator=DecisionTreeRegressor(max_depth=30,\n",
       "                                                       max_features=25,\n",
       "                                                       min_samples_leaf=10,\n",
       "                                                       min_samples_split=10),\n",
       "                  learning_rate=0.005, n_estimators=40)"
      ]
     },
     "execution_count": 108,
     "metadata": {},
     "output_type": "execute_result"
    }
   ],
   "source": [
    "%%time\n",
    "my_base = DecisionTreeRegressor(criterion = 'squared_error', max_depth = 30, min_samples_split = 10, min_samples_leaf = 10 , max_features = 25)\n",
    "my_ABM = AdaBoostRegressor(base_estimator = my_base, n_estimators=40, learning_rate=0.005, loss='linear')\n",
    "my_ABM.fit(X_train, Y_train)"
   ]
  },
  {
   "cell_type": "markdown",
   "metadata": {},
   "source": [
    "<b> hold out validation"
   ]
  },
  {
   "cell_type": "code",
   "execution_count": 109,
   "metadata": {},
   "outputs": [],
   "source": [
    "full_valandtrain = preparing_to_predict(val_data = val_window, train_data = train_window)\n",
    "full_valandtrain_selected = completion_semi_gold(full_valandtrain)"
   ]
  },
  {
   "cell_type": "code",
   "execution_count": 110,
   "metadata": {},
   "outputs": [],
   "source": [
    "valandtrain_feature = feature_silver(full_valandtrain_selected, starts, date_to_take = date_val, Train = False)\n",
    "valandtrain_feature = integration_new_features_map(data = valandtrain_feature, dict_feature= features_dictionary, val_date = date_val, Starters = starts) "
   ]
  },
  {
   "cell_type": "code",
   "execution_count": 111,
   "metadata": {},
   "outputs": [],
   "source": [
    "val_selection = features_rows_train_silver(data = valandtrain_feature, features = my_features, target = my_target, validation = date_val) "
   ]
  },
  {
   "cell_type": "code",
   "execution_count": 112,
   "metadata": {},
   "outputs": [],
   "source": [
    "val_scaled = scaler(val_selection, numericals, my_target, scaler=my_scaler,drop_columns = my_columns_to_drops )\n",
    "\n",
    "if len(categoricals) != 0:\n",
    "    val_dummies = pd.get_dummies(val_selection[categoricals])\n",
    "    val_scaled_full = pd.concat([val_dummies,val_scaled],axis = 1)\n",
    "else:\n",
    "    val_scaled_full = val_scaled"
   ]
  },
  {
   "cell_type": "code",
   "execution_count": 113,
   "metadata": {},
   "outputs": [],
   "source": [
    "X_val = val_scaled_full[final_features]"
   ]
  },
  {
   "cell_type": "code",
   "execution_count": 114,
   "metadata": {},
   "outputs": [],
   "source": [
    "Y_pred = my_ABM.predict(X_val)"
   ]
  },
  {
   "cell_type": "code",
   "execution_count": 115,
   "metadata": {},
   "outputs": [],
   "source": [
    "predicted_val = inversed_scale(scaler = my_scaler, data = val_scaled, target_name = my_target, y_pred = Y_pred)"
   ]
  },
  {
   "cell_type": "code",
   "execution_count": 116,
   "metadata": {},
   "outputs": [],
   "source": [
    "my_lm_plot = consolidation_prediction(data = val_selection, prediction = predicted_val.L0M_L1M.values)"
   ]
  },
  {
   "cell_type": "code",
   "execution_count": 117,
   "metadata": {},
   "outputs": [
    {
     "data": {
      "image/png": "[encoded data removed]",
      "text/plain": [
       "<Figure size 1440x576 with 2 Axes>"
      ]
     },
     "metadata": {},
     "output_type": "display_data"
    }
   ],
   "source": [
    "plot_prediction(my_lm_plot)"
   ]
  },
  {
   "cell_type": "code",
   "execution_count": 118,
   "metadata": {},
   "outputs": [
    {
     "data": {
      "text/plain": [
       "[Text(0.5, 1.0, 'feature importance')]"
      ]
     },
     "execution_count": 118,
     "metadata": {},
     "output_type": "execute_result"
    },
    {
     "data": {
      "image/png": "[encoded data removed]",
      "text/plain": [
       "<Figure size 288x720 with 1 Axes>"
      ]
     },
     "metadata": {},
     "output_type": "display_data"
    }
   ],
   "source": [
    "dfplot = pd.DataFrame({'feature':final_features,'importance': list(my_ABM.feature_importances_)}).sort_values('importance',ascending = False)\n",
    "\n",
    "fig = plt.figure(figsize=(4,10))\n",
    "ax = sns.barplot(x=\"importance\", y=\"feature\", data=dfplot)\n",
    "ax.set(title='feature importance')"
   ]
  },
  {
   "cell_type": "code",
   "execution_count": 119,
   "metadata": {},
   "outputs": [
    {
     "data": {
      "text/plain": [
       "array(['NewItemIdAppeared', 'Roll0L1ItemMax', 'Roll0L1Item',\n",
       "       'ItemIdPart2', 'medianVarL12', 'CategIdItem3'], dtype=object)"
      ]
     },
     "execution_count": 119,
     "metadata": {},
     "output_type": "execute_result"
    }
   ],
   "source": [
    "dfplot.sort_values('importance').head(6).feature.values"
   ]
  },
  {
   "cell_type": "markdown",
   "metadata": {},
   "source": [
    "### Production of folds for cross validation"
   ]
  },
  {
   "cell_type": "code",
   "execution_count": 49,
   "metadata": {},
   "outputs": [
    {
     "name": "stdout",
     "output_type": "stream",
     "text": [
      "the datasets for the date 2014-11-01\n",
      "the datasets for the date 2015-04-01\n",
      "the datasets for the date 2015-05-01\n",
      "the datasets for the date 2015-06-01\n",
      "the datasets for the date 2015-07-01\n",
      "the datasets for the date 2015-08-01\n",
      "the datasets for the date 2015-09-01\n",
      "the datasets for the date 2015-10-01\n"
     ]
    }
   ],
   "source": [
    "sample_degree = 0.005\n",
    "for date_val in test_dates:\n",
    "    date_val_str = date_val.strftime('%Y-%m-%d')\n",
    "    train_window = wholedata_silver[wholedata_silver.SaleDateMY < date_val ].copy()\n",
    "    val_window = wholedata_silver[wholedata_silver.SaleDateMY == date_val ]\\\n",
    "        [['InTest','SaleDateMY','shop_id','item_id','item_category_id', 'item_category_name','item_cnt_day']].copy()\n",
    "    train_full = completion_semi_gold(train_window)\n",
    "    data_train_selected = balance_items_test(train_full, percentage_test = 0.30, smalls_percent = 0.5, gen_sample = sample_degree)\n",
    "    train_feature, features_dictionary = feature_silver(data_train_selected, date_to_take = date_val)\n",
    "    train_feature = integration_new_features_map(data = train_feature, dict_feature= features_dictionary) \n",
    "    train_selection = features_rows_train_silver(data = train_feature, features = my_features, target = my_target)\n",
    "    \n",
    "    full_valandtrain = preparing_to_predict(val_data = val_window, train_data = train_window)\n",
    "    full_valandtrain_selected = completion_semi_gold(full_valandtrain)\n",
    "    valandtrain_feature = feature_silver(full_valandtrain_selected, date_to_take = date_val, Train = False)\n",
    "    valandtrain_feature = integration_new_features_map(data = valandtrain_feature, dict_feature= features_dictionary, val_date = date_val) \n",
    "    val_selection = features_rows_train_silver(data = valandtrain_feature, features = my_features, target = my_target, validation = date_val)  \n",
    "    \n",
    "    ### Saving DataFrames\n",
    "    outdir = f'./generated_datasets/data_{date_val_str}/'\n",
    "    if not os.path.exists(outdir):\n",
    "        os.mkdir(outdir)\n",
    "        \n",
    "    train_name = os.path.join(outdir, 'train_selection.csv') \n",
    "    train_selection.to_csv(path_or_buf = train_name,header=True, index=False)\n",
    "    \n",
    "    val_name = os.path.join(outdir, 'val_selection.csv') \n",
    "    val_selection.to_csv(path_or_buf = val_name,header=True, index=False)\n",
    "    \n",
    "    print(f'the datasets for the date {date_val_str}')"
   ]
  },
  {
   "cell_type": "code",
   "execution_count": 50,
   "metadata": {},
   "outputs": [],
   "source": [
    "def My_ML_prediction_on_test(dates_vector, model, frac = 0.80):\n",
    "\n",
    "    data_result = list()\n",
    "\n",
    "    for datex in dates_vector:\n",
    "        datex_str = datex.strftime('%Y-%m-%d')\n",
    "        #### reading files\n",
    "        train_selection = pd.read_csv(f'generated_datasets/data_{datex_str}/train_selection.csv')\n",
    "        val_selection = pd.read_csv(f'generated_datasets/data_{datex_str}/val_selection.csv')\n",
    "        \n",
    "        train_scaled, my_scaler = scaler(train_selection, numericals, my_target, scaler=None, drop_columns = my_columns_to_drops)\n",
    "        if len(categoricals) != 0:\n",
    "            train_dummies = pd.get_dummies(train_selection[categoricals])\n",
    "            train_scaled = pd.concat([train_dummies,train_scaled],axis = 1)\n",
    "        \n",
    "        ### ML train\n",
    "        X_train = train_scaled[final_features]\n",
    "        Y_train = train_scaled[my_target]\n",
    "        model.fit(X_train, Y_train)\n",
    "        \n",
    "        ### Test data prepa\n",
    "        val_scaled = scaler(val_selection, numericals, my_target, scaler=my_scaler,drop_columns = my_columns_to_drops )\n",
    "        \n",
    "        if len(categoricals) != 0:\n",
    "            val_dummies = pd.get_dummies(val_selection[categoricals])\n",
    "            val_scaled_full = pd.concat([val_dummies,val_scaled],axis = 1)\n",
    "        else:\n",
    "            val_scaled_full = val_scaled\n",
    "        \n",
    "        X_val = val_scaled_full[final_features]\n",
    "        \n",
    "        ## Prediction\n",
    "        Y_pred = model.predict(X_val)\n",
    "        \n",
    "        ## Saving Result\n",
    "        predicted_val = inversed_scale(scaler = my_scaler, data = val_scaled, target_name = my_target, y_pred = Y_pred)\n",
    "        my_lm_plot = consolidation_prediction(data = val_selection, prediction = predicted_val.L0M_L1M.values)\n",
    "        data_result.append(my_lm_plot)\n",
    "        #print(f'the prediction over the {datex} data is done')\n",
    "        \n",
    "    return pd.concat(data_result)"
   ]
  },
  {
   "cell_type": "code",
   "execution_count": 51,
   "metadata": {},
   "outputs": [],
   "source": [
    "my_base = DecisionTreeRegressor(criterion = 'squared_error', max_depth = 30, min_samples_split = 10, min_samples_leaf = 10 , max_features = 25)\n",
    "my_ABM = AdaBoostRegressor(base_estimator = my_base, n_estimators=40, learning_rate=0.005, loss='linear')\n",
    "my_test_results = My_ML_prediction_on_test( dates_vector = test_dates, model = my_ABM, frac = 0.50)"
   ]
  },
  {
   "cell_type": "code",
   "execution_count": 52,
   "metadata": {},
   "outputs": [
    {
     "data": {
      "image/png": "[encoded data removed]",
      "text/plain": [
       "<Figure size 1440x576 with 2 Axes>"
      ]
     },
     "metadata": {},
     "output_type": "display_data"
    }
   ],
   "source": [
    "plot_prediction(my_test_results)"
   ]
  },
  {
   "cell_type": "code",
   "execution_count": 53,
   "metadata": {},
   "outputs": [],
   "source": [
    "rmse_results = plot_metrics(my_test_results)"
   ]
  },
  {
   "cell_type": "code",
   "execution_count": 54,
   "metadata": {},
   "outputs": [
    {
     "data": {
      "text/plain": [
       "9.675372773060358"
      ]
     },
     "execution_count": 54,
     "metadata": {},
     "output_type": "execute_result"
    }
   ],
   "source": [
    "rmse_results.RMSE.mean()"
   ]
  },
  {
   "cell_type": "code",
   "execution_count": 55,
   "metadata": {},
   "outputs": [
    {
     "data": {
      "image/png": "[encoded data removed]",
      "text/plain": [
       "<Figure size 720x432 with 1 Axes>"
      ]
     },
     "metadata": {},
     "output_type": "display_data"
    }
   ],
   "source": [
    "fig, axs = plt.subplots(nrows=1, ncols=1,figsize=(10,6), sharex=True)\n",
    "ax = sns.lineplot(ax = axs , data = rmse_results, x=\"Date\", y=\"RMSE\", marker = True, )\n",
    "ax = sns.scatterplot(ax = axs , data = rmse_results, x=\"Date\", y=\"RMSE\", s = 35 )"
   ]
  },
  {
   "cell_type": "markdown",
   "metadata": {},
   "source": [
    "<b> checking errors"
   ]
  },
  {
   "cell_type": "code",
   "execution_count": 56,
   "metadata": {},
   "outputs": [],
   "source": [
    "my_test_results_melt = my_test_results.assign(Class = np.where( my_test_results.Sale > 10, 'A',\n",
    "                                                      np.where( my_test_results.Sale > 7, 'B',\n",
    "                                                      np.where( my_test_results.Sale > 5, 'C',\n",
    "                                                      np.where( my_test_results.Sale > 3, 'D','E')))))\\\n",
    "                            .assign(ABSerror = abs(my_test_results.Sale - my_test_results.PredSale))"
   ]
  },
  {
   "cell_type": "code",
   "execution_count": 57,
   "metadata": {},
   "outputs": [
    {
     "data": {
      "text/html": [
       "<div>\n",
       "<style scoped>\n",
       "    .dataframe tbody tr th:only-of-type {\n",
       "        vertical-align: middle;\n",
       "    }\n",
       "\n",
       "    .dataframe tbody tr th {\n",
       "        vertical-align: top;\n",
       "    }\n",
       "\n",
       "    .dataframe thead tr th {\n",
       "        text-align: left;\n",
       "    }\n",
       "\n",
       "    .dataframe thead tr:last-of-type th {\n",
       "        text-align: right;\n",
       "    }\n",
       "</style>\n",
       "<table border=\"1\" class=\"dataframe\">\n",
       "  <thead>\n",
       "    <tr>\n",
       "      <th></th>\n",
       "      <th colspan=\"5\" halign=\"left\">ABSerror</th>\n",
       "    </tr>\n",
       "    <tr>\n",
       "      <th>Class</th>\n",
       "      <th>A</th>\n",
       "      <th>B</th>\n",
       "      <th>C</th>\n",
       "      <th>D</th>\n",
       "      <th>E</th>\n",
       "    </tr>\n",
       "    <tr>\n",
       "      <th>Date</th>\n",
       "      <th></th>\n",
       "      <th></th>\n",
       "      <th></th>\n",
       "      <th></th>\n",
       "      <th></th>\n",
       "    </tr>\n",
       "  </thead>\n",
       "  <tbody>\n",
       "    <tr>\n",
       "      <th>2014-11-01</th>\n",
       "      <td>26.500000</td>\n",
       "      <td>8.846154</td>\n",
       "      <td>6.000000</td>\n",
       "      <td>3.9375</td>\n",
       "      <td>1.100000</td>\n",
       "    </tr>\n",
       "    <tr>\n",
       "      <th>2015-04-01</th>\n",
       "      <td>27.000000</td>\n",
       "      <td>9.000000</td>\n",
       "      <td>6.000000</td>\n",
       "      <td>4.0000</td>\n",
       "      <td>1.000000</td>\n",
       "    </tr>\n",
       "    <tr>\n",
       "      <th>2015-05-01</th>\n",
       "      <td>32.000000</td>\n",
       "      <td>8.986842</td>\n",
       "      <td>6.000000</td>\n",
       "      <td>4.0000</td>\n",
       "      <td>1.000000</td>\n",
       "    </tr>\n",
       "    <tr>\n",
       "      <th>2015-06-01</th>\n",
       "      <td>26.000000</td>\n",
       "      <td>8.000000</td>\n",
       "      <td>6.000000</td>\n",
       "      <td>4.0000</td>\n",
       "      <td>1.000000</td>\n",
       "    </tr>\n",
       "    <tr>\n",
       "      <th>2015-07-01</th>\n",
       "      <td>15.000000</td>\n",
       "      <td>8.000000</td>\n",
       "      <td>6.000000</td>\n",
       "      <td>4.0000</td>\n",
       "      <td>1.000000</td>\n",
       "    </tr>\n",
       "    <tr>\n",
       "      <th>2015-08-01</th>\n",
       "      <td>15.333333</td>\n",
       "      <td>7.912879</td>\n",
       "      <td>5.914773</td>\n",
       "      <td>4.0000</td>\n",
       "      <td>1.000000</td>\n",
       "    </tr>\n",
       "    <tr>\n",
       "      <th>2015-09-01</th>\n",
       "      <td>24.875000</td>\n",
       "      <td>9.000000</td>\n",
       "      <td>6.000000</td>\n",
       "      <td>4.0000</td>\n",
       "      <td>1.000000</td>\n",
       "    </tr>\n",
       "    <tr>\n",
       "      <th>2015-10-01</th>\n",
       "      <td>22.653846</td>\n",
       "      <td>8.996503</td>\n",
       "      <td>6.000000</td>\n",
       "      <td>4.0000</td>\n",
       "      <td>1.005102</td>\n",
       "    </tr>\n",
       "  </tbody>\n",
       "</table>\n",
       "</div>"
      ],
      "text/plain": [
       "             ABSerror                                      \n",
       "Class               A         B         C       D         E\n",
       "Date                                                       \n",
       "2014-11-01  26.500000  8.846154  6.000000  3.9375  1.100000\n",
       "2015-04-01  27.000000  9.000000  6.000000  4.0000  1.000000\n",
       "2015-05-01  32.000000  8.986842  6.000000  4.0000  1.000000\n",
       "2015-06-01  26.000000  8.000000  6.000000  4.0000  1.000000\n",
       "2015-07-01  15.000000  8.000000  6.000000  4.0000  1.000000\n",
       "2015-08-01  15.333333  7.912879  5.914773  4.0000  1.000000\n",
       "2015-09-01  24.875000  9.000000  6.000000  4.0000  1.000000\n",
       "2015-10-01  22.653846  8.996503  6.000000  4.0000  1.005102"
      ]
     },
     "execution_count": 57,
     "metadata": {},
     "output_type": "execute_result"
    }
   ],
   "source": [
    "my_test_results_melt.pivot_table(index = ['Date'], columns = 'Class', values = ['ABSerror'], aggfunc =  lambda x: np.percentile(x, 75) )"
   ]
  },
  {
   "cell_type": "code",
   "execution_count": 58,
   "metadata": {},
   "outputs": [
    {
     "data": {
      "text/html": [
       "<div>\n",
       "<style scoped>\n",
       "    .dataframe tbody tr th:only-of-type {\n",
       "        vertical-align: middle;\n",
       "    }\n",
       "\n",
       "    .dataframe tbody tr th {\n",
       "        vertical-align: top;\n",
       "    }\n",
       "\n",
       "    .dataframe thead tr th {\n",
       "        text-align: left;\n",
       "    }\n",
       "\n",
       "    .dataframe thead tr:last-of-type th {\n",
       "        text-align: right;\n",
       "    }\n",
       "</style>\n",
       "<table border=\"1\" class=\"dataframe\">\n",
       "  <thead>\n",
       "    <tr>\n",
       "      <th></th>\n",
       "      <th colspan=\"5\" halign=\"left\">ABSerror</th>\n",
       "    </tr>\n",
       "    <tr>\n",
       "      <th>Class</th>\n",
       "      <th>A</th>\n",
       "      <th>B</th>\n",
       "      <th>C</th>\n",
       "      <th>D</th>\n",
       "      <th>E</th>\n",
       "    </tr>\n",
       "    <tr>\n",
       "      <th>Date</th>\n",
       "      <th></th>\n",
       "      <th></th>\n",
       "      <th></th>\n",
       "      <th></th>\n",
       "      <th></th>\n",
       "    </tr>\n",
       "  </thead>\n",
       "  <tbody>\n",
       "    <tr>\n",
       "      <th>2014-11-01</th>\n",
       "      <td>640.000000</td>\n",
       "      <td>53.062500</td>\n",
       "      <td>69.111111</td>\n",
       "      <td>39.250000</td>\n",
       "      <td>1071.111111</td>\n",
       "    </tr>\n",
       "    <tr>\n",
       "      <th>2015-04-01</th>\n",
       "      <td>1238.800000</td>\n",
       "      <td>151.000000</td>\n",
       "      <td>128.157895</td>\n",
       "      <td>87.100000</td>\n",
       "      <td>85.100000</td>\n",
       "    </tr>\n",
       "    <tr>\n",
       "      <th>2015-05-01</th>\n",
       "      <td>550.000000</td>\n",
       "      <td>45.000000</td>\n",
       "      <td>252.000000</td>\n",
       "      <td>808.000000</td>\n",
       "      <td>1240.000000</td>\n",
       "    </tr>\n",
       "    <tr>\n",
       "      <th>2015-06-01</th>\n",
       "      <td>540.000000</td>\n",
       "      <td>90.000000</td>\n",
       "      <td>55.578947</td>\n",
       "      <td>75.000000</td>\n",
       "      <td>84.000000</td>\n",
       "    </tr>\n",
       "    <tr>\n",
       "      <th>2015-07-01</th>\n",
       "      <td>97.000000</td>\n",
       "      <td>30.000000</td>\n",
       "      <td>22.888889</td>\n",
       "      <td>28.277778</td>\n",
       "      <td>108.000000</td>\n",
       "    </tr>\n",
       "    <tr>\n",
       "      <th>2015-08-01</th>\n",
       "      <td>144.000000</td>\n",
       "      <td>44.000000</td>\n",
       "      <td>18.000000</td>\n",
       "      <td>43.181818</td>\n",
       "      <td>55.000000</td>\n",
       "    </tr>\n",
       "    <tr>\n",
       "      <th>2015-09-01</th>\n",
       "      <td>1625.000000</td>\n",
       "      <td>33.000000</td>\n",
       "      <td>19.000000</td>\n",
       "      <td>41.000000</td>\n",
       "      <td>25.000000</td>\n",
       "    </tr>\n",
       "    <tr>\n",
       "      <th>2015-10-01</th>\n",
       "      <td>2006.833333</td>\n",
       "      <td>54.307692</td>\n",
       "      <td>66.000000</td>\n",
       "      <td>61.210526</td>\n",
       "      <td>51.006993</td>\n",
       "    </tr>\n",
       "  </tbody>\n",
       "</table>\n",
       "</div>"
      ],
      "text/plain": [
       "               ABSerror                                                 \n",
       "Class                 A           B           C           D            E\n",
       "Date                                                                    \n",
       "2014-11-01   640.000000   53.062500   69.111111   39.250000  1071.111111\n",
       "2015-04-01  1238.800000  151.000000  128.157895   87.100000    85.100000\n",
       "2015-05-01   550.000000   45.000000  252.000000  808.000000  1240.000000\n",
       "2015-06-01   540.000000   90.000000   55.578947   75.000000    84.000000\n",
       "2015-07-01    97.000000   30.000000   22.888889   28.277778   108.000000\n",
       "2015-08-01   144.000000   44.000000   18.000000   43.181818    55.000000\n",
       "2015-09-01  1625.000000   33.000000   19.000000   41.000000    25.000000\n",
       "2015-10-01  2006.833333   54.307692   66.000000   61.210526    51.006993"
      ]
     },
     "execution_count": 58,
     "metadata": {},
     "output_type": "execute_result"
    }
   ],
   "source": [
    "my_test_results_melt.pivot_table(index = ['Date'], columns = 'Class', values = ['ABSerror'], aggfunc =  lambda x: np.percentile(x, 100) )"
   ]
  },
  {
   "cell_type": "markdown",
   "metadata": {},
   "source": [
    "some improvement :/\n",
    "improve algo speed"
   ]
  },
  {
   "cell_type": "markdown",
   "metadata": {},
   "source": [
    "### Basic K flod with Parameter tunning"
   ]
  },
  {
   "cell_type": "code",
   "execution_count": 72,
   "metadata": {},
   "outputs": [],
   "source": [
    "my_adab_models = list()\n",
    "number_of_machines = 10\n",
    "machines_labels = [f'machine-{x}' for x in range(1,number_of_machines +1) ]\n",
    "\n",
    "parameters = { 'Machine':machines_labels,\n",
    "    'max_depth': [25,30, 40, 55, 30, 25, 19, 34, 50, 35],\n",
    "    'min_samples_split':[5, 4, 10, 7, 9, 15, 3, 3, 5, 5],\n",
    "    'min_samples_leaf':[10, 7, 12, 5, 4, 3, 3, 3, 15, 12],\n",
    "    'max_features':[25, 30, 25, 25, 30, 27, 30, 22, 25, 26],\n",
    "              \n",
    "    'n_estimators' : [50, 45, 90, 100, 50, 35, 150, 120, 85, 60],\n",
    "    'learning_rate' : [0.05, 0.12, 0.02, 0.04, 0.004, 0.0003, 0.15, 0.08, 0.001, 0.005] }\n",
    "\n",
    "for i in range(number_of_machines):\n",
    "    max_depth_param = parameters['max_depth'][i]\n",
    "    min_samples_split_param = parameters['min_samples_split'][i]\n",
    "    min_samples_leaf_param = parameters['min_samples_leaf'][i]\n",
    "    max_features_param = parameters['max_features'][i]\n",
    "    \n",
    "    n_estimators_param = parameters['n_estimators'][i]\n",
    "    learning_rate_param = parameters['learning_rate'][i]\n",
    "    \n",
    "    my_base = DecisionTreeRegressor(criterion = 'squared_error', max_depth = max_depth_param, min_samples_split = min_samples_split_param, min_samples_leaf = min_samples_leaf_param , max_features = max_features_param)\n",
    "    my_adab = AdaBoostRegressor(base_estimator = my_base, n_estimators = n_estimators_param, learning_rate = learning_rate_param, loss='linear')\n",
    "    my_adab_models.append(my_adab)\n",
    "\n",
    "parameters_df = pd.DataFrame(parameters)  "
   ]
  },
  {
   "cell_type": "code",
   "execution_count": 111,
   "metadata": {},
   "outputs": [],
   "source": [
    "def my_kfold_crossval_and_Hptunning(models_toTrain,frac = 1.0):\n",
    "\n",
    "    results = {'machine label': list(),\n",
    "        'machine result': list()}\n",
    "\n",
    "    for machine,i in zip(models_toTrain, range(1,len(models_toTrain) + 1)):\n",
    "        label = f'machine-{i}'\n",
    "        results['machine label'].append(label)\n",
    "        df_result = My_ML_prediction_on_test( dates_vector = test_dates, model = machine, frac = frac)\n",
    "        results['machine result'].append(df_result)\n",
    "        print(label + ' is done')\n",
    "        \n",
    "    return results"
   ]
  },
  {
   "cell_type": "code",
   "execution_count": 74,
   "metadata": {},
   "outputs": [
    {
     "name": "stdout",
     "output_type": "stream",
     "text": [
      "machine-1 is done\n",
      "machine-2 is done\n",
      "machine-3 is done\n",
      "machine-4 is done\n",
      "machine-5 is done\n",
      "machine-6 is done\n",
      "machine-7 is done\n",
      "machine-8 is done\n",
      "machine-9 is done\n",
      "machine-10 is done\n"
     ]
    }
   ],
   "source": [
    "my_test_results = my_kfold_crossval_and_Hptunning(models_toTrain =  my_adab_models, frac = 0.5)"
   ]
  },
  {
   "cell_type": "code",
   "execution_count": 81,
   "metadata": {},
   "outputs": [],
   "source": [
    "def consolidated_plot_metrics(data):\n",
    "    list_dfplot = list()\n",
    "    for i in range(len(data['machine label'])):\n",
    "        label = data['machine label'][i]\n",
    "        result_detail = data['machine result'][i]\n",
    "        df_plot = plot_metrics(result_detail)\n",
    "        df_plot['machine'] = label\n",
    "        list_dfplot.append(df_plot)\n",
    "    \n",
    "    return pd.concat(list_dfplot)"
   ]
  },
  {
   "cell_type": "code",
   "execution_count": 82,
   "metadata": {},
   "outputs": [],
   "source": [
    "metrics_toplot = consolidated_plot_metrics(my_test_results)"
   ]
  },
  {
   "cell_type": "code",
   "execution_count": 85,
   "metadata": {},
   "outputs": [
    {
     "data": {
      "image/png": "[encoded data removed]",
      "text/plain": [
       "<Figure size 936x432 with 1 Axes>"
      ]
     },
     "metadata": {},
     "output_type": "display_data"
    }
   ],
   "source": [
    "fig, axs = plt.subplots(nrows=1, ncols=1,figsize=(13,6), sharex=True)\n",
    "ax = sns.lineplot(ax = axs , data = metrics_toplot, x=\"Date\", y=\"RMSE\", marker = True, hue = 'machine', legend = False )\n",
    "ax = sns.scatterplot(ax = axs , data = metrics_toplot, x=\"Date\", y=\"RMSE\", s = 35, hue= 'machine' )"
   ]
  },
  {
   "cell_type": "code",
   "execution_count": 103,
   "metadata": {},
   "outputs": [],
   "source": [
    "def consolidated_metrics_MSE(data):\n",
    "    labels = list()\n",
    "    RMSEs = list()\n",
    "    for i in range(len(data['machine label'])):\n",
    "        label = data['machine label'][i]\n",
    "        result_detail = data['machine result'][i]\n",
    "        pred = result_detail['Sale']\n",
    "        real = result_detail['PredSale']\n",
    "        rmse = mean_squared_error(real,pred)**(1/2)\n",
    "        labels.append(label)\n",
    "        RMSEs.append(rmse)\n",
    "    \n",
    "    return pd.DataFrame({'machine':labels,'RMSE': RMSEs}).sort_values('RMSE')"
   ]
  },
  {
   "cell_type": "code",
   "execution_count": 104,
   "metadata": {},
   "outputs": [
    {
     "data": {
      "text/html": [
       "<div>\n",
       "<style scoped>\n",
       "    .dataframe tbody tr th:only-of-type {\n",
       "        vertical-align: middle;\n",
       "    }\n",
       "\n",
       "    .dataframe tbody tr th {\n",
       "        vertical-align: top;\n",
       "    }\n",
       "\n",
       "    .dataframe thead th {\n",
       "        text-align: right;\n",
       "    }\n",
       "</style>\n",
       "<table border=\"1\" class=\"dataframe\">\n",
       "  <thead>\n",
       "    <tr style=\"text-align: right;\">\n",
       "      <th></th>\n",
       "      <th>machine</th>\n",
       "      <th>RMSE</th>\n",
       "    </tr>\n",
       "  </thead>\n",
       "  <tbody>\n",
       "    <tr>\n",
       "      <th>2</th>\n",
       "      <td>machine-3</td>\n",
       "      <td>4.152451</td>\n",
       "    </tr>\n",
       "    <tr>\n",
       "      <th>5</th>\n",
       "      <td>machine-6</td>\n",
       "      <td>4.218822</td>\n",
       "    </tr>\n",
       "    <tr>\n",
       "      <th>0</th>\n",
       "      <td>machine-1</td>\n",
       "      <td>4.240039</td>\n",
       "    </tr>\n",
       "    <tr>\n",
       "      <th>3</th>\n",
       "      <td>machine-4</td>\n",
       "      <td>4.273596</td>\n",
       "    </tr>\n",
       "    <tr>\n",
       "      <th>9</th>\n",
       "      <td>machine-10</td>\n",
       "      <td>4.297549</td>\n",
       "    </tr>\n",
       "    <tr>\n",
       "      <th>8</th>\n",
       "      <td>machine-9</td>\n",
       "      <td>4.313410</td>\n",
       "    </tr>\n",
       "    <tr>\n",
       "      <th>4</th>\n",
       "      <td>machine-5</td>\n",
       "      <td>4.393479</td>\n",
       "    </tr>\n",
       "    <tr>\n",
       "      <th>1</th>\n",
       "      <td>machine-2</td>\n",
       "      <td>4.396437</td>\n",
       "    </tr>\n",
       "    <tr>\n",
       "      <th>7</th>\n",
       "      <td>machine-8</td>\n",
       "      <td>4.498563</td>\n",
       "    </tr>\n",
       "    <tr>\n",
       "      <th>6</th>\n",
       "      <td>machine-7</td>\n",
       "      <td>4.517151</td>\n",
       "    </tr>\n",
       "  </tbody>\n",
       "</table>\n",
       "</div>"
      ],
      "text/plain": [
       "      machine      RMSE\n",
       "2   machine-3  4.152451\n",
       "5   machine-6  4.218822\n",
       "0   machine-1  4.240039\n",
       "3   machine-4  4.273596\n",
       "9  machine-10  4.297549\n",
       "8   machine-9  4.313410\n",
       "4   machine-5  4.393479\n",
       "1   machine-2  4.396437\n",
       "7   machine-8  4.498563\n",
       "6   machine-7  4.517151"
      ]
     },
     "execution_count": 104,
     "metadata": {},
     "output_type": "execute_result"
    }
   ],
   "source": [
    "consolidated_metrics_MSE(my_test_results)"
   ]
  },
  {
   "cell_type": "markdown",
   "metadata": {},
   "source": [
    "The winer is machine 3"
   ]
  },
  {
   "cell_type": "markdown",
   "metadata": {},
   "source": [
    "### Winner Prediction"
   ]
  },
  {
   "cell_type": "code",
   "execution_count": 115,
   "metadata": {},
   "outputs": [
    {
     "name": "stdout",
     "output_type": "stream",
     "text": [
      "machine-1 is done\n"
     ]
    }
   ],
   "source": [
    "my_test_results = my_kfold_crossval_and_Hptunning(models_toTrain =  [my_adab_models[2]], frac = 1.0)"
   ]
  },
  {
   "cell_type": "code",
   "execution_count": 116,
   "metadata": {},
   "outputs": [],
   "source": [
    "metrics_toplot = consolidated_plot_metrics(my_test_results)"
   ]
  },
  {
   "cell_type": "code",
   "execution_count": 117,
   "metadata": {},
   "outputs": [
    {
     "data": {
      "image/png": "[encoded data removed]",
      "text/plain": [
       "<Figure size 936x432 with 1 Axes>"
      ]
     },
     "metadata": {},
     "output_type": "display_data"
    }
   ],
   "source": [
    "fig, axs = plt.subplots(nrows=1, ncols=1,figsize=(13,6), sharex=True)\n",
    "ax = sns.lineplot(ax = axs , data = metrics_toplot, x=\"Date\", y=\"RMSE\", marker = True, hue = 'machine', legend = False )\n",
    "ax = sns.scatterplot(ax = axs , data = metrics_toplot, x=\"Date\", y=\"RMSE\", s = 35, hue= 'machine' )"
   ]
  },
  {
   "cell_type": "markdown",
   "metadata": {},
   "source": [
    "### Saving prediction for stacking"
   ]
  },
  {
   "cell_type": "code",
   "execution_count": 121,
   "metadata": {},
   "outputs": [],
   "source": [
    "my_test_results['machine result'][0].to_csv('preds_stacking/preds_adaboost.csv',header = True, index = False)"
   ]
  },
  {
   "cell_type": "code",
   "execution_count": null,
   "metadata": {},
   "outputs": [],
   "source": []
  }
 ],
 "metadata": {
  "kernelspec": {
   "display_name": "Python 3",
   "language": "python",
   "name": "python3"
  },
  "language_info": {
   "codemirror_mode": {
    "name": "ipython",
    "version": 3
   },
   "file_extension": ".py",
   "mimetype": "text/x-python",
   "name": "python",
   "nbconvert_exporter": "python",
   "pygments_lexer": "ipython3",
   "version": "3.7.6"
  }
 },
 "nbformat": 4,
 "nbformat_minor": 4
}
